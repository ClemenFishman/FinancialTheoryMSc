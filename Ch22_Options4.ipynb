{
 "cells": [
  {
   "cell_type": "markdown",
   "metadata": {},
   "source": [
    "## Load Packages"
   ]
  },
  {
   "cell_type": "code",
   "execution_count": 1,
   "metadata": {},
   "outputs": [
    {
     "data": {
      "text/plain": [
       "printmatDate (generic function with 8 methods)"
      ]
     },
     "execution_count": 1,
     "metadata": {},
     "output_type": "execute_result"
    }
   ],
   "source": [
    "using Dates, Distributions\n",
    "\n",
    "include(\"printmat.jl\")\n",
    "include(\"printTable.jl\")"
   ]
  },
  {
   "cell_type": "code",
   "execution_count": 3,
   "metadata": {},
   "outputs": [],
   "source": [
    "using Plots\n",
    "backend = \"gr\"              #\"gr\" (default), \"pyplot\" \n",
    "\n",
    "if backend == \"pyplot\"\n",
    "    pyplot(size=(600,400))\n",
    "else    \n",
    "    gr(size=(480,320))\n",
    "    default(fmt = :svg)\n",
    "end"
   ]
  },
  {
   "cell_type": "markdown",
   "metadata": {},
   "source": [
    "# Delta of an Option: A First-Order Approximation of a Change"
   ]
  },
  {
   "cell_type": "markdown",
   "metadata": {},
   "source": [
    "\"Delta hedging\" is based on the idea that we can approximate the change in the option price by \n",
    "\n",
    "$C_{t+h}-C_{t}\\approx\\frac{\\partial C_{t}}{\\partial S}\\left(  S_{t+h}-S_{t}\\right)$\n",
    "\n",
    "\n",
    "In the Black-Scholes model, the Delta of a call option is\n",
    "\n",
    "$\\Delta=\\frac{\\partial C}{\\partial S}=e^{-\\delta m}\\Phi\\left(  d_{1}\\right),$ \n",
    "\n",
    "while the Delta of a put option is \n",
    "\n",
    "$\\frac{\\partial P}{\\partial S}=e^{-\\delta m}[\\Phi\\left(  d_{1}\\right)-1]$."
   ]
  },
  {
   "cell_type": "code",
   "execution_count": 4,
   "metadata": {},
   "outputs": [
    {
     "data": {
      "text/plain": [
       "OptionBlackSPs (generic function with 3 methods)"
      ]
     },
     "execution_count": 4,
     "metadata": {},
     "output_type": "execute_result"
    }
   ],
   "source": [
    "function Φ(x)\n",
    "    #Calculates Pr(z<=x) for N(0,1) variable z\n",
    "    Pr = cdf(Normal(0,1),x)\n",
    "    return Pr\n",
    "end\n",
    "\n",
    "function OptionDelta(S,K,m,y,σ,δ=0,PutIt=false)\n",
    "    #Calculates Black-Scholes delta\n",
    "    d1 = ( log(S/K) + (y-δ+0.5*σ^2)*m ) / (σ*sqrt(m))\n",
    "    d2 = d1 - σ*sqrt(m)\n",
    "    if PutIt \n",
    "        Δ = exp(-δ*m)*(Φ(d1)-1)\n",
    "    else     \n",
    "        Δ = exp(-δ*m)*Φ(d1)              \n",
    "    end    \n",
    "    return Δ\n",
    "end\n",
    "\n",
    "function OptionBlackSPs(S,K,m,y,σ,δ=0,PutIt=false)\n",
    "    #Calculates Black-Scholes European call or put option price, continuous dividends of δ\n",
    "    d1 = ( log(S/K) + (y-δ+0.5*σ^2)*m ) / (σ*sqrt(m))\n",
    "    d2 = d1 - σ*sqrt(m)\n",
    "    c  = exp(-δ*m)*S*Φ(d1) - K*exp(-y*m)*Φ(d2)\n",
    "    if PutIt \n",
    "        price = c - exp(-δ*m)*S + exp(-y*m)*K    \n",
    "    else     \n",
    "        price = c\n",
    "    end    \n",
    "    return price      \n",
    "end"
   ]
  },
  {
   "cell_type": "code",
   "execution_count": 5,
   "metadata": {},
   "outputs": [
    {
     "name": "stdout",
     "output_type": "stream",
     "text": [
      "Δ of call and put and the difference:      0.598    -0.402     1.000\n"
     ]
    }
   ],
   "source": [
    "(S,K,m,y,σ) = (42,42,0.5,0.05,0.2)\n",
    "\n",
    "Δc = OptionDelta(S,K,m,y,σ)\n",
    "Δp = OptionDelta(S,K,m,y,σ,0,true)\n",
    "printlnPs(\"Δ of call and put and the difference: \",[Δc Δp (Δc-Δp)])"
   ]
  },
  {
   "cell_type": "code",
   "execution_count": 6,
   "metadata": {},
   "outputs": [
    {
     "data": {
      "image/svg+xml": [
       "<?xml version=\"1.0\" encoding=\"utf-8\"?>\n",
       "<svg xmlns=\"http://www.w3.org/2000/svg\" xmlns:xlink=\"http://www.w3.org/1999/xlink\" width=\"480\" height=\"320\" viewBox=\"0 0 480 320\">\n",
       "<defs>\n",
       "  <clipPath id=\"clip1800\">\n",
       "    <rect x=\"0\" y=\"0\" width=\"480\" height=\"320\"/>\n",
       "  </clipPath>\n",
       "</defs>\n",
       "<polygon clip-path=\"url(#clip1800)\" points=\"\n",
       "0,320 480,320 480,0 0,0 \n",
       "  \" fill=\"#ffffff\" fill-opacity=\"1\"/>\n",
       "<defs>\n",
       "  <clipPath id=\"clip1801\">\n",
       "    <rect x=\"96\" y=\"0\" width=\"337\" height=\"320\"/>\n",
       "  </clipPath>\n",
       "</defs>\n",
       "<polygon clip-path=\"url(#clip1800)\" points=\"\n",
       "62.7871,280.121 460.315,280.121 460.315,31.4961 62.7871,31.4961 \n",
       "  \" fill=\"#ffffff\" fill-opacity=\"1\"/>\n",
       "<defs>\n",
       "  <clipPath id=\"clip1802\">\n",
       "    <rect x=\"62\" y=\"31\" width=\"399\" height=\"250\"/>\n",
       "  </clipPath>\n",
       "</defs>\n",
       "<polyline clip-path=\"url(#clip1802)\" style=\"stroke:#000000; stroke-width:0.5; stroke-opacity:0.1; fill:none\" points=\"\n",
       "  74.0379,280.121 74.0379,31.4961 \n",
       "  \"/>\n",
       "<polyline clip-path=\"url(#clip1802)\" style=\"stroke:#000000; stroke-width:0.5; stroke-opacity:0.1; fill:none\" points=\"\n",
       "  199.047,280.121 199.047,31.4961 \n",
       "  \"/>\n",
       "<polyline clip-path=\"url(#clip1802)\" style=\"stroke:#000000; stroke-width:0.5; stroke-opacity:0.1; fill:none\" points=\"\n",
       "  324.055,280.121 324.055,31.4961 \n",
       "  \"/>\n",
       "<polyline clip-path=\"url(#clip1802)\" style=\"stroke:#000000; stroke-width:0.5; stroke-opacity:0.1; fill:none\" points=\"\n",
       "  449.064,280.121 449.064,31.4961 \n",
       "  \"/>\n",
       "<polyline clip-path=\"url(#clip1802)\" style=\"stroke:#000000; stroke-width:0.5; stroke-opacity:0.1; fill:none\" points=\"\n",
       "  62.7871,277.034 460.315,277.034 \n",
       "  \"/>\n",
       "<polyline clip-path=\"url(#clip1802)\" style=\"stroke:#000000; stroke-width:0.5; stroke-opacity:0.1; fill:none\" points=\"\n",
       "  62.7871,217.241 460.315,217.241 \n",
       "  \"/>\n",
       "<polyline clip-path=\"url(#clip1802)\" style=\"stroke:#000000; stroke-width:0.5; stroke-opacity:0.1; fill:none\" points=\"\n",
       "  62.7871,157.448 460.315,157.448 \n",
       "  \"/>\n",
       "<polyline clip-path=\"url(#clip1802)\" style=\"stroke:#000000; stroke-width:0.5; stroke-opacity:0.1; fill:none\" points=\"\n",
       "  62.7871,97.6545 460.315,97.6545 \n",
       "  \"/>\n",
       "<polyline clip-path=\"url(#clip1802)\" style=\"stroke:#000000; stroke-width:0.5; stroke-opacity:0.1; fill:none\" points=\"\n",
       "  62.7871,37.8613 460.315,37.8613 \n",
       "  \"/>\n",
       "<polyline clip-path=\"url(#clip1800)\" style=\"stroke:#000000; stroke-width:1; stroke-opacity:1; fill:none\" points=\"\n",
       "  62.7871,280.121 460.315,280.121 \n",
       "  \"/>\n",
       "<polyline clip-path=\"url(#clip1800)\" style=\"stroke:#000000; stroke-width:1; stroke-opacity:1; fill:none\" points=\"\n",
       "  62.7871,280.121 62.7871,31.4961 \n",
       "  \"/>\n",
       "<polyline clip-path=\"url(#clip1800)\" style=\"stroke:#000000; stroke-width:1; stroke-opacity:1; fill:none\" points=\"\n",
       "  74.0379,280.121 74.0379,276.391 \n",
       "  \"/>\n",
       "<polyline clip-path=\"url(#clip1800)\" style=\"stroke:#000000; stroke-width:1; stroke-opacity:1; fill:none\" points=\"\n",
       "  199.047,280.121 199.047,276.391 \n",
       "  \"/>\n",
       "<polyline clip-path=\"url(#clip1800)\" style=\"stroke:#000000; stroke-width:1; stroke-opacity:1; fill:none\" points=\"\n",
       "  324.055,280.121 324.055,276.391 \n",
       "  \"/>\n",
       "<polyline clip-path=\"url(#clip1800)\" style=\"stroke:#000000; stroke-width:1; stroke-opacity:1; fill:none\" points=\"\n",
       "  449.064,280.121 449.064,276.391 \n",
       "  \"/>\n",
       "<polyline clip-path=\"url(#clip1800)\" style=\"stroke:#000000; stroke-width:1; stroke-opacity:1; fill:none\" points=\"\n",
       "  62.7871,277.034 68.75,277.034 \n",
       "  \"/>\n",
       "<polyline clip-path=\"url(#clip1800)\" style=\"stroke:#000000; stroke-width:1; stroke-opacity:1; fill:none\" points=\"\n",
       "  62.7871,217.241 68.75,217.241 \n",
       "  \"/>\n",
       "<polyline clip-path=\"url(#clip1800)\" style=\"stroke:#000000; stroke-width:1; stroke-opacity:1; fill:none\" points=\"\n",
       "  62.7871,157.448 68.75,157.448 \n",
       "  \"/>\n",
       "<polyline clip-path=\"url(#clip1800)\" style=\"stroke:#000000; stroke-width:1; stroke-opacity:1; fill:none\" points=\"\n",
       "  62.7871,97.6545 68.75,97.6545 \n",
       "  \"/>\n",
       "<polyline clip-path=\"url(#clip1800)\" style=\"stroke:#000000; stroke-width:1; stroke-opacity:1; fill:none\" points=\"\n",
       "  62.7871,37.8613 68.75,37.8613 \n",
       "  \"/>\n",
       "<g clip-path=\"url(#clip1800)\">\n",
       "<text style=\"fill:#000000; fill-opacity:1; font-family:Arial,Helvetica Neue,Helvetica,sans-serif; font-size:12; text-anchor:middle;\" transform=\"rotate(0, 74.0379, 293.321)\" x=\"74.0379\" y=\"293.321\">30</text>\n",
       "</g>\n",
       "<g clip-path=\"url(#clip1800)\">\n",
       "<text style=\"fill:#000000; fill-opacity:1; font-family:Arial,Helvetica Neue,Helvetica,sans-serif; font-size:12; text-anchor:middle;\" transform=\"rotate(0, 199.047, 293.321)\" x=\"199.047\" y=\"293.321\">40</text>\n",
       "</g>\n",
       "<g clip-path=\"url(#clip1800)\">\n",
       "<text style=\"fill:#000000; fill-opacity:1; font-family:Arial,Helvetica Neue,Helvetica,sans-serif; font-size:12; text-anchor:middle;\" transform=\"rotate(0, 324.055, 293.321)\" x=\"324.055\" y=\"293.321\">50</text>\n",
       "</g>\n",
       "<g clip-path=\"url(#clip1800)\">\n",
       "<text style=\"fill:#000000; fill-opacity:1; font-family:Arial,Helvetica Neue,Helvetica,sans-serif; font-size:12; text-anchor:middle;\" transform=\"rotate(0, 449.064, 293.321)\" x=\"449.064\" y=\"293.321\">60</text>\n",
       "</g>\n",
       "<g clip-path=\"url(#clip1800)\">\n",
       "<text style=\"fill:#000000; fill-opacity:1; font-family:Arial,Helvetica Neue,Helvetica,sans-serif; font-size:12; text-anchor:end;\" transform=\"rotate(0, 57.9871, 281.534)\" x=\"57.9871\" y=\"281.534\">0.00</text>\n",
       "</g>\n",
       "<g clip-path=\"url(#clip1800)\">\n",
       "<text style=\"fill:#000000; fill-opacity:1; font-family:Arial,Helvetica Neue,Helvetica,sans-serif; font-size:12; text-anchor:end;\" transform=\"rotate(0, 57.9871, 221.741)\" x=\"57.9871\" y=\"221.741\">0.25</text>\n",
       "</g>\n",
       "<g clip-path=\"url(#clip1800)\">\n",
       "<text style=\"fill:#000000; fill-opacity:1; font-family:Arial,Helvetica Neue,Helvetica,sans-serif; font-size:12; text-anchor:end;\" transform=\"rotate(0, 57.9871, 161.948)\" x=\"57.9871\" y=\"161.948\">0.50</text>\n",
       "</g>\n",
       "<g clip-path=\"url(#clip1800)\">\n",
       "<text style=\"fill:#000000; fill-opacity:1; font-family:Arial,Helvetica Neue,Helvetica,sans-serif; font-size:12; text-anchor:end;\" transform=\"rotate(0, 57.9871, 102.154)\" x=\"57.9871\" y=\"102.154\">0.75</text>\n",
       "</g>\n",
       "<g clip-path=\"url(#clip1800)\">\n",
       "<text style=\"fill:#000000; fill-opacity:1; font-family:Arial,Helvetica Neue,Helvetica,sans-serif; font-size:12; text-anchor:end;\" transform=\"rotate(0, 57.9871, 42.3613)\" x=\"57.9871\" y=\"42.3613\">1.00</text>\n",
       "</g>\n",
       "<g clip-path=\"url(#clip1800)\">\n",
       "<text style=\"fill:#000000; fill-opacity:1; font-family:Arial,Helvetica Neue,Helvetica,sans-serif; font-size:21; text-anchor:middle;\" transform=\"rotate(0, 261.551, 18)\" x=\"261.551\" y=\"18\">Black-Scholes call option delta (different S)</text>\n",
       "</g>\n",
       "<g clip-path=\"url(#clip1800)\">\n",
       "<text style=\"fill:#000000; fill-opacity:1; font-family:Arial,Helvetica Neue,Helvetica,sans-serif; font-size:16; text-anchor:middle;\" transform=\"rotate(0, 261.551, 317.6)\" x=\"261.551\" y=\"317.6\">current asset price</text>\n",
       "</g>\n",
       "<g clip-path=\"url(#clip1800)\">\n",
       "<text style=\"fill:#000000; fill-opacity:1; font-family:Arial,Helvetica Neue,Helvetica,sans-serif; font-size:16; text-anchor:middle;\" transform=\"rotate(-90, 14.4, 155.808)\" x=\"14.4\" y=\"155.808\">option price</text>\n",
       "</g>\n",
       "<polyline clip-path=\"url(#clip1802)\" style=\"stroke:#ff0000; stroke-width:1; stroke-opacity:1; fill:none\" points=\"\n",
       "  74.0379,273.084 86.5388,270.164 99.0397,265.809 111.541,259.706 124.041,251.621 136.542,241.452 149.043,229.26 161.544,215.27 174.045,199.857 186.546,183.501 \n",
       "  199.047,166.737 211.548,150.099 224.048,134.072 236.549,119.056 249.05,105.347 261.551,93.126 274.052,82.4743 286.553,73.3819 299.054,65.7704 311.555,59.5137 \n",
       "  324.055,54.4575 336.556,50.436 349.057,47.2849 361.558,44.8501 374.059,42.9932 386.56,41.5945 399.061,40.5528 411.562,39.7855 424.062,39.226 436.563,38.8219 \n",
       "  449.064,38.5326 \n",
       "  \"/>\n",
       "</svg>\n"
      ]
     },
     "execution_count": 6,
     "metadata": {},
     "output_type": "execute_result"
    }
   ],
   "source": [
    "SM = 30:60\n",
    "Δc_S = OptionDelta.(SM,K,m,y,σ)          #at different spot prices\n",
    "\n",
    "p1 = plot(SM,Δc_S,color=:red,legend=false)\n",
    "title!(\"Black-Scholes call option delta (different S)\")\n",
    "xlabel!(\"current asset price\")\n",
    "ylabel!(\"option price\")"
   ]
  },
  {
   "cell_type": "markdown",
   "metadata": {},
   "source": [
    "# Hedging an Option\n",
    "\n",
    "The example below shows how a Delta hedging works for a European call option when the price of the underlying changes (from 42 on day 0 to 43 on day 1). For simplicity, we assume that the Black-Scholes model is a good description of how the option price is set."
   ]
  },
  {
   "cell_type": "code",
   "execution_count": 7,
   "metadata": {},
   "outputs": [
    {
     "name": "stdout",
     "output_type": "stream",
     "text": [
      "            \n",
      "S₀    42.000\n",
      "Δ₀     0.598\n",
      "C₀     2.893\n",
      "M₀   -22.212\n",
      "S₁    43.000\n",
      "C₁     3.509\n",
      "dC     0.616\n",
      "dV    -0.018\n",
      "\n",
      "V changes much less in values than the option: the hedge helps\n"
     ]
    }
   ],
   "source": [
    "(S₀,S₁,K,m,y,σ) = (42,43,42,0.5,0.05,0.2)\n",
    "\n",
    "C₀ = OptionBlackSPs(S₀,K,m,y,σ)   #option price at S₀\n",
    "Δ₀ = OptionDelta(S₀,K,m,y,σ)      #Delta at S₀\n",
    "M₀ = C₀ - Δ₀*S₀                    #on money market account\n",
    "\n",
    "C₁ = OptionBlackSPs(S₁,K,m-1/252,y,σ)   #option price at S₁ (it's one day later) \n",
    "dC = C₁ - C₀                      #change of option value         \n",
    "dV = Δ₀*(S₁-S₀) - (C₁-C₀)           #change of hedge portfolio value\n",
    "\n",
    "xy = [S₀,Δ₀,C₀,M₀,S₁,C₁,dC,dV]\n",
    "printTable(xy,[\" \"],[\"S₀\",\"Δ₀\",\"C₀\",\"M₀\",\"S₁\",\"C₁\",\"dC\",\"dV\"])\n",
    "println(\"V changes much less in values than the option: the hedge helps\")"
   ]
  },
  {
   "cell_type": "code",
   "execution_count": null,
   "metadata": {},
   "outputs": [],
   "source": []
  }
 ],
 "metadata": {
  "anaconda-cloud": {},
  "kernelspec": {
   "display_name": "Julia 1.0.0",
   "language": "julia",
   "name": "julia-1.0"
  },
  "language_info": {
   "file_extension": ".jl",
   "mimetype": "application/julia",
   "name": "julia",
   "version": "1.0.0"
  }
 },
 "nbformat": 4,
 "nbformat_minor": 1
}
