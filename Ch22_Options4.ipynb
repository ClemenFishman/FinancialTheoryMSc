{
 "cells": [
  {
   "cell_type": "markdown",
   "metadata": {},
   "source": [
    "## Load Packages"
   ]
  },
  {
   "cell_type": "code",
   "execution_count": 1,
   "metadata": {},
   "outputs": [
    {
     "data": {
      "text/plain": [
       "printmatDate (generic function with 8 methods)"
      ]
     },
     "execution_count": 1,
     "metadata": {},
     "output_type": "execute_result"
    }
   ],
   "source": [
    "using Dates, Distributions\n",
    "\n",
    "include(\"printmat.jl\")\n",
    "include(\"printTable.jl\")"
   ]
  },
  {
   "cell_type": "code",
   "execution_count": 3,
   "metadata": {},
   "outputs": [],
   "source": [
    "using Plots\n",
    "backend = \"gr\"              #\"gr\" (default), \"pyplot\" \n",
    "\n",
    "if backend == \"pyplot\"\n",
    "    pyplot(size=(600,400))\n",
    "else    \n",
    "    gr(size=(600,400))\n",
    "    default(fmt = :png)\n",
    "end"
   ]
  },
  {
   "cell_type": "markdown",
   "metadata": {},
   "source": [
    "# Delta of an Option: A First-Order Approximation of a Change"
   ]
  },
  {
   "cell_type": "markdown",
   "metadata": {},
   "source": [
    "\"Delta hedging\" is based on the idea that we can approximate the change in the option price by \n",
    "\n",
    "$C_{t+h}-C_{t}\\approx\\frac{\\partial C_{t}}{\\partial S}\\left(  S_{t+h}-S_{t}\\right)$\n",
    "\n",
    "\n",
    "In the Black-Scholes model, the Delta of a call option is\n",
    "\n",
    "$\\Delta=\\frac{\\partial C}{\\partial S}=e^{-\\delta m}\\Phi\\left(  d_{1}\\right),$ \n",
    "\n",
    "while the Delta of a put option is \n",
    "\n",
    "$\\frac{\\partial P}{\\partial S}=e^{-\\delta m}[\\Phi\\left(  d_{1}\\right)-1]$."
   ]
  },
  {
   "cell_type": "code",
   "execution_count": 4,
   "metadata": {},
   "outputs": [
    {
     "data": {
      "text/plain": [
       "OptionBlackSPs (generic function with 3 methods)"
      ]
     },
     "execution_count": 4,
     "metadata": {},
     "output_type": "execute_result"
    }
   ],
   "source": [
    "function Φ(x)\n",
    "    #Calculates Pr(z<=x) for N(0,1) variable z\n",
    "    Pr = cdf(Normal(0,1),x)\n",
    "    return Pr\n",
    "end\n",
    "\n",
    "function OptionDelta(S,K,m,y,σ,δ=0,PutIt=false)\n",
    "    #Calculates Black-Scholes delta\n",
    "    d1 = ( log(S/K) + (y-δ+0.5*σ^2)*m ) / (σ*sqrt(m))\n",
    "    d2 = d1 - σ*sqrt(m)\n",
    "    if PutIt \n",
    "        Δ = exp(-δ*m)*(Φ(d1)-1)\n",
    "    else     \n",
    "        Δ = exp(-δ*m)*Φ(d1)              \n",
    "    end    \n",
    "    return Δ\n",
    "end\n",
    "\n",
    "function OptionBlackSPs(S,K,m,y,σ,δ=0,PutIt=false)\n",
    "    #Calculates Black-Scholes European call or put option price, continuous dividends of δ\n",
    "    d1 = ( log(S/K) + (y-δ+0.5*σ^2)*m ) / (σ*sqrt(m))\n",
    "    d2 = d1 - σ*sqrt(m)\n",
    "    c  = exp(-δ*m)*S*Φ(d1) - K*exp(-y*m)*Φ(d2)\n",
    "    if PutIt \n",
    "        price = c - exp(-δ*m)*S + exp(-y*m)*K    \n",
    "    else     \n",
    "        price = c\n",
    "    end    \n",
    "    return price      \n",
    "end"
   ]
  },
  {
   "cell_type": "code",
   "execution_count": 5,
   "metadata": {},
   "outputs": [
    {
     "name": "stdout",
     "output_type": "stream",
     "text": [
      "Δ of call and put and the difference:      0.598    -0.402     1.000\n"
     ]
    }
   ],
   "source": [
    "(S,K,m,y,σ) = (42,42,0.5,0.05,0.2)\n",
    "\n",
    "Δc = OptionDelta(S,K,m,y,σ)\n",
    "Δp = OptionDelta(S,K,m,y,σ,0,true)\n",
    "printlnPs(\"Δ of call and put and the difference: \",[Δc Δp (Δc-Δp)])"
   ]
  },
  {
   "cell_type": "code",
   "execution_count": 6,
   "metadata": {},
   "outputs": [
    {
     "data": {
      "image/png": "[encoded data removed]"
     },
     "metadata": {},
     "output_type": "display_data"
    }
   ],
   "source": [
    "SM = 30:60\n",
    "Δc_S = OptionDelta.(SM,K,m,y,σ)          #at different spot prices\n",
    "\n",
    "p1 = plot(SM,Δc_S,color=:red,legend=false)\n",
    "title!(p1,\"Black-Scholes call option delta (different S)\")\n",
    "xlabel!(p1,\"current asset price\")\n",
    "ylabel!(p1,\"option price\")\n",
    "display(\"image/png\",p1)"
   ]
  },
  {
   "cell_type": "markdown",
   "metadata": {},
   "source": [
    "# Hedging an Option\n",
    "\n",
    "The example below shows how a Delta hedging works for a European call option when the price of the underlying changes (from 42 on day 0 to 43 on day 1). For simplicity, we assume that the Black-Scholes model is a good description of how the option price is set."
   ]
  },
  {
   "cell_type": "code",
   "execution_count": 7,
   "metadata": {},
   "outputs": [
    {
     "name": "stdout",
     "output_type": "stream",
     "text": [
      "            \n",
      "S₀    42.000\n",
      "Δ₀     0.598\n",
      "C₀     2.893\n",
      "M₀   -22.212\n",
      "S₁    43.000\n",
      "C₁     3.509\n",
      "dC     0.616\n",
      "dV    -0.018\n",
      "\n",
      "V changes much less in values than the option: the hedge helps\n"
     ]
    }
   ],
   "source": [
    "(S₀,S₁,K,m,y,σ) = (42,43,42,0.5,0.05,0.2)\n",
    "\n",
    "C₀ = OptionBlackSPs(S₀,K,m,y,σ)   #option price at S₀\n",
    "Δ₀ = OptionDelta(S₀,K,m,y,σ)      #Delta at S₀\n",
    "M₀ = C₀ - Δ₀*S₀                    #on money market account\n",
    "\n",
    "C₁ = OptionBlackSPs(S₁,K,m-1/252,y,σ)   #option price at S₁ (it's one day later) \n",
    "dC = C₁ - C₀                      #change of option value         \n",
    "dV = Δ₀*(S₁-S₀) - (C₁-C₀)           #change of hedge portfolio value\n",
    "\n",
    "xy = [S₀,Δ₀,C₀,M₀,S₁,C₁,dC,dV]\n",
    "printTable(xy,[\" \"],[\"S₀\",\"Δ₀\",\"C₀\",\"M₀\",\"S₁\",\"C₁\",\"dC\",\"dV\"])\n",
    "println(\"V changes much less in values than the option: the hedge helps\")"
   ]
  },
  {
   "cell_type": "code",
   "execution_count": null,
   "metadata": {},
   "outputs": [],
   "source": []
  }
 ],
 "metadata": {
  "anaconda-cloud": {},
  "kernelspec": {
   "display_name": "Julia 1.0.0",
   "language": "julia",
   "name": "julia-1.0"
  },
  "language_info": {
   "file_extension": ".jl",
   "mimetype": "application/julia",
   "name": "julia",
   "version": "1.0.0"
  }
 },
 "nbformat": 4,
 "nbformat_minor": 1
}
