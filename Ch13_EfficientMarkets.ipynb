{
 "cells": [
  {
   "cell_type": "markdown",
   "metadata": {},
   "source": [
    "# Load Packages"
   ]
  },
  {
   "cell_type": "code",
   "execution_count": 1,
   "metadata": {},
   "outputs": [
    {
     "data": {
      "text/plain": [
       "printlnPs (generic function with 2 methods)"
      ]
     },
     "execution_count": 1,
     "metadata": {},
     "output_type": "execute_result"
    }
   ],
   "source": [
    "using Dates, DelimitedFiles, Statistics, LinearAlgebra, StatsBase, HDF5\n",
    "\n",
    "include(\"printmat.jl\")"
   ]
  },
  {
   "cell_type": "code",
   "execution_count": 3,
   "metadata": {},
   "outputs": [],
   "source": [
    "using Plots\n",
    "backend = \"gr\"              #\"gr\" (default), \"pyplot\" \n",
    "\n",
    "if backend == \"pyplot\"\n",
    "    pyplot(size=(600,400))\n",
    "else    \n",
    "    gr(size=(600,400))\n",
    "    default(fmt = :png)\n",
    "end"
   ]
  },
  {
   "cell_type": "markdown",
   "metadata": {},
   "source": [
    "# Loading Daily S&P 500 Data"
   ]
  },
  {
   "cell_type": "code",
   "execution_count": 4,
   "metadata": {},
   "outputs": [
    {
     "name": "stdout",
     "output_type": "stream",
     "text": [
      "Number of days in the sample: 9352\n"
     ]
    }
   ],
   "source": [
    "x  = readdlm(\"Data/SP500RfPs.csv\",',',skipstart=1)\n",
    "SP = convert(Array{Float64},x[:,2])       #convert to numerical array, S&P 500 level\n",
    "R  = (SP[2:end]./SP[1:end-1] .- 1) * 100  #returns, % \n",
    "T  = length(R)  \n",
    "\n",
    "dN = Date.(string.(x[2:end,1]),\"d/m/y\")    #convert to Date, 2:end as for R\n",
    "println(\"Number of days in the sample: \",T)"
   ]
  },
  {
   "cell_type": "markdown",
   "metadata": {},
   "source": [
    "# Autocorrelations"
   ]
  },
  {
   "cell_type": "markdown",
   "metadata": {},
   "source": [
    "$\\rho_s = \\text{Corr}(R_t,R_{t-s})$\n",
    "\n",
    "In large samples, $\\sqrt{T}\\hat{\\rho}_{s}\\sim N(0,1)$, if the true value is $\\rho_s=0$ for all $s$"
   ]
  },
  {
   "cell_type": "code",
   "execution_count": 5,
   "metadata": {},
   "outputs": [
    {
     "name": "stdout",
     "output_type": "stream",
     "text": [
      "\n",
      "   lag      autocorrr  t-stat(autocorr)\n",
      "     1.000    -0.026    -2.480\n",
      "     2.000    -0.044    -4.208\n",
      "     3.000    -0.007    -0.684\n",
      "     4.000    -0.022    -2.124\n",
      "     5.000    -0.018    -1.744\n",
      "\n"
     ]
    }
   ],
   "source": [
    "plags = 1:5\n",
    "ρ = autocor(R,plags)\n",
    "println(\"\\n   lag      autocorrr  t-stat(autocorr)\")\n",
    "printmat([plags ρ sqrt(T)*ρ])"
   ]
  },
  {
   "cell_type": "markdown",
   "metadata": {},
   "source": [
    "# Autoregressions"
   ]
  },
  {
   "cell_type": "markdown",
   "metadata": {},
   "source": [
    "An AR(1) is \n",
    "\n",
    "$R_{t}=c+a_{1}R_{t-1}+\\varepsilon_{t}$\n",
    "\n",
    "and can be estimated by OLS\n",
    "\n",
    "An asymmteric AR(1) \n",
    "\n",
    "$R_{t} =\\alpha+\\beta Q_{t-1}R_{t-1}+\\gamma(1-Q_{t-1})R_{t-1}+\\varepsilon\n",
    "_{t}$,\n",
    "\n",
    "where $Q_{t-1}=1 \\ \\text{ if } \\ R_{t-1}<0$ and zero otherwise"
   ]
  },
  {
   "cell_type": "code",
   "execution_count": 6,
   "metadata": {},
   "outputs": [
    {
     "data": {
      "text/plain": [
       "OlsFn (generic function with 1 method)"
      ]
     },
     "execution_count": 6,
     "metadata": {},
     "output_type": "execute_result"
    }
   ],
   "source": [
    "function OlsFn(y,x)                      #OLS estimation, alternative: use GLM.jl \n",
    "    b     = x\\y\n",
    "    yhat  = x*b\n",
    "    res   = y - yhat\n",
    "    Covres = cov(res)\n",
    "    Covb   = kron(Covres,inv(x'x))       #works also if y is Txn\n",
    "    R2a    = 1 .- var(res,dims=1)./var(y,dims=1)\n",
    "    return b,res,yhat,Covb,R2            #the outputs\n",
    "end"
   ]
  },
  {
   "cell_type": "code",
   "execution_count": 7,
   "metadata": {},
   "outputs": [
    {
     "name": "stdout",
     "output_type": "stream",
     "text": [
      "Results from AR(1): intercept and slope\n",
      "Coefficient   t-stat\n",
      "     0.039     3.405\n",
      "    -0.026    -2.481\n",
      "\n"
     ]
    }
   ],
   "source": [
    "y  = R[2:end]\n",
    "Tb = size(y,1)\n",
    "x  = [ones(Tb) R[1:end-1]]\n",
    "(b,res,yhat,Covb,) = OlsFn(y,x) \n",
    "Stdb  = sqrt.(diag(Covb))\n",
    "tstat = b./Stdb \n",
    "\n",
    "println(\"Results from AR(1): intercept and slope\")\n",
    "println(\"Coefficient   t-stat\")\n",
    "printmat([b tstat])"
   ]
  },
  {
   "cell_type": "code",
   "execution_count": 8,
   "metadata": {},
   "outputs": [
    {
     "name": "stdout",
     "output_type": "stream",
     "text": [
      "Results from AR(1) with dummies: [intercept, slope neg, slope pos]\n",
      "Coefficient   t-stat\n",
      "     0.001     0.058\n",
      "    -0.075    -4.395\n",
      "     0.027     1.518\n",
      "\n"
     ]
    }
   ],
   "source": [
    "DummyNegative = R[1:end-1] .< 0\n",
    "\n",
    "x = [ones(Tb) DummyNegative.*R[1:end-1] (1.0.-DummyNegative).*R[1:end-1]]\n",
    "\n",
    "(b,res,yhat,Covb,) = OlsFn(y,x) \n",
    "Stdb  = sqrt.(diag(Covb))\n",
    "tstat = b./Stdb \n",
    "\n",
    "println(\"Results from AR(1) with dummies: [intercept, slope neg, slope pos]\")\n",
    "println(\"Coefficient   t-stat\")\n",
    "printmat([b tstat])"
   ]
  },
  {
   "cell_type": "markdown",
   "metadata": {},
   "source": [
    "## Recursive Estimation and Out-of-Sample R2"
   ]
  },
  {
   "cell_type": "markdown",
   "metadata": {},
   "source": [
    "Do recursive estimation (longer and longer sample) an predict one period ahead (outside of the sample). Define an \"out-of-sample\" $R^2$ as \n",
    "\n",
    "$R_{OS}^2 = 1- \\frac{\\text{MSE(forecasting model)}}{\\text{MSE(benchmark forecast)}}$"
   ]
  },
  {
   "cell_type": "code",
   "execution_count": 9,
   "metadata": {},
   "outputs": [
    {
     "name": "stdout",
     "output_type": "stream",
     "text": [
      "MSE of AR(1) model and the benchmark:      1.247     1.244\n",
      "out-of-sample R2:     -0.002\n"
     ]
    }
   ],
   "source": [
    "y  = R[2:end]\n",
    "Tb = size(y,1)\n",
    "x  = [ones(Tb) R[1:end-1]]\n",
    "\n",
    "bT     = fill(NaN,size(x))\n",
    "rHat   = fill(NaN,Tb)\n",
    "rTilde = fill(NaN,Tb)\n",
    "for t = 100:Tb\n",
    "    local b\n",
    "    b,        = OlsFn(y[1:t-1],x[1:t-1,:]) \n",
    "    bT[t,:]   = b\n",
    "    rHat[t]   = x[t,:]'b                #out-of-sample forecast of period t\n",
    "    rTilde[t] = mean(y[1:t-1])          #benchmark forecast: historical average\n",
    "end    \n",
    "\n",
    "MSE_Model = mean((y[100:end]-rHat[100:end]).^2)    #MSE for out-of-sample period\n",
    "MSE_Bench = mean((y[100:end]-rTilde[100:end]).^2)\n",
    "\n",
    "printlnPs(\"MSE of AR(1) model and the benchmark: \",[MSE_Model MSE_Bench])\n",
    "printlnPs(\"out-of-sample R2: \",1-MSE_Model/MSE_Bench)"
   ]
  },
  {
   "cell_type": "code",
   "execution_count": 10,
   "metadata": {},
   "outputs": [
    {
     "data": {
      "image/png": "[encoded data removed]"
     },
     "metadata": {},
     "output_type": "display_data"
    }
   ],
   "source": [
    "xTicksLoc = Dates.value.([Date(1980);Date(1990);Date(2000);Date(2010)])\n",
    "xTicksLab = [\"1980\";\"1990\";\"2000\";\"2010\"]               #crude way of getting tick marks right\n",
    "\n",
    "p1 = plot(dN[2:end],bT[:,1],color=:blue,label=\"intercept\")\n",
    "plot!(p1,dN[2:end],bT[:,2],color=:red,label=\"slope\",line=:dash)\n",
    "plot!(p1,xticks=(xTicksLoc,xTicksLab))\n",
    "title!(p1,\"Estimated AR(1) coefficients\")\n",
    "display(\"image/png\",p1)"
   ]
  },
  {
   "cell_type": "markdown",
   "metadata": {
    "collapsed": true
   },
   "source": [
    "# A Trading Strategy\n",
    "\n",
    "This section implements a momentum strategy (buy past winners, short sell past losers), and rebalance daily. (For simplicity, we disregard trading costs.)"
   ]
  },
  {
   "cell_type": "markdown",
   "metadata": {},
   "source": [
    "## Load Data\n",
    "\n",
    "The data is in a HDF5 file which stores data in a format used by many languages.\n",
    "The data set contains daily data for \"dates\", the equity market return, riskfree rate and the the returns of the 25 Fama-French portfolios. All returns are in percent."
   ]
  },
  {
   "cell_type": "code",
   "execution_count": 11,
   "metadata": {},
   "outputs": [
    {
     "name": "stdout",
     "output_type": "stream",
     "text": [
      "\n",
      "The first few rows of dN, Rm and Rf\n",
      "1979-01-02     0.615     0.035\n",
      "1979-01-03     1.155     0.035\n",
      "1979-01-04     0.975     0.035\n",
      "1979-01-05     0.685     0.035\n",
      "\n",
      "size of dN, Rm, Rf, R\n",
      "(9837,)\n",
      "(9837,)\n",
      "(9837,)\n",
      "(9837, 25)\n",
      "\n"
     ]
    }
   ],
   "source": [
    "using HDF5                       #to read hdf5 files, a very common data format\n",
    "fh = h5open(\"Data/MomentumSR.h5\",\"r\")   #open for reading\n",
    "  (ymd,Rm,Rf,R) = read(fh,\"ymd\",\"Rm\",\"Rf\",\"R\")\n",
    "close(fh)\n",
    "dN = Date.(ymd[:,1],ymd[:,2],ymd[:,3])       #2001,12,31 to julia date\n",
    "\n",
    "println(\"\\nThe first few rows of dN, Rm and Rf\")\n",
    "printmat([dN[1:4] Rm[1:4] Rf[1:4]])\n",
    "\n",
    "println(\"size of dN, Rm, Rf, R\")\n",
    "println(size(dN),\"\\n\",size(Rm),\"\\n\",size(Rf),\"\\n\",size(R))\n",
    "\n",
    "(T,n) = size(R)                      #number of periods and assets\n",
    "\n",
    "println()"
   ]
  },
  {
   "cell_type": "markdown",
   "metadata": {},
   "source": [
    "## Implementing the Strategy\n",
    "\n",
    "1.  In period  $t$ , sort  $R_t$  across the 25 assets.\n",
    "2. (In the evening of) period  $t$  buy 1/5 of each of the 5 best assets based on the sort in point 1. Similarly, buy -1/5 (short-sell) each of the 5 worst assets. Collect these portfolio weights in a vector $w_{t+1}$\n",
    "3. In period  $t+1$ , the return on the portfolio is $Rp_{t+1}=w′_{t+1}R_{t+1}$.\n",
    "4. Repeat for all periods"
   ]
  },
  {
   "cell_type": "code",
   "execution_count": 12,
   "metadata": {},
   "outputs": [
    {
     "name": "stdout",
     "output_type": "stream",
     "text": [
      "\n"
     ]
    }
   ],
   "source": [
    "Rp = fill(NaN,T)              \n",
    "for t = 2:T         #loop over periods, save portfolio returns\n",
    "    local sort1, w\n",
    "    sort1                = sortperm(R[t-1,:])        \n",
    "    w                    = zeros(n)\n",
    "    w[sort1[1:5]]       .= -1/5\n",
    "    w[sort1[end-4:end]] .= 1/5\n",
    "    Rp[t]                = w'R[t,:]\n",
    "end\n",
    "Rp = Rp[2:end]                   #cut out t=1\n",
    "\n",
    "println()"
   ]
  },
  {
   "cell_type": "markdown",
   "metadata": {},
   "source": [
    "Calculate the mean (excess) return, its standard deviation and the Sharpe ratio. Annualize by assuming 250 trading days per year. Compare with the excess return on passively holding an equity market index."
   ]
  },
  {
   "cell_type": "code",
   "execution_count": 13,
   "metadata": {},
   "outputs": [
    {
     "name": "stdout",
     "output_type": "stream",
     "text": [
      "mean, std and SR of strategy     16.134     9.871     1.634\n",
      "mean, std and SR of market        8.307    16.770     0.495\n"
     ]
    }
   ],
   "source": [
    "μ = mean(Rp)\n",
    "σ = std(Rp)\n",
    "printlnPs(\"mean, std and SR of strategy \",μ*250,σ*sqrt(250),μ/σ*sqrt(250))\n",
    "\n",
    "Rme = Rm - Rf\n",
    "μm  = mean(Rme[2:end])\n",
    "σm  = std(Rme[2:end])\n",
    "printlnPs(\"mean, std and SR of market   \",μm*250,σm*sqrt(250),μm/σm*sqrt(250))"
   ]
  },
  {
   "cell_type": "code",
   "execution_count": null,
   "metadata": {},
   "outputs": [],
   "source": []
  }
 ],
 "metadata": {
  "anaconda-cloud": {},
  "kernelspec": {
   "display_name": "Julia 1.0.0",
   "language": "julia",
   "name": "julia-1.0"
  },
  "language_info": {
   "file_extension": ".jl",
   "mimetype": "application/julia",
   "name": "julia",
   "version": "1.0.0"
  }
 },
 "nbformat": 4,
 "nbformat_minor": 1
}
