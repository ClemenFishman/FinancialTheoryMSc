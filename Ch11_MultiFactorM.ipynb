{
 "cells": [
  {
   "cell_type": "markdown",
   "metadata": {},
   "source": [
    "## Load Packages"
   ]
  },
  {
   "cell_type": "code",
   "execution_count": 1,
   "metadata": {},
   "outputs": [
    {
     "data": {
      "text/plain": [
       "printlnPs (generic function with 2 methods)"
      ]
     },
     "execution_count": 1,
     "metadata": {},
     "output_type": "execute_result"
    }
   ],
   "source": [
    "using Dates, DelimitedFiles, Statistics\n",
    "\n",
    "include(\"printmat.jl\")"
   ]
  },
  {
   "cell_type": "code",
   "execution_count": 3,
   "metadata": {},
   "outputs": [],
   "source": [
    "using Plots\n",
    "backend = \"gr\"              #\"gr\" (default), \"pyplot\" \n",
    "\n",
    "if backend == \"pyplot\"\n",
    "    pyplot(size=(600,400))\n",
    "else    \n",
    "    gr(size=(600,400))\n",
    "    default(fmt = :png)\n",
    "end"
   ]
  },
  {
   "cell_type": "markdown",
   "metadata": {},
   "source": [
    "# Portfolio Choice with Background Risk"
   ]
  },
  {
   "cell_type": "markdown",
   "metadata": {},
   "source": [
    "Recall: the investor maximizes\n",
    "$\\text{E}R_{p}-\\frac{k}{2}\\text{Var}(R_{p})$, where \n",
    "\n",
    "$R_{p}=v^{\\prime}R+\\phi R_{H}+(1-\\mathbf{1}^{\\prime}v-\\phi)R_{f}$\n",
    "\n",
    "Also, $\\text{Var}(R_{p}) = u'\\Sigma u$, where $u = [v;\\phi]$\n",
    "\n",
    "Notice that with $\\sigma_{1H}=0$, the choice of $v$ is not affected by $\\phi$ (in spite of the fact that the background risk affects utility)."
   ]
  },
  {
   "cell_type": "code",
   "execution_count": 4,
   "metadata": {},
   "outputs": [
    {
     "data": {
      "text/plain": [
       "EU (generic function with 2 methods)"
      ]
     },
     "execution_count": 4,
     "metadata": {},
     "output_type": "execute_result"
    }
   ],
   "source": [
    "function EU(v,ϕ,k,μe,Σ,μeH=0)  #expected utility for the case with background risk\n",
    "    u     = [v;ϕ]              #portfolio weight vector, all risky assets. Background risk last.       \n",
    "    ERp   = u'*[μe;μeH]        #μeH defaults to zero\n",
    "    VarRp = u'Σ*u\n",
    "    EUtil = ERp - k/2*VarRp\n",
    "    return EUtil\n",
    "end"
   ]
  },
  {
   "cell_type": "code",
   "execution_count": 5,
   "metadata": {},
   "outputs": [],
   "source": [
    "Σ_A = [0.04 0;                 #covariance with H is zero\n",
    "       0    0.01]              #σHH does not matter for the choice, just set it to 0.01  \n",
    "Σ_C = [0.04 0.01;              #alternative covariance matrix: covariance with H is positive\n",
    "       0.01 0.01]       \n",
    "\n",
    "v = range(0.4,stop=1,length=51)\n",
    "L = length(v)\n",
    "\n",
    "EUM = fill(NaN,(L,3))                   #try different v values (weight on risky investable asset)\n",
    "for i = 1:L\n",
    "    EUM[i,1] = EU(v[i],0.0,3,0.08,Σ_A)\n",
    "    EUM[i,2] = EU(v[i],0.5,3,0.08,Σ_A)    \n",
    "    EUM[i,3] = EU(v[i],0.5,3,0.08,Σ_C)\n",
    "end    "
   ]
  },
  {
   "cell_type": "code",
   "execution_count": 6,
   "metadata": {},
   "outputs": [
    {
     "data": {
      "image/png": "[encoded data removed]"
     },
     "metadata": {},
     "output_type": "display_data"
    },
    {
     "name": "stdout",
     "output_type": "stream",
     "text": [
      "Notice: with σ1H=0, the choice of v is not affected by ϕ\n"
     ]
    }
   ],
   "source": [
    "println(\"Notice: with σ1H=0, the choice of v is not affected by ϕ\")\n",
    "\n",
    "p1 = plot(v,EUM[:,1],color=:red,linewidth=2,label=\"phi=0\")\n",
    "plot!(p1,v,EUM[:,2],color=:blue,linewidth=2,label=\"phi=0.5, sigma1H=0 \")\n",
    "plot!(p1,v,EUM[:,3],color=:green,linewidth=2,label=\"phi=0.5, sigma1H=0.01    \")\n",
    "plot!(p1,legend=:bottomleft)\n",
    "title!(p1,\"Expected utility\")\n",
    "xlabel!(p1,\"v, weight on risky asset\")\n",
    "display(\"image/png\",p1)"
   ]
  },
  {
   "cell_type": "markdown",
   "metadata": {},
   "source": [
    "# Asset Pricing Implications of Background Risk I: CAPM"
   ]
  },
  {
   "cell_type": "markdown",
   "metadata": {},
   "source": [
    "Recall:\n",
    "\n",
    "beta from CAPM regression: $R_{i}^{e}=\\alpha_{i}+\\beta_{i}R_{m}^{e}+\\varepsilon_{i}$ is \n",
    "\n",
    "$\\beta_{i}=\\frac{\\sigma_{im}}{\\sigma_{mm}}$\n",
    "\n",
    "Correct pricing expression:\n",
    "\n",
    "$\\mu_{i}^{e} =\\tilde{\\beta}_{i}\\mu_{m}^{e}$, where \n",
    "$\\tilde{\\beta}_{i}  =\\frac{\\sigma_{im}+\\phi\\left(  \\sigma_{iH}-\\sigma_{im}\\right)  }{\\sigma_{mm}+\\phi\\left(\\sigma_{mH}-\\sigma_{mm}\\right)  }$\n",
    "\n",
    "The $\\alpha_{i}$ in the CAPM regression can be shown to be\n",
    "$\\alpha_{i}=(\\tilde{\\beta}_{i}-\\beta_{i})\\mu_{m}^{e}$"
   ]
  },
  {
   "cell_type": "code",
   "execution_count": 7,
   "metadata": {},
   "outputs": [
    {
     "data": {
      "text/plain": [
       "βtilde (generic function with 1 method)"
      ]
     },
     "execution_count": 7,
     "metadata": {},
     "output_type": "execute_result"
    }
   ],
   "source": [
    "βtilde(σim,ϕ,σiH,σmm,σmH) = (σim + ϕ*(σiH-σim))/(σmm + ϕ*(σmH-σmm))     #a function giving βtilde as above"
   ]
  },
  {
   "cell_type": "code",
   "execution_count": 8,
   "metadata": {
    "scrolled": true
   },
   "outputs": [
    {
     "name": "stdout",
     "output_type": "stream",
     "text": [
      "betas: CAPM and the ones to use in finding μᵢ\n",
      "     0.800     0.800     0.482\n",
      "\n",
      "Expected excess return according to βtilde (μᵉ)\n",
      "     0.064     0.039\n",
      "\n",
      "alphas in CAPM regressions: no background risk, background risk case A, case B\n",
      "     0.000     0.000    -0.025\n",
      "\n"
     ]
    }
   ],
   "source": [
    "σim = 0.8                                             #parameter values for the calculations below\n",
    "σmm = 1\n",
    "σiH = -0.5\n",
    "σmH = 0.5\n",
    "μem = 0.08\n",
    "\n",
    "β = σim/σmm\n",
    "βtildeA = βtilde(σim,0,σiH,σmm,σmH)                   #case A, βtilde when ϕ=0\n",
    "βtildeB = βtilde(σim,0.3,σiH,σmm,σmH)                 #case B, βtilde when ϕ=0.3, otherwise the same \n",
    "\n",
    "println(\"betas: CAPM and the ones to use in finding μᵢ\")\n",
    "printmat([β βtildeA βtildeB])\n",
    "\n",
    "println(\"Expected excess return according to βtilde (μᵉ)\")\n",
    "printmat([βtildeA*μem βtildeB*μem])  \n",
    "\n",
    "println(\"alphas in CAPM regressions: no background risk, background risk case A, case B\")\n",
    "αA = (βtildeA - β)*μem\n",
    "αB = (βtildeB - β)*μem\n",
    "printmat([0 αA αB])"
   ]
  },
  {
   "cell_type": "markdown",
   "metadata": {},
   "source": [
    "# Asset Pricing Implications of Background Risk II: Multi-Factor Model (extra)"
   ]
  },
  {
   "cell_type": "code",
   "execution_count": 9,
   "metadata": {},
   "outputs": [
    {
     "name": "stdout",
     "output_type": "stream",
     "text": [
      "The multiple regression coefficients:      1.057    -0.514\n",
      "\n",
      "μᵉ according to 2-factor model (cf. previous results)      0.039\n"
     ]
    }
   ],
   "source": [
    "σHH = 2\n",
    "μeH = 0.089\n",
    "\n",
    "Σ = [σmm σmH;                   #covariance matrix of [Rm,RH]\n",
    "     σmH σHH]\n",
    "SH = [σim;σiH]                  #Cov(Ri,Rm) and Cov(Ri,RH)\n",
    "\n",
    "βmult = inv(Σ)*SH               #coeffs in Ri = βmult'[Rm;RH]\n",
    "printlnPs(\"The multiple regression coefficients: \",βmult)\n",
    "\n",
    "μei = βmult'*[μem;μeH]\n",
    "printlnPs(\"\\nμᵉ according to 2-factor model (cf. previous results) \",μei)"
   ]
  },
  {
   "cell_type": "markdown",
   "metadata": {},
   "source": [
    "# Empirical Test of a 3-Factor Model: Loading Data"
   ]
  },
  {
   "cell_type": "code",
   "execution_count": 10,
   "metadata": {},
   "outputs": [
    {
     "data": {
      "text/plain": [
       "(388, 5)"
      ]
     },
     "execution_count": 10,
     "metadata": {},
     "output_type": "execute_result"
    }
   ],
   "source": [
    "x    = readdlm(\"Data/FFmFactorsPs.csv\",',',skipstart=1)\n",
    "Rme  = x[:,2]                #market excess return\n",
    "RSMB = x[:,3]                #small minus big firms\n",
    "RHML = x[:,4]                #high minus low book-to-market ratio\n",
    "Rf   = x[:,5]                #interest rate\n",
    "\n",
    "\n",
    "x  = readdlm(\"Data/FF25Ps.csv\",',') #no header line: x is matrix\n",
    "R  = x[:,2:end]                     #returns for 25 FF portfolios\n",
    "Re = R .- Rf                        #excess returns for the 25 FF portfolios\n",
    "Re = Re[:,[1,7,13,19,25]]           #use just 5 assets to make the printing easier \n",
    "\n",
    "(T,n) = size(Re)                 #no. obs and  no. test assets"
   ]
  },
  {
   "cell_type": "markdown",
   "metadata": {},
   "source": [
    "## OLS Estimation and Testing α = 0"
   ]
  },
  {
   "cell_type": "markdown",
   "metadata": {},
   "source": [
    "Recall: estimate $(\\alpha_{i},b_{i})$ in the factor model\n",
    "\n",
    "$R_{it}^{e}  =\\alpha_{i}+b_{i}'f_{t} + \\varepsilon_{it}$\n",
    "\n",
    "Test if $\\alpha_{i}=0$\n",
    "\n",
    "Under the Gauss-Markov assumptions, $\\textrm{Cov}([\\alpha_{i},b_{i}]) = (X'X)^{-1}\\textrm{Var}(\\varepsilon_{it})$,\n",
    "where row $t$ of $X$ contains $[1, f_{t}]$. Use element [1,1] of the covariance matrix as the variance of the $\\alpha_i$ estimate"
   ]
  },
  {
   "cell_type": "code",
   "execution_count": 11,
   "metadata": {},
   "outputs": [
    {
     "name": "stdout",
     "output_type": "stream",
     "text": [
      "\n",
      "OLS intercepts and t-stats, regressing Re on constant and 3 factors\n",
      "    -0.513    -2.306\n",
      "    -0.006    -0.066\n",
      "     0.030     0.328\n",
      "    -0.020    -0.206\n",
      "    -0.015    -0.133\n",
      "\n"
     ]
    }
   ],
   "source": [
    "x   = [ones(T) Rme RSMB RHML]         #regressors\n",
    "Σ_1 = inv(x'x)\n",
    "\n",
    "α     = fill(NaN,n)\n",
    "tstat = fill(NaN,n)\n",
    "for i = 1:n                              #loop over the different test assets\n",
    "    local b_i, residual, Covb\n",
    "    b_i       = x\\Re[:,i]                #OLS\n",
    "    residual  = Re[:,i] - x*b_i\n",
    "    α[i]      = b_i[1]\n",
    "    Covb      = Σ_1*var(residual)   \n",
    "    tstat[i] = (α[i]-0)/sqrt(Covb[1,1])\n",
    "end    \n",
    "println(\"\\nOLS intercepts and t-stats, regressing Re on constant and 3 factors\")\n",
    "printmat([α tstat])"
   ]
  },
  {
   "cell_type": "code",
   "execution_count": null,
   "metadata": {},
   "outputs": [],
   "source": []
  }
 ],
 "metadata": {
  "anaconda-cloud": {},
  "kernelspec": {
   "display_name": "Julia 1.0.0",
   "language": "julia",
   "name": "julia-1.0"
  },
  "language_info": {
   "file_extension": ".jl",
   "mimetype": "application/julia",
   "name": "julia",
   "version": "1.0.0"
  }
 },
 "nbformat": 4,
 "nbformat_minor": 1
}
