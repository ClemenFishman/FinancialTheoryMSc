{
 "cells": [
  {
   "cell_type": "markdown",
   "metadata": {},
   "source": [
    "## Load Packages"
   ]
  },
  {
   "cell_type": "code",
   "execution_count": 1,
   "metadata": {},
   "outputs": [
    {
     "data": {
      "text/plain": [
       "printlnPs (generic function with 2 methods)"
      ]
     },
     "execution_count": 1,
     "metadata": {},
     "output_type": "execute_result"
    }
   ],
   "source": [
    "#using Dates, DelimitedFiles  #in Julia 0.7\n",
    "using Compat, Missings        #to use 0.7 syntax in 0.6\n",
    "\n",
    "include(\"printmat.jl\")"
   ]
  },
  {
   "cell_type": "code",
   "execution_count": 2,
   "metadata": {},
   "outputs": [
    {
     "data": {
      "text/plain": [
       "Plots.GRBackend()"
      ]
     },
     "execution_count": 2,
     "metadata": {},
     "output_type": "execute_result"
    }
   ],
   "source": [
    "using Plots\n",
    "backend = \"gr\"              #\"gr\" (default), \"pyplot\" \n",
    "\n",
    "if backend == \"pyplot\"\n",
    "    pyplot(size=(600,400))\n",
    "else    \n",
    "    gr(size=(600,400))\n",
    "end"
   ]
  },
  {
   "cell_type": "markdown",
   "metadata": {},
   "source": [
    "# Portfolio Choice with Background Risk"
   ]
  },
  {
   "cell_type": "markdown",
   "metadata": {},
   "source": [
    "Recall: the investor maximizes\n",
    "$\\text{E}R_{p}-\\frac{k}{2}\\text{Var}(R_{p})$, where \n",
    "\n",
    "$R_{p}=v^{\\prime}R+\\phi R_{H}+(1-\\mathbf{1}^{\\prime}v-\\phi)R_{f}$\n",
    "\n",
    "Also, $\\text{Var}(R_{p}) = u'\\Sigma u$, where $u = [v;\\phi]$\n",
    "\n",
    "Notice that with $\\sigma_{1H}=0$, the choice of $v$ is not affected by $\\phi$ (in spite of the fact that the background risk affects utility)."
   ]
  },
  {
   "cell_type": "code",
   "execution_count": 3,
   "metadata": {},
   "outputs": [
    {
     "data": {
      "text/plain": [
       "EU (generic function with 2 methods)"
      ]
     },
     "execution_count": 3,
     "metadata": {},
     "output_type": "execute_result"
    }
   ],
   "source": [
    "function EU(v,ϕ,k,μe,Σ,μeH=0)  #expected utility for the case with background risk\n",
    "    u     = [v;ϕ]              #portfolio weight vector, all risky assets. Background risk last.       \n",
    "    ERp   = u'*[μe;μeH]        #μeH defaults to zero\n",
    "    VarRp = u'Σ*u\n",
    "    EUtil = ERp - k/2*VarRp\n",
    "    return EUtil\n",
    "end"
   ]
  },
  {
   "cell_type": "code",
   "execution_count": 4,
   "metadata": {},
   "outputs": [],
   "source": [
    "Σ_A = [0.04 0;                 #covariance with H is zero\n",
    "       0    0.01]              #σHH does not matter for the choice, just set it to 0.01  \n",
    "Σ_C = [0.04 0.01;              #alternative covariance matrix: covariance with H is positive\n",
    "       0.01 0.01]       \n",
    "\n",
    "v = linspace(0.4,1,51)\n",
    "#v = range(0.4,stop=1,length=51)\n",
    "L = length(v)\n",
    "\n",
    "EUM = fill(NaN,(L,3))                   #try different v values (weight on risky investable asset)\n",
    "for i = 1:L\n",
    "    EUM[i,1] = EU(v[i],0.0,3,0.08,Σ_A)\n",
    "    EUM[i,2] = EU(v[i],0.5,3,0.08,Σ_A)    \n",
    "    EUM[i,3] = EU(v[i],0.5,3,0.08,Σ_C)\n",
    "end    "
   ]
  },
  {
   "cell_type": "code",
   "execution_count": 5,
   "metadata": {},
   "outputs": [
    {
     "name": "stdout",
     "output_type": "stream",
     "text": [
      "Notice: with σ1H=0, the choice of v is not affected by ϕ\n"
     ]
    },
    {
     "data": {
      "image/svg+xml": [
       "<?xml version=\"1.0\" encoding=\"utf-8\"?>\n",
       "<svg xmlns=\"http://www.w3.org/2000/svg\" xmlns:xlink=\"http://www.w3.org/1999/xlink\" width=\"600\" height=\"400\" viewBox=\"0 0 600 400\">\n",
       "<defs>\n",
       "  <clipPath id=\"clip2500\">\n",
       "    <rect x=\"0\" y=\"0\" width=\"600\" height=\"400\"/>\n",
       "  </clipPath>\n",
       "</defs>\n",
       "<polygon clip-path=\"url(#clip2500)\" points=\"\n",
       "0,400 600,400 600,0 0,0 \n",
       "  \" fill=\"#ffffff\" fill-opacity=\"1\"/>\n",
       "<defs>\n",
       "  <clipPath id=\"clip2501\">\n",
       "    <rect x=\"120\" y=\"0\" width=\"421\" height=\"400\"/>\n",
       "  </clipPath>\n",
       "</defs>\n",
       "<polygon clip-path=\"url(#clip2500)\" points=\"\n",
       "45.8557,360.121 580.315,360.121 580.315,31.4961 45.8557,31.4961 \n",
       "  \" fill=\"#ffffff\" fill-opacity=\"1\"/>\n",
       "<defs>\n",
       "  <clipPath id=\"clip2502\">\n",
       "    <rect x=\"45\" y=\"31\" width=\"535\" height=\"330\"/>\n",
       "  </clipPath>\n",
       "</defs>\n",
       "<polyline clip-path=\"url(#clip2502)\" style=\"stroke:#000000; stroke-width:0.5; stroke-opacity:0.1; fill:none\" points=\"\n",
       "  45.8557,360.121 45.8557,31.4961 \n",
       "  \"/>\n",
       "<polyline clip-path=\"url(#clip2502)\" style=\"stroke:#000000; stroke-width:0.5; stroke-opacity:0.1; fill:none\" points=\"\n",
       "  134.932,360.121 134.932,31.4961 \n",
       "  \"/>\n",
       "<polyline clip-path=\"url(#clip2502)\" style=\"stroke:#000000; stroke-width:0.5; stroke-opacity:0.1; fill:none\" points=\"\n",
       "  224.009,360.121 224.009,31.4961 \n",
       "  \"/>\n",
       "<polyline clip-path=\"url(#clip2502)\" style=\"stroke:#000000; stroke-width:0.5; stroke-opacity:0.1; fill:none\" points=\"\n",
       "  313.085,360.121 313.085,31.4961 \n",
       "  \"/>\n",
       "<polyline clip-path=\"url(#clip2502)\" style=\"stroke:#000000; stroke-width:0.5; stroke-opacity:0.1; fill:none\" points=\"\n",
       "  402.162,360.121 402.162,31.4961 \n",
       "  \"/>\n",
       "<polyline clip-path=\"url(#clip2502)\" style=\"stroke:#000000; stroke-width:0.5; stroke-opacity:0.1; fill:none\" points=\"\n",
       "  491.238,360.121 491.238,31.4961 \n",
       "  \"/>\n",
       "<polyline clip-path=\"url(#clip2502)\" style=\"stroke:#000000; stroke-width:0.5; stroke-opacity:0.1; fill:none\" points=\"\n",
       "  580.315,360.121 580.315,31.4961 \n",
       "  \"/>\n",
       "<polyline clip-path=\"url(#clip2502)\" style=\"stroke:#000000; stroke-width:0.5; stroke-opacity:0.1; fill:none\" points=\"\n",
       "  45.8557,311.634 580.315,311.634 \n",
       "  \"/>\n",
       "<polyline clip-path=\"url(#clip2502)\" style=\"stroke:#000000; stroke-width:0.5; stroke-opacity:0.1; fill:none\" points=\"\n",
       "  45.8557,246.986 580.315,246.986 \n",
       "  \"/>\n",
       "<polyline clip-path=\"url(#clip2502)\" style=\"stroke:#000000; stroke-width:0.5; stroke-opacity:0.1; fill:none\" points=\"\n",
       "  45.8557,182.337 580.315,182.337 \n",
       "  \"/>\n",
       "<polyline clip-path=\"url(#clip2502)\" style=\"stroke:#000000; stroke-width:0.5; stroke-opacity:0.1; fill:none\" points=\"\n",
       "  45.8557,117.689 580.315,117.689 \n",
       "  \"/>\n",
       "<polyline clip-path=\"url(#clip2502)\" style=\"stroke:#000000; stroke-width:0.5; stroke-opacity:0.1; fill:none\" points=\"\n",
       "  45.8557,53.0401 580.315,53.0401 \n",
       "  \"/>\n",
       "<polyline clip-path=\"url(#clip2500)\" style=\"stroke:#000000; stroke-width:1; stroke-opacity:1; fill:none\" points=\"\n",
       "  45.8557,360.121 580.315,360.121 \n",
       "  \"/>\n",
       "<polyline clip-path=\"url(#clip2500)\" style=\"stroke:#000000; stroke-width:1; stroke-opacity:1; fill:none\" points=\"\n",
       "  45.8557,360.121 45.8557,31.4961 \n",
       "  \"/>\n",
       "<polyline clip-path=\"url(#clip2500)\" style=\"stroke:#000000; stroke-width:1; stroke-opacity:1; fill:none\" points=\"\n",
       "  45.8557,360.121 45.8557,355.191 \n",
       "  \"/>\n",
       "<polyline clip-path=\"url(#clip2500)\" style=\"stroke:#000000; stroke-width:1; stroke-opacity:1; fill:none\" points=\"\n",
       "  134.932,360.121 134.932,355.191 \n",
       "  \"/>\n",
       "<polyline clip-path=\"url(#clip2500)\" style=\"stroke:#000000; stroke-width:1; stroke-opacity:1; fill:none\" points=\"\n",
       "  224.009,360.121 224.009,355.191 \n",
       "  \"/>\n",
       "<polyline clip-path=\"url(#clip2500)\" style=\"stroke:#000000; stroke-width:1; stroke-opacity:1; fill:none\" points=\"\n",
       "  313.085,360.121 313.085,355.191 \n",
       "  \"/>\n",
       "<polyline clip-path=\"url(#clip2500)\" style=\"stroke:#000000; stroke-width:1; stroke-opacity:1; fill:none\" points=\"\n",
       "  402.162,360.121 402.162,355.191 \n",
       "  \"/>\n",
       "<polyline clip-path=\"url(#clip2500)\" style=\"stroke:#000000; stroke-width:1; stroke-opacity:1; fill:none\" points=\"\n",
       "  491.238,360.121 491.238,355.191 \n",
       "  \"/>\n",
       "<polyline clip-path=\"url(#clip2500)\" style=\"stroke:#000000; stroke-width:1; stroke-opacity:1; fill:none\" points=\"\n",
       "  580.315,360.121 580.315,355.191 \n",
       "  \"/>\n",
       "<polyline clip-path=\"url(#clip2500)\" style=\"stroke:#000000; stroke-width:1; stroke-opacity:1; fill:none\" points=\"\n",
       "  45.8557,311.634 53.8726,311.634 \n",
       "  \"/>\n",
       "<polyline clip-path=\"url(#clip2500)\" style=\"stroke:#000000; stroke-width:1; stroke-opacity:1; fill:none\" points=\"\n",
       "  45.8557,246.986 53.8726,246.986 \n",
       "  \"/>\n",
       "<polyline clip-path=\"url(#clip2500)\" style=\"stroke:#000000; stroke-width:1; stroke-opacity:1; fill:none\" points=\"\n",
       "  45.8557,182.337 53.8726,182.337 \n",
       "  \"/>\n",
       "<polyline clip-path=\"url(#clip2500)\" style=\"stroke:#000000; stroke-width:1; stroke-opacity:1; fill:none\" points=\"\n",
       "  45.8557,117.689 53.8726,117.689 \n",
       "  \"/>\n",
       "<polyline clip-path=\"url(#clip2500)\" style=\"stroke:#000000; stroke-width:1; stroke-opacity:1; fill:none\" points=\"\n",
       "  45.8557,53.0401 53.8726,53.0401 \n",
       "  \"/>\n",
       "<g clip-path=\"url(#clip2500)\">\n",
       "<text style=\"fill:#000000; fill-opacity:1; font-family:Arial,Helvetica Neue,Helvetica,sans-serif; font-size:12; text-anchor:middle;\" transform=\"rotate(0, 45.8557, 373.921)\" x=\"45.8557\" y=\"373.921\">0.4</text>\n",
       "</g>\n",
       "<g clip-path=\"url(#clip2500)\">\n",
       "<text style=\"fill:#000000; fill-opacity:1; font-family:Arial,Helvetica Neue,Helvetica,sans-serif; font-size:12; text-anchor:middle;\" transform=\"rotate(0, 134.932, 373.921)\" x=\"134.932\" y=\"373.921\">0.5</text>\n",
       "</g>\n",
       "<g clip-path=\"url(#clip2500)\">\n",
       "<text style=\"fill:#000000; fill-opacity:1; font-family:Arial,Helvetica Neue,Helvetica,sans-serif; font-size:12; text-anchor:middle;\" transform=\"rotate(0, 224.009, 373.921)\" x=\"224.009\" y=\"373.921\">0.6</text>\n",
       "</g>\n",
       "<g clip-path=\"url(#clip2500)\">\n",
       "<text style=\"fill:#000000; fill-opacity:1; font-family:Arial,Helvetica Neue,Helvetica,sans-serif; font-size:12; text-anchor:middle;\" transform=\"rotate(0, 313.085, 373.921)\" x=\"313.085\" y=\"373.921\">0.7</text>\n",
       "</g>\n",
       "<g clip-path=\"url(#clip2500)\">\n",
       "<text style=\"fill:#000000; fill-opacity:1; font-family:Arial,Helvetica Neue,Helvetica,sans-serif; font-size:12; text-anchor:middle;\" transform=\"rotate(0, 402.162, 373.921)\" x=\"402.162\" y=\"373.921\">0.8</text>\n",
       "</g>\n",
       "<g clip-path=\"url(#clip2500)\">\n",
       "<text style=\"fill:#000000; fill-opacity:1; font-family:Arial,Helvetica Neue,Helvetica,sans-serif; font-size:12; text-anchor:middle;\" transform=\"rotate(0, 491.238, 373.921)\" x=\"491.238\" y=\"373.921\">0.9</text>\n",
       "</g>\n",
       "<g clip-path=\"url(#clip2500)\">\n",
       "<text style=\"fill:#000000; fill-opacity:1; font-family:Arial,Helvetica Neue,Helvetica,sans-serif; font-size:12; text-anchor:middle;\" transform=\"rotate(0, 580.315, 373.921)\" x=\"580.315\" y=\"373.921\">1.0</text>\n",
       "</g>\n",
       "<g clip-path=\"url(#clip2500)\">\n",
       "<text style=\"fill:#000000; fill-opacity:1; font-family:Arial,Helvetica Neue,Helvetica,sans-serif; font-size:12; text-anchor:end;\" transform=\"rotate(0, 39.8557, 316.134)\" x=\"39.8557\" y=\"316.134\">0.005</text>\n",
       "</g>\n",
       "<g clip-path=\"url(#clip2500)\">\n",
       "<text style=\"fill:#000000; fill-opacity:1; font-family:Arial,Helvetica Neue,Helvetica,sans-serif; font-size:12; text-anchor:end;\" transform=\"rotate(0, 39.8557, 251.486)\" x=\"39.8557\" y=\"251.486\">0.010</text>\n",
       "</g>\n",
       "<g clip-path=\"url(#clip2500)\">\n",
       "<text style=\"fill:#000000; fill-opacity:1; font-family:Arial,Helvetica Neue,Helvetica,sans-serif; font-size:12; text-anchor:end;\" transform=\"rotate(0, 39.8557, 186.837)\" x=\"39.8557\" y=\"186.837\">0.015</text>\n",
       "</g>\n",
       "<g clip-path=\"url(#clip2500)\">\n",
       "<text style=\"fill:#000000; fill-opacity:1; font-family:Arial,Helvetica Neue,Helvetica,sans-serif; font-size:12; text-anchor:end;\" transform=\"rotate(0, 39.8557, 122.189)\" x=\"39.8557\" y=\"122.189\">0.020</text>\n",
       "</g>\n",
       "<g clip-path=\"url(#clip2500)\">\n",
       "<text style=\"fill:#000000; fill-opacity:1; font-family:Arial,Helvetica Neue,Helvetica,sans-serif; font-size:12; text-anchor:end;\" transform=\"rotate(0, 39.8557, 57.5401)\" x=\"39.8557\" y=\"57.5401\">0.025</text>\n",
       "</g>\n",
       "<g clip-path=\"url(#clip2500)\">\n",
       "<text style=\"fill:#000000; fill-opacity:1; font-family:Arial,Helvetica Neue,Helvetica,sans-serif; font-size:21; text-anchor:middle;\" transform=\"rotate(0, 313.085, 18)\" x=\"313.085\" y=\"18\">Expected utility</text>\n",
       "</g>\n",
       "<g clip-path=\"url(#clip2500)\">\n",
       "<text style=\"fill:#000000; fill-opacity:1; font-family:Arial,Helvetica Neue,Helvetica,sans-serif; font-size:16; text-anchor:middle;\" transform=\"rotate(0, 313.085, 397.6)\" x=\"313.085\" y=\"397.6\">v, weight on risky asset</text>\n",
       "</g>\n",
       "<polyline clip-path=\"url(#clip2502)\" style=\"stroke:#ff0000; stroke-width:2; stroke-opacity:1; fill:none\" points=\"\n",
       "  45.8557,86.6573 56.5448,81.804 67.234,77.1741 77.9232,72.7677 88.6124,68.5847 99.3016,64.6251 109.991,60.8889 120.68,57.3762 131.369,54.0869 142.058,51.021 \n",
       "  152.748,48.1785 163.437,45.5594 174.126,43.1638 184.815,40.9916 195.504,39.0429 206.193,37.3175 216.883,35.8156 227.572,34.5371 238.261,33.4821 248.95,32.6504 \n",
       "  259.639,32.0422 270.329,31.6574 281.018,31.4961 291.707,31.5581 302.396,31.8436 313.085,32.3525 323.774,33.0849 334.464,34.0406 345.153,35.2198 355.842,36.6224 \n",
       "  366.531,38.2485 377.22,40.0979 387.91,42.1708 398.599,44.4671 409.288,46.9869 419.977,49.7301 430.666,52.6966 441.356,55.8867 452.045,59.3001 462.734,62.937 \n",
       "  473.423,66.7973 484.112,70.881 494.801,75.1881 505.491,79.7187 516.18,84.4727 526.869,89.4501 537.558,94.651 548.247,100.075 558.937,105.723 569.626,111.594 \n",
       "  580.315,117.689 \n",
       "  \"/>\n",
       "<polyline clip-path=\"url(#clip2502)\" style=\"stroke:#0000ff; stroke-width:2; stroke-opacity:1; fill:none\" points=\"\n",
       "  45.8557,135.144 56.5448,130.29 67.234,125.661 77.9232,121.254 88.6124,117.071 99.3016,113.111 109.991,109.375 120.68,105.863 131.369,102.573 142.058,99.5074 \n",
       "  152.748,96.6649 163.437,94.0459 174.126,91.6502 184.815,89.4781 195.504,87.5293 206.193,85.8039 216.883,84.302 227.572,83.0235 238.261,81.9685 248.95,81.1368 \n",
       "  259.639,80.5286 270.329,80.1438 281.018,79.9825 291.707,80.0445 302.396,80.33 313.085,80.8389 323.774,81.5713 334.464,82.527 345.153,83.7062 355.842,85.1088 \n",
       "  366.531,86.7349 377.22,88.5843 387.91,90.6572 398.599,92.9536 409.288,95.4733 419.977,98.2165 430.666,101.183 441.356,104.373 452.045,107.787 462.734,111.423 \n",
       "  473.423,115.284 484.112,119.367 494.801,123.675 505.491,128.205 516.18,132.959 526.869,137.937 537.558,143.137 548.247,148.562 558.937,154.209 569.626,160.08 \n",
       "  580.315,166.175 \n",
       "  \"/>\n",
       "<polyline clip-path=\"url(#clip2502)\" style=\"stroke:#008000; stroke-width:2; stroke-opacity:1; fill:none\" points=\"\n",
       "  45.8557,212.722 56.5448,210.196 67.234,207.893 77.9232,205.814 88.6124,203.959 99.3016,202.326 109.991,200.918 120.68,199.732 131.369,198.77 142.058,198.032 \n",
       "  152.748,197.517 163.437,197.225 174.126,197.157 184.815,197.312 195.504,197.69 206.193,198.292 216.883,199.118 227.572,200.167 238.261,201.439 248.95,202.935 \n",
       "  259.639,204.654 270.329,206.596 281.018,208.762 291.707,211.152 302.396,213.765 313.085,216.601 323.774,219.661 334.464,222.944 345.153,226.45 355.842,230.18 \n",
       "  366.531,234.134 377.22,238.31 387.91,242.711 398.599,247.334 409.288,252.181 419.977,257.252 430.666,262.546 441.356,268.063 452.045,273.804 462.734,279.768 \n",
       "  473.423,285.956 484.112,292.367 494.801,299.001 505.491,305.859 516.18,312.941 526.869,320.245 537.558,327.774 548.247,335.525 558.937,343.5 569.626,351.699 \n",
       "  580.315,360.121 \n",
       "  \"/>\n",
       "<polygon clip-path=\"url(#clip2500)\" points=\"\n",
       "63.8557,324.121 261.65,324.121 261.65,263.641 63.8557,263.641 \n",
       "  \" fill=\"#ffffff\" fill-opacity=\"1\"/>\n",
       "<polyline clip-path=\"url(#clip2500)\" style=\"stroke:#000000; stroke-width:1; stroke-opacity:1; fill:none\" points=\"\n",
       "  63.8557,324.121 261.65,324.121 261.65,263.641 63.8557,263.641 63.8557,324.121 \n",
       "  \"/>\n",
       "<polyline clip-path=\"url(#clip2500)\" style=\"stroke:#ff0000; stroke-width:2; stroke-opacity:1; fill:none\" points=\"\n",
       "  69.8557,278.761 105.856,278.761 \n",
       "  \"/>\n",
       "<g clip-path=\"url(#clip2500)\">\n",
       "<text style=\"fill:#000000; fill-opacity:1; font-family:Arial,Helvetica Neue,Helvetica,sans-serif; font-size:12; text-anchor:start;\" transform=\"rotate(0, 111.856, 283.261)\" x=\"111.856\" y=\"283.261\">phi=0</text>\n",
       "</g>\n",
       "<polyline clip-path=\"url(#clip2500)\" style=\"stroke:#0000ff; stroke-width:2; stroke-opacity:1; fill:none\" points=\"\n",
       "  69.8557,293.881 105.856,293.881 \n",
       "  \"/>\n",
       "<g clip-path=\"url(#clip2500)\">\n",
       "<text style=\"fill:#000000; fill-opacity:1; font-family:Arial,Helvetica Neue,Helvetica,sans-serif; font-size:12; text-anchor:start;\" transform=\"rotate(0, 111.856, 298.381)\" x=\"111.856\" y=\"298.381\">phi=0.5, sigma1H=0 </text>\n",
       "</g>\n",
       "<polyline clip-path=\"url(#clip2500)\" style=\"stroke:#008000; stroke-width:2; stroke-opacity:1; fill:none\" points=\"\n",
       "  69.8557,309.001 105.856,309.001 \n",
       "  \"/>\n",
       "<g clip-path=\"url(#clip2500)\">\n",
       "<text style=\"fill:#000000; fill-opacity:1; font-family:Arial,Helvetica Neue,Helvetica,sans-serif; font-size:12; text-anchor:start;\" transform=\"rotate(0, 111.856, 313.501)\" x=\"111.856\" y=\"313.501\">phi=0.5, sigma1H=0.01    </text>\n",
       "</g>\n",
       "</svg>\n"
      ]
     },
     "execution_count": 5,
     "metadata": {},
     "output_type": "execute_result"
    }
   ],
   "source": [
    "println(\"Notice: with σ1H=0, the choice of v is not affected by ϕ\")\n",
    "\n",
    "plot(v,EUM[:,1],color=:red,linewidth=2,label=\"phi=0\")\n",
    "plot!(v,EUM[:,2],color=:blue,linewidth=2,label=\"phi=0.5, sigma1H=0 \")\n",
    "plot!(v,EUM[:,3],color=:green,linewidth=2,label=\"phi=0.5, sigma1H=0.01    \")\n",
    "plot!(legend=:bottomleft)\n",
    "title!(\"Expected utility\")\n",
    "xlabel!(\"v, weight on risky asset\")"
   ]
  },
  {
   "cell_type": "markdown",
   "metadata": {},
   "source": [
    "# Asset Pricing Implications of Background Risk I: CAPM"
   ]
  },
  {
   "cell_type": "markdown",
   "metadata": {},
   "source": [
    "Recall:\n",
    "\n",
    "beta from CAPM regression: $R_{i}^{e}=\\alpha_{i}+\\beta_{i}R_{m}^{e}+\\varepsilon_{i}$ is \n",
    "\n",
    "$\\beta_{i}=\\frac{\\sigma_{im}}{\\sigma_{mm}}$\n",
    "\n",
    "Correct pricing expression:\n",
    "\n",
    "$\\mu_{i}^{e} =\\tilde{\\beta}_{i}\\mu_{m}^{e}$, where \n",
    "$\\tilde{\\beta}_{i}  =\\frac{\\sigma_{im}+\\phi\\left(  \\sigma_{iH}-\\sigma_{im}\\right)  }{\\sigma_{mm}+\\phi\\left(\\sigma_{mH}-\\sigma_{mm}\\right)  }$\n",
    "\n",
    "The $\\alpha_{i}$ in the CAPM regression can be shown to be\n",
    "$\\alpha_{i}=(\\tilde{\\beta}_{i}-\\beta_{i})\\mu_{m}^{e}$"
   ]
  },
  {
   "cell_type": "code",
   "execution_count": 6,
   "metadata": {},
   "outputs": [
    {
     "data": {
      "text/plain": [
       "βtilde (generic function with 1 method)"
      ]
     },
     "execution_count": 6,
     "metadata": {},
     "output_type": "execute_result"
    }
   ],
   "source": [
    "βtilde(σim,ϕ,σiH,σmm,σmH) = (σim + ϕ*(σiH-σim))/(σmm + ϕ*(σmH-σmm))     #a function giving βtilde as above"
   ]
  },
  {
   "cell_type": "code",
   "execution_count": 7,
   "metadata": {
    "scrolled": true
   },
   "outputs": [
    {
     "name": "stdout",
     "output_type": "stream",
     "text": [
      "betas: CAPM and the ones to use in finding μᵢ\n",
      "     0.800     0.800     0.482\n",
      "\n",
      "Expected excess return according to βtilde (μᵉ)\n",
      "     0.064     0.039\n",
      "\n",
      "alphas in CAPM regressions: no background risk, background risk case A, case B\n",
      "     0.000     0.000    -0.025\n",
      "\n"
     ]
    }
   ],
   "source": [
    "σim = 0.8                                             #parameter values for the calculations below\n",
    "σmm = 1\n",
    "σiH = -0.5\n",
    "σmH = 0.5\n",
    "μem = 0.08\n",
    "\n",
    "β = σim/σmm\n",
    "βtildeA = βtilde(σim,0,σiH,σmm,σmH)                   #case A, βtilde when ϕ=0\n",
    "βtildeB = βtilde(σim,0.3,σiH,σmm,σmH)                 #case B, βtilde when ϕ=0.3, otherwise the same \n",
    "\n",
    "println(\"betas: CAPM and the ones to use in finding μᵢ\")\n",
    "printmat([β βtildeA βtildeB])\n",
    "\n",
    "println(\"Expected excess return according to βtilde (μᵉ)\")\n",
    "printmat([βtildeA*μem βtildeB*μem])  \n",
    "\n",
    "println(\"alphas in CAPM regressions: no background risk, background risk case A, case B\")\n",
    "αA = (βtildeA - β)*μem\n",
    "αB = (βtildeB - β)*μem\n",
    "printmat([0 αA αB])"
   ]
  },
  {
   "cell_type": "markdown",
   "metadata": {},
   "source": [
    "# Asset Pricing Implications of Background Risk II: Multi-Factor Model (extra)"
   ]
  },
  {
   "cell_type": "code",
   "execution_count": 8,
   "metadata": {},
   "outputs": [
    {
     "name": "stdout",
     "output_type": "stream",
     "text": [
      "The multiple regression coefficients:      1.057    -0.514\n",
      "\n",
      "μᵉ according to 2-factor model (cf. previous results)      0.039\n"
     ]
    }
   ],
   "source": [
    "σHH = 2\n",
    "μeH = 0.089\n",
    "\n",
    "Σ = [σmm σmH;                   #covariance matrix of [Rm,RH]\n",
    "     σmH σHH]\n",
    "SH = [σim;σiH]                  #Cov(Ri,Rm) and Cov(Ri,RH)\n",
    "\n",
    "βmult = inv(Σ)*SH               #coeffs in Ri = βmult'[Rm;RH]\n",
    "printlnPs(\"The multiple regression coefficients: \",βmult)\n",
    "\n",
    "μei = βmult'*[μem;μeH]\n",
    "printlnPs(\"\\nμᵉ according to 2-factor model (cf. previous results) \",μei)"
   ]
  },
  {
   "cell_type": "markdown",
   "metadata": {},
   "source": [
    "# Empirical Test of a 3-Factor Model: Loading Data"
   ]
  },
  {
   "cell_type": "code",
   "execution_count": 9,
   "metadata": {},
   "outputs": [
    {
     "data": {
      "text/plain": [
       "(388, 5)"
      ]
     },
     "execution_count": 9,
     "metadata": {},
     "output_type": "execute_result"
    }
   ],
   "source": [
    "x    = readdlm(\"Data/FFmFactorsPs.csv\",',',skipstart=1)\n",
    "Rme  = x[:,2]                #market excess return\n",
    "RSMB = x[:,3]                #small minus big firms\n",
    "RHML = x[:,4]                #high minus low book-to-market ratio\n",
    "Rf   = x[:,5]                #interest rate\n",
    "\n",
    "\n",
    "x  = readdlm(\"Data/FF25Ps.csv\",',') #no header line: x is matrix\n",
    "R  = x[:,2:end]                     #returns for 25 FF portfolios\n",
    "Re = R .- Rf                        #excess returns for the 25 FF portfolios\n",
    "Re = Re[:,[1;7;13;19;25]]           #use just 5 assets to make the printing easier \n",
    "\n",
    "(T,n) = size(Re)                 #no. obs and  no. test assets"
   ]
  },
  {
   "cell_type": "markdown",
   "metadata": {},
   "source": [
    "## OLS Estimation and Testing α = 0"
   ]
  },
  {
   "cell_type": "markdown",
   "metadata": {},
   "source": [
    "Recall: estimate $(\\alpha_{i},b_{i})$ in the factor model\n",
    "\n",
    "$R_{it}^{e}  =\\alpha_{i}+b_{i}'f_{t} + \\varepsilon_{it}$\n",
    "\n",
    "Test if $\\alpha_{i}=0$\n",
    "\n",
    "Under the Gauss-Markov assumptions, $\\textrm{Cov}([\\alpha_{i},b_{i}]) = (X'X)^{-1}\\textrm{Var}(\\varepsilon_{it})$,\n",
    "where row $t$ of $X$ contains $[1, f_{t}]$. Use element [1,1] of the covariance matrix as the variance of the $\\alpha_i$ estimate"
   ]
  },
  {
   "cell_type": "code",
   "execution_count": 10,
   "metadata": {},
   "outputs": [
    {
     "name": "stdout",
     "output_type": "stream",
     "text": [
      "\n",
      "OLS intercepts and t-stats, regressing Re on constant and 3 factors\n",
      "    -0.513    -2.306\n",
      "    -0.006    -0.066\n",
      "     0.030     0.328\n",
      "    -0.020    -0.206\n",
      "    -0.015    -0.133\n",
      "\n"
     ]
    }
   ],
   "source": [
    "x   = [ones(T) Rme RSMB RHML]         #regressors\n",
    "Σ_1 = inv(x'x)\n",
    "\n",
    "α     = fill(NaN,n)\n",
    "tstat = fill(NaN,n)\n",
    "for i = 1:n                              #loop over the different test assets\n",
    "    local b_i, residual, Covb\n",
    "    b_i       = x\\Re[:,i]                #OLS\n",
    "    residual  = Re[:,i] - x*b_i\n",
    "    α[i]      = b_i[1]\n",
    "    Covb      = Σ_1*var(residual)   \n",
    "    tstat[i] = (α[i]-0)/sqrt(Covb[1,1])\n",
    "end    \n",
    "println(\"\\nOLS intercepts and t-stats, regressing Re on constant and 3 factors\")\n",
    "printmat([α tstat])"
   ]
  },
  {
   "cell_type": "code",
   "execution_count": null,
   "metadata": {},
   "outputs": [],
   "source": []
  }
 ],
 "metadata": {
  "anaconda-cloud": {},
  "kernelspec": {
   "display_name": "Julia 0.6.3",
   "language": "julia",
   "name": "julia-0.6"
  },
  "language_info": {
   "file_extension": ".jl",
   "mimetype": "application/julia",
   "name": "julia",
   "version": "0.6.3"
  }
 },
 "nbformat": 4,
 "nbformat_minor": 1
}
