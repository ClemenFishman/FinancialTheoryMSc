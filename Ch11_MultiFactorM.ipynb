{
 "cells": [
  {
   "cell_type": "markdown",
   "metadata": {
    "deletable": true,
    "editable": true
   },
   "source": [
    "## Load Packages"
   ]
  },
  {
   "cell_type": "code",
   "execution_count": 1,
   "metadata": {
    "collapsed": false,
    "deletable": true,
    "editable": true
   },
   "outputs": [
    {
     "data": {
      "text/plain": [
       "println4Ps (generic function with 1 method)"
      ]
     },
     "execution_count": 1,
     "metadata": {},
     "output_type": "execute_result"
    }
   ],
   "source": [
    "include(\"printmat.jl\")"
   ]
  },
  {
   "cell_type": "code",
   "execution_count": 2,
   "metadata": {
    "collapsed": false,
    "deletable": true,
    "editable": true
   },
   "outputs": [
    {
     "data": {
      "text/plain": [
       "Plots.GRBackend()"
      ]
     },
     "execution_count": 2,
     "metadata": {},
     "output_type": "execute_result"
    }
   ],
   "source": [
    "using Plots\n",
    "backend = \"gr\"              #\"gr\" (default), \"pyplot\" \n",
    "\n",
    "if backend == \"pyplot\"\n",
    "    pyplot(size=(600,400))\n",
    "else    \n",
    "    gr(size=(600,400))\n",
    "end"
   ]
  },
  {
   "cell_type": "markdown",
   "metadata": {
    "deletable": true,
    "editable": true
   },
   "source": [
    "# Portfolio Choice with Background Risk"
   ]
  },
  {
   "cell_type": "markdown",
   "metadata": {
    "deletable": true,
    "editable": true
   },
   "source": [
    "Recall: the investor maximizes\n",
    "$\\text{E}R_{p}-\\frac{k}{2}\\text{Var}(R_{p})$, where \n",
    "\n",
    "$R_{p}=v^{\\prime}R+\\phi R_{H}+(1-\\mathbf{1}^{\\prime}v-\\phi)R_{f}$\n",
    "\n",
    "Clearly, \n",
    "$\\text{E}R_{p}=v^{\\prime}\\text{E}R$ + a constant that is not affected by the choice variables $v$\n",
    "\n",
    "Also, $\\text{Var}(R_{p}) = u'\\Sigma u$, where $u = [v;\\phi]$\n",
    "\n",
    "Notice that with $\\sigma_{1H}=0$, the choice of $v$ is not affected by $\\phi$ (in spite of the fact that the background risk affects utility)."
   ]
  },
  {
   "cell_type": "code",
   "execution_count": 3,
   "metadata": {
    "collapsed": false,
    "deletable": true,
    "editable": true
   },
   "outputs": [
    {
     "data": {
      "text/plain": [
       "EU (generic function with 2 methods)"
      ]
     },
     "execution_count": 3,
     "metadata": {},
     "output_type": "execute_result"
    }
   ],
   "source": [
    "function EU(v,ϕ,k,μe,Σ,μeH=0)  #expected utility for the case with background risk\n",
    "    u     = [v;ϕ]              #portfolio weight vector, all risky assets. Background risk last.       \n",
    "    ERp   = u'*[μe;μeH]        #μeH defaults to zero\n",
    "    VarRp = u'Σ*u\n",
    "    EUtil = (ERp - k/2*VarRp)[1]\n",
    "    return EUtil\n",
    "end"
   ]
  },
  {
   "cell_type": "code",
   "execution_count": 4,
   "metadata": {
    "collapsed": false,
    "deletable": true,
    "editable": true
   },
   "outputs": [],
   "source": [
    "Σ_A = [0.04 0;                 #covariance with H is zero\n",
    "       0    0.01]              #σHH does not matter for the choice, just set it to 0.01  \n",
    "Σ_C = [0.04 0.01;              #alternative covariance matrix: covariance with H is positive\n",
    "       0.01 0.01]       \n",
    "\n",
    "v = linspace(0.4,1,51)\n",
    "L = length(v)\n",
    "\n",
    "EUM = fill(NaN,(L,3))                   #try different v values (weight on risky investable asset)\n",
    "for i = 1:L\n",
    "    EUM[i,1] = EU(v[i],0.0,3,0.08,Σ_A)\n",
    "    EUM[i,2] = EU(v[i],0.5,3,0.08,Σ_A)    \n",
    "    EUM[i,3] = EU(v[i],0.5,3,0.08,Σ_C)\n",
    "end    "
   ]
  },
  {
   "cell_type": "code",
   "execution_count": 5,
   "metadata": {
    "collapsed": false,
    "deletable": true,
    "editable": true
   },
   "outputs": [
    {
     "name": "stdout",
     "output_type": "stream",
     "text": [
      "Notice: with σ1H=0, the choice of v is not affected by ϕ\n"
     ]
    },
    {
     "data": {
      "text/html": [
       "<?xml version=\"1.0\" encoding=\"utf-8\"?>\n",
       "<svg xmlns=\"http://www.w3.org/2000/svg\" xmlns:xlink=\"http://www.w3.org/1999/xlink\" width=\"600\" height=\"400\" viewBox=\"0 0 600 400\">\n",
       "<defs>\n",
       "  <clipPath id=\"clip00\">\n",
       "    <rect x=\"0\" y=\"0\" width=\"600\" height=\"400\"/>\n",
       "  </clipPath>\n",
       "</defs>\n",
       "<polygon clip-path=\"url(#clip00)\" points=\"\n",
       "0,400 600,400 600,0 0,0 \n",
       "  \" fill=\"#ffffff\" fill-opacity=\"1\"/>\n",
       "<defs>\n",
       "  <clipPath id=\"clip01\">\n",
       "    <rect x=\"120\" y=\"0\" width=\"421\" height=\"400\"/>\n",
       "  </clipPath>\n",
       "</defs>\n",
       "<polygon clip-path=\"url(#clip00)\" points=\"\n",
       "39.3701,372.441 592.126,372.441 592.126,27.5591 39.3701,27.5591 \n",
       "  \" fill=\"#ffffff\" fill-opacity=\"1\"/>\n",
       "<defs>\n",
       "  <clipPath id=\"clip02\">\n",
       "    <rect x=\"39\" y=\"27\" width=\"554\" height=\"346\"/>\n",
       "  </clipPath>\n",
       "</defs>\n",
       "<polyline clip-path=\"url(#clip02)\" style=\"stroke:#000000; stroke-width:0.5; stroke-opacity:0.1; fill:none\" points=\"\n",
       "  39.3701,367.268 39.3701,32.7323 \n",
       "  \"/>\n",
       "<polyline clip-path=\"url(#clip02)\" style=\"stroke:#000000; stroke-width:0.5; stroke-opacity:0.1; fill:none\" points=\"\n",
       "  131.496,367.268 131.496,32.7323 \n",
       "  \"/>\n",
       "<polyline clip-path=\"url(#clip02)\" style=\"stroke:#000000; stroke-width:0.5; stroke-opacity:0.1; fill:none\" points=\"\n",
       "  223.622,367.268 223.622,32.7323 \n",
       "  \"/>\n",
       "<polyline clip-path=\"url(#clip02)\" style=\"stroke:#000000; stroke-width:0.5; stroke-opacity:0.1; fill:none\" points=\"\n",
       "  315.748,367.268 315.748,32.7323 \n",
       "  \"/>\n",
       "<polyline clip-path=\"url(#clip02)\" style=\"stroke:#000000; stroke-width:0.5; stroke-opacity:0.1; fill:none\" points=\"\n",
       "  407.874,367.268 407.874,32.7323 \n",
       "  \"/>\n",
       "<polyline clip-path=\"url(#clip02)\" style=\"stroke:#000000; stroke-width:0.5; stroke-opacity:0.1; fill:none\" points=\"\n",
       "  500,367.268 500,32.7323 \n",
       "  \"/>\n",
       "<polyline clip-path=\"url(#clip02)\" style=\"stroke:#000000; stroke-width:0.5; stroke-opacity:0.1; fill:none\" points=\"\n",
       "  592.126,367.268 592.126,32.7323 \n",
       "  \"/>\n",
       "<polyline clip-path=\"url(#clip02)\" style=\"stroke:#000000; stroke-width:0.5; stroke-opacity:0.1; fill:none\" points=\"\n",
       "  47.6614,253.709 583.835,253.709 \n",
       "  \"/>\n",
       "<polyline clip-path=\"url(#clip02)\" style=\"stroke:#000000; stroke-width:0.5; stroke-opacity:0.1; fill:none\" points=\"\n",
       "  47.6614,118.016 583.835,118.016 \n",
       "  \"/>\n",
       "<polyline clip-path=\"url(#clip00)\" style=\"stroke:#000000; stroke-width:1; stroke-opacity:1; fill:none\" points=\"\n",
       "  39.3701,372.441 592.126,372.441 \n",
       "  \"/>\n",
       "<polyline clip-path=\"url(#clip00)\" style=\"stroke:#000000; stroke-width:1; stroke-opacity:1; fill:none\" points=\"\n",
       "  39.3701,372.441 39.3701,367.268 \n",
       "  \"/>\n",
       "<polyline clip-path=\"url(#clip00)\" style=\"stroke:#000000; stroke-width:1; stroke-opacity:1; fill:none\" points=\"\n",
       "  131.496,372.441 131.496,367.268 \n",
       "  \"/>\n",
       "<polyline clip-path=\"url(#clip00)\" style=\"stroke:#000000; stroke-width:1; stroke-opacity:1; fill:none\" points=\"\n",
       "  223.622,372.441 223.622,367.268 \n",
       "  \"/>\n",
       "<polyline clip-path=\"url(#clip00)\" style=\"stroke:#000000; stroke-width:1; stroke-opacity:1; fill:none\" points=\"\n",
       "  315.748,372.441 315.748,367.268 \n",
       "  \"/>\n",
       "<polyline clip-path=\"url(#clip00)\" style=\"stroke:#000000; stroke-width:1; stroke-opacity:1; fill:none\" points=\"\n",
       "  407.874,372.441 407.874,367.268 \n",
       "  \"/>\n",
       "<polyline clip-path=\"url(#clip00)\" style=\"stroke:#000000; stroke-width:1; stroke-opacity:1; fill:none\" points=\"\n",
       "  500,372.441 500,367.268 \n",
       "  \"/>\n",
       "<polyline clip-path=\"url(#clip00)\" style=\"stroke:#000000; stroke-width:1; stroke-opacity:1; fill:none\" points=\"\n",
       "  592.126,372.441 592.126,367.268 \n",
       "  \"/>\n",
       "<polyline clip-path=\"url(#clip00)\" style=\"stroke:#000000; stroke-width:1; stroke-opacity:1; fill:none\" points=\"\n",
       "  39.3701,372.441 39.3701,27.5591 \n",
       "  \"/>\n",
       "<polyline clip-path=\"url(#clip00)\" style=\"stroke:#000000; stroke-width:1; stroke-opacity:1; fill:none\" points=\"\n",
       "  39.3701,253.709 47.6614,253.709 \n",
       "  \"/>\n",
       "<polyline clip-path=\"url(#clip00)\" style=\"stroke:#000000; stroke-width:1; stroke-opacity:1; fill:none\" points=\"\n",
       "  39.3701,118.016 47.6614,118.016 \n",
       "  \"/>\n",
       "<g clip-path=\"url(#clip00)\">\n",
       "<text style=\"fill:#000000; fill-opacity:1; font-family:Arial,Helvetica Neue,Helvetica,sans-serif; font-size:12; text-anchor:middle;\" transform=\"rotate(0, 39.3701, 386.241)\" x=\"39.3701\" y=\"386.241\">0.4</text>\n",
       "</g>\n",
       "<g clip-path=\"url(#clip00)\">\n",
       "<text style=\"fill:#000000; fill-opacity:1; font-family:Arial,Helvetica Neue,Helvetica,sans-serif; font-size:12; text-anchor:middle;\" transform=\"rotate(0, 131.496, 386.241)\" x=\"131.496\" y=\"386.241\">0.5</text>\n",
       "</g>\n",
       "<g clip-path=\"url(#clip00)\">\n",
       "<text style=\"fill:#000000; fill-opacity:1; font-family:Arial,Helvetica Neue,Helvetica,sans-serif; font-size:12; text-anchor:middle;\" transform=\"rotate(0, 223.622, 386.241)\" x=\"223.622\" y=\"386.241\">0.6</text>\n",
       "</g>\n",
       "<g clip-path=\"url(#clip00)\">\n",
       "<text style=\"fill:#000000; fill-opacity:1; font-family:Arial,Helvetica Neue,Helvetica,sans-serif; font-size:12; text-anchor:middle;\" transform=\"rotate(0, 315.748, 386.241)\" x=\"315.748\" y=\"386.241\">0.7</text>\n",
       "</g>\n",
       "<g clip-path=\"url(#clip00)\">\n",
       "<text style=\"fill:#000000; fill-opacity:1; font-family:Arial,Helvetica Neue,Helvetica,sans-serif; font-size:12; text-anchor:middle;\" transform=\"rotate(0, 407.874, 386.241)\" x=\"407.874\" y=\"386.241\">0.8</text>\n",
       "</g>\n",
       "<g clip-path=\"url(#clip00)\">\n",
       "<text style=\"fill:#000000; fill-opacity:1; font-family:Arial,Helvetica Neue,Helvetica,sans-serif; font-size:12; text-anchor:middle;\" transform=\"rotate(0, 500, 386.241)\" x=\"500\" y=\"386.241\">0.9</text>\n",
       "</g>\n",
       "<g clip-path=\"url(#clip00)\">\n",
       "<text style=\"fill:#000000; fill-opacity:1; font-family:Arial,Helvetica Neue,Helvetica,sans-serif; font-size:12; text-anchor:middle;\" transform=\"rotate(0, 592.126, 386.241)\" x=\"592.126\" y=\"386.241\">1.0</text>\n",
       "</g>\n",
       "<g clip-path=\"url(#clip00)\">\n",
       "<text style=\"fill:#000000; fill-opacity:1; font-family:Arial,Helvetica Neue,Helvetica,sans-serif; font-size:12; text-anchor:end;\" transform=\"rotate(0, 33.3701, 258.209)\" x=\"33.3701\" y=\"258.209\">0.01</text>\n",
       "</g>\n",
       "<g clip-path=\"url(#clip00)\">\n",
       "<text style=\"fill:#000000; fill-opacity:1; font-family:Arial,Helvetica Neue,Helvetica,sans-serif; font-size:12; text-anchor:end;\" transform=\"rotate(0, 33.3701, 122.516)\" x=\"33.3701\" y=\"122.516\">0.02</text>\n",
       "</g>\n",
       "<g clip-path=\"url(#clip00)\">\n",
       "<text style=\"fill:#000000; fill-opacity:1; font-family:Arial,Helvetica Neue,Helvetica,sans-serif; font-size:21; text-anchor:middle;\" transform=\"rotate(0, 315.748, 18)\" x=\"315.748\" y=\"18\">Expected utility</text>\n",
       "</g>\n",
       "<g clip-path=\"url(#clip00)\">\n",
       "<text style=\"fill:#000000; fill-opacity:1; font-family:Arial,Helvetica Neue,Helvetica,sans-serif; font-size:16; text-anchor:middle;\" transform=\"rotate(0, 315.748, 397.6)\" x=\"315.748\" y=\"397.6\">v, weight on risky asset</text>\n",
       "</g>\n",
       "<polyline clip-path=\"url(#clip02)\" style=\"stroke:#ff0000; stroke-width:2; stroke-opacity:1; fill:none\" points=\"\n",
       "  39.3701,85.4492 50.4252,80.3558 61.4803,75.4969 72.5354,70.8724 83.5906,66.4825 94.6457,62.327 105.701,58.406 116.756,54.7195 127.811,51.2674 138.866,48.0499 \n",
       "  149.921,45.0668 160.976,42.3182 172.031,39.804 183.087,37.5244 194.142,35.4792 205.197,33.6685 216.252,32.0923 227.307,30.7506 238.362,29.6433 249.417,28.7705 \n",
       "  260.472,28.1322 271.528,27.7284 282.583,27.5591 293.638,27.6242 304.693,27.9238 315.748,28.4579 326.803,29.2265 337.858,30.2295 348.913,31.467 359.969,32.939 \n",
       "  371.024,34.6455 382.079,36.5865 393.134,38.7619 404.189,41.1718 415.244,43.8162 426.299,46.6951 437.354,49.8084 448.409,53.1563 459.465,56.7386 470.52,60.5554 \n",
       "  481.575,64.6066 492.63,68.8924 503.685,73.4126 514.74,78.1673 525.795,83.1565 536.85,88.3801 547.906,93.8383 558.961,99.5309 570.016,105.458 581.071,111.62 \n",
       "  592.126,118.016 \n",
       "  \"/>\n",
       "<polyline clip-path=\"url(#clip02)\" style=\"stroke:#0000ff; stroke-width:2; stroke-opacity:1; fill:none\" points=\"\n",
       "  39.3701,136.334 50.4252,131.241 61.4803,126.382 72.5354,121.757 83.5906,117.368 94.6457,113.212 105.701,109.291 116.756,105.605 127.811,102.152 138.866,98.9349 \n",
       "  149.921,95.9518 160.976,93.2032 172.031,90.6891 183.087,88.4095 194.142,86.3643 205.197,84.5536 216.252,82.9774 227.307,81.6356 238.362,80.5284 249.417,79.6556 \n",
       "  260.472,79.0173 271.528,78.6135 282.583,78.4441 293.638,78.5093 304.693,78.8089 315.748,79.343 326.803,80.1115 337.858,81.1146 348.913,82.3521 359.969,83.8241 \n",
       "  371.024,85.5306 382.079,87.4715 393.134,89.647 404.189,92.0569 415.244,94.7013 426.299,97.5802 437.354,100.694 448.409,104.041 459.465,107.624 470.52,111.44 \n",
       "  481.575,115.492 492.63,119.777 503.685,124.298 514.74,129.052 525.795,134.042 536.85,139.265 547.906,144.723 558.961,150.416 570.016,156.343 581.071,162.505 \n",
       "  592.126,168.901 \n",
       "  \"/>\n",
       "<polyline clip-path=\"url(#clip02)\" style=\"stroke:#008000; stroke-width:2; stroke-opacity:1; fill:none\" points=\"\n",
       "  39.3701,217.75 50.4252,215.099 61.4803,212.683 72.5354,210.501 83.5906,208.554 94.6457,206.841 105.701,205.362 116.756,204.118 127.811,203.108 138.866,202.333 \n",
       "  149.921,201.793 160.976,201.487 172.031,201.415 183.087,201.578 194.142,201.975 205.197,202.607 216.252,203.473 227.307,204.574 238.362,205.909 249.417,207.479 \n",
       "  260.472,209.283 271.528,211.322 282.583,213.595 293.638,216.102 304.693,218.845 315.748,221.821 326.803,225.032 337.858,228.478 348.913,232.158 359.969,236.072 \n",
       "  371.024,240.221 382.079,244.605 393.134,249.223 404.189,254.075 415.244,259.162 426.299,264.483 437.354,270.039 448.409,275.829 459.465,281.854 470.52,288.113 \n",
       "  481.575,294.607 492.63,301.335 503.685,308.298 514.74,315.495 525.795,322.927 536.85,330.593 547.906,338.494 558.961,346.629 570.016,354.998 581.071,363.602 \n",
       "  592.126,372.441 \n",
       "  \"/>\n",
       "<polygon clip-path=\"url(#clip00)\" points=\"\n",
       "388.295,108.919 574.126,108.919 574.126,48.4391 388.295,48.4391 \n",
       "  \" fill=\"#ffffff\" fill-opacity=\"1\"/>\n",
       "<polyline clip-path=\"url(#clip00)\" style=\"stroke:#000000; stroke-width:1; stroke-opacity:1; fill:none\" points=\"\n",
       "  388.295,108.919 574.126,108.919 574.126,48.4391 388.295,48.4391 388.295,108.919 \n",
       "  \"/>\n",
       "<polyline clip-path=\"url(#clip00)\" style=\"stroke:#ff0000; stroke-width:2; stroke-opacity:1; fill:none\" points=\"\n",
       "  394.295,63.5591 430.295,63.5591 \n",
       "  \"/>\n",
       "<g clip-path=\"url(#clip00)\">\n",
       "<text style=\"fill:#000000; fill-opacity:1; font-family:Arial,Helvetica Neue,Helvetica,sans-serif; font-size:12; text-anchor:start;\" transform=\"rotate(0, 436.295, 68.0591)\" x=\"436.295\" y=\"68.0591\">phi=0</text>\n",
       "</g>\n",
       "<polyline clip-path=\"url(#clip00)\" style=\"stroke:#0000ff; stroke-width:2; stroke-opacity:1; fill:none\" points=\"\n",
       "  394.295,78.6791 430.295,78.6791 \n",
       "  \"/>\n",
       "<g clip-path=\"url(#clip00)\">\n",
       "<text style=\"fill:#000000; fill-opacity:1; font-family:Arial,Helvetica Neue,Helvetica,sans-serif; font-size:12; text-anchor:start;\" transform=\"rotate(0, 436.295, 83.1791)\" x=\"436.295\" y=\"83.1791\">phi=0.5,sigma1H=0 </text>\n",
       "</g>\n",
       "<polyline clip-path=\"url(#clip00)\" style=\"stroke:#008000; stroke-width:2; stroke-opacity:1; fill:none\" points=\"\n",
       "  394.295,93.7991 430.295,93.7991 \n",
       "  \"/>\n",
       "<g clip-path=\"url(#clip00)\">\n",
       "<text style=\"fill:#000000; fill-opacity:1; font-family:Arial,Helvetica Neue,Helvetica,sans-serif; font-size:12; text-anchor:start;\" transform=\"rotate(0, 436.295, 98.2991)\" x=\"436.295\" y=\"98.2991\">phi=0.5,sigma1H=0.01  </text>\n",
       "</g>\n",
       "</svg>\n"
      ]
     },
     "execution_count": 5,
     "metadata": {},
     "output_type": "execute_result"
    }
   ],
   "source": [
    "println(\"Notice: with σ1H=0, the choice of v is not affected by ϕ\")\n",
    "\n",
    "plot(v,EUM[:,1],color=:red,linewidth=2,label=\"phi=0\")\n",
    "plot!(v,EUM[:,2],color=:blue,linewidth=2,label=\"phi=0.5,sigma1H=0 \")\n",
    "plot!(v,EUM[:,3],color=:green,linewidth=2,label=\"phi=0.5,sigma1H=0.01  \")\n",
    "title!(\"Expected utility\")\n",
    "xlabel!(\"v, weight on risky asset\")"
   ]
  },
  {
   "cell_type": "markdown",
   "metadata": {
    "deletable": true,
    "editable": true
   },
   "source": [
    "# Asset Pricing Implications of Background Risk I: CAPM"
   ]
  },
  {
   "cell_type": "markdown",
   "metadata": {
    "deletable": true,
    "editable": true
   },
   "source": [
    "Recall:\n",
    "\n",
    "beta from CAPM regression: $R_{i}^{e}=\\alpha_{i}+\\beta_{i}R_{m}^{e}+\\varepsilon_{i}$ is \n",
    "\n",
    "$\\beta_{i}=\\frac{\\sigma_{im}}{\\sigma_{mm}}$\n",
    "\n",
    "Correct pricing expression:\n",
    "\n",
    "$\\mu_{i}^{e} =\\tilde{\\beta}_{i}\\mu_{m}^{e}$, where \n",
    "$\\tilde{\\beta}_{i}  =\\frac{\\sigma_{im}+\\phi\\left(  \\sigma_{iH}-\\sigma_{im}\\right)  }{\\sigma_{mm}+\\phi\\left(\\sigma_{mH}-\\sigma_{mm}\\right)  }$\n",
    "\n",
    "The $\\alpha_{i}$ in the CAPM regression can be shown to be\n",
    "$\\alpha_{i}=(\\tilde{\\beta}_{i}-\\beta_{i})\\mu_{m}^{e}$"
   ]
  },
  {
   "cell_type": "code",
   "execution_count": 6,
   "metadata": {
    "collapsed": false,
    "deletable": true,
    "editable": true
   },
   "outputs": [
    {
     "data": {
      "text/plain": [
       "βtilde (generic function with 1 method)"
      ]
     },
     "execution_count": 6,
     "metadata": {},
     "output_type": "execute_result"
    }
   ],
   "source": [
    "βtilde(σim,ϕ,σiH,σmm,σmH) = (σim + ϕ*(σiH-σim))/(σmm + ϕ*(σmH-σmm))     #a function giving βtilde as above"
   ]
  },
  {
   "cell_type": "code",
   "execution_count": 7,
   "metadata": {
    "collapsed": false,
    "deletable": true,
    "editable": true,
    "scrolled": true
   },
   "outputs": [
    {
     "name": "stdout",
     "output_type": "stream",
     "text": [
      "betas: CAPM and the ones to use in finding μᵢ\n",
      "     0.800     0.800     0.482\n",
      "\n",
      "Expected excess return according to βtilde (μᵉ)\n",
      "     0.064     0.039\n",
      "\n",
      "alphas in CAPM regressions: no background risk, background risk case A, case B\n",
      "     0.000     0.000    -0.025\n",
      "\n"
     ]
    }
   ],
   "source": [
    "σim = 0.8                                             #parameter values for the calculations below\n",
    "σmm = 1\n",
    "σiH = -0.5\n",
    "σmH = 0.5\n",
    "μem = 0.08\n",
    "\n",
    "β = σim/σmm\n",
    "βtildeA = βtilde(σim,0,σiH,σmm,σmH)                   #case A, βtilde when ϕ=0\n",
    "βtildeB = βtilde(σim,0.3,σiH,σmm,σmH)                 #case B, βtilde when ϕ=0.3, otherwise the same \n",
    "\n",
    "println(\"betas: CAPM and the ones to use in finding μᵢ\")\n",
    "printmat([β βtildeA βtildeB])\n",
    "\n",
    "println(\"Expected excess return according to βtilde (μᵉ)\")\n",
    "printmat([βtildeA*μem βtildeB*μem])  \n",
    "\n",
    "println(\"alphas in CAPM regressions: no background risk, background risk case A, case B\")\n",
    "αA = (βtildeA - β)*μem\n",
    "αB = (βtildeB - β)*μem\n",
    "printmat([0 αA αB])"
   ]
  },
  {
   "cell_type": "markdown",
   "metadata": {
    "deletable": true,
    "editable": true
   },
   "source": [
    "# Asset Pricing Implications of Background Risk II: Multi-Factor Model (extra)"
   ]
  },
  {
   "cell_type": "code",
   "execution_count": 8,
   "metadata": {
    "collapsed": false,
    "deletable": true,
    "editable": true
   },
   "outputs": [
    {
     "name": "stdout",
     "output_type": "stream",
     "text": [
      "The multiple regression coefficients:      1.057    -0.514\n",
      "\n",
      "μᵉ according to 2-factor model (cf. previous results)      0.039\n"
     ]
    }
   ],
   "source": [
    "σHH = 2\n",
    "μeH = 0.089\n",
    "\n",
    "Σ = [σmm σmH;                   #covariance matrix of [Rm,RH]\n",
    "     σmH σHH]\n",
    "SH = [σim;σiH]                  #Cov(Ri,Rm) and Cov(Ri,RH)\n",
    "\n",
    "βmult = inv(Σ)*SH               #coeffs in Ri = βmult'[Rm;RH]\n",
    "printlnPs(\"The multiple regression coefficients: \",βmult)\n",
    "\n",
    "μei = (βmult'*[μem;μeH])[1]\n",
    "printlnPs(\"\\nμᵉ according to 2-factor model (cf. previous results) \",μei)"
   ]
  },
  {
   "cell_type": "markdown",
   "metadata": {
    "deletable": true,
    "editable": true
   },
   "source": [
    "# Empirical Test of a 3-Factor Model: Loading Data"
   ]
  },
  {
   "cell_type": "code",
   "execution_count": 9,
   "metadata": {
    "collapsed": false,
    "deletable": true,
    "editable": true
   },
   "outputs": [
    {
     "data": {
      "text/plain": [
       "(388, 5)"
      ]
     },
     "execution_count": 9,
     "metadata": {},
     "output_type": "execute_result"
    }
   ],
   "source": [
    "xx   = readdlm(\"Data/FFmFactorsPs.csv\",',',header=true)\n",
    "x    = xx[1]\n",
    "Rme  = x[:,2]                #market excess return\n",
    "RSMB = x[:,3]                #small minus big firms\n",
    "RHML = x[:,4]                #high minus low book-to-market ratio\n",
    "Rf   = x[:,5]                #interest rate\n",
    "\n",
    "\n",
    "x = readdlm(\"Data/FF25Ps.csv\",',')  #no header line: x is matrix\n",
    "R  = x[:,2:end]                     #returns for 25 FF portfolios\n",
    "Re = R .- Rf                        #excess returns for the 25 FF portfolios\n",
    "Re = Re[:,[1;7;13;19;25]]           #use just 5 assets to make the printing easier \n",
    "\n",
    "(T,n) = size(Re)                 #no. obs and  no. test assets"
   ]
  },
  {
   "cell_type": "markdown",
   "metadata": {
    "deletable": true,
    "editable": true
   },
   "source": [
    "## OLS Estimation and Testing α = 0"
   ]
  },
  {
   "cell_type": "markdown",
   "metadata": {
    "deletable": true,
    "editable": true
   },
   "source": [
    "Recall: estimate $(\\alpha_{i},b_{i})$ in the factor model\n",
    "\n",
    "$R_{it}^{e}  =\\alpha_{i}+b_{i}'f_{t} + \\varepsilon_{it}$\n",
    "\n",
    "Test if $\\alpha_{i}=0$\n",
    "\n",
    "Under the Gauss-Markov assumptions, $\\textrm{Cov}([\\alpha_{i},b_{i}]) = (X'X)^{-1}\\textrm{Var}(\\varepsilon_{it})$,\n",
    "where row $t$ of $X$ contains $[1, f_{t}]$. Use element [1,1] of the covariance matrix as the variance of the $\\alpha_i$ estimate"
   ]
  },
  {
   "cell_type": "code",
   "execution_count": 10,
   "metadata": {
    "collapsed": false,
    "deletable": true,
    "editable": true
   },
   "outputs": [
    {
     "name": "stdout",
     "output_type": "stream",
     "text": [
      "\n",
      "OLS intercepts and t-stats, regressing Re on constant and 3 factors\n",
      "    -0.513    -2.306\n",
      "    -0.006    -0.066\n",
      "     0.030     0.328\n",
      "    -0.020    -0.206\n",
      "    -0.015    -0.133\n",
      "\n"
     ]
    }
   ],
   "source": [
    "x   = [ones(T) Rme RSMB RHML]         #regressors\n",
    "Σ_1 = inv(x'x)\n",
    "\n",
    "α     = fill(NaN,n)\n",
    "tstat = fill(NaN,n)\n",
    "for i = 1:n                              #loop over the different test assets\n",
    "    b_i       = x\\Re[:,i]                #OLS\n",
    "    residual  = Re[:,i] - x*b_i\n",
    "    α[i]      = b_i[1]\n",
    "    Covb      = Σ_1*var(residual)   \n",
    "    tstat[i] = (α[i]-0)/sqrt(Covb[1,1])\n",
    "end    \n",
    "println(\"\\nOLS intercepts and t-stats, regressing Re on constant and 3 factors\")\n",
    "printmat([α tstat])"
   ]
  },
  {
   "cell_type": "code",
   "execution_count": null,
   "metadata": {
    "collapsed": true,
    "deletable": true,
    "editable": true
   },
   "outputs": [],
   "source": []
  }
 ],
 "metadata": {
  "anaconda-cloud": {},
  "kernelspec": {
   "display_name": "Julia 0.6.0",
   "language": "julia",
   "name": "julia-0.6"
  },
  "language_info": {
   "file_extension": ".jl",
   "mimetype": "application/julia",
   "name": "julia",
   "version": "0.6.0"
  }
 },
 "nbformat": 4,
 "nbformat_minor": 1
}
