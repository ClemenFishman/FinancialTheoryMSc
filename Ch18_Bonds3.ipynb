{
 "cells": [
  {
   "cell_type": "markdown",
   "metadata": {},
   "source": [
    "## Load Packages"
   ]
  },
  {
   "cell_type": "code",
   "execution_count": 1,
   "metadata": {},
   "outputs": [
    {
     "data": {
      "text/plain": [
       "printmatDate (generic function with 8 methods)"
      ]
     },
     "execution_count": 1,
     "metadata": {},
     "output_type": "execute_result"
    }
   ],
   "source": [
    "using Dates \n",
    "\n",
    "include(\"printmat.jl\")\n",
    "include(\"printTable.jl\")"
   ]
  },
  {
   "cell_type": "code",
   "execution_count": 3,
   "metadata": {},
   "outputs": [],
   "source": [
    "using Plots\n",
    "backend = \"gr\"                        #\"gr\" (default), \"pyplot\" \n",
    "\n",
    "if backend == \"pyplot\"\n",
    "    pyplot(size=(600,400))\n",
    "else    \n",
    "    gr(size=(600,400))\n",
    "    default(fmt = :png)\n",
    "end"
   ]
  },
  {
   "cell_type": "markdown",
   "metadata": {},
   "source": [
    "# Predictions from an AR(1)"
   ]
  },
  {
   "cell_type": "markdown",
   "metadata": {},
   "source": [
    "Consider an AR(1) with mean $\\mu$\n",
    "\n",
    "$r_{t+1}-\\mu=\\rho\\left(  r_{t}-\\mu\\right)  +\\varepsilon_{t+1}$\n",
    "\n",
    "The forecast (based on information in $t$) for $t+s$ is\n",
    "\n",
    "$\\text{E}_{t}r_{t+s}=\\left(  1-\\rho^{s}\\right)  \\mu+\\rho ^{s}r_{t}.$\n",
    "\n",
    "The examples below assume that periods are months ($t$ to $t+1$ is a month)."
   ]
  },
  {
   "cell_type": "code",
   "execution_count": 4,
   "metadata": {},
   "outputs": [
    {
     "data": {
      "text/plain": [
       "AR1Prediction (generic function with 1 method)"
      ]
     },
     "execution_count": 4,
     "metadata": {},
     "output_type": "execute_result"
    }
   ],
   "source": [
    "\"\"\"\n",
    "    AR1Prediction(x0,ρ,μ,s)\n",
    "\n",
    "Calculate forecast from AR(1)\n",
    "\n",
    "x0,ρ,μ,s: scalars\n",
    "\"\"\"\n",
    "function AR1Prediction(x0,ρ,μ,s)      \n",
    "    E0xs = (1-ρ^s)*μ + ρ^s*x0\n",
    "    return E0xs\n",
    "end"
   ]
  },
  {
   "cell_type": "code",
   "execution_count": 5,
   "metadata": {},
   "outputs": [
    {
     "name": "stdout",
     "output_type": "stream",
     "text": [
      "Prediction for t+50, assuming current r=0.07:      0.056\n"
     ]
    }
   ],
   "source": [
    "ρ = 0.975\n",
    "μ = 0.05\n",
    "\n",
    "printlnPs(\"Prediction for t+50, assuming current r=0.07: \",AR1Prediction(0.07,ρ,μ,50))\n",
    "\n",
    "sMax = 120\n",
    "sM = 1:sMax\n",
    "x0 = [0.03;0.05;0.07]\n",
    "\n",
    "xPred = fill(NaN,(sMax,length(x0)))          #predictions[horizon,today's value]\n",
    "for s in sM, j = 1:length(x0)\n",
    "    xPred[s,j] = AR1Prediction(x0[j],ρ,μ,s)\n",
    "end"
   ]
  },
  {
   "cell_type": "code",
   "execution_count": 6,
   "metadata": {},
   "outputs": [
    {
     "data": {
      "image/png": "[encoded data removed]"
     },
     "metadata": {},
     "output_type": "display_data"
    }
   ],
   "source": [
    "p1 = plot(sM,xPred[:,1],color=:black,linewidth=2,label=\"3%\")\n",
    "plot!(p1,sM,xPred[:,2],color=:red,line=(:dash,2),linewidth=2,label=\"5%\")\n",
    "plot!(p1,sM,xPred[:,3],color=:blue,line=(:dot),linewidth=2,label=\"7%\")\n",
    "title!(p1,\"Forecast of future short interest rates\\n (based on different starting values)\")\n",
    "xlabel!(p1,\"forecast horizons (months)\")\n",
    "ylabel!(p1,\"short interest rate\")\n",
    "annotate!(p1,80,0.038,\"(mu,rho) = ($μ,$ρ)\")\n",
    "display(\"image/png\",p1)"
   ]
  },
  {
   "cell_type": "markdown",
   "metadata": {},
   "source": [
    "# The Vasicek Model"
   ]
  },
  {
   "cell_type": "markdown",
   "metadata": {},
   "source": [
    "The Vasicek model (without risk premia) implies that \n",
    "\n",
    "$\n",
    "y_{t}(n) =a(n)+b(n)r_{t} \\: \\text{, where }\n",
    "$\n",
    "\n",
    "$\n",
    "a(n)     = \\mu\\left[  1-b(n)\\right],\\\\\n",
    "b(n)     =(1-\\rho^{n})/[(1-\\rho)n].\n",
    "$\n",
    "\n",
    "If the periods are one month, then $y_{t}(36)$ is the (annualized) continuously compounded interest rate for a bond maturing in 36 months (...3 years)."
   ]
  },
  {
   "cell_type": "code",
   "execution_count": 7,
   "metadata": {},
   "outputs": [
    {
     "data": {
      "text/plain": [
       "Vasicek (generic function with 1 method)"
      ]
     },
     "execution_count": 7,
     "metadata": {},
     "output_type": "execute_result"
    }
   ],
   "source": [
    "\"\"\"\n",
    "    Vasicek(r,ρ,μ,n)\n",
    "\n",
    "Vasicek model: calculate interest rate and (a,b) coeffs\n",
    "r,ρ,μ,n: scalars\n",
    "\"\"\"\n",
    "function Vasicek(r,ρ,μ,n)                   \n",
    "    if ρ == 1.0\n",
    "        b = 1.0\n",
    "    else    \n",
    "        b = (1-ρ^n)/((1-ρ)*n)\n",
    "    end    \n",
    "    a = μ*(1-b)\n",
    "    y = a + b*r\n",
    "    return y,a,b\n",
    "end"
   ]
  },
  {
   "cell_type": "code",
   "execution_count": 8,
   "metadata": {},
   "outputs": [
    {
     "name": "stdout",
     "output_type": "stream",
     "text": [
      "a and b for the first few maturities\n",
      "     1.000     0.000     1.000\n",
      "     2.000     0.062     0.988\n",
      "     3.000     0.124     0.975\n",
      "     4.000     0.184     0.963\n",
      "\n"
     ]
    }
   ],
   "source": [
    "yM = fill(NaN,(sMax,length(x0)))        #interest rates, different starting values in columns\n",
    "ab = fill(NaN,(sMax,2))                 #a and b coefs \n",
    "for n in sM, j = 1:length(x0)\n",
    "    local a, y, b\n",
    "    (y,a,b) = Vasicek(x0[j],ρ,μ,n)\n",
    "    yM[n,j] = y\n",
    "    ab[n,:] = [a b]                     #overwriting, but the same across x0 values\n",
    "end\n",
    "\n",
    "println(\"a and b for the first few maturities\")\n",
    "printmat([sM[1:4]  ab[1:4,1]*100 ab[1:4,2]] )"
   ]
  },
  {
   "cell_type": "code",
   "execution_count": 9,
   "metadata": {},
   "outputs": [
    {
     "data": {
      "image/png": "[encoded data removed]"
     },
     "metadata": {},
     "output_type": "display_data"
    }
   ],
   "source": [
    "p1 = plot(sM,ab[:,1],color=:black,line=(:dot),linewidth=2,label=\"a\")\n",
    "plot!(p1,sM,ab[:,2],color=:red,linewidth=2,label=\"b\")\n",
    "title!(p1,\"Vasicek model: a and b in y(m) = a(m) + b(m)r\")\n",
    "xlabel!(p1,\"maturity (months)\")\n",
    "annotate!(p1,80,0.2,\"(mu,rho) = ($μ,$ρ)\")\n",
    "display(\"image/png\",p1)"
   ]
  },
  {
   "cell_type": "code",
   "execution_count": 10,
   "metadata": {},
   "outputs": [
    {
     "data": {
      "image/png": "[encoded data removed]"
     },
     "metadata": {},
     "output_type": "display_data"
    }
   ],
   "source": [
    "p1 = plot(sM,yM[:,1],color=:black,linewidth=2,label=\"3%\")\n",
    "plot!(p1,sM,yM[:,2],color=:red,line=(:dash,2),linewidth=2,label=\"5%\")\n",
    "plot!(p1,sM,yM[:,3],color=:blue,line=(:dot),linewidth=2,label=\"7%\")\n",
    "title!(p1,\"Vasicek model: yield curves\\n (for different current short rates: 3, 5, or 7%)\")\n",
    "xlabel!(p1,\"maturity (months)\")\n",
    "ylabel!(p1,\"interest rate\")\n",
    "annotate!(p1,80,0.038,\"(mu,rho) = ($μ,$ρ)\")\n",
    "display(\"image/png\",p1)"
   ]
  },
  {
   "cell_type": "markdown",
   "metadata": {},
   "source": [
    "# Hedging Using the Vasicek Model"
   ]
  },
  {
   "cell_type": "markdown",
   "metadata": {},
   "source": [
    "Recall that the change of the (value of the) hedge portfolio is \n",
    "\n",
    "$\\begin{equation}\n",
    "\\Delta V=h\\Delta P_{H}-\\Delta P_{L}\n",
    "\\end{equation}$\n",
    "\n",
    "\n",
    "1. For an initial value of the short log interest rate $r$, use the Vasicek model to calculate all spot rates needed to value the bond portfolios.\n",
    "\n",
    "2. Use the spot interest rates ($y(m)$) to calculate the prices of both the liability and the hedge bond.\n",
    "\n",
    "3. Redo points 1 and 2, but starting from a somewhat different short rate.\n",
    "    \n",
    "4. Calculate the $h$ value that makes $\\Delta V = 0$, that is, $h=\\Delta P_{L}/\\Delta P_{H}$."
   ]
  },
  {
   "cell_type": "markdown",
   "metadata": {},
   "source": [
    "In the example below, the liability pays 0.2 every 12 months for 10 years. The hedge bond is a 3-year zero coupon bond. \n",
    "Most likely, a good hedge needs to invest more than proportional in the hedge bond - to make the interest rate sensitivity similar to that of the liability.\n",
    "\n",
    "The Vasicek model is implemented such that periods are months, that is, $y(36)$ is the (annualized, continuously compounded) interest rate for a 36 month bond."
   ]
  },
  {
   "cell_type": "code",
   "execution_count": 11,
   "metadata": {},
   "outputs": [
    {
     "data": {
      "text/plain": [
       "1:36"
      ]
     },
     "execution_count": 11,
     "metadata": {},
     "output_type": "execute_result"
    }
   ],
   "source": [
    "cfL = repeat([zeros(11);0.2],outer=10)   #cash flow of liability\n",
    "nL  = 1:120                              #times of the cash flows, months\n",
    "cfH = [zeros(35);1]                      #cash flow of hedge bond, 3-year zero-coupon bond\n",
    "nH  = 1:36                               #months"
   ]
  },
  {
   "cell_type": "markdown",
   "metadata": {},
   "source": [
    "### From Chapter on Bonds 1"
   ]
  },
  {
   "cell_type": "markdown",
   "metadata": {},
   "source": [
    "Recall, the bond price $P$ is the present value of the future cash flows $cf_k$\n",
    "\n",
    "$P = \\sum_{k=1}^{K} \\frac{cf_{k}}{\\exp\\left[m_{k} y(m_{k})\\right]  }$,\n",
    "\n",
    "where $y(m_k)$ is the continuously compounded (annualized) interest rate on a bond maturing in $m_k$ years.\n",
    "\n",
    "(You can replace the denominator with $[  1+Y(m_{k})]^{m_{k}}$ if you prefer to work with effective rates.)"
   ]
  },
  {
   "cell_type": "code",
   "execution_count": 12,
   "metadata": {},
   "outputs": [
    {
     "data": {
      "text/plain": [
       "BondPrice3 (generic function with 1 method)"
      ]
     },
     "execution_count": 12,
     "metadata": {},
     "output_type": "execute_result"
    }
   ],
   "source": [
    "\"\"\"\n",
    "Y:  scalar or K vector of interest rates\n",
    "cf: scalar or K vector of cash flows\n",
    "m: K vector of times of cash flows\n",
    "\"\"\"\n",
    "function BondPrice3(Y,cf,m)                #cf is a vector of all cash flows\n",
    "    cdisc = cf./((Y.+1).^m)                #c/(1+y1)^t1 + c/(1+y2)^t2 + ...+ c/(1+y2)^m\n",
    "    P     = sum(cdisc)                     #price\n",
    "    return P\n",
    "end"
   ]
  },
  {
   "cell_type": "markdown",
   "metadata": {},
   "source": [
    "For given parameters of the Vasicek model ($\\rho,\\mu$), calculate all interests needed to value the bonds portfolios."
   ]
  },
  {
   "cell_type": "code",
   "execution_count": 13,
   "metadata": {},
   "outputs": [],
   "source": [
    "ρ = 0.975                       #experiment with this\n",
    "μ = 0.05\n",
    "\n",
    "r₀ = 0.05                         #initial (day 0) short log interest rate\n",
    "r₁ = 0.049                        #after change (day 1)\n",
    "#r₁ = 0.03                         #experiment with this  \n",
    "\n",
    "y₀ = fill(NaN,length(nL))        #yield curve, before\n",
    "y₁ = copy(y₀)                     #yield curve, after\n",
    "for n in nL\n",
    "    y₀[n] = Vasicek(r₀,ρ,μ,n)[1]\n",
    "    y₁[n] = Vasicek(r₁,ρ,μ,n)[1]\n",
    "end"
   ]
  },
  {
   "cell_type": "markdown",
   "metadata": {},
   "source": [
    "With the two yield curves (different short rate values) from the Vasicek model, calculate bond prices. \n",
    "\n",
    "Notice that \n",
    "1. In the bond valuation formula, periods ($m$) are years. \n",
    "2. In the Vasicek model as implemented above, periods ($n$) are months."
   ]
  },
  {
   "cell_type": "code",
   "execution_count": 14,
   "metadata": {},
   "outputs": [
    {
     "name": "stdout",
     "output_type": "stream",
     "text": [
      "                   \n",
      "ΔPL           0.003\n",
      "ΔPH           0.002\n",
      "h             2.101\n",
      "h*PH₀/PL₀     1.175\n",
      "\n",
      "...investigate how these results change when ρ does\n"
     ]
    }
   ],
   "source": [
    "PL₀ = BondPrice3(y₀,cfL,nL/12)       #liability, before, /12 to get years\n",
    "PL₁ = BondPrice3(y₁,cfL,nL/12)       #after \n",
    "ΔPL = PL₁ - PL₀\n",
    "\n",
    "PH₀ = BondPrice3(y₀[nH],cfH,nH/12)                   #hedge bond\n",
    "PH₁ = BondPrice3(y₁[nH],cfH,nH/12)                   \n",
    "ΔPH = PH₁ - PH₀\n",
    "\n",
    "h = ΔPL/ΔPH\n",
    "hdollars = h*PH₀/PL₀\n",
    "\n",
    "xy = [ΔPL;ΔPH;h;hdollars]\n",
    "printTable(xy,[\" \"],[\"ΔPL\";\"ΔPH\";\"h\";\"h*PH₀/PL₀\"])\n",
    "\n",
    "println(\"...investigate how these results change when ρ does\")"
   ]
  },
  {
   "cell_type": "code",
   "execution_count": null,
   "metadata": {},
   "outputs": [],
   "source": []
  }
 ],
 "metadata": {
  "anaconda-cloud": {},
  "kernelspec": {
   "display_name": "Julia 1.0.0",
   "language": "julia",
   "name": "julia-1.0"
  },
  "language_info": {
   "file_extension": ".jl",
   "mimetype": "application/julia",
   "name": "julia",
   "version": "1.0.0"
  }
 },
 "nbformat": 4,
 "nbformat_minor": 1
}
