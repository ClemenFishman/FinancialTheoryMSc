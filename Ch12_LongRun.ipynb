{
 "cells": [
  {
   "cell_type": "markdown",
   "metadata": {
    "deletable": true,
    "editable": true
   },
   "source": [
    "## Load Packages"
   ]
  },
  {
   "cell_type": "code",
   "execution_count": 1,
   "metadata": {
    "collapsed": false,
    "deletable": true,
    "editable": true
   },
   "outputs": [
    {
     "data": {
      "text/plain": [
       "println4Ps (generic function with 1 method)"
      ]
     },
     "execution_count": 1,
     "metadata": {},
     "output_type": "execute_result"
    }
   ],
   "source": [
    "using Distributions\n",
    "include(\"printmat.jl\")"
   ]
  },
  {
   "cell_type": "code",
   "execution_count": 2,
   "metadata": {
    "collapsed": false,
    "deletable": true,
    "editable": true
   },
   "outputs": [
    {
     "data": {
      "text/plain": [
       "Plots.GRBackend()"
      ]
     },
     "execution_count": 2,
     "metadata": {},
     "output_type": "execute_result"
    }
   ],
   "source": [
    "using Plots\n",
    "backend = \"gr\"              #\"gr\" (default), \"pyplot\" \n",
    "\n",
    "if backend == \"pyplot\"\n",
    "    pyplot(size=(600,400))\n",
    "else    \n",
    "    gr(size=(600,400))\n",
    "end"
   ]
  },
  {
   "cell_type": "markdown",
   "metadata": {
    "deletable": true,
    "editable": true
   },
   "source": [
    "# Long-Run Returns as a Sum of Short-Run Returns"
   ]
  },
  {
   "cell_type": "markdown",
   "metadata": {
    "deletable": true,
    "editable": true
   },
   "source": [
    "Let $R_{t}$ be a one-period net return. \n",
    "It is sometimes convenient to approximate the $q$-period return $Z_{q}$ as\n",
    "\n",
    "$\\begin{align}\n",
    "Z_{q}  &  =(R_{1}+1)(R_{2}+1)\\ldots(R_{q}+1)-1\\nonumber\\\\\n",
    "&  \\approx R_{1}+R_{2}+\\ldots+R_{q} \n",
    "\\end{align}$\n",
    "\n",
    "Log returns $r=\\ln (1+R)$ are better suited for multi-period analysis since there is no approximation error in\n",
    "\n",
    "$z_{q}=r_{1}+r_{2}+\\ldots+r_{q}$"
   ]
  },
  {
   "cell_type": "code",
   "execution_count": 3,
   "metadata": {
    "collapsed": false,
    "deletable": true,
    "editable": true
   },
   "outputs": [
    {
     "name": "stdout",
     "output_type": "stream",
     "text": [
      "time      Price_A      Price_B\n",
      "     1.000     1.050     1.200\n",
      "     2.000     0.997     0.780\n",
      "     3.000     1.047     0.975\n",
      "\n",
      "Average net returns: A and B, in %\n",
      "     1.667     3.333\n",
      "\n",
      "Average log returns: A and B, in %\n",
      "     1.543    -0.844\n",
      "\n"
     ]
    }
   ],
   "source": [
    "R_A = [5;-5;5]/100            #net returns portfolio A in three periods\n",
    "R_B = [20;-35;25]/100\n",
    "\n",
    "r_A = log.(1+R_A)             #log returns\n",
    "r_B = log.(1+R_B)   \n",
    "\n",
    "Price_A = cumprod(1+R_A)     #price of portfolio A, assuming price in t=0 is 1.0\n",
    "Price_B = cumprod(1+R_B)\n",
    "\n",
    "println(\"time      Price_A      Price_B\")\n",
    "printmat([(1:3) Price_A Price_B])\n",
    "\n",
    "println(\"Average net returns: A and B, in %\")\n",
    "printmat(mean([R_A R_B],1)*100)\n",
    "\n",
    "println(\"Average log returns: A and B, in %\")\n",
    "printmat(mean([r_A r_B],1)*100)"
   ]
  },
  {
   "cell_type": "markdown",
   "metadata": {
    "deletable": true,
    "editable": true
   },
   "source": [
    "# Distribution of Long-Run Returns in the iid Case\n",
    "\n",
    "If $r$ is iid N$(\\mu,\\sigma^2)$, then $z_q$ is N$(q\\mu,q\\sigma^2)$. "
   ]
  },
  {
   "cell_type": "code",
   "execution_count": 4,
   "metadata": {
    "collapsed": false,
    "deletable": true,
    "editable": true
   },
   "outputs": [
    {
     "data": {
      "text/plain": [
       "ϕNS (generic function with 3 methods)"
      ]
     },
     "execution_count": 4,
     "metadata": {},
     "output_type": "execute_result"
    }
   ],
   "source": [
    "function ΦNS(x,μ=0,σ²=1)                          #cdf of N(μ,σ²), NS for \"non-standard\"\n",
    "    Pr = cdf(Normal(μ,sqrt(σ²)),x)\n",
    "  return Pr\n",
    "end\n",
    "\n",
    "function ϕNS(x,μ=0,σ²=1)              #pdf of N(μ,σ²), NS for \"non-standard\"\n",
    "    pdfx = pdf(Normal(μ,sqrt(σ²)),x)\n",
    "    return pdfx\n",
    "end"
   ]
  },
  {
   "cell_type": "markdown",
   "metadata": {
    "deletable": true,
    "editable": true
   },
   "source": [
    "## Pdfs of Long-Run Returns (for Different Horizons)"
   ]
  },
  {
   "cell_type": "code",
   "execution_count": 5,
   "metadata": {
    "collapsed": false
   },
   "outputs": [
    {
     "name": "stdout",
     "output_type": "stream",
     "text": [
      "let's plot it\n"
     ]
    }
   ],
   "source": [
    "Z = linspace(-50,100,101)\n",
    "μ = 0.06*100\n",
    "σ = 0.19*100\n",
    "pdf_Z1y  = ϕNS.(Z,μ,σ^2)              #density functions of returns\n",
    "pdf_Z10y = ϕNS.(Z,10*μ,10*σ^2)\n",
    "\n",
    "println(\"let's plot it\")"
   ]
  },
  {
   "cell_type": "code",
   "execution_count": 6,
   "metadata": {
    "collapsed": false,
    "deletable": true,
    "editable": true,
    "scrolled": true
   },
   "outputs": [
    {
     "data": {
      "text/html": [
       "<?xml version=\"1.0\" encoding=\"utf-8\"?>\n",
       "<svg xmlns=\"http://www.w3.org/2000/svg\" xmlns:xlink=\"http://www.w3.org/1999/xlink\" width=\"600\" height=\"400\" viewBox=\"0 0 600 400\">\n",
       "<defs>\n",
       "  <clipPath id=\"clip00\">\n",
       "    <rect x=\"0\" y=\"0\" width=\"600\" height=\"400\"/>\n",
       "  </clipPath>\n",
       "</defs>\n",
       "<polygon clip-path=\"url(#clip00)\" points=\"\n",
       "0,400 600,400 600,0 0,0 \n",
       "  \" fill=\"#ffffff\" fill-opacity=\"1\"/>\n",
       "<defs>\n",
       "  <clipPath id=\"clip01\">\n",
       "    <rect x=\"120\" y=\"0\" width=\"421\" height=\"400\"/>\n",
       "  </clipPath>\n",
       "</defs>\n",
       "<polygon clip-path=\"url(#clip00)\" points=\"\n",
       "39.3701,372.441 592.126,372.441 592.126,27.5591 39.3701,27.5591 \n",
       "  \" fill=\"#ffffff\" fill-opacity=\"1\"/>\n",
       "<defs>\n",
       "  <clipPath id=\"clip02\">\n",
       "    <rect x=\"39\" y=\"27\" width=\"554\" height=\"346\"/>\n",
       "  </clipPath>\n",
       "</defs>\n",
       "<polyline clip-path=\"url(#clip02)\" style=\"stroke:#000000; stroke-width:0.5; stroke-opacity:0.1; fill:none\" points=\"\n",
       "  39.3701,367.268 39.3701,32.7323 \n",
       "  \"/>\n",
       "<polyline clip-path=\"url(#clip02)\" style=\"stroke:#000000; stroke-width:0.5; stroke-opacity:0.1; fill:none\" points=\"\n",
       "  131.496,367.268 131.496,32.7323 \n",
       "  \"/>\n",
       "<polyline clip-path=\"url(#clip02)\" style=\"stroke:#000000; stroke-width:0.5; stroke-opacity:0.1; fill:none\" points=\"\n",
       "  223.622,367.268 223.622,32.7323 \n",
       "  \"/>\n",
       "<polyline clip-path=\"url(#clip02)\" style=\"stroke:#000000; stroke-width:0.5; stroke-opacity:0.1; fill:none\" points=\"\n",
       "  315.748,367.268 315.748,32.7323 \n",
       "  \"/>\n",
       "<polyline clip-path=\"url(#clip02)\" style=\"stroke:#000000; stroke-width:0.5; stroke-opacity:0.1; fill:none\" points=\"\n",
       "  407.874,367.268 407.874,32.7323 \n",
       "  \"/>\n",
       "<polyline clip-path=\"url(#clip02)\" style=\"stroke:#000000; stroke-width:0.5; stroke-opacity:0.1; fill:none\" points=\"\n",
       "  500,367.268 500,32.7323 \n",
       "  \"/>\n",
       "<polyline clip-path=\"url(#clip02)\" style=\"stroke:#000000; stroke-width:0.5; stroke-opacity:0.1; fill:none\" points=\"\n",
       "  592.126,367.268 592.126,32.7323 \n",
       "  \"/>\n",
       "<polyline clip-path=\"url(#clip02)\" style=\"stroke:#000000; stroke-width:0.5; stroke-opacity:0.1; fill:none\" points=\"\n",
       "  47.6614,290.287 583.835,290.287 \n",
       "  \"/>\n",
       "<polyline clip-path=\"url(#clip02)\" style=\"stroke:#000000; stroke-width:0.5; stroke-opacity:0.1; fill:none\" points=\"\n",
       "  47.6614,208.132 583.835,208.132 \n",
       "  \"/>\n",
       "<polyline clip-path=\"url(#clip02)\" style=\"stroke:#000000; stroke-width:0.5; stroke-opacity:0.1; fill:none\" points=\"\n",
       "  47.6614,125.976 583.835,125.976 \n",
       "  \"/>\n",
       "<polyline clip-path=\"url(#clip02)\" style=\"stroke:#000000; stroke-width:0.5; stroke-opacity:0.1; fill:none\" points=\"\n",
       "  47.6614,43.8208 583.835,43.8208 \n",
       "  \"/>\n",
       "<polyline clip-path=\"url(#clip00)\" style=\"stroke:#000000; stroke-width:1; stroke-opacity:1; fill:none\" points=\"\n",
       "  39.3701,372.441 592.126,372.441 \n",
       "  \"/>\n",
       "<polyline clip-path=\"url(#clip00)\" style=\"stroke:#000000; stroke-width:1; stroke-opacity:1; fill:none\" points=\"\n",
       "  39.3701,372.441 39.3701,367.268 \n",
       "  \"/>\n",
       "<polyline clip-path=\"url(#clip00)\" style=\"stroke:#000000; stroke-width:1; stroke-opacity:1; fill:none\" points=\"\n",
       "  131.496,372.441 131.496,367.268 \n",
       "  \"/>\n",
       "<polyline clip-path=\"url(#clip00)\" style=\"stroke:#000000; stroke-width:1; stroke-opacity:1; fill:none\" points=\"\n",
       "  223.622,372.441 223.622,367.268 \n",
       "  \"/>\n",
       "<polyline clip-path=\"url(#clip00)\" style=\"stroke:#000000; stroke-width:1; stroke-opacity:1; fill:none\" points=\"\n",
       "  315.748,372.441 315.748,367.268 \n",
       "  \"/>\n",
       "<polyline clip-path=\"url(#clip00)\" style=\"stroke:#000000; stroke-width:1; stroke-opacity:1; fill:none\" points=\"\n",
       "  407.874,372.441 407.874,367.268 \n",
       "  \"/>\n",
       "<polyline clip-path=\"url(#clip00)\" style=\"stroke:#000000; stroke-width:1; stroke-opacity:1; fill:none\" points=\"\n",
       "  500,372.441 500,367.268 \n",
       "  \"/>\n",
       "<polyline clip-path=\"url(#clip00)\" style=\"stroke:#000000; stroke-width:1; stroke-opacity:1; fill:none\" points=\"\n",
       "  592.126,372.441 592.126,367.268 \n",
       "  \"/>\n",
       "<polyline clip-path=\"url(#clip00)\" style=\"stroke:#000000; stroke-width:1; stroke-opacity:1; fill:none\" points=\"\n",
       "  39.3701,372.441 39.3701,27.5591 \n",
       "  \"/>\n",
       "<polyline clip-path=\"url(#clip00)\" style=\"stroke:#000000; stroke-width:1; stroke-opacity:1; fill:none\" points=\"\n",
       "  39.3701,290.287 47.6614,290.287 \n",
       "  \"/>\n",
       "<polyline clip-path=\"url(#clip00)\" style=\"stroke:#000000; stroke-width:1; stroke-opacity:1; fill:none\" points=\"\n",
       "  39.3701,208.132 47.6614,208.132 \n",
       "  \"/>\n",
       "<polyline clip-path=\"url(#clip00)\" style=\"stroke:#000000; stroke-width:1; stroke-opacity:1; fill:none\" points=\"\n",
       "  39.3701,125.976 47.6614,125.976 \n",
       "  \"/>\n",
       "<polyline clip-path=\"url(#clip00)\" style=\"stroke:#000000; stroke-width:1; stroke-opacity:1; fill:none\" points=\"\n",
       "  39.3701,43.8208 47.6614,43.8208 \n",
       "  \"/>\n",
       "<g clip-path=\"url(#clip00)\">\n",
       "<text style=\"fill:#000000; fill-opacity:1; font-family:Arial,Helvetica Neue,Helvetica,sans-serif; font-size:12; text-anchor:middle;\" transform=\"rotate(0, 39.3701, 386.241)\" x=\"39.3701\" y=\"386.241\">-50</text>\n",
       "</g>\n",
       "<g clip-path=\"url(#clip00)\">\n",
       "<text style=\"fill:#000000; fill-opacity:1; font-family:Arial,Helvetica Neue,Helvetica,sans-serif; font-size:12; text-anchor:middle;\" transform=\"rotate(0, 131.496, 386.241)\" x=\"131.496\" y=\"386.241\">-25</text>\n",
       "</g>\n",
       "<g clip-path=\"url(#clip00)\">\n",
       "<text style=\"fill:#000000; fill-opacity:1; font-family:Arial,Helvetica Neue,Helvetica,sans-serif; font-size:12; text-anchor:middle;\" transform=\"rotate(0, 223.622, 386.241)\" x=\"223.622\" y=\"386.241\">0</text>\n",
       "</g>\n",
       "<g clip-path=\"url(#clip00)\">\n",
       "<text style=\"fill:#000000; fill-opacity:1; font-family:Arial,Helvetica Neue,Helvetica,sans-serif; font-size:12; text-anchor:middle;\" transform=\"rotate(0, 315.748, 386.241)\" x=\"315.748\" y=\"386.241\">25</text>\n",
       "</g>\n",
       "<g clip-path=\"url(#clip00)\">\n",
       "<text style=\"fill:#000000; fill-opacity:1; font-family:Arial,Helvetica Neue,Helvetica,sans-serif; font-size:12; text-anchor:middle;\" transform=\"rotate(0, 407.874, 386.241)\" x=\"407.874\" y=\"386.241\">50</text>\n",
       "</g>\n",
       "<g clip-path=\"url(#clip00)\">\n",
       "<text style=\"fill:#000000; fill-opacity:1; font-family:Arial,Helvetica Neue,Helvetica,sans-serif; font-size:12; text-anchor:middle;\" transform=\"rotate(0, 500, 386.241)\" x=\"500\" y=\"386.241\">75</text>\n",
       "</g>\n",
       "<g clip-path=\"url(#clip00)\">\n",
       "<text style=\"fill:#000000; fill-opacity:1; font-family:Arial,Helvetica Neue,Helvetica,sans-serif; font-size:12; text-anchor:middle;\" transform=\"rotate(0, 592.126, 386.241)\" x=\"592.126\" y=\"386.241\">100</text>\n",
       "</g>\n",
       "<g clip-path=\"url(#clip00)\">\n",
       "<text style=\"fill:#000000; fill-opacity:1; font-family:Arial,Helvetica Neue,Helvetica,sans-serif; font-size:12; text-anchor:end;\" transform=\"rotate(0, 33.3701, 294.787)\" x=\"33.3701\" y=\"294.787\">0.005</text>\n",
       "</g>\n",
       "<g clip-path=\"url(#clip00)\">\n",
       "<text style=\"fill:#000000; fill-opacity:1; font-family:Arial,Helvetica Neue,Helvetica,sans-serif; font-size:12; text-anchor:end;\" transform=\"rotate(0, 33.3701, 212.632)\" x=\"33.3701\" y=\"212.632\">0.010</text>\n",
       "</g>\n",
       "<g clip-path=\"url(#clip00)\">\n",
       "<text style=\"fill:#000000; fill-opacity:1; font-family:Arial,Helvetica Neue,Helvetica,sans-serif; font-size:12; text-anchor:end;\" transform=\"rotate(0, 33.3701, 130.476)\" x=\"33.3701\" y=\"130.476\">0.015</text>\n",
       "</g>\n",
       "<g clip-path=\"url(#clip00)\">\n",
       "<text style=\"fill:#000000; fill-opacity:1; font-family:Arial,Helvetica Neue,Helvetica,sans-serif; font-size:12; text-anchor:end;\" transform=\"rotate(0, 33.3701, 48.3208)\" x=\"33.3701\" y=\"48.3208\">0.020</text>\n",
       "</g>\n",
       "<g clip-path=\"url(#clip00)\">\n",
       "<text style=\"fill:#000000; fill-opacity:1; font-family:Arial,Helvetica Neue,Helvetica,sans-serif; font-size:21; text-anchor:middle;\" transform=\"rotate(0, 315.748, 18)\" x=\"315.748\" y=\"18\">pdf(long run excess returns)</text>\n",
       "</g>\n",
       "<g clip-path=\"url(#clip00)\">\n",
       "<text style=\"fill:#000000; fill-opacity:1; font-family:Arial,Helvetica Neue,Helvetica,sans-serif; font-size:16; text-anchor:middle;\" transform=\"rotate(0, 315.748, 397.6)\" x=\"315.748\" y=\"397.6\">excess return, %</text>\n",
       "</g>\n",
       "<polyline clip-path=\"url(#clip02)\" style=\"stroke:#ff0000; stroke-width:2; stroke-opacity:1; fill:none\" points=\"\n",
       "  39.3701,367.961 44.8976,366.804 50.4252,365.393 55.9528,363.684 61.4803,361.627 67.0079,359.172 72.5354,356.259 78.063,352.83 83.5906,348.822 89.1181,344.172 \n",
       "  94.6457,338.817 100.173,332.695 105.701,325.752 111.228,317.935 116.756,309.206 122.283,299.535 127.811,288.907 133.339,277.325 138.866,264.809 144.394,251.403 \n",
       "  149.921,237.174 155.449,222.21 160.976,206.629 166.504,190.568 172.031,174.191 177.559,157.682 183.087,141.244 188.614,125.094 194.142,109.461 199.669,94.5762 \n",
       "  205.197,80.6734 210.724,67.9785 216.252,56.7053 221.78,47.0492 227.307,39.1812 232.835,33.2438 238.362,29.3457 243.89,27.5591 249.417,27.9171 254.945,30.4132 \n",
       "  260.472,35.001 266,41.5958 271.528,50.0771 277.055,60.2926 282.583,72.0624 288.11,85.1844 293.638,99.4401 299.165,114.6 304.693,130.432 310.22,146.703 \n",
       "  315.748,163.188 321.276,179.674 326.803,195.965 332.331,211.883 337.858,227.273 343.386,242.003 348.913,255.967 354.441,269.082 359.969,281.291 365.496,292.556 \n",
       "  371.024,302.865 376.551,312.22 382.079,320.64 387.606,328.161 393.134,334.824 398.661,340.684 404.189,345.797 409.717,350.226 415.244,354.034 420.772,357.284 \n",
       "  426.299,360.038 431.827,362.355 437.354,364.289 442.882,365.894 448.409,367.216 453.937,368.297 459.465,369.174 464.992,369.882 470.52,370.449 476.047,370.9 \n",
       "  481.575,371.257 487.102,371.537 492.63,371.755 498.157,371.923 503.685,372.053 509.213,372.152 514.74,372.228 520.268,372.284 525.795,372.327 531.323,372.358 \n",
       "  536.85,372.382 542.378,372.399 547.906,372.411 553.433,372.421 558.961,372.427 564.488,372.432 570.016,372.435 575.543,372.437 581.071,372.439 586.598,372.44 \n",
       "  592.126,372.441 \n",
       "  \"/>\n",
       "<polyline clip-path=\"url(#clip02)\" style=\"stroke:#0000ff; stroke-width:2; stroke-opacity:1; fill:none\" points=\"\n",
       "  39.3701,352.026 44.8976,351.078 50.4252,350.099 55.9528,349.091 61.4803,348.052 67.0079,346.983 72.5354,345.883 78.063,344.754 83.5906,343.594 89.1181,342.404 \n",
       "  94.6457,341.185 100.173,339.937 105.701,338.659 111.228,337.354 116.756,336.021 122.283,334.66 127.811,333.274 133.339,331.861 138.866,330.424 144.394,328.963 \n",
       "  149.921,327.48 155.449,325.975 160.976,324.449 166.504,322.904 172.031,321.341 177.559,319.762 183.087,318.168 188.614,316.56 194.142,314.941 199.669,313.311 \n",
       "  205.197,311.674 210.724,310.029 216.252,308.381 221.78,306.729 227.307,305.077 232.835,303.427 238.362,301.78 243.89,300.139 249.417,298.506 254.945,296.884 \n",
       "  260.472,295.273 266,293.678 271.528,292.1 277.055,290.541 282.583,289.004 288.11,287.491 293.638,286.004 299.165,284.546 304.693,283.119 310.22,281.726 \n",
       "  315.748,280.369 321.276,279.049 326.803,277.769 332.331,276.532 337.858,275.339 343.386,274.192 348.913,273.094 354.441,272.047 359.969,271.051 365.496,270.109 \n",
       "  371.024,269.223 376.551,268.394 382.079,267.624 387.606,266.914 393.134,266.265 398.661,265.679 404.189,265.156 409.717,264.698 415.244,264.306 420.772,263.98 \n",
       "  426.299,263.72 431.827,263.528 437.354,263.404 442.882,263.347 448.409,263.358 453.937,263.437 459.465,263.585 464.992,263.799 470.52,264.081 476.047,264.429 \n",
       "  481.575,264.844 487.102,265.323 492.63,265.867 498.157,266.474 503.685,267.144 509.213,267.874 514.74,268.664 520.268,269.512 525.795,270.417 531.323,271.377 \n",
       "  536.85,272.39 542.378,273.455 547.906,274.569 553.433,275.732 558.961,276.94 564.488,278.191 570.016,279.484 575.543,280.817 581.071,282.187 586.598,283.591 \n",
       "  592.126,285.029 \n",
       "  \"/>\n",
       "<polygon clip-path=\"url(#clip00)\" points=\"\n",
       "495.021,93.7991 574.126,93.7991 574.126,48.4391 495.021,48.4391 \n",
       "  \" fill=\"#ffffff\" fill-opacity=\"1\"/>\n",
       "<polyline clip-path=\"url(#clip00)\" style=\"stroke:#000000; stroke-width:1; stroke-opacity:1; fill:none\" points=\"\n",
       "  495.021,93.7991 574.126,93.7991 574.126,48.4391 495.021,48.4391 495.021,93.7991 \n",
       "  \"/>\n",
       "<polyline clip-path=\"url(#clip00)\" style=\"stroke:#ff0000; stroke-width:2; stroke-opacity:1; fill:none\" points=\"\n",
       "  501.021,63.5591 537.021,63.5591 \n",
       "  \"/>\n",
       "<g clip-path=\"url(#clip00)\">\n",
       "<text style=\"fill:#000000; fill-opacity:1; font-family:Arial,Helvetica Neue,Helvetica,sans-serif; font-size:12; text-anchor:start;\" transform=\"rotate(0, 543.021, 68.0591)\" x=\"543.021\" y=\"68.0591\">1y</text>\n",
       "</g>\n",
       "<polyline clip-path=\"url(#clip00)\" style=\"stroke:#0000ff; stroke-width:2; stroke-opacity:1; fill:none\" points=\"\n",
       "  501.021,78.6791 537.021,78.6791 \n",
       "  \"/>\n",
       "<g clip-path=\"url(#clip00)\">\n",
       "<text style=\"fill:#000000; fill-opacity:1; font-family:Arial,Helvetica Neue,Helvetica,sans-serif; font-size:12; text-anchor:start;\" transform=\"rotate(0, 543.021, 83.1791)\" x=\"543.021\" y=\"83.1791\">10y</text>\n",
       "</g>\n",
       "</svg>\n"
      ]
     },
     "execution_count": 6,
     "metadata": {},
     "output_type": "execute_result"
    }
   ],
   "source": [
    "plot(Z,pdf_Z1y,color=:red,linewidth=2,label=\"1y\")\n",
    "plot!(Z,pdf_Z10y,color=:blue,linewidth=2,label=\"10y\")\n",
    "title!(\"pdf(long run excess returns)\")\n",
    "xlabel!(\"excess return, %\")"
   ]
  },
  {
   "cell_type": "markdown",
   "metadata": {
    "deletable": true,
    "editable": true
   },
   "source": [
    "##    Prob(Zᵉ < 0) for Different Horizons"
   ]
  },
  {
   "cell_type": "code",
   "execution_count": 7,
   "metadata": {
    "collapsed": false,
    "deletable": true,
    "editable": true
   },
   "outputs": [
    {
     "data": {
      "text/html": [
       "<?xml version=\"1.0\" encoding=\"utf-8\"?>\n",
       "<svg xmlns=\"http://www.w3.org/2000/svg\" xmlns:xlink=\"http://www.w3.org/1999/xlink\" width=\"600\" height=\"400\" viewBox=\"0 0 600 400\">\n",
       "<defs>\n",
       "  <clipPath id=\"clip00\">\n",
       "    <rect x=\"0\" y=\"0\" width=\"600\" height=\"400\"/>\n",
       "  </clipPath>\n",
       "</defs>\n",
       "<polygon clip-path=\"url(#clip00)\" points=\"\n",
       "0,400 600,400 600,0 0,0 \n",
       "  \" fill=\"#ffffff\" fill-opacity=\"1\"/>\n",
       "<defs>\n",
       "  <clipPath id=\"clip01\">\n",
       "    <rect x=\"120\" y=\"0\" width=\"421\" height=\"400\"/>\n",
       "  </clipPath>\n",
       "</defs>\n",
       "<polygon clip-path=\"url(#clip00)\" points=\"\n",
       "55.1181,372.441 592.126,372.441 592.126,27.5591 55.1181,27.5591 \n",
       "  \" fill=\"#ffffff\" fill-opacity=\"1\"/>\n",
       "<defs>\n",
       "  <clipPath id=\"clip02\">\n",
       "    <rect x=\"55\" y=\"27\" width=\"538\" height=\"346\"/>\n",
       "  </clipPath>\n",
       "</defs>\n",
       "<polyline clip-path=\"url(#clip02)\" style=\"stroke:#000000; stroke-width:0.5; stroke-opacity:0.1; fill:none\" points=\"\n",
       "  144.619,367.268 144.619,32.7323 \n",
       "  \"/>\n",
       "<polyline clip-path=\"url(#clip02)\" style=\"stroke:#000000; stroke-width:0.5; stroke-opacity:0.1; fill:none\" points=\"\n",
       "  293.788,367.268 293.788,32.7323 \n",
       "  \"/>\n",
       "<polyline clip-path=\"url(#clip02)\" style=\"stroke:#000000; stroke-width:0.5; stroke-opacity:0.1; fill:none\" points=\"\n",
       "  442.957,367.268 442.957,32.7323 \n",
       "  \"/>\n",
       "<polyline clip-path=\"url(#clip02)\" style=\"stroke:#000000; stroke-width:0.5; stroke-opacity:0.1; fill:none\" points=\"\n",
       "  592.126,367.268 592.126,32.7323 \n",
       "  \"/>\n",
       "<polyline clip-path=\"url(#clip02)\" style=\"stroke:#000000; stroke-width:0.5; stroke-opacity:0.1; fill:none\" points=\"\n",
       "  63.1732,307.292 584.071,307.292 \n",
       "  \"/>\n",
       "<polyline clip-path=\"url(#clip02)\" style=\"stroke:#000000; stroke-width:0.5; stroke-opacity:0.1; fill:none\" points=\"\n",
       "  63.1732,148.426 584.071,148.426 \n",
       "  \"/>\n",
       "<polyline clip-path=\"url(#clip00)\" style=\"stroke:#000000; stroke-width:1; stroke-opacity:1; fill:none\" points=\"\n",
       "  55.1181,372.441 592.126,372.441 \n",
       "  \"/>\n",
       "<polyline clip-path=\"url(#clip00)\" style=\"stroke:#000000; stroke-width:1; stroke-opacity:1; fill:none\" points=\"\n",
       "  144.619,372.441 144.619,367.268 \n",
       "  \"/>\n",
       "<polyline clip-path=\"url(#clip00)\" style=\"stroke:#000000; stroke-width:1; stroke-opacity:1; fill:none\" points=\"\n",
       "  293.788,372.441 293.788,367.268 \n",
       "  \"/>\n",
       "<polyline clip-path=\"url(#clip00)\" style=\"stroke:#000000; stroke-width:1; stroke-opacity:1; fill:none\" points=\"\n",
       "  442.957,372.441 442.957,367.268 \n",
       "  \"/>\n",
       "<polyline clip-path=\"url(#clip00)\" style=\"stroke:#000000; stroke-width:1; stroke-opacity:1; fill:none\" points=\"\n",
       "  592.126,372.441 592.126,367.268 \n",
       "  \"/>\n",
       "<polyline clip-path=\"url(#clip00)\" style=\"stroke:#000000; stroke-width:1; stroke-opacity:1; fill:none\" points=\"\n",
       "  55.1181,372.441 55.1181,27.5591 \n",
       "  \"/>\n",
       "<polyline clip-path=\"url(#clip00)\" style=\"stroke:#000000; stroke-width:1; stroke-opacity:1; fill:none\" points=\"\n",
       "  55.1181,307.292 63.1732,307.292 \n",
       "  \"/>\n",
       "<polyline clip-path=\"url(#clip00)\" style=\"stroke:#000000; stroke-width:1; stroke-opacity:1; fill:none\" points=\"\n",
       "  55.1181,148.426 63.1732,148.426 \n",
       "  \"/>\n",
       "<g clip-path=\"url(#clip00)\">\n",
       "<text style=\"fill:#000000; fill-opacity:1; font-family:Arial,Helvetica Neue,Helvetica,sans-serif; font-size:12; text-anchor:middle;\" transform=\"rotate(0, 144.619, 386.241)\" x=\"144.619\" y=\"386.241\">2.5</text>\n",
       "</g>\n",
       "<g clip-path=\"url(#clip00)\">\n",
       "<text style=\"fill:#000000; fill-opacity:1; font-family:Arial,Helvetica Neue,Helvetica,sans-serif; font-size:12; text-anchor:middle;\" transform=\"rotate(0, 293.788, 386.241)\" x=\"293.788\" y=\"386.241\">5.0</text>\n",
       "</g>\n",
       "<g clip-path=\"url(#clip00)\">\n",
       "<text style=\"fill:#000000; fill-opacity:1; font-family:Arial,Helvetica Neue,Helvetica,sans-serif; font-size:12; text-anchor:middle;\" transform=\"rotate(0, 442.957, 386.241)\" x=\"442.957\" y=\"386.241\">7.5</text>\n",
       "</g>\n",
       "<g clip-path=\"url(#clip00)\">\n",
       "<text style=\"fill:#000000; fill-opacity:1; font-family:Arial,Helvetica Neue,Helvetica,sans-serif; font-size:12; text-anchor:middle;\" transform=\"rotate(0, 592.126, 386.241)\" x=\"592.126\" y=\"386.241\">10.0</text>\n",
       "</g>\n",
       "<g clip-path=\"url(#clip00)\">\n",
       "<text style=\"fill:#000000; fill-opacity:1; font-family:Arial,Helvetica Neue,Helvetica,sans-serif; font-size:12; text-anchor:end;\" transform=\"rotate(0, 49.1181, 311.792)\" x=\"49.1181\" y=\"311.792\">20</text>\n",
       "</g>\n",
       "<g clip-path=\"url(#clip00)\">\n",
       "<text style=\"fill:#000000; fill-opacity:1; font-family:Arial,Helvetica Neue,Helvetica,sans-serif; font-size:12; text-anchor:end;\" transform=\"rotate(0, 49.1181, 152.926)\" x=\"49.1181\" y=\"152.926\">30</text>\n",
       "</g>\n",
       "<g clip-path=\"url(#clip00)\">\n",
       "<text style=\"fill:#000000; fill-opacity:1; font-family:Arial,Helvetica Neue,Helvetica,sans-serif; font-size:21; text-anchor:middle;\" transform=\"rotate(0, 323.622, 18)\" x=\"323.622\" y=\"18\">Pr(Ze&lt;0)</text>\n",
       "</g>\n",
       "<g clip-path=\"url(#clip00)\">\n",
       "<text style=\"fill:#000000; fill-opacity:1; font-family:Arial,Helvetica Neue,Helvetica,sans-serif; font-size:16; text-anchor:middle;\" transform=\"rotate(0, 323.622, 397.6)\" x=\"323.622\" y=\"397.6\">Investment horizon (years)</text>\n",
       "</g>\n",
       "<g clip-path=\"url(#clip00)\">\n",
       "<text style=\"fill:#000000; fill-opacity:1; font-family:Arial,Helvetica Neue,Helvetica,sans-serif; font-size:16; text-anchor:middle;\" transform=\"rotate(-90, 14.4, 200)\" x=\"14.4\" y=\"200\">%</text>\n",
       "</g>\n",
       "<polyline clip-path=\"url(#clip02)\" style=\"stroke:#ff0000; stroke-width:2; stroke-opacity:1; fill:none\" points=\"\n",
       "  55.1181,27.5591 114.786,104.604 174.453,160.814 234.121,205.886 293.788,243.658 353.456,276.144 413.123,304.562 472.791,329.726 532.458,352.21 592.126,372.441 \n",
       "  \n",
       "  \"/>\n",
       "</svg>\n"
      ]
     },
     "execution_count": 7,
     "metadata": {},
     "output_type": "execute_result"
    }
   ],
   "source": [
    "t = 1:10\n",
    "\n",
    "ProbNegReturn = fill(NaN,length(t))\n",
    "for i in t\n",
    "    ProbNegReturn[i] = ΦNS(0,i*μ,i*σ^2)    #cdf(0) for different horizons\n",
    "end\n",
    "\n",
    "\n",
    "plot(t,ProbNegReturn*100,color=:red,linewidth=2,legend=false)\n",
    "title!(\"Pr(Ze<0)\")\n",
    "xlabel!(\"Investment horizon (years)\")\n",
    "ylabel!(\"%\")"
   ]
  },
  {
   "cell_type": "markdown",
   "metadata": {
    "deletable": true,
    "editable": true
   },
   "source": [
    "## E(Zᵉ|Zᵉ < 0) for Different Horizons"
   ]
  },
  {
   "cell_type": "code",
   "execution_count": 8,
   "metadata": {
    "collapsed": false,
    "deletable": true,
    "editable": true
   },
   "outputs": [
    {
     "data": {
      "text/html": [
       "<?xml version=\"1.0\" encoding=\"utf-8\"?>\n",
       "<svg xmlns=\"http://www.w3.org/2000/svg\" xmlns:xlink=\"http://www.w3.org/1999/xlink\" width=\"600\" height=\"400\" viewBox=\"0 0 600 400\">\n",
       "<defs>\n",
       "  <clipPath id=\"clip00\">\n",
       "    <rect x=\"0\" y=\"0\" width=\"600\" height=\"400\"/>\n",
       "  </clipPath>\n",
       "</defs>\n",
       "<polygon clip-path=\"url(#clip00)\" points=\"\n",
       "0,400 600,400 600,0 0,0 \n",
       "  \" fill=\"#ffffff\" fill-opacity=\"1\"/>\n",
       "<defs>\n",
       "  <clipPath id=\"clip01\">\n",
       "    <rect x=\"120\" y=\"0\" width=\"421\" height=\"400\"/>\n",
       "  </clipPath>\n",
       "</defs>\n",
       "<polygon clip-path=\"url(#clip00)\" points=\"\n",
       "55.1181,372.441 592.126,372.441 592.126,27.5591 55.1181,27.5591 \n",
       "  \" fill=\"#ffffff\" fill-opacity=\"1\"/>\n",
       "<defs>\n",
       "  <clipPath id=\"clip02\">\n",
       "    <rect x=\"55\" y=\"27\" width=\"538\" height=\"346\"/>\n",
       "  </clipPath>\n",
       "</defs>\n",
       "<polyline clip-path=\"url(#clip02)\" style=\"stroke:#000000; stroke-width:0.5; stroke-opacity:0.1; fill:none\" points=\"\n",
       "  144.619,367.268 144.619,32.7323 \n",
       "  \"/>\n",
       "<polyline clip-path=\"url(#clip02)\" style=\"stroke:#000000; stroke-width:0.5; stroke-opacity:0.1; fill:none\" points=\"\n",
       "  293.788,367.268 293.788,32.7323 \n",
       "  \"/>\n",
       "<polyline clip-path=\"url(#clip02)\" style=\"stroke:#000000; stroke-width:0.5; stroke-opacity:0.1; fill:none\" points=\"\n",
       "  442.957,367.268 442.957,32.7323 \n",
       "  \"/>\n",
       "<polyline clip-path=\"url(#clip02)\" style=\"stroke:#000000; stroke-width:0.5; stroke-opacity:0.1; fill:none\" points=\"\n",
       "  592.126,367.268 592.126,32.7323 \n",
       "  \"/>\n",
       "<polyline clip-path=\"url(#clip02)\" style=\"stroke:#000000; stroke-width:0.5; stroke-opacity:0.1; fill:none\" points=\"\n",
       "  63.1732,343.033 584.071,343.033 \n",
       "  \"/>\n",
       "<polyline clip-path=\"url(#clip02)\" style=\"stroke:#000000; stroke-width:0.5; stroke-opacity:0.1; fill:none\" points=\"\n",
       "  63.1732,155.534 584.071,155.534 \n",
       "  \"/>\n",
       "<polyline clip-path=\"url(#clip00)\" style=\"stroke:#000000; stroke-width:1; stroke-opacity:1; fill:none\" points=\"\n",
       "  55.1181,372.441 592.126,372.441 \n",
       "  \"/>\n",
       "<polyline clip-path=\"url(#clip00)\" style=\"stroke:#000000; stroke-width:1; stroke-opacity:1; fill:none\" points=\"\n",
       "  144.619,372.441 144.619,367.268 \n",
       "  \"/>\n",
       "<polyline clip-path=\"url(#clip00)\" style=\"stroke:#000000; stroke-width:1; stroke-opacity:1; fill:none\" points=\"\n",
       "  293.788,372.441 293.788,367.268 \n",
       "  \"/>\n",
       "<polyline clip-path=\"url(#clip00)\" style=\"stroke:#000000; stroke-width:1; stroke-opacity:1; fill:none\" points=\"\n",
       "  442.957,372.441 442.957,367.268 \n",
       "  \"/>\n",
       "<polyline clip-path=\"url(#clip00)\" style=\"stroke:#000000; stroke-width:1; stroke-opacity:1; fill:none\" points=\"\n",
       "  592.126,372.441 592.126,367.268 \n",
       "  \"/>\n",
       "<polyline clip-path=\"url(#clip00)\" style=\"stroke:#000000; stroke-width:1; stroke-opacity:1; fill:none\" points=\"\n",
       "  55.1181,372.441 55.1181,27.5591 \n",
       "  \"/>\n",
       "<polyline clip-path=\"url(#clip00)\" style=\"stroke:#000000; stroke-width:1; stroke-opacity:1; fill:none\" points=\"\n",
       "  55.1181,343.033 63.1732,343.033 \n",
       "  \"/>\n",
       "<polyline clip-path=\"url(#clip00)\" style=\"stroke:#000000; stroke-width:1; stroke-opacity:1; fill:none\" points=\"\n",
       "  55.1181,155.534 63.1732,155.534 \n",
       "  \"/>\n",
       "<g clip-path=\"url(#clip00)\">\n",
       "<text style=\"fill:#000000; fill-opacity:1; font-family:Arial,Helvetica Neue,Helvetica,sans-serif; font-size:12; text-anchor:middle;\" transform=\"rotate(0, 144.619, 386.241)\" x=\"144.619\" y=\"386.241\">2.5</text>\n",
       "</g>\n",
       "<g clip-path=\"url(#clip00)\">\n",
       "<text style=\"fill:#000000; fill-opacity:1; font-family:Arial,Helvetica Neue,Helvetica,sans-serif; font-size:12; text-anchor:middle;\" transform=\"rotate(0, 293.788, 386.241)\" x=\"293.788\" y=\"386.241\">5.0</text>\n",
       "</g>\n",
       "<g clip-path=\"url(#clip00)\">\n",
       "<text style=\"fill:#000000; fill-opacity:1; font-family:Arial,Helvetica Neue,Helvetica,sans-serif; font-size:12; text-anchor:middle;\" transform=\"rotate(0, 442.957, 386.241)\" x=\"442.957\" y=\"386.241\">7.5</text>\n",
       "</g>\n",
       "<g clip-path=\"url(#clip00)\">\n",
       "<text style=\"fill:#000000; fill-opacity:1; font-family:Arial,Helvetica Neue,Helvetica,sans-serif; font-size:12; text-anchor:middle;\" transform=\"rotate(0, 592.126, 386.241)\" x=\"592.126\" y=\"386.241\">10.0</text>\n",
       "</g>\n",
       "<g clip-path=\"url(#clip00)\">\n",
       "<text style=\"fill:#000000; fill-opacity:1; font-family:Arial,Helvetica Neue,Helvetica,sans-serif; font-size:12; text-anchor:end;\" transform=\"rotate(0, 49.1181, 347.533)\" x=\"49.1181\" y=\"347.533\">-30</text>\n",
       "</g>\n",
       "<g clip-path=\"url(#clip00)\">\n",
       "<text style=\"fill:#000000; fill-opacity:1; font-family:Arial,Helvetica Neue,Helvetica,sans-serif; font-size:12; text-anchor:end;\" transform=\"rotate(0, 49.1181, 160.034)\" x=\"49.1181\" y=\"160.034\">-20</text>\n",
       "</g>\n",
       "<g clip-path=\"url(#clip00)\">\n",
       "<text style=\"fill:#000000; fill-opacity:1; font-family:Arial,Helvetica Neue,Helvetica,sans-serif; font-size:21; text-anchor:middle;\" transform=\"rotate(0, 323.622, 18)\" x=\"323.622\" y=\"18\">E(Ze|Ze&lt;0)</text>\n",
       "</g>\n",
       "<g clip-path=\"url(#clip00)\">\n",
       "<text style=\"fill:#000000; fill-opacity:1; font-family:Arial,Helvetica Neue,Helvetica,sans-serif; font-size:16; text-anchor:middle;\" transform=\"rotate(0, 323.622, 397.6)\" x=\"323.622\" y=\"397.6\">Investment horizon (years)</text>\n",
       "</g>\n",
       "<g clip-path=\"url(#clip00)\">\n",
       "<text style=\"fill:#000000; fill-opacity:1; font-family:Arial,Helvetica Neue,Helvetica,sans-serif; font-size:16; text-anchor:middle;\" transform=\"rotate(-90, 14.4, 200)\" x=\"14.4\" y=\"200\">%</text>\n",
       "</g>\n",
       "<polyline clip-path=\"url(#clip02)\" style=\"stroke:#ff0000; stroke-width:2; stroke-opacity:1; fill:none\" points=\"\n",
       "  55.1181,27.5591 114.786,110.86 174.453,168.436 234.121,213.107 293.788,249.765 353.456,280.885 413.123,307.917 472.791,331.79 532.458,353.146 592.126,372.441 \n",
       "  \n",
       "  \"/>\n",
       "<polygon clip-path=\"url(#clip00)\" points=\"\n",
       "501.61,78.6791 574.126,78.6791 574.126,48.4391 501.61,48.4391 \n",
       "  \" fill=\"#ffffff\" fill-opacity=\"1\"/>\n",
       "<polyline clip-path=\"url(#clip00)\" style=\"stroke:#000000; stroke-width:1; stroke-opacity:1; fill:none\" points=\"\n",
       "  501.61,78.6791 574.126,78.6791 574.126,48.4391 501.61,48.4391 501.61,78.6791 \n",
       "  \"/>\n",
       "<polyline clip-path=\"url(#clip00)\" style=\"stroke:#ff0000; stroke-width:2; stroke-opacity:1; fill:none\" points=\"\n",
       "  507.61,63.5591 543.61,63.5591 \n",
       "  \"/>\n",
       "<g clip-path=\"url(#clip00)\">\n",
       "<text style=\"fill:#000000; fill-opacity:1; font-family:Arial,Helvetica Neue,Helvetica,sans-serif; font-size:12; text-anchor:start;\" transform=\"rotate(0, 549.61, 68.0591)\" x=\"549.61\" y=\"68.0591\">y1</text>\n",
       "</g>\n",
       "</svg>\n"
      ]
     },
     "execution_count": 8,
     "metadata": {},
     "output_type": "execute_result"
    }
   ],
   "source": [
    "t = 1:10\n",
    "\n",
    "CondER = fill(NaN,length(t))\n",
    "for i in t\n",
    "    CondER[i] = i*μ - sqrt(i)*σ*ϕNS(-sqrt(i)*μ/σ)/ΦNS(-sqrt(i)*μ/σ)  \n",
    "end\n",
    "\n",
    "plot(t,CondER,color=:red,linewidth=2)\n",
    "title!(\"E(Ze|Ze<0)\")\n",
    "xlabel!(\"Investment horizon (years)\")\n",
    "ylabel!(\"%\")"
   ]
  },
  {
   "cell_type": "code",
   "execution_count": null,
   "metadata": {
    "collapsed": true,
    "deletable": true,
    "editable": true
   },
   "outputs": [],
   "source": []
  }
 ],
 "metadata": {
  "anaconda-cloud": {},
  "kernelspec": {
   "display_name": "Julia 0.6.0",
   "language": "julia",
   "name": "julia-0.6"
  },
  "language_info": {
   "file_extension": ".jl",
   "mimetype": "application/julia",
   "name": "julia",
   "version": "0.6.0"
  }
 },
 "nbformat": 4,
 "nbformat_minor": 1
}
