{
 "cells": [
  {
   "cell_type": "markdown",
   "metadata": {},
   "source": [
    "# Load Packages"
   ]
  },
  {
   "cell_type": "code",
   "execution_count": 1,
   "metadata": {},
   "outputs": [
    {
     "data": {
      "text/plain": [
       "printTable (generic function with 10 methods)"
      ]
     },
     "execution_count": 1,
     "metadata": {},
     "output_type": "execute_result"
    }
   ],
   "source": [
    "using Roots\n",
    "#using Dates       #Julia 0.7\n",
    "\n",
    "include(\"printmat.jl\")"
   ]
  },
  {
   "cell_type": "code",
   "execution_count": 2,
   "metadata": {},
   "outputs": [
    {
     "data": {
      "text/plain": [
       "Plots.GRBackend()"
      ]
     },
     "execution_count": 2,
     "metadata": {},
     "output_type": "execute_result"
    }
   ],
   "source": [
    "using Plots\n",
    "backend = \"gr\"              #\"gr\" (default), \"pyplot\" \n",
    "\n",
    "if backend == \"pyplot\"\n",
    "    pyplot(size=(600,400))\n",
    "else    \n",
    "    gr(size=(600,400))\n",
    "end"
   ]
  },
  {
   "cell_type": "markdown",
   "metadata": {},
   "source": [
    "### From Chapter on Bonds 1"
   ]
  },
  {
   "cell_type": "code",
   "execution_count": 3,
   "metadata": {},
   "outputs": [
    {
     "data": {
      "text/plain": [
       "BondPrice3"
      ]
     },
     "execution_count": 3,
     "metadata": {},
     "output_type": "execute_result"
    }
   ],
   "source": [
    "\"\"\"\n",
    "Y:  scalar or K vector of interest rates\n",
    "cf: scalar or K vector of cash flows\n",
    "m: K vector of times of cash flows\n",
    "\"\"\"\n",
    "function BondPrice3(Y,cf,m)                #cf is a vector of all cash flows\n",
    "    cdisc = cf./((Y.+1).^m)                #c/(1+y1)^t1 + c/(1+y2)^t2 + ...+ c/(1+y2)^m\n",
    "    P     = sum(cdisc)                     #price\n",
    "    return P\n",
    "end"
   ]
  },
  {
   "cell_type": "markdown",
   "metadata": {},
   "source": [
    "# Bond Return after a Sudden Interest Rate Change\n",
    "\n",
    "The calculations below assume that the yield curve is flat, but that it can shift up or down. This assumption helps us connect to the classical literature on duration hedging.\n",
    "\n",
    "The initial values are indicated by subscript $_0$ and the values after the interest rate change by the subscript $_1$. It is assumed that the change is very sudden, so the time to cash flows are (virtually) the same before and after."
   ]
  },
  {
   "cell_type": "code",
   "execution_count": 4,
   "metadata": {},
   "outputs": [
    {
     "name": "stdout",
     "output_type": "stream",
     "text": [
      "As θ changes from θ₀=0.02 to θ₁=0.03: \n",
      "                              \n",
      "P₀                       0.906\n",
      "P₁                       0.863\n",
      "change                  -0.043\n",
      "relative change         -0.048\n",
      "\n"
     ]
    }
   ],
   "source": [
    "m  = 5\n",
    "θ₀ = 0.02                   #initial interest rate\n",
    "θ₁ = 0.03                   #interest rate after sudden change\n",
    "\n",
    "cf = [zeros(4);1]           #cash flow, 5-period zero-coupon bond          \n",
    "m = 1:5                     #time periods of the cash flows (could also do cf = 1, m = 5)\n",
    "\n",
    "P₀ = BondPrice3(θ₀,cf,m)     #don't really need this for a zero-coupon bond, but it\n",
    "P₁ = BondPrice3(θ₁,cf,m)     #allows us to easily change to more complicated setting\n",
    "ΔP = P₁ - P₀\n",
    "ΔPrel = ΔP/P₀\n",
    "\n",
    "println(\"As θ changes from θ₀=$θ₀ to θ₁=$θ₁: \")\n",
    "xy = [P₀, P₁, ΔP, ΔPrel]\n",
    "printTable(xy,[\" \"],[\"P₀\";\"P₁\";\"change\";\"relative change\"],15)"
   ]
  },
  {
   "cell_type": "code",
   "execution_count": 5,
   "metadata": {},
   "outputs": [
    {
     "name": "stdout",
     "output_type": "stream",
     "text": [
      "\n",
      "Checking that θ₀ and ytm are the same here (since the yield curve is flat)\n",
      "     0.020     0.020\n"
     ]
    }
   ],
   "source": [
    "ytm = fzero(y->BondPrice3(y,cf,m)-P₀,[-0.1;0.1])   #testing ytm calculation\n",
    "println(\"\\nChecking that θ₀ and ytm are the same here (since the yield curve is flat)\")\n",
    "printlnPs([θ₀ ytm])"
   ]
  },
  {
   "cell_type": "markdown",
   "metadata": {},
   "source": [
    "# Macaulay's Duration\n",
    "\n",
    "$D^M = \\sum_{k=1}^{K} m_{k}\\frac{cf_{k}}{\\left(  1+\\theta\\right)  ^{m_{k}}P}$\n",
    "\n",
    "A first-order Taylor approximation gives\n",
    "\n",
    "$\\frac{\\Delta P}{P} = -D^M \\times \\frac{\\Delta \\theta}{1+\\theta}$ "
   ]
  },
  {
   "cell_type": "code",
   "execution_count": 6,
   "metadata": {},
   "outputs": [
    {
     "data": {
      "text/plain": [
       "BondDuration"
      ]
     },
     "execution_count": 6,
     "metadata": {},
     "output_type": "execute_result"
    }
   ],
   "source": [
    "\"\"\"\n",
    "    BondDuration(P,cf,m,ytm)\n",
    "\n",
    "Caclulate Macaulays (bond) duration measure.\n",
    "\n",
    "P:   scalar, bond price\n",
    "cf:  scalar or K vector of cash flows\n",
    "m:   K vector of times of cash flows\n",
    "ytm: scalar, yield to maturity\n",
    "\"\"\"\n",
    "function BondDuration(P,cf,m,ytm)\n",
    "    cdisc   = cf.*m./((1+ytm).^(m.+1))      #c/(1+y)^2 + 2c/(1+y)^3 + ...\n",
    "    D       = sum(cdisc)                    #Duration, row vector\n",
    "    Da      = D/P                           #adjusted duration\n",
    "    Dmac    = D*(1+ytm)/P                   #Macaulays duration\n",
    "    return Dmac\n",
    "end"
   ]
  },
  {
   "cell_type": "code",
   "execution_count": 8,
   "metadata": {},
   "outputs": [
    {
     "name": "stdout",
     "output_type": "stream",
     "text": [
      "Macaulay's duration:      5.000\n",
      "\n",
      "Exact and approximate relative price change (as yield curve shifts): \n",
      "    -0.048    -0.049\n"
     ]
    }
   ],
   "source": [
    "Dmac = BondDuration(P₀,cf,m,ytm)\n",
    "\n",
    "printlnPs(\"Macaulay's duration: \",Dmac)\n",
    "\n",
    "Δθ           = θ₁ - θ₀\n",
    "ΔPapprox_rel = -Dmac*Δθ/(1+θ₀)\n",
    "\n",
    "println(\"\\nExact and approximate relative price change (as yield curve shifts): \")\n",
    "printlnPs([ΔPrel ΔPapprox_rel])"
   ]
  },
  {
   "cell_type": "markdown",
   "metadata": {},
   "source": [
    "# Hedging a Liability Stream\n",
    "\n",
    "We are short one $L$ bond, which is worth $P_L$. To hedge that we buy $h$ units of bond $H$. The balance is put on a money market account $M$ to make the initial value of the portfolio zero ($V=0$)\n",
    "\n",
    "$V=hP_{H}+M-P_{L}$\n",
    "\n",
    "Over a short time interval, the change in the portfolio value is\n",
    "\n",
    "$\\Delta V=h\\Delta P_{H}-\\Delta P_{L}$.\n",
    "\n",
    "In the cells below, we assume that the yield curve is flat, so $\\theta_{H} = \\theta_{L}$ both before and after the change."
   ]
  },
  {
   "cell_type": "code",
   "execution_count": 9,
   "metadata": {},
   "outputs": [
    {
     "name": "stdout",
     "output_type": "stream",
     "text": [
      "Value of liability at interest rates 0.05 and 0.04:    369.615   375.370\n",
      "\n",
      "Macaulay's duration of the liability:      1.613\n"
     ]
    }
   ],
   "source": [
    "cf = [150;250]                   #cash flow of liability stream (as positive numbers)\n",
    "m  = [1;2]                       #times of cash flows   \n",
    "θ₀ = 0.05                        #initial interest rate\n",
    "θ₁ = 0.04                        #interest rate after sudden change\n",
    "Δθ = θ₁ - θ₀\n",
    "\n",
    "PL₀ = BondPrice3(θ₀,cf,m)      #price at initial interest rate, no face value  \n",
    "PL₁ = BondPrice3(θ₁,cf,m)      #price at new interest rate\n",
    "\n",
    "printlnPs(\"Value of liability at interest rates $θ₀ and $θ₁: \",[PL₀ PL₁])\n",
    "\n",
    "Dmac = BondDuration(PL₀,cf,m,θ₀)\n",
    "printlnPs(\"\\nMacaulay's duration of the liability: \",Dmac)"
   ]
  },
  {
   "cell_type": "markdown",
   "metadata": {},
   "source": [
    "## Naive Hedging\n",
    "\n",
    "The \"naive\" hedging invests the same amount in the hedge bond as the value of the liability, that is, $hP_{H}=P_{L}$ so $h=P_{L}/P_{H}$. This means that the money market account is not used ($M=0$).\n",
    "\n",
    "It can be shown that\n",
    "\n",
    "$\\frac{\\Delta V}{P_{L}}\\approx\\left(  D_{L}^{M}-D_{H}^{M}\\right)  \\times\n",
    "\\frac{\\Delta\\theta}{1+\\theta}$.\n",
    "\n",
    "If $D_{L}>D_{H}$, and $\\Delta\\theta<0$ (as in the example below), then we will lose money."
   ]
  },
  {
   "cell_type": "code",
   "execution_count": 10,
   "metadata": {},
   "outputs": [
    {
     "name": "stdout",
     "output_type": "stream",
     "text": [
      "Hedge bond: zero coupon bond with m=0.5 and face value of 100\n",
      "                        \n",
      "PL₀              369.615\n",
      "PH₀               97.590\n",
      "h                  3.787\n",
      "Dur(liability)     1.613\n",
      "Dur(hedge)         0.500\n",
      "ΔPortfolio/PL     -0.011\n",
      "\n"
     ]
    }
   ],
   "source": [
    "printlnPs(\"Hedge bond: zero coupon bond with m=0.5 and face value of 100\")\n",
    "\n",
    "PH₀ = BondPrice3(θ₀,100,0.5)             #0.5 year bill is used as hedge bond\n",
    "PH₁ = BondPrice3(θ₁,100,0.5)      \n",
    "\n",
    "h = PL₀/PH₀\n",
    "\n",
    "ΔV_exact     = h*(PH₁-PH₀) - (PL₁-PL₀)\n",
    "ΔVrel_approx = (Dmac - 0.5)*Δθ/(1+θ₀)\n",
    "\n",
    "xy = [PL₀;PH₀;h;Dmac;0.5;ΔV_exact/PL₀]\n",
    "printTable(xy,[\" \"],[\"PL₀\";\"PH₀\";\"h\";\"Dur(liability)\";\"Dur(hedge)\";\"ΔPortfolio/PL\"])"
   ]
  },
  {
   "cell_type": "markdown",
   "metadata": {},
   "source": [
    "## Illustrating the Problem with the Naive Hedging\n",
    "\n",
    "by plotting the value of the liability ($P_L$) and of the hedge bond position ($hP_H$) at different interest rates."
   ]
  },
  {
   "cell_type": "code",
   "execution_count": 12,
   "metadata": {},
   "outputs": [
    {
     "data": {
      "text/html": [
       "<?xml version=\"1.0\" encoding=\"utf-8\"?>\n",
       "<svg xmlns=\"http://www.w3.org/2000/svg\" xmlns:xlink=\"http://www.w3.org/1999/xlink\" width=\"600\" height=\"400\" viewBox=\"0 0 600 400\">\n",
       "<defs>\n",
       "  <clipPath id=\"clip00\">\n",
       "    <rect x=\"0\" y=\"0\" width=\"600\" height=\"400\"/>\n",
       "  </clipPath>\n",
       "</defs>\n",
       "<polygon clip-path=\"url(#clip00)\" points=\"\n",
       "0,400 600,400 600,0 0,0 \n",
       "  \" fill=\"#ffffff\" fill-opacity=\"1\"/>\n",
       "<defs>\n",
       "  <clipPath id=\"clip01\">\n",
       "    <rect x=\"120\" y=\"0\" width=\"421\" height=\"400\"/>\n",
       "  </clipPath>\n",
       "</defs>\n",
       "<polygon clip-path=\"url(#clip00)\" points=\"\n",
       "51.265,360.065 580.315,360.065 580.315,31.4961 51.265,31.4961 \n",
       "  \" fill=\"#ffffff\" fill-opacity=\"1\"/>\n",
       "<defs>\n",
       "  <clipPath id=\"clip02\">\n",
       "    <rect x=\"51\" y=\"31\" width=\"530\" height=\"330\"/>\n",
       "  </clipPath>\n",
       "</defs>\n",
       "<polyline clip-path=\"url(#clip02)\" style=\"stroke:#000000; stroke-width:0.5; stroke-opacity:0.1; fill:none\" points=\"\n",
       "  51.265,360.065 51.265,31.4961 \n",
       "  \"/>\n",
       "<polyline clip-path=\"url(#clip02)\" style=\"stroke:#000000; stroke-width:0.5; stroke-opacity:0.1; fill:none\" points=\"\n",
       "  157.075,360.065 157.075,31.4961 \n",
       "  \"/>\n",
       "<polyline clip-path=\"url(#clip02)\" style=\"stroke:#000000; stroke-width:0.5; stroke-opacity:0.1; fill:none\" points=\"\n",
       "  262.885,360.065 262.885,31.4961 \n",
       "  \"/>\n",
       "<polyline clip-path=\"url(#clip02)\" style=\"stroke:#000000; stroke-width:0.5; stroke-opacity:0.1; fill:none\" points=\"\n",
       "  368.695,360.065 368.695,31.4961 \n",
       "  \"/>\n",
       "<polyline clip-path=\"url(#clip02)\" style=\"stroke:#000000; stroke-width:0.5; stroke-opacity:0.1; fill:none\" points=\"\n",
       "  474.505,360.065 474.505,31.4961 \n",
       "  \"/>\n",
       "<polyline clip-path=\"url(#clip02)\" style=\"stroke:#000000; stroke-width:0.5; stroke-opacity:0.1; fill:none\" points=\"\n",
       "  580.315,360.065 580.315,31.4961 \n",
       "  \"/>\n",
       "<polyline clip-path=\"url(#clip02)\" style=\"stroke:#000000; stroke-width:0.5; stroke-opacity:0.1; fill:none\" points=\"\n",
       "  51.265,319.589 580.315,319.589 \n",
       "  \"/>\n",
       "<polyline clip-path=\"url(#clip02)\" style=\"stroke:#000000; stroke-width:0.5; stroke-opacity:0.1; fill:none\" points=\"\n",
       "  51.265,261.971 580.315,261.971 \n",
       "  \"/>\n",
       "<polyline clip-path=\"url(#clip02)\" style=\"stroke:#000000; stroke-width:0.5; stroke-opacity:0.1; fill:none\" points=\"\n",
       "  51.265,204.352 580.315,204.352 \n",
       "  \"/>\n",
       "<polyline clip-path=\"url(#clip02)\" style=\"stroke:#000000; stroke-width:0.5; stroke-opacity:0.1; fill:none\" points=\"\n",
       "  51.265,146.733 580.315,146.733 \n",
       "  \"/>\n",
       "<polyline clip-path=\"url(#clip02)\" style=\"stroke:#000000; stroke-width:0.5; stroke-opacity:0.1; fill:none\" points=\"\n",
       "  51.265,89.1147 580.315,89.1147 \n",
       "  \"/>\n",
       "<polyline clip-path=\"url(#clip02)\" style=\"stroke:#000000; stroke-width:0.5; stroke-opacity:0.1; fill:none\" points=\"\n",
       "  51.265,31.4961 580.315,31.4961 \n",
       "  \"/>\n",
       "<polyline clip-path=\"url(#clip00)\" style=\"stroke:#000000; stroke-width:1; stroke-opacity:1; fill:none\" points=\"\n",
       "  51.265,360.065 580.315,360.065 \n",
       "  \"/>\n",
       "<polyline clip-path=\"url(#clip00)\" style=\"stroke:#000000; stroke-width:1; stroke-opacity:1; fill:none\" points=\"\n",
       "  51.265,360.065 51.265,31.4961 \n",
       "  \"/>\n",
       "<polyline clip-path=\"url(#clip00)\" style=\"stroke:#000000; stroke-width:1; stroke-opacity:1; fill:none\" points=\"\n",
       "  51.265,360.065 51.265,355.137 \n",
       "  \"/>\n",
       "<polyline clip-path=\"url(#clip00)\" style=\"stroke:#000000; stroke-width:1; stroke-opacity:1; fill:none\" points=\"\n",
       "  157.075,360.065 157.075,355.137 \n",
       "  \"/>\n",
       "<polyline clip-path=\"url(#clip00)\" style=\"stroke:#000000; stroke-width:1; stroke-opacity:1; fill:none\" points=\"\n",
       "  262.885,360.065 262.885,355.137 \n",
       "  \"/>\n",
       "<polyline clip-path=\"url(#clip00)\" style=\"stroke:#000000; stroke-width:1; stroke-opacity:1; fill:none\" points=\"\n",
       "  368.695,360.065 368.695,355.137 \n",
       "  \"/>\n",
       "<polyline clip-path=\"url(#clip00)\" style=\"stroke:#000000; stroke-width:1; stroke-opacity:1; fill:none\" points=\"\n",
       "  474.505,360.065 474.505,355.137 \n",
       "  \"/>\n",
       "<polyline clip-path=\"url(#clip00)\" style=\"stroke:#000000; stroke-width:1; stroke-opacity:1; fill:none\" points=\"\n",
       "  580.315,360.065 580.315,355.137 \n",
       "  \"/>\n",
       "<polyline clip-path=\"url(#clip00)\" style=\"stroke:#000000; stroke-width:1; stroke-opacity:1; fill:none\" points=\"\n",
       "  51.265,319.589 59.2007,319.589 \n",
       "  \"/>\n",
       "<polyline clip-path=\"url(#clip00)\" style=\"stroke:#000000; stroke-width:1; stroke-opacity:1; fill:none\" points=\"\n",
       "  51.265,261.971 59.2007,261.971 \n",
       "  \"/>\n",
       "<polyline clip-path=\"url(#clip00)\" style=\"stroke:#000000; stroke-width:1; stroke-opacity:1; fill:none\" points=\"\n",
       "  51.265,204.352 59.2007,204.352 \n",
       "  \"/>\n",
       "<polyline clip-path=\"url(#clip00)\" style=\"stroke:#000000; stroke-width:1; stroke-opacity:1; fill:none\" points=\"\n",
       "  51.265,146.733 59.2007,146.733 \n",
       "  \"/>\n",
       "<polyline clip-path=\"url(#clip00)\" style=\"stroke:#000000; stroke-width:1; stroke-opacity:1; fill:none\" points=\"\n",
       "  51.265,89.1147 59.2007,89.1147 \n",
       "  \"/>\n",
       "<polyline clip-path=\"url(#clip00)\" style=\"stroke:#000000; stroke-width:1; stroke-opacity:1; fill:none\" points=\"\n",
       "  51.265,31.4961 59.2007,31.4961 \n",
       "  \"/>\n",
       "<g clip-path=\"url(#clip00)\">\n",
       "<text style=\"fill:#000000; fill-opacity:1; font-family:Arial,Helvetica Neue,Helvetica,sans-serif; font-size:12; text-anchor:middle;\" transform=\"rotate(0, 51.265, 373.865)\" x=\"51.265\" y=\"373.865\">0.00</text>\n",
       "</g>\n",
       "<g clip-path=\"url(#clip00)\">\n",
       "<text style=\"fill:#000000; fill-opacity:1; font-family:Arial,Helvetica Neue,Helvetica,sans-serif; font-size:12; text-anchor:middle;\" transform=\"rotate(0, 157.075, 373.865)\" x=\"157.075\" y=\"373.865\">0.02</text>\n",
       "</g>\n",
       "<g clip-path=\"url(#clip00)\">\n",
       "<text style=\"fill:#000000; fill-opacity:1; font-family:Arial,Helvetica Neue,Helvetica,sans-serif; font-size:12; text-anchor:middle;\" transform=\"rotate(0, 262.885, 373.865)\" x=\"262.885\" y=\"373.865\">0.04</text>\n",
       "</g>\n",
       "<g clip-path=\"url(#clip00)\">\n",
       "<text style=\"fill:#000000; fill-opacity:1; font-family:Arial,Helvetica Neue,Helvetica,sans-serif; font-size:12; text-anchor:middle;\" transform=\"rotate(0, 368.695, 373.865)\" x=\"368.695\" y=\"373.865\">0.06</text>\n",
       "</g>\n",
       "<g clip-path=\"url(#clip00)\">\n",
       "<text style=\"fill:#000000; fill-opacity:1; font-family:Arial,Helvetica Neue,Helvetica,sans-serif; font-size:12; text-anchor:middle;\" transform=\"rotate(0, 474.505, 373.865)\" x=\"474.505\" y=\"373.865\">0.08</text>\n",
       "</g>\n",
       "<g clip-path=\"url(#clip00)\">\n",
       "<text style=\"fill:#000000; fill-opacity:1; font-family:Arial,Helvetica Neue,Helvetica,sans-serif; font-size:12; text-anchor:middle;\" transform=\"rotate(0, 580.315, 373.865)\" x=\"580.315\" y=\"373.865\">0.10</text>\n",
       "</g>\n",
       "<g clip-path=\"url(#clip00)\">\n",
       "<text style=\"fill:#000000; fill-opacity:1; font-family:Arial,Helvetica Neue,Helvetica,sans-serif; font-size:12; text-anchor:end;\" transform=\"rotate(0, 45.265, 324.089)\" x=\"45.265\" y=\"324.089\">350</text>\n",
       "</g>\n",
       "<g clip-path=\"url(#clip00)\">\n",
       "<text style=\"fill:#000000; fill-opacity:1; font-family:Arial,Helvetica Neue,Helvetica,sans-serif; font-size:12; text-anchor:end;\" transform=\"rotate(0, 45.265, 266.471)\" x=\"45.265\" y=\"266.471\">360</text>\n",
       "</g>\n",
       "<g clip-path=\"url(#clip00)\">\n",
       "<text style=\"fill:#000000; fill-opacity:1; font-family:Arial,Helvetica Neue,Helvetica,sans-serif; font-size:12; text-anchor:end;\" transform=\"rotate(0, 45.265, 208.852)\" x=\"45.265\" y=\"208.852\">370</text>\n",
       "</g>\n",
       "<g clip-path=\"url(#clip00)\">\n",
       "<text style=\"fill:#000000; fill-opacity:1; font-family:Arial,Helvetica Neue,Helvetica,sans-serif; font-size:12; text-anchor:end;\" transform=\"rotate(0, 45.265, 151.233)\" x=\"45.265\" y=\"151.233\">380</text>\n",
       "</g>\n",
       "<g clip-path=\"url(#clip00)\">\n",
       "<text style=\"fill:#000000; fill-opacity:1; font-family:Arial,Helvetica Neue,Helvetica,sans-serif; font-size:12; text-anchor:end;\" transform=\"rotate(0, 45.265, 93.6147)\" x=\"45.265\" y=\"93.6147\">390</text>\n",
       "</g>\n",
       "<g clip-path=\"url(#clip00)\">\n",
       "<text style=\"fill:#000000; fill-opacity:1; font-family:Arial,Helvetica Neue,Helvetica,sans-serif; font-size:12; text-anchor:end;\" transform=\"rotate(0, 45.265, 35.9961)\" x=\"45.265\" y=\"35.9961\">400</text>\n",
       "</g>\n",
       "<g clip-path=\"url(#clip00)\">\n",
       "<text style=\"fill:#000000; fill-opacity:1; font-family:Arial,Helvetica Neue,Helvetica,sans-serif; font-size:21; text-anchor:middle;\" transform=\"rotate(0, 315.79, 18)\" x=\"315.79\" y=\"18\">Naive hedging: value of liability and hedge bond position</text>\n",
       "</g>\n",
       "<g clip-path=\"url(#clip00)\">\n",
       "<text style=\"fill:#000000; fill-opacity:1; font-family:Arial,Helvetica Neue,Helvetica,sans-serif; font-size:16; text-anchor:middle;\" transform=\"rotate(0, 315.79, 397.6)\" x=\"315.79\" y=\"397.6\">Interest rate</text>\n",
       "</g>\n",
       "<g clip-path=\"url(#clip00)\">\n",
       "<text style=\"fill:#000000; fill-opacity:1; font-family:Arial,Helvetica Neue,Helvetica,sans-serif; font-size:16; text-anchor:middle;\" transform=\"rotate(-90, 14.4, 195.781)\" x=\"14.4\" y=\"195.781\">Value of position</text>\n",
       "</g>\n",
       "<polyline clip-path=\"url(#clip02)\" style=\"stroke:#ff0000; stroke-width:1; stroke-opacity:1; fill:none\" points=\"\n",
       "  51.265,31.4961 104.17,68.4362 157.075,104.378 209.98,139.358 262.885,173.412 315.79,206.573 368.695,238.874 421.6,270.345 474.505,301.016 527.41,330.913 \n",
       "  580.315,360.065 \n",
       "  \"/>\n",
       "<polyline clip-path=\"url(#clip02)\" style=\"stroke:#008000; stroke-width:1; stroke-opacity:1; fill:none\" stroke-dasharray=\"8, 5\" points=\"\n",
       "  51.265,153.981 104.17,164.811 157.075,175.482 209.98,185.996 262.885,196.359 315.79,206.573 368.695,216.643 421.6,226.571 474.505,236.36 527.41,246.015 \n",
       "  580.315,255.538 \n",
       "  \"/>\n",
       "<polygon clip-path=\"url(#clip00)\" points=\"\n",
       "386.356,97.7361 562.315,97.7361 562.315,52.3761 386.356,52.3761 \n",
       "  \" fill=\"#ffffff\" fill-opacity=\"1\"/>\n",
       "<polyline clip-path=\"url(#clip00)\" style=\"stroke:#000000; stroke-width:1; stroke-opacity:1; fill:none\" points=\"\n",
       "  386.356,97.7361 562.315,97.7361 562.315,52.3761 386.356,52.3761 386.356,97.7361 \n",
       "  \"/>\n",
       "<polyline clip-path=\"url(#clip00)\" style=\"stroke:#ff0000; stroke-width:1; stroke-opacity:1; fill:none\" points=\"\n",
       "  392.356,67.4961 428.356,67.4961 \n",
       "  \"/>\n",
       "<g clip-path=\"url(#clip00)\">\n",
       "<text style=\"fill:#000000; fill-opacity:1; font-family:Arial,Helvetica Neue,Helvetica,sans-serif; font-size:12; text-anchor:start;\" transform=\"rotate(0, 434.356, 71.9961)\" x=\"434.356\" y=\"71.9961\">liability</text>\n",
       "</g>\n",
       "<polyline clip-path=\"url(#clip00)\" style=\"stroke:#008000; stroke-width:1; stroke-opacity:1; fill:none\" stroke-dasharray=\"8, 5\" points=\"\n",
       "  392.356,82.6161 428.356,82.6161 \n",
       "  \"/>\n",
       "<g clip-path=\"url(#clip00)\">\n",
       "<text style=\"fill:#000000; fill-opacity:1; font-family:Arial,Helvetica Neue,Helvetica,sans-serif; font-size:12; text-anchor:start;\" transform=\"rotate(0, 434.356, 87.1161)\" x=\"434.356\" y=\"87.1161\">h* hedge bond price   </text>\n",
       "</g>\n",
       "<g clip-path=\"url(#clip00)\">\n",
       "<text style=\"fill:#000000; fill-opacity:1; font-family:Arial,Helvetica Neue,Helvetica,sans-serif; font-size:21; text-anchor:middle;\" transform=\"rotate(0, 157.075, 315.749)\" x=\"157.075\" y=\"315.749\">The interest rates are</text>\n",
       "</g>\n",
       "<g clip-path=\"url(#clip00)\">\n",
       "<text style=\"fill:#000000; fill-opacity:1; font-family:Arial,Helvetica Neue,Helvetica,sans-serif; font-size:21; text-anchor:middle;\" transform=\"rotate(0, 157.075, 338.429)\" x=\"157.075\" y=\"338.429\"> 0.05 (before) and 0.04 (after)</text>\n",
       "</g>\n",
       "</svg>\n"
      ]
     },
     "execution_count": 12,
     "metadata": {},
     "output_type": "execute_result"
    }
   ],
   "source": [
    "θ = 0:0.01:0.1\n",
    "\n",
    "(PL,PH) = (fill(NaN,length(θ)),fill(NaN,length(θ)))\n",
    "for i = 1:length(θ)\n",
    "    PL[i] = BondPrice3(θ[i],cf,m)  \n",
    "    PH[i] = BondPrice3(θ[i],100,0.5)\n",
    "end\n",
    "\n",
    "plot(θ,PL,color=:red,label=\"liability\")\n",
    "plot!(θ,h*PH,color=:green,line=:dash,label=\"h* hedge bond price   \")\n",
    "title!(\"Naive hedging: value of liability and hedge bond position\")\n",
    "xlabel!(\"Interest rate\")\n",
    "ylabel!(\"Value of position\")\n",
    "annotate!(0.02,350,\"The interest rates are\\n $θ₀ (before) and $θ₁ (after)\")"
   ]
  },
  {
   "cell_type": "markdown",
   "metadata": {},
   "source": [
    "## Duration Matching\n",
    "\n",
    "Choose a hedge bond with the same duration as the liability and invest equally much into each.\n",
    "\n",
    "This is a special case of the naive hedging where $D_{L}^{M}=D_{H}$. Clearly, this gives $\\frac{\\Delta V}{P_{L}}\\approx 0$."
   ]
  },
  {
   "cell_type": "code",
   "execution_count": 13,
   "metadata": {},
   "outputs": [
    {
     "name": "stdout",
     "output_type": "stream",
     "text": [
      "Hedge bond: a zero coupon bond with m=1.61 and face value of 100\n",
      "                        \n",
      "PL₀              369.615\n",
      "PH₀               92.430\n",
      "h                  3.999\n",
      "Dur(liability)     1.613\n",
      "Dur(hedge)         1.613\n",
      "ΔPortfolio/PL     -0.000\n",
      "\n"
     ]
    }
   ],
   "source": [
    "printlnPs(\"Hedge bond: a zero coupon bond with m=$(round(Dmac,2)) and face value of 100\")\n",
    "\n",
    "PH₀ = BondPrice3(θ₀,100,Dmac)             \n",
    "PH₁ = BondPrice3(θ₁,100,Dmac)      \n",
    "h = PL₀/PH₀\n",
    "\n",
    "ΔV_exact = h*(PH₁-PH₀) - (PL₁-PL₀)\n",
    "\n",
    "xy = [PL₀;PH₀;h;Dmac;Dmac;ΔV_exact/PL₀]\n",
    "printTable(xy,[\" \"],[\"PL₀\";\"PH₀\";\"h\";\"Dur(liability)\";\"Dur(hedge)\";\"ΔPortfolio/PL\"])"
   ]
  },
  {
   "cell_type": "markdown",
   "metadata": {},
   "source": [
    "## Duration Hedging\n",
    "\n",
    "In this case, $D_{L}^{M}\\neq D_{H}$, but we adjust the hedge ratio $h$ to compensate for that. In particular, set \n",
    "\n",
    "$h =\\frac{D_{L}^{M}}{D_{H}^{M}}\\times\\frac{P_{L}}{P_{H}}$. \n",
    "\n",
    "The balance $(P_L-hP_H)$ is kept on a money market account ($M$).\n",
    "\n",
    "It can be shown that this gives an (approximate) hedge."
   ]
  },
  {
   "cell_type": "code",
   "execution_count": 14,
   "metadata": {},
   "outputs": [
    {
     "name": "stdout",
     "output_type": "stream",
     "text": [
      "Hedge bond: zero coupon bond with m=0.5 and face value of 100\n",
      "                        \n",
      "PL₀              369.615\n",
      "PH₀               97.590\n",
      "h                 12.222\n",
      "Dur(liability)     1.613\n",
      "Dur(hedge)         0.500\n",
      "ΔPortfolio/PL     -0.000\n",
      "\n",
      "Notice that we keep h*PH-PL=-823.129 in the money market account\n"
     ]
    }
   ],
   "source": [
    "printlnPs(\"Hedge bond: zero coupon bond with m=0.5 and face value of 100\")\n",
    "\n",
    "PH₀ = BondPrice3(θ₀,100,0.5)             \n",
    "PH₁ = BondPrice3(θ₁,100,0.5)      \n",
    "h = Dmac/0.5 * PL₀/PH₀\n",
    "\n",
    "ΔV_exact = h*(PH₁-PH₀) - (PL₁-PL₀)\n",
    "\n",
    "xy = [PL₀;PH₀;h;Dmac;0.5;ΔV_exact/PL₀]\n",
    "printTable(xy,[\" \"],[\"PL₀\";\"PH₀\";\"h\";\"Dur(liability)\";\"Dur(hedge)\";\"ΔPortfolio/PL\"])\n",
    "\n",
    "printlnPs(\"Notice that we keep h*PH-PL=$(round(PL₀-h*PH₀,3)) in the money market account\")"
   ]
  },
  {
   "cell_type": "code",
   "execution_count": null,
   "metadata": {},
   "outputs": [],
   "source": []
  }
 ],
 "metadata": {
  "anaconda-cloud": {},
  "kernelspec": {
   "display_name": "Julia 0.6.2",
   "language": "julia",
   "name": "julia-0.6"
  },
  "language_info": {
   "file_extension": ".jl",
   "mimetype": "application/julia",
   "name": "julia",
   "version": "0.6.2"
  }
 },
 "nbformat": 4,
 "nbformat_minor": 1
}
