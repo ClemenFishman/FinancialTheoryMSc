{
 "cells": [
  {
   "cell_type": "markdown",
   "metadata": {},
   "source": [
    "# Load Packages"
   ]
  },
  {
   "cell_type": "code",
   "execution_count": 1,
   "metadata": {},
   "outputs": [
    {
     "data": {
      "text/plain": [
       "printmatDate (generic function with 8 methods)"
      ]
     },
     "execution_count": 1,
     "metadata": {},
     "output_type": "execute_result"
    }
   ],
   "source": [
    "using Dates, Roots\n",
    "\n",
    "include(\"printmat.jl\")\n",
    "include(\"printTable.jl\")"
   ]
  },
  {
   "cell_type": "code",
   "execution_count": 3,
   "metadata": {},
   "outputs": [],
   "source": [
    "using Plots\n",
    "backend = \"gr\"              #\"gr\" (default), \"pyplot\" \n",
    "\n",
    "if backend == \"pyplot\"\n",
    "    pyplot(size=(600,400))\n",
    "else    \n",
    "    gr(size=(480,320))\n",
    "    default(fmt = :svg)\n",
    "end"
   ]
  },
  {
   "cell_type": "markdown",
   "metadata": {},
   "source": [
    "### From Chapter on Bonds 1"
   ]
  },
  {
   "cell_type": "code",
   "execution_count": 4,
   "metadata": {},
   "outputs": [
    {
     "data": {
      "text/plain": [
       "BondPrice3 (generic function with 1 method)"
      ]
     },
     "execution_count": 4,
     "metadata": {},
     "output_type": "execute_result"
    }
   ],
   "source": [
    "\"\"\"\n",
    "Y:  scalar or K vector of interest rates\n",
    "cf: scalar or K vector of cash flows\n",
    "m: K vector of times of cash flows\n",
    "\"\"\"\n",
    "function BondPrice3(Y,cf,m)                #cf is a vector of all cash flows\n",
    "    cdisc = cf./((Y.+1).^m)                #c/(1+y1)^t1 + c/(1+y2)^t2 + ...+ c/(1+y2)^m\n",
    "    P     = sum(cdisc)                     #price\n",
    "    return P\n",
    "end"
   ]
  },
  {
   "cell_type": "markdown",
   "metadata": {},
   "source": [
    "# Value of a Liability after a Sudden Interest Rate Change\n",
    "\n",
    "The calculations below assume that the yield curve is flat, but that it can shift up or down. This assumption helps us connect to the classical literature on duration hedging.\n",
    "\n",
    "The initial values are indicated by subscript $_0$ and the values after the interest rate change by the subscript $_1$. It is assumed that the change is very sudden, so the time to cash flows are (virtually) the same before and after.\n",
    "\n",
    "The next cell sets up the cash flow for a liability that pays 0.2 each year for the next 10 years. The value of the liability is calculated at an initial interest rate ($\\theta_0$) and at a new interest rate ($\\theta_1$)."
   ]
  },
  {
   "cell_type": "code",
   "execution_count": 5,
   "metadata": {
    "scrolled": true
   },
   "outputs": [
    {
     "name": "stdout",
     "output_type": "stream",
     "text": [
      "As θ changes from θ₀=0.05 to θ₁=0.03: \n",
      "                    \n",
      "P₀             1.544\n",
      "P₁             1.706\n",
      "ΔP/P₀          0.105\n",
      "\n",
      "Notice that the liability is worth more at the lower interest rate\n"
     ]
    }
   ],
   "source": [
    "θ₀ = 0.05                   #initial interest rate\n",
    "θ₁ = 0.03                   #interest rate after sudden change\n",
    "\n",
    "cf = fill(0.2,10)           #cash flow of liability\n",
    "m  = 1:10                   #time periods of the cash flows\n",
    "\n",
    "P₀ = BondPrice3(θ₀,cf,m)     \n",
    "P₁ = BondPrice3(θ₁,cf,m)     \n",
    "R = (P₁ - P₀)/P₀\n",
    "\n",
    "println(\"As θ changes from θ₀=$θ₀ to θ₁=$θ₁: \")\n",
    "xy = [P₀, P₁, R]\n",
    "printTable(xy,[\" \"],[\"P₀\";\"P₁\";\"ΔP/P₀\"],15)\n",
    "\n",
    "println(\"Notice that the liability is worth more at the lower interest rate\")"
   ]
  },
  {
   "cell_type": "markdown",
   "metadata": {},
   "source": [
    "# Macaulay's Duration\n",
    "\n",
    "$D^M = \\sum_{k=1}^{K} m_{k}\\frac{cf_{k}}{\\left(  1+\\theta\\right)  ^{m_{k}}P}$\n",
    "\n",
    "A first-order Taylor approximation gives\n",
    "\n",
    "$\\frac{\\Delta P}{P} = -D^M \\times \\frac{\\Delta \\theta}{1+\\theta}$ "
   ]
  },
  {
   "cell_type": "code",
   "execution_count": 6,
   "metadata": {},
   "outputs": [
    {
     "data": {
      "text/plain": [
       "BondDuration (generic function with 1 method)"
      ]
     },
     "execution_count": 6,
     "metadata": {},
     "output_type": "execute_result"
    }
   ],
   "source": [
    "\"\"\"\n",
    "    BondDuration(P,cf,m,ytm)\n",
    "\n",
    "Caclulate Macaulays (bond) duration measure.\n",
    "\n",
    "P:   scalar, bond price\n",
    "cf:  scalar or K vector of cash flows\n",
    "m:   K vector of times of cash flows\n",
    "ytm: scalar, yield to maturity\n",
    "\"\"\"\n",
    "function BondDuration(P,cf,m,ytm)\n",
    "    cdisc   = cf.*m./((1+ytm).^(m.+1))      #c/(1+y)^2 + 2c/(1+y)^3 + ...\n",
    "    D       = sum(cdisc)                    #Duration, row vector\n",
    "    Da      = D/P                           #adjusted duration\n",
    "    Dmac    = D*(1+ytm)/P                   #Macaulays duration\n",
    "    return Dmac\n",
    "end"
   ]
  },
  {
   "cell_type": "code",
   "execution_count": 7,
   "metadata": {},
   "outputs": [
    {
     "name": "stdout",
     "output_type": "stream",
     "text": [
      "Macaulay's duration      5.099\n",
      "\n",
      "Exact and approximate relative price change (as the interest changes): \n",
      "     0.105     0.097\n"
     ]
    }
   ],
   "source": [
    "Dmac    = BondDuration(P₀,cf,m,θ₀)\n",
    "\n",
    "printlnPs(\"Macaulay's duration \",Dmac)\n",
    "\n",
    "Δθ       = θ₁ - θ₀\n",
    "R_approx = -Dmac*Δθ/(1+θ₀)\n",
    "\n",
    "println(\"\\nExact and approximate relative price change (as the interest changes): \")\n",
    "printlnPs([R R_approx])"
   ]
  },
  {
   "cell_type": "markdown",
   "metadata": {},
   "source": [
    "# Hedging a Liability Stream\n",
    "\n",
    "We are short one $L$ bond, which is worth $P_L$. To hedge that we buy $h$ units of bond $H$. The balance is put on a money market account $M$ to make the initial value of the portfolio zero ($V=0$)\n",
    "\n",
    "$V=hP_{H}+M-P_{L}$\n",
    "\n",
    "Over a short time interval, the change in the portfolio value is\n",
    "\n",
    "$\\Delta V=h\\Delta P_{H}-\\Delta P_{L}$.\n",
    "\n",
    "In the cells below, we assume that the yield curve is flat, so $\\theta_{H} = \\theta_{L}$ both before and after the change."
   ]
  },
  {
   "cell_type": "code",
   "execution_count": 8,
   "metadata": {},
   "outputs": [
    {
     "name": "stdout",
     "output_type": "stream",
     "text": [
      "Value of liability at interest rates 0.05 and 0.03:      1.544     1.706\n",
      "\n",
      "Macaulay's duration of the liability:      5.099\n"
     ]
    }
   ],
   "source": [
    "PL₀ = P₀        #just switching notation: this is the value of the liability\n",
    "PL₁ = P₁        \n",
    "\n",
    "printlnPs(\"Value of liability at interest rates $θ₀ and $θ₁: \",[PL₀ PL₁])\n",
    "\n",
    "printlnPs(\"\\nMacaulay's duration of the liability: \",Dmac)"
   ]
  },
  {
   "cell_type": "markdown",
   "metadata": {},
   "source": [
    "## Duration Matching\n",
    "\n",
    "Choose a hedge bond with the same duration as the liability and invest equally much into each.\n",
    "\n",
    "This is a special case of the naive hedging where $D_{L}^{M}=D_{H}$. Clearly, this gives $\\frac{\\Delta V}{P_{L}}\\approx 0$."
   ]
  },
  {
   "cell_type": "code",
   "execution_count": 9,
   "metadata": {},
   "outputs": [
    {
     "name": "stdout",
     "output_type": "stream",
     "text": [
      "Hedge bond: a zero coupon bond with m=5.1 and face value of 1\n",
      "                        \n",
      "PL₀                1.544\n",
      "PH₀                0.780\n",
      "h                  1.981\n",
      "Dur(liability)     5.099\n",
      "Dur(hedge)         5.099\n",
      "Return            -0.002\n",
      "\n",
      "Notice, the duration matching gives return of -0.2%. Close to zero.\n"
     ]
    }
   ],
   "source": [
    "printlnPs(\"Hedge bond: a zero coupon bond with m=$(round(Dmac,digits=2)) and face value of 1\")\n",
    "\n",
    "PH₀ = BondPrice3(θ₀,1,Dmac)       \n",
    "PH₁ = BondPrice3(θ₁,1,Dmac)      \n",
    "h = PL₀/PH₀\n",
    "\n",
    "ΔV = h*(PH₁-PH₀) - (PL₁-PL₀)\n",
    "R  = ΔV/PL₀\n",
    "\n",
    "xy = [PL₀;PH₀;h;Dmac;Dmac;R]\n",
    "printTable(xy,[\" \"],[\"PL₀\";\"PH₀\";\"h\";\"Dur(liability)\";\"Dur(hedge)\";\"Return\"])\n",
    "\n",
    "println(\"Notice, the duration matching gives return of $(round(R*100,digits=1))%. Close to zero.\")"
   ]
  },
  {
   "cell_type": "markdown",
   "metadata": {},
   "source": [
    "## Naive Hedging\n",
    "\n",
    "The \"naive\" hedging invests the same amount in the hedge bond as the value of the liability, that is, $hP_{H}=P_{L}$ so $h=P_{L}/P_{H}$. This means that the money market account is not used ($M=0$).\n",
    "\n",
    "It can be shown that\n",
    "\n",
    "$\\frac{\\Delta V}{P_{L}}\\approx\\left(  D_{L}^{M}-D_{H}^{M}\\right)  \\times\n",
    "\\frac{\\Delta\\theta}{1+\\theta}$.\n",
    "\n",
    "If $D_{L}>D_{H}$, and $\\Delta\\theta<0$ (as in the example below), then we will lose money."
   ]
  },
  {
   "cell_type": "code",
   "execution_count": 10,
   "metadata": {},
   "outputs": [
    {
     "name": "stdout",
     "output_type": "stream",
     "text": [
      "Hedge bond: zero coupon bond with m=3 and face value of 1\n",
      "                        \n",
      "PL₀                1.544\n",
      "PH₀                0.864\n",
      "h                  1.788\n",
      "Dur(liability)     5.099\n",
      "Dur(hedge)         3.000\n",
      "Return            -0.045\n",
      "\n",
      "Notice, the naive hedge gives a return of -4.5%\n"
     ]
    }
   ],
   "source": [
    "mH = 3                     #mH year bill is used as hedge bond\n",
    "\n",
    "printlnPs(\"Hedge bond: zero coupon bond with m=$mH and face value of 1\")\n",
    "\n",
    "PH₀ = BondPrice3(θ₀,1,mH)             \n",
    "PH₁ = BondPrice3(θ₁,1,mH)      \n",
    "\n",
    "h = PL₀/PH₀\n",
    "\n",
    "ΔV = h*(PH₁-PH₀) - (PL₁-PL₀)\n",
    "R  = ΔV/PL₀\n",
    "\n",
    "xy = [PL₀;PH₀;h;Dmac;mH;R]\n",
    "printTable(xy,[\" \"],[\"PL₀\";\"PH₀\";\"h\";\"Dur(liability)\";\"Dur(hedge)\";\"Return\"])\n",
    "\n",
    "println(\"Notice, the naive hedge gives a return of $(round(R*100,digits=1))%\")"
   ]
  },
  {
   "cell_type": "markdown",
   "metadata": {},
   "source": [
    "## Illustrating the Problem with the Naive Hedging\n",
    "\n",
    "by plotting the value of the liability ($P_L$) and of the hedge bond position ($hP_H$) at different interest rates."
   ]
  },
  {
   "cell_type": "code",
   "execution_count": 11,
   "metadata": {},
   "outputs": [],
   "source": [
    "θ = 0:0.01:0.1\n",
    "\n",
    "(PL,PH) = (fill(NaN,length(θ)),fill(NaN,length(θ)))\n",
    "for i = 1:length(θ)\n",
    "    PL[i] = BondPrice3(θ[i],cf,m)  \n",
    "    PH[i] = BondPrice3(θ[i],1,mH)\n",
    "end"
   ]
  },
  {
   "cell_type": "code",
   "execution_count": 12,
   "metadata": {},
   "outputs": [
    {
     "data": {
      "image/svg+xml": [
       "<?xml version=\"1.0\" encoding=\"utf-8\"?>\n",
       "<svg xmlns=\"http://www.w3.org/2000/svg\" xmlns:xlink=\"http://www.w3.org/1999/xlink\" width=\"480\" height=\"320\" viewBox=\"0 0 480 320\">\n",
       "<defs>\n",
       "  <clipPath id=\"clip3100\">\n",
       "    <rect x=\"0\" y=\"0\" width=\"480\" height=\"320\"/>\n",
       "  </clipPath>\n",
       "</defs>\n",
       "<polygon clip-path=\"url(#clip3100)\" points=\"\n",
       "0,320 480,320 480,0 0,0 \n",
       "  \" fill=\"#ffffff\" fill-opacity=\"1\"/>\n",
       "<defs>\n",
       "  <clipPath id=\"clip3101\">\n",
       "    <rect x=\"96\" y=\"0\" width=\"337\" height=\"320\"/>\n",
       "  </clipPath>\n",
       "</defs>\n",
       "<polygon clip-path=\"url(#clip3100)\" points=\"\n",
       "56.0965,280.121 460.315,280.121 460.315,31.4961 56.0965,31.4961 \n",
       "  \" fill=\"#ffffff\" fill-opacity=\"1\"/>\n",
       "<defs>\n",
       "  <clipPath id=\"clip3102\">\n",
       "    <rect x=\"56\" y=\"31\" width=\"405\" height=\"250\"/>\n",
       "  </clipPath>\n",
       "</defs>\n",
       "<polyline clip-path=\"url(#clip3102)\" style=\"stroke:#000000; stroke-width:0.5; stroke-opacity:0.1; fill:none\" points=\"\n",
       "  67.5367,280.121 67.5367,31.4961 \n",
       "  \"/>\n",
       "<polyline clip-path=\"url(#clip3102)\" style=\"stroke:#000000; stroke-width:0.5; stroke-opacity:0.1; fill:none\" points=\"\n",
       "  162.871,280.121 162.871,31.4961 \n",
       "  \"/>\n",
       "<polyline clip-path=\"url(#clip3102)\" style=\"stroke:#000000; stroke-width:0.5; stroke-opacity:0.1; fill:none\" points=\"\n",
       "  258.206,280.121 258.206,31.4961 \n",
       "  \"/>\n",
       "<polyline clip-path=\"url(#clip3102)\" style=\"stroke:#000000; stroke-width:0.5; stroke-opacity:0.1; fill:none\" points=\"\n",
       "  353.54,280.121 353.54,31.4961 \n",
       "  \"/>\n",
       "<polyline clip-path=\"url(#clip3102)\" style=\"stroke:#000000; stroke-width:0.5; stroke-opacity:0.1; fill:none\" points=\"\n",
       "  448.875,280.121 448.875,31.4961 \n",
       "  \"/>\n",
       "<polyline clip-path=\"url(#clip3102)\" style=\"stroke:#000000; stroke-width:0.5; stroke-opacity:0.1; fill:none\" points=\"\n",
       "  56.0965,221.042 460.315,221.042 \n",
       "  \"/>\n",
       "<polyline clip-path=\"url(#clip3102)\" style=\"stroke:#000000; stroke-width:0.5; stroke-opacity:0.1; fill:none\" points=\"\n",
       "  56.0965,160.206 460.315,160.206 \n",
       "  \"/>\n",
       "<polyline clip-path=\"url(#clip3102)\" style=\"stroke:#000000; stroke-width:0.5; stroke-opacity:0.1; fill:none\" points=\"\n",
       "  56.0965,99.3692 460.315,99.3692 \n",
       "  \"/>\n",
       "<polyline clip-path=\"url(#clip3102)\" style=\"stroke:#000000; stroke-width:0.5; stroke-opacity:0.1; fill:none\" points=\"\n",
       "  56.0965,38.5326 460.315,38.5326 \n",
       "  \"/>\n",
       "<polyline clip-path=\"url(#clip3100)\" style=\"stroke:#000000; stroke-width:1; stroke-opacity:1; fill:none\" points=\"\n",
       "  56.0965,280.121 460.315,280.121 \n",
       "  \"/>\n",
       "<polyline clip-path=\"url(#clip3100)\" style=\"stroke:#000000; stroke-width:1; stroke-opacity:1; fill:none\" points=\"\n",
       "  56.0965,280.121 56.0965,31.4961 \n",
       "  \"/>\n",
       "<polyline clip-path=\"url(#clip3100)\" style=\"stroke:#000000; stroke-width:1; stroke-opacity:1; fill:none\" points=\"\n",
       "  67.5367,280.121 67.5367,276.391 \n",
       "  \"/>\n",
       "<polyline clip-path=\"url(#clip3100)\" style=\"stroke:#000000; stroke-width:1; stroke-opacity:1; fill:none\" points=\"\n",
       "  162.871,280.121 162.871,276.391 \n",
       "  \"/>\n",
       "<polyline clip-path=\"url(#clip3100)\" style=\"stroke:#000000; stroke-width:1; stroke-opacity:1; fill:none\" points=\"\n",
       "  258.206,280.121 258.206,276.391 \n",
       "  \"/>\n",
       "<polyline clip-path=\"url(#clip3100)\" style=\"stroke:#000000; stroke-width:1; stroke-opacity:1; fill:none\" points=\"\n",
       "  353.54,280.121 353.54,276.391 \n",
       "  \"/>\n",
       "<polyline clip-path=\"url(#clip3100)\" style=\"stroke:#000000; stroke-width:1; stroke-opacity:1; fill:none\" points=\"\n",
       "  448.875,280.121 448.875,276.391 \n",
       "  \"/>\n",
       "<polyline clip-path=\"url(#clip3100)\" style=\"stroke:#000000; stroke-width:1; stroke-opacity:1; fill:none\" points=\"\n",
       "  56.0965,221.042 62.1598,221.042 \n",
       "  \"/>\n",
       "<polyline clip-path=\"url(#clip3100)\" style=\"stroke:#000000; stroke-width:1; stroke-opacity:1; fill:none\" points=\"\n",
       "  56.0965,160.206 62.1598,160.206 \n",
       "  \"/>\n",
       "<polyline clip-path=\"url(#clip3100)\" style=\"stroke:#000000; stroke-width:1; stroke-opacity:1; fill:none\" points=\"\n",
       "  56.0965,99.3692 62.1598,99.3692 \n",
       "  \"/>\n",
       "<polyline clip-path=\"url(#clip3100)\" style=\"stroke:#000000; stroke-width:1; stroke-opacity:1; fill:none\" points=\"\n",
       "  56.0965,38.5326 62.1598,38.5326 \n",
       "  \"/>\n",
       "<g clip-path=\"url(#clip3100)\">\n",
       "<text style=\"fill:#000000; fill-opacity:1; font-family:Arial,Helvetica Neue,Helvetica,sans-serif; font-size:12; text-anchor:middle;\" transform=\"rotate(0, 67.5367, 293.321)\" x=\"67.5367\" y=\"293.321\">0.000</text>\n",
       "</g>\n",
       "<g clip-path=\"url(#clip3100)\">\n",
       "<text style=\"fill:#000000; fill-opacity:1; font-family:Arial,Helvetica Neue,Helvetica,sans-serif; font-size:12; text-anchor:middle;\" transform=\"rotate(0, 162.871, 293.321)\" x=\"162.871\" y=\"293.321\">0.025</text>\n",
       "</g>\n",
       "<g clip-path=\"url(#clip3100)\">\n",
       "<text style=\"fill:#000000; fill-opacity:1; font-family:Arial,Helvetica Neue,Helvetica,sans-serif; font-size:12; text-anchor:middle;\" transform=\"rotate(0, 258.206, 293.321)\" x=\"258.206\" y=\"293.321\">0.050</text>\n",
       "</g>\n",
       "<g clip-path=\"url(#clip3100)\">\n",
       "<text style=\"fill:#000000; fill-opacity:1; font-family:Arial,Helvetica Neue,Helvetica,sans-serif; font-size:12; text-anchor:middle;\" transform=\"rotate(0, 353.54, 293.321)\" x=\"353.54\" y=\"293.321\">0.075</text>\n",
       "</g>\n",
       "<g clip-path=\"url(#clip3100)\">\n",
       "<text style=\"fill:#000000; fill-opacity:1; font-family:Arial,Helvetica Neue,Helvetica,sans-serif; font-size:12; text-anchor:middle;\" transform=\"rotate(0, 448.875, 293.321)\" x=\"448.875\" y=\"293.321\">0.100</text>\n",
       "</g>\n",
       "<g clip-path=\"url(#clip3100)\">\n",
       "<text style=\"fill:#000000; fill-opacity:1; font-family:Arial,Helvetica Neue,Helvetica,sans-serif; font-size:12; text-anchor:end;\" transform=\"rotate(0, 51.2965, 225.542)\" x=\"51.2965\" y=\"225.542\">1.4</text>\n",
       "</g>\n",
       "<g clip-path=\"url(#clip3100)\">\n",
       "<text style=\"fill:#000000; fill-opacity:1; font-family:Arial,Helvetica Neue,Helvetica,sans-serif; font-size:12; text-anchor:end;\" transform=\"rotate(0, 51.2965, 164.706)\" x=\"51.2965\" y=\"164.706\">1.6</text>\n",
       "</g>\n",
       "<g clip-path=\"url(#clip3100)\">\n",
       "<text style=\"fill:#000000; fill-opacity:1; font-family:Arial,Helvetica Neue,Helvetica,sans-serif; font-size:12; text-anchor:end;\" transform=\"rotate(0, 51.2965, 103.869)\" x=\"51.2965\" y=\"103.869\">1.8</text>\n",
       "</g>\n",
       "<g clip-path=\"url(#clip3100)\">\n",
       "<text style=\"fill:#000000; fill-opacity:1; font-family:Arial,Helvetica Neue,Helvetica,sans-serif; font-size:12; text-anchor:end;\" transform=\"rotate(0, 51.2965, 43.0326)\" x=\"51.2965\" y=\"43.0326\">2.0</text>\n",
       "</g>\n",
       "<g clip-path=\"url(#clip3100)\">\n",
       "<text style=\"fill:#000000; fill-opacity:1; font-family:Arial,Helvetica Neue,Helvetica,sans-serif; font-size:21; text-anchor:middle;\" transform=\"rotate(0, 258.206, 18)\" x=\"258.206\" y=\"18\">Naive hedging: value of liability and hedge bond position</text>\n",
       "</g>\n",
       "<g clip-path=\"url(#clip3100)\">\n",
       "<text style=\"fill:#000000; fill-opacity:1; font-family:Arial,Helvetica Neue,Helvetica,sans-serif; font-size:16; text-anchor:middle;\" transform=\"rotate(0, 258.206, 317.6)\" x=\"258.206\" y=\"317.6\">Interest rate</text>\n",
       "</g>\n",
       "<g clip-path=\"url(#clip3100)\">\n",
       "<text style=\"fill:#000000; fill-opacity:1; font-family:Arial,Helvetica Neue,Helvetica,sans-serif; font-size:16; text-anchor:middle;\" transform=\"rotate(-90, 14.4, 155.808)\" x=\"14.4\" y=\"155.808\">Value of position</text>\n",
       "</g>\n",
       "<polyline clip-path=\"url(#clip3102)\" style=\"stroke:#ff0000; stroke-width:1; stroke-opacity:1; fill:none\" points=\"\n",
       "  67.5367,38.5326 105.67,70.6967 143.804,100.429 181.938,127.95 220.072,153.459 258.206,177.135 296.34,199.136 334.473,219.608 372.607,238.68 410.741,256.47 \n",
       "  448.875,273.084 \n",
       "  \"/>\n",
       "<polyline clip-path=\"url(#clip3102)\" style=\"stroke:#008000; stroke-width:1; stroke-opacity:1; fill:none\" stroke-dasharray=\"8, 5\" points=\"\n",
       "  67.5367,103.088 105.67,119.081 143.804,134.454 181.938,149.235 220.072,163.453 258.206,177.135 296.34,190.305 334.473,202.987 372.607,215.204 410.741,226.977 \n",
       "  448.875,238.326 \n",
       "  \"/>\n",
       "<polygon clip-path=\"url(#clip3100)\" points=\"\n",
       "280.18,90.5361 445.915,90.5361 445.915,45.1761 280.18,45.1761 \n",
       "  \" fill=\"#ffffff\" fill-opacity=\"1\"/>\n",
       "<polyline clip-path=\"url(#clip3100)\" style=\"stroke:#000000; stroke-width:1; stroke-opacity:1; fill:none\" points=\"\n",
       "  280.18,90.5361 445.915,90.5361 445.915,45.1761 280.18,45.1761 280.18,90.5361 \n",
       "  \"/>\n",
       "<polyline clip-path=\"url(#clip3100)\" style=\"stroke:#ff0000; stroke-width:1; stroke-opacity:1; fill:none\" points=\"\n",
       "  284.98,60.2961 313.78,60.2961 \n",
       "  \"/>\n",
       "<g clip-path=\"url(#clip3100)\">\n",
       "<text style=\"fill:#000000; fill-opacity:1; font-family:Arial,Helvetica Neue,Helvetica,sans-serif; font-size:12; text-anchor:start;\" transform=\"rotate(0, 318.58, 64.7961)\" x=\"318.58\" y=\"64.7961\">liability</text>\n",
       "</g>\n",
       "<polyline clip-path=\"url(#clip3100)\" style=\"stroke:#008000; stroke-width:1; stroke-opacity:1; fill:none\" stroke-dasharray=\"8, 5\" points=\"\n",
       "  284.98,75.4161 313.78,75.4161 \n",
       "  \"/>\n",
       "<g clip-path=\"url(#clip3100)\">\n",
       "<text style=\"fill:#000000; fill-opacity:1; font-family:Arial,Helvetica Neue,Helvetica,sans-serif; font-size:12; text-anchor:start;\" transform=\"rotate(0, 318.58, 79.9161)\" x=\"318.58\" y=\"79.9161\">h* hedge bond price   </text>\n",
       "</g>\n",
       "<g clip-path=\"url(#clip3100)\">\n",
       "<text style=\"fill:#000000; fill-opacity:1; font-family:Arial,Helvetica Neue,Helvetica,sans-serif; font-size:21; text-anchor:middle;\" transform=\"rotate(0, 143.804, -105821)\" x=\"143.804\" y=\"-105821\">The interest rates are</text>\n",
       "</g>\n",
       "<g clip-path=\"url(#clip3100)\">\n",
       "<text style=\"fill:#000000; fill-opacity:1; font-family:Arial,Helvetica Neue,Helvetica,sans-serif; font-size:21; text-anchor:middle;\" transform=\"rotate(0, 143.804, -105798)\" x=\"143.804\" y=\"-105798\"> 0.05 (before) and 0.03 (after)</text>\n",
       "</g>\n",
       "</svg>\n"
      ]
     },
     "execution_count": 12,
     "metadata": {},
     "output_type": "execute_result"
    }
   ],
   "source": [
    "p1 = plot(θ,PL,color=:red,label=\"liability\")\n",
    "plot!(θ,h*PH,color=:green,line=:dash,label=\"h* hedge bond price   \")\n",
    "title!(\"Naive hedging: value of liability and hedge bond position\")\n",
    "xlabel!(\"Interest rate\")\n",
    "ylabel!(\"Value of position\")\n",
    "annotate!(0.02,350,\"The interest rates are\\n $θ₀ (before) and $θ₁ (after)\")"
   ]
  },
  {
   "cell_type": "markdown",
   "metadata": {},
   "source": [
    "## Duration Hedging\n",
    "\n",
    "In this case, $D_{L}^{M}\\neq D_{H}$, but we adjust the hedge ratio $h$ to compensate for that. In particular, set \n",
    "\n",
    "$h =\\frac{D_{L}^{M}}{D_{H}^{M}}\\times\\frac{P_{L}}{P_{H}}$. \n",
    "\n",
    "The balance $(P_L-hP_H)$ is kept on a money market account ($M$).\n",
    "\n",
    "It can be shown that this gives an (approximate) hedge."
   ]
  },
  {
   "cell_type": "code",
   "execution_count": 13,
   "metadata": {},
   "outputs": [
    {
     "name": "stdout",
     "output_type": "stream",
     "text": [
      "Hedge bond: zero coupon bond with m=3 and face value of 1\n",
      "                        \n",
      "PL₀                1.544\n",
      "PH₀                0.864\n",
      "h                  3.039\n",
      "Dur(liability)     5.099\n",
      "Dur(hedge)         3.000\n",
      "M                 -1.081\n",
      "Return            -0.004\n",
      "\n",
      "Notice, the duration hedging gives return of -0.4%. Close to zero.\n"
     ]
    }
   ],
   "source": [
    "printlnPs(\"Hedge bond: zero coupon bond with m=$mH and face value of 1\")\n",
    "\n",
    "PH₀ = BondPrice3(θ₀,1,mH)             \n",
    "PH₁ = BondPrice3(θ₁,1,mH)      \n",
    "h = Dmac/mH * PL₀/PH₀\n",
    "M = PL₀ - h*PH₀               #on money market account\n",
    "\n",
    "ΔV = h*(PH₁-PH₀) - (PL₁-PL₀)\n",
    "R  = ΔV/PL₀\n",
    "\n",
    "xy = [PL₀;PH₀;h;Dmac;mH;M;R]\n",
    "printTable(xy,[\" \"],[\"PL₀\";\"PH₀\";\"h\";\"Dur(liability)\";\"Dur(hedge)\";\"M\";\"Return\"])\n",
    "\n",
    "println(\"Notice, the duration hedging gives return of $(round(R*100,digits=1))%. Close to zero.\")"
   ]
  },
  {
   "cell_type": "markdown",
   "metadata": {},
   "source": [
    "## Convexity (extra)\n",
    "\n",
    "A second-order Taylor approximation gives that \n",
    "\n",
    "$\n",
    "\\frac{\\Delta P}{P}\\approx-D^{M}\\times\\frac{\\Delta\\theta}{1+\\theta}+\\frac{1}{2}C\\times(\\Delta\\theta)^{2}, \n",
    "$\n",
    "\n",
    "where \n",
    "$\n",
    "C = \\frac{1}{P} \\frac{d^{2}P}{d\\theta^{2}}\n",
    "$. \n",
    "\n",
    "The function below calculates $C$."
   ]
  },
  {
   "cell_type": "code",
   "execution_count": 14,
   "metadata": {},
   "outputs": [
    {
     "data": {
      "text/plain": [
       "BondConvexity (generic function with 1 method)"
      ]
     },
     "execution_count": 14,
     "metadata": {},
     "output_type": "execute_result"
    }
   ],
   "source": [
    "function BondConvexity(P,cf,m,ytm)\n",
    "    cdisc   = cf.*m.*(m.+1)./((1+ytm).^(m.+2)) \n",
    "    C       = sum(cdisc)/P                    #Duration, row vector\n",
    "    return C\n",
    "end"
   ]
  },
  {
   "cell_type": "code",
   "execution_count": 15,
   "metadata": {},
   "outputs": [
    {
     "name": "stdout",
     "output_type": "stream",
     "text": [
      "C=    35.602 and the total 2nd term is      0.007\n"
     ]
    }
   ],
   "source": [
    "C = BondConvexity(P₀,cf,m,θ₀)\n",
    "\n",
    "printlnPs(\"C=\",C,\" and the total 2nd term is \",0.5*C*Δθ^2)"
   ]
  },
  {
   "cell_type": "code",
   "execution_count": null,
   "metadata": {},
   "outputs": [],
   "source": []
  }
 ],
 "metadata": {
  "anaconda-cloud": {},
  "kernelspec": {
   "display_name": "Julia 1.0.0",
   "language": "julia",
   "name": "julia-1.0"
  },
  "language_info": {
   "file_extension": ".jl",
   "mimetype": "application/julia",
   "name": "julia",
   "version": "1.0.0"
  }
 },
 "nbformat": 4,
 "nbformat_minor": 1
}
