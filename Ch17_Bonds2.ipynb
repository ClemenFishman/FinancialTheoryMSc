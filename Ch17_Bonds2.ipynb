{
 "cells": [
  {
   "cell_type": "markdown",
   "metadata": {},
   "source": [
    "# Load Packages"
   ]
  },
  {
   "cell_type": "code",
   "execution_count": 1,
   "metadata": {},
   "outputs": [
    {
     "data": {
      "text/plain": [
       "printmatDate"
      ]
     },
     "execution_count": 1,
     "metadata": {},
     "output_type": "execute_result"
    }
   ],
   "source": [
    "using Roots\n",
    "\n",
    "include(\"printmat.jl\")"
   ]
  },
  {
   "cell_type": "code",
   "execution_count": 2,
   "metadata": {},
   "outputs": [
    {
     "data": {
      "text/plain": [
       "Plots.GRBackend()"
      ]
     },
     "execution_count": 2,
     "metadata": {},
     "output_type": "execute_result"
    }
   ],
   "source": [
    "using Plots\n",
    "backend = \"gr\"              #\"gr\" (default), \"pyplot\" \n",
    "\n",
    "if backend == \"pyplot\"\n",
    "    pyplot(size=(600,400))\n",
    "else    \n",
    "    gr(size=(600,400))\n",
    "end"
   ]
  },
  {
   "cell_type": "markdown",
   "metadata": {},
   "source": [
    "### From Chapter on Bonds 1"
   ]
  },
  {
   "cell_type": "code",
   "execution_count": 3,
   "metadata": {},
   "outputs": [
    {
     "data": {
      "text/plain": [
       "BondPrice3"
      ]
     },
     "execution_count": 3,
     "metadata": {},
     "output_type": "execute_result"
    }
   ],
   "source": [
    "\"\"\"\n",
    "Y:  scalar or K vector of interest rates\n",
    "cf: scalar or K vector of cash flows\n",
    "m: K vector of times of cash flows\n",
    "\"\"\"\n",
    "function BondPrice3(Y,cf,m)                #cf is a vector of all cash flows\n",
    "    cdisc = cf./((Y.+1).^m)                #c/(1+y1)^t1 + c/(1+y2)^t2 + ...+ c/(1+y2)^m\n",
    "    P     = sum(cdisc)                     #price\n",
    "    return P\n",
    "end"
   ]
  },
  {
   "cell_type": "markdown",
   "metadata": {},
   "source": [
    "# Bond Return after a Sudden Interest Rate Change\n",
    "\n",
    "The calculations below assume that the yield curve is flat, but that it can shift up or down. This assumption helps us connect to the classical literature on duration hedging.\n",
    "\n",
    "The initial values are indicated by subscript $_0$ and the values after the interest rate change by the subscript $_1$. It is assumed that the change is very sudden, so the time to cash flows are (virtually) the same before and after."
   ]
  },
  {
   "cell_type": "code",
   "execution_count": 4,
   "metadata": {},
   "outputs": [
    {
     "name": "stdout",
     "output_type": "stream",
     "text": [
      "P₀, P₁, change, relative change (as θ changes from 0.02 to 0.03)      0.906     0.863    -0.043    -0.048\n"
     ]
    }
   ],
   "source": [
    "m  = 5\n",
    "θ₀ = 0.02                   #initial interest rate\n",
    "θ₁ = 0.03                   #interest rate after sudden change\n",
    "\n",
    "cf = [zeros(4);1]           #cash flow, 5-period zero-coupon bond          \n",
    "m = 1:5                     #time periods of the cash flows (could also do cf = 1, m = 5)\n",
    "\n",
    "P₀ = BondPrice3(θ₀,cf,m)     #don't really need this for a zero-coupon bond, but it\n",
    "P₁ = BondPrice3(θ₁,cf,m)     #allows us to easily change to more complicated setting\n",
    "ΔP = P₁ - P₀\n",
    "ΔPrel = ΔP/P₀\n",
    "\n",
    "printlnPs(\"P₀, P₁, change, relative change (as θ changes from $θ₀ to $θ₁) \",[P₀ P₁ ΔP ΔPrel])"
   ]
  },
  {
   "cell_type": "code",
   "execution_count": 5,
   "metadata": {},
   "outputs": [
    {
     "name": "stdout",
     "output_type": "stream",
     "text": [
      "\n",
      "Just checking that θ₀ and ytm are the same:      0.020     0.020\n"
     ]
    }
   ],
   "source": [
    "ytm = fzero(y->BondPrice3(y,cf,m)-P₀,[-0.1;0.1])   #testing ytm calculation\n",
    "printlnPs(\"\\nJust checking that θ₀ and ytm are the same: \",[θ₀ ytm])"
   ]
  },
  {
   "cell_type": "markdown",
   "metadata": {},
   "source": [
    "# Macaulay's Duration\n",
    "\n",
    "$D^M = \\sum_{k=1}^{K} m_{k}\\frac{cf_{k}}{\\left(  1+\\theta\\right)  ^{m_{k}}P}$\n",
    "\n",
    "A first-order Taylor approximation gives\n",
    "\n",
    "$\\frac{\\Delta P}{P} = -D^M \\times \\frac{\\Delta \\theta}{1+\\theta}$ "
   ]
  },
  {
   "cell_type": "code",
   "execution_count": 6,
   "metadata": {},
   "outputs": [
    {
     "data": {
      "text/plain": [
       "BondDuration"
      ]
     },
     "execution_count": 6,
     "metadata": {},
     "output_type": "execute_result"
    }
   ],
   "source": [
    "\"\"\"\n",
    "P:   scalar, bond price\n",
    "cf:  scalar or K vector of cash flows\n",
    "m:   K vector of times of cash flows\n",
    "ytm: scalar, yield to maturity\n",
    "\"\"\"\n",
    "function BondDuration(P,cf,m,ytm)\n",
    "    cdisc   = cf.*m./((1+ytm).^(m.+1))      #c/(1+y)^2 + 2c/(1+y)^3 + ...\n",
    "    D       = sum(cdisc)                    #Duration, row vector\n",
    "    Da      = D/P                           #adjusted duration\n",
    "    Dmac    = D*(1+ytm)/P                   #Macaulays duration\n",
    "    return D,Da,Dmac\n",
    "end"
   ]
  },
  {
   "cell_type": "code",
   "execution_count": 7,
   "metadata": {},
   "outputs": [
    {
     "name": "stdout",
     "output_type": "stream",
     "text": [
      "Macaulay's duration:      5.000\n",
      "Exact and approximate relative price change (according to Macaulay's duration):     -0.048    -0.049\n"
     ]
    }
   ],
   "source": [
    "(D,Da,Dmac) = BondDuration(P₀,cf,m,ytm)\n",
    "\n",
    "printlnPs(\"Macaulay's duration: \",Dmac)\n",
    "\n",
    "Δθ           = θ₁ - θ₀\n",
    "ΔPapprox_rel = -Dmac*Δθ/(1+θ₀)\n",
    "\n",
    "printlnPs(\"Exact and approximate relative price change (according to Macaulay's duration): \",[ΔPrel ΔPapprox_rel])"
   ]
  },
  {
   "cell_type": "markdown",
   "metadata": {},
   "source": [
    "# Hedging a Liability Stream\n",
    "\n",
    "We are short one $L$ bond, which is worth $P_L$. To hedge that we buy $h$ units of bond $H$. The balance is put on a money market account $M$ to make the initial value of the portfolio zero ($V=0$)\n",
    "\n",
    "$V=hP_{H}+M-P_{L}$\n",
    "\n",
    "Over a short time interval, the change in the portfolio value is\n",
    "\n",
    "$\\Delta V=h\\Delta P_{H}-\\Delta P_{L}$, which can be approximated as\n",
    "\n",
    "$\\Delta V  =-hD_{H}^{M}P_{H}\\times\\frac{\\Delta\\theta_{H}}{1+\\theta_{H}}+D_{L}^{M} P_{L}\\times\\frac{\\Delta\\theta_{L}}{1+\\theta_{L}}$\n",
    "\n",
    "In the cells below, we assume that the yield curve is flat, so $\\theta_{H} = \\theta_{L}$ both before and after the change."
   ]
  },
  {
   "cell_type": "code",
   "execution_count": 8,
   "metadata": {},
   "outputs": [
    {
     "name": "stdout",
     "output_type": "stream",
     "text": [
      "Value of liability at interest rates 0.05 and 0.04:    369.615   375.370\n",
      "\n",
      "Macaulay's duration of the liability:      1.613\n"
     ]
    }
   ],
   "source": [
    "cf = [150;250]                   #cash flow of liability stream (as positive numbers)\n",
    "m  = [1;2]                       #times of cash flows   \n",
    "θ₀ = 0.05                        #initial interest rate\n",
    "θ₁ = 0.04                        #interest rate after sudden change\n",
    "Δθ = θ₁ - θ₀\n",
    "\n",
    "PL₀ = BondPrice3(θ₀,cf,m)      #price at initial interest rate, no face value  \n",
    "PL₁ = BondPrice3(θ₁,cf,m)      #price at new interest rate\n",
    "\n",
    "printlnPs(\"Value of liability at interest rates $θ₀ and $θ₁: \",[PL₀ PL₁])\n",
    "\n",
    "(_,_,Dmac) = BondDuration(PL₀,cf,m,θ₀)\n",
    "printlnPs(\"\\nMacaulay's duration of the liability: \",Dmac)"
   ]
  },
  {
   "cell_type": "markdown",
   "metadata": {},
   "source": [
    "## Naive Hedging\n",
    "\n",
    "The \"naive\" hedging invests the same amount in the hedge bond as the value of the liability, that is, $hP_{H}=P_{L}$ so $h=P_{L}/P_{H}$. This gives\n",
    "\n",
    "$\\frac{\\Delta V}{P_{L}}\\approx\\left(  D_{L}^{M}-D_{H}^{M}\\right)  \\times\n",
    "\\frac{\\Delta\\theta}{1+\\theta}$\n",
    "\n",
    "It also means that the money market account is not used ($M=0$).\n",
    "\n",
    "In the example below, the hedge bond has a much shorter duration than the liability."
   ]
  },
  {
   "cell_type": "code",
   "execution_count": 9,
   "metadata": {},
   "outputs": [
    {
     "name": "stdout",
     "output_type": "stream",
     "text": [
      "Hedge bond: zero coupon bond with m=0.5 and face value of 100: price and hedge ratio h:     97.590     3.787\n",
      "\n",
      "Macaulay's duration of the liability and of the hedge bond:      1.613     0.500\n",
      "\n",
      "(relative) change of hedge portfolio value (exact):     -0.011\n",
      "\n",
      "(relative) change of hedge portfolio value (approx):     -0.011\n"
     ]
    }
   ],
   "source": [
    "PH₀ = BondPrice3(θ₀,100,0.5)             #0.5 year bill is used as hedge bond\n",
    "PH₁ = BondPrice3(θ₁,100,0.5)      \n",
    "\n",
    "h = PL₀/PH₀\n",
    "\n",
    "printlnPs(\"Hedge bond: zero coupon bond with m=0.5 and face value of 100: price and hedge ratio h: \",[PH₀ h])\n",
    "\n",
    "printlnPs(\"\\nMacaulay's duration of the liability and of the hedge bond: \",Dmac,0.5)\n",
    "\n",
    "ΔV_exact = h*(PH₁-PH₀) - (PL₁-PL₀)\n",
    "printlnPs(\"\\n(relative) change of hedge portfolio value (exact): \",ΔV_exact/PL₀)\n",
    "\n",
    "ΔVrel_approx = (Dmac - 0.5)*Δθ/(1+θ₀)\n",
    "printlnPs(\"\\n(relative) change of hedge portfolio value (approx): \",ΔVrel_approx)"
   ]
  },
  {
   "cell_type": "markdown",
   "metadata": {},
   "source": [
    "## Illustrating the Problem with the Naive Hedging\n",
    "\n",
    "by plotting the value of the liability ($P_L$) and of the hedge bond position ($hP_H$) at different interest rates."
   ]
  },
  {
   "cell_type": "code",
   "execution_count": 10,
   "metadata": {},
   "outputs": [
    {
     "data": {
      "text/html": [
       "<?xml version=\"1.0\" encoding=\"utf-8\"?>\n",
       "<svg xmlns=\"http://www.w3.org/2000/svg\" xmlns:xlink=\"http://www.w3.org/1999/xlink\" width=\"600\" height=\"400\" viewBox=\"0 0 600 400\">\n",
       "<defs>\n",
       "  <clipPath id=\"clip00\">\n",
       "    <rect x=\"0\" y=\"0\" width=\"600\" height=\"400\"/>\n",
       "  </clipPath>\n",
       "</defs>\n",
       "<polygon clip-path=\"url(#clip00)\" points=\"\n",
       "0,400 600,400 600,0 0,0 \n",
       "  \" fill=\"#ffffff\" fill-opacity=\"1\"/>\n",
       "<defs>\n",
       "  <clipPath id=\"clip01\">\n",
       "    <rect x=\"120\" y=\"0\" width=\"421\" height=\"400\"/>\n",
       "  </clipPath>\n",
       "</defs>\n",
       "<polygon clip-path=\"url(#clip00)\" points=\"\n",
       "51.265,360.065 580.315,360.065 580.315,31.4961 51.265,31.4961 \n",
       "  \" fill=\"#ffffff\" fill-opacity=\"1\"/>\n",
       "<defs>\n",
       "  <clipPath id=\"clip02\">\n",
       "    <rect x=\"51\" y=\"31\" width=\"530\" height=\"330\"/>\n",
       "  </clipPath>\n",
       "</defs>\n",
       "<polyline clip-path=\"url(#clip02)\" style=\"stroke:#000000; stroke-width:0.5; stroke-opacity:0.1; fill:none\" points=\"\n",
       "  51.265,360.065 51.265,31.4961 \n",
       "  \"/>\n",
       "<polyline clip-path=\"url(#clip02)\" style=\"stroke:#000000; stroke-width:0.5; stroke-opacity:0.1; fill:none\" points=\"\n",
       "  157.075,360.065 157.075,31.4961 \n",
       "  \"/>\n",
       "<polyline clip-path=\"url(#clip02)\" style=\"stroke:#000000; stroke-width:0.5; stroke-opacity:0.1; fill:none\" points=\"\n",
       "  262.885,360.065 262.885,31.4961 \n",
       "  \"/>\n",
       "<polyline clip-path=\"url(#clip02)\" style=\"stroke:#000000; stroke-width:0.5; stroke-opacity:0.1; fill:none\" points=\"\n",
       "  368.695,360.065 368.695,31.4961 \n",
       "  \"/>\n",
       "<polyline clip-path=\"url(#clip02)\" style=\"stroke:#000000; stroke-width:0.5; stroke-opacity:0.1; fill:none\" points=\"\n",
       "  474.505,360.065 474.505,31.4961 \n",
       "  \"/>\n",
       "<polyline clip-path=\"url(#clip02)\" style=\"stroke:#000000; stroke-width:0.5; stroke-opacity:0.1; fill:none\" points=\"\n",
       "  580.315,360.065 580.315,31.4961 \n",
       "  \"/>\n",
       "<polyline clip-path=\"url(#clip02)\" style=\"stroke:#000000; stroke-width:0.5; stroke-opacity:0.1; fill:none\" points=\"\n",
       "  51.265,319.589 580.315,319.589 \n",
       "  \"/>\n",
       "<polyline clip-path=\"url(#clip02)\" style=\"stroke:#000000; stroke-width:0.5; stroke-opacity:0.1; fill:none\" points=\"\n",
       "  51.265,261.971 580.315,261.971 \n",
       "  \"/>\n",
       "<polyline clip-path=\"url(#clip02)\" style=\"stroke:#000000; stroke-width:0.5; stroke-opacity:0.1; fill:none\" points=\"\n",
       "  51.265,204.352 580.315,204.352 \n",
       "  \"/>\n",
       "<polyline clip-path=\"url(#clip02)\" style=\"stroke:#000000; stroke-width:0.5; stroke-opacity:0.1; fill:none\" points=\"\n",
       "  51.265,146.733 580.315,146.733 \n",
       "  \"/>\n",
       "<polyline clip-path=\"url(#clip02)\" style=\"stroke:#000000; stroke-width:0.5; stroke-opacity:0.1; fill:none\" points=\"\n",
       "  51.265,89.1147 580.315,89.1147 \n",
       "  \"/>\n",
       "<polyline clip-path=\"url(#clip02)\" style=\"stroke:#000000; stroke-width:0.5; stroke-opacity:0.1; fill:none\" points=\"\n",
       "  51.265,31.4961 580.315,31.4961 \n",
       "  \"/>\n",
       "<polyline clip-path=\"url(#clip00)\" style=\"stroke:#000000; stroke-width:1; stroke-opacity:1; fill:none\" points=\"\n",
       "  51.265,360.065 580.315,360.065 \n",
       "  \"/>\n",
       "<polyline clip-path=\"url(#clip00)\" style=\"stroke:#000000; stroke-width:1; stroke-opacity:1; fill:none\" points=\"\n",
       "  51.265,360.065 51.265,31.4961 \n",
       "  \"/>\n",
       "<polyline clip-path=\"url(#clip00)\" style=\"stroke:#000000; stroke-width:1; stroke-opacity:1; fill:none\" points=\"\n",
       "  51.265,360.065 51.265,355.137 \n",
       "  \"/>\n",
       "<polyline clip-path=\"url(#clip00)\" style=\"stroke:#000000; stroke-width:1; stroke-opacity:1; fill:none\" points=\"\n",
       "  157.075,360.065 157.075,355.137 \n",
       "  \"/>\n",
       "<polyline clip-path=\"url(#clip00)\" style=\"stroke:#000000; stroke-width:1; stroke-opacity:1; fill:none\" points=\"\n",
       "  262.885,360.065 262.885,355.137 \n",
       "  \"/>\n",
       "<polyline clip-path=\"url(#clip00)\" style=\"stroke:#000000; stroke-width:1; stroke-opacity:1; fill:none\" points=\"\n",
       "  368.695,360.065 368.695,355.137 \n",
       "  \"/>\n",
       "<polyline clip-path=\"url(#clip00)\" style=\"stroke:#000000; stroke-width:1; stroke-opacity:1; fill:none\" points=\"\n",
       "  474.505,360.065 474.505,355.137 \n",
       "  \"/>\n",
       "<polyline clip-path=\"url(#clip00)\" style=\"stroke:#000000; stroke-width:1; stroke-opacity:1; fill:none\" points=\"\n",
       "  580.315,360.065 580.315,355.137 \n",
       "  \"/>\n",
       "<polyline clip-path=\"url(#clip00)\" style=\"stroke:#000000; stroke-width:1; stroke-opacity:1; fill:none\" points=\"\n",
       "  51.265,319.589 59.2007,319.589 \n",
       "  \"/>\n",
       "<polyline clip-path=\"url(#clip00)\" style=\"stroke:#000000; stroke-width:1; stroke-opacity:1; fill:none\" points=\"\n",
       "  51.265,261.971 59.2007,261.971 \n",
       "  \"/>\n",
       "<polyline clip-path=\"url(#clip00)\" style=\"stroke:#000000; stroke-width:1; stroke-opacity:1; fill:none\" points=\"\n",
       "  51.265,204.352 59.2007,204.352 \n",
       "  \"/>\n",
       "<polyline clip-path=\"url(#clip00)\" style=\"stroke:#000000; stroke-width:1; stroke-opacity:1; fill:none\" points=\"\n",
       "  51.265,146.733 59.2007,146.733 \n",
       "  \"/>\n",
       "<polyline clip-path=\"url(#clip00)\" style=\"stroke:#000000; stroke-width:1; stroke-opacity:1; fill:none\" points=\"\n",
       "  51.265,89.1147 59.2007,89.1147 \n",
       "  \"/>\n",
       "<polyline clip-path=\"url(#clip00)\" style=\"stroke:#000000; stroke-width:1; stroke-opacity:1; fill:none\" points=\"\n",
       "  51.265,31.4961 59.2007,31.4961 \n",
       "  \"/>\n",
       "<g clip-path=\"url(#clip00)\">\n",
       "<text style=\"fill:#000000; fill-opacity:1; font-family:Arial,Helvetica Neue,Helvetica,sans-serif; font-size:12; text-anchor:middle;\" transform=\"rotate(0, 51.265, 373.865)\" x=\"51.265\" y=\"373.865\">0.00</text>\n",
       "</g>\n",
       "<g clip-path=\"url(#clip00)\">\n",
       "<text style=\"fill:#000000; fill-opacity:1; font-family:Arial,Helvetica Neue,Helvetica,sans-serif; font-size:12; text-anchor:middle;\" transform=\"rotate(0, 157.075, 373.865)\" x=\"157.075\" y=\"373.865\">0.02</text>\n",
       "</g>\n",
       "<g clip-path=\"url(#clip00)\">\n",
       "<text style=\"fill:#000000; fill-opacity:1; font-family:Arial,Helvetica Neue,Helvetica,sans-serif; font-size:12; text-anchor:middle;\" transform=\"rotate(0, 262.885, 373.865)\" x=\"262.885\" y=\"373.865\">0.04</text>\n",
       "</g>\n",
       "<g clip-path=\"url(#clip00)\">\n",
       "<text style=\"fill:#000000; fill-opacity:1; font-family:Arial,Helvetica Neue,Helvetica,sans-serif; font-size:12; text-anchor:middle;\" transform=\"rotate(0, 368.695, 373.865)\" x=\"368.695\" y=\"373.865\">0.06</text>\n",
       "</g>\n",
       "<g clip-path=\"url(#clip00)\">\n",
       "<text style=\"fill:#000000; fill-opacity:1; font-family:Arial,Helvetica Neue,Helvetica,sans-serif; font-size:12; text-anchor:middle;\" transform=\"rotate(0, 474.505, 373.865)\" x=\"474.505\" y=\"373.865\">0.08</text>\n",
       "</g>\n",
       "<g clip-path=\"url(#clip00)\">\n",
       "<text style=\"fill:#000000; fill-opacity:1; font-family:Arial,Helvetica Neue,Helvetica,sans-serif; font-size:12; text-anchor:middle;\" transform=\"rotate(0, 580.315, 373.865)\" x=\"580.315\" y=\"373.865\">0.10</text>\n",
       "</g>\n",
       "<g clip-path=\"url(#clip00)\">\n",
       "<text style=\"fill:#000000; fill-opacity:1; font-family:Arial,Helvetica Neue,Helvetica,sans-serif; font-size:12; text-anchor:end;\" transform=\"rotate(0, 45.265, 324.089)\" x=\"45.265\" y=\"324.089\">350</text>\n",
       "</g>\n",
       "<g clip-path=\"url(#clip00)\">\n",
       "<text style=\"fill:#000000; fill-opacity:1; font-family:Arial,Helvetica Neue,Helvetica,sans-serif; font-size:12; text-anchor:end;\" transform=\"rotate(0, 45.265, 266.471)\" x=\"45.265\" y=\"266.471\">360</text>\n",
       "</g>\n",
       "<g clip-path=\"url(#clip00)\">\n",
       "<text style=\"fill:#000000; fill-opacity:1; font-family:Arial,Helvetica Neue,Helvetica,sans-serif; font-size:12; text-anchor:end;\" transform=\"rotate(0, 45.265, 208.852)\" x=\"45.265\" y=\"208.852\">370</text>\n",
       "</g>\n",
       "<g clip-path=\"url(#clip00)\">\n",
       "<text style=\"fill:#000000; fill-opacity:1; font-family:Arial,Helvetica Neue,Helvetica,sans-serif; font-size:12; text-anchor:end;\" transform=\"rotate(0, 45.265, 151.233)\" x=\"45.265\" y=\"151.233\">380</text>\n",
       "</g>\n",
       "<g clip-path=\"url(#clip00)\">\n",
       "<text style=\"fill:#000000; fill-opacity:1; font-family:Arial,Helvetica Neue,Helvetica,sans-serif; font-size:12; text-anchor:end;\" transform=\"rotate(0, 45.265, 93.6147)\" x=\"45.265\" y=\"93.6147\">390</text>\n",
       "</g>\n",
       "<g clip-path=\"url(#clip00)\">\n",
       "<text style=\"fill:#000000; fill-opacity:1; font-family:Arial,Helvetica Neue,Helvetica,sans-serif; font-size:12; text-anchor:end;\" transform=\"rotate(0, 45.265, 35.9961)\" x=\"45.265\" y=\"35.9961\">400</text>\n",
       "</g>\n",
       "<g clip-path=\"url(#clip00)\">\n",
       "<text style=\"fill:#000000; fill-opacity:1; font-family:Arial,Helvetica Neue,Helvetica,sans-serif; font-size:21; text-anchor:middle;\" transform=\"rotate(0, 315.79, 18)\" x=\"315.79\" y=\"18\">Naive hedging: the hedge position is not interest rate sensitive enough</text>\n",
       "</g>\n",
       "<g clip-path=\"url(#clip00)\">\n",
       "<text style=\"fill:#000000; fill-opacity:1; font-family:Arial,Helvetica Neue,Helvetica,sans-serif; font-size:16; text-anchor:middle;\" transform=\"rotate(0, 315.79, 397.6)\" x=\"315.79\" y=\"397.6\">Interest rate</text>\n",
       "</g>\n",
       "<g clip-path=\"url(#clip00)\">\n",
       "<text style=\"fill:#000000; fill-opacity:1; font-family:Arial,Helvetica Neue,Helvetica,sans-serif; font-size:16; text-anchor:middle;\" transform=\"rotate(-90, 14.4, 195.781)\" x=\"14.4\" y=\"195.781\">Value of position</text>\n",
       "</g>\n",
       "<polyline clip-path=\"url(#clip02)\" style=\"stroke:#009af9; stroke-width:1; stroke-opacity:1; fill:none\" points=\"\n",
       "  51.265,31.4961 104.17,68.4362 157.075,104.378 209.98,139.358 262.885,173.412 315.79,206.573 368.695,238.874 421.6,270.345 474.505,301.016 527.41,330.913 \n",
       "  580.315,360.065 \n",
       "  \"/>\n",
       "<polyline clip-path=\"url(#clip02)\" style=\"stroke:#e26f46; stroke-width:1; stroke-opacity:1; fill:none\" points=\"\n",
       "  51.265,153.981 104.17,164.811 157.075,175.482 209.98,185.996 262.885,196.359 315.79,206.573 368.695,216.643 421.6,226.571 474.505,236.36 527.41,246.015 \n",
       "  580.315,255.538 \n",
       "  \"/>\n",
       "<polygon clip-path=\"url(#clip00)\" points=\"\n",
       "396.241,97.7361 562.315,97.7361 562.315,52.3761 396.241,52.3761 \n",
       "  \" fill=\"#ffffff\" fill-opacity=\"1\"/>\n",
       "<polyline clip-path=\"url(#clip00)\" style=\"stroke:#000000; stroke-width:1; stroke-opacity:1; fill:none\" points=\"\n",
       "  396.241,97.7361 562.315,97.7361 562.315,52.3761 396.241,52.3761 396.241,97.7361 \n",
       "  \"/>\n",
       "<polyline clip-path=\"url(#clip00)\" style=\"stroke:#009af9; stroke-width:1; stroke-opacity:1; fill:none\" points=\"\n",
       "  402.241,67.4961 438.241,67.4961 \n",
       "  \"/>\n",
       "<g clip-path=\"url(#clip00)\">\n",
       "<text style=\"fill:#000000; fill-opacity:1; font-family:Arial,Helvetica Neue,Helvetica,sans-serif; font-size:12; text-anchor:start;\" transform=\"rotate(0, 444.241, 71.9961)\" x=\"444.241\" y=\"71.9961\">liability</text>\n",
       "</g>\n",
       "<polyline clip-path=\"url(#clip00)\" style=\"stroke:#e26f46; stroke-width:1; stroke-opacity:1; fill:none\" points=\"\n",
       "  402.241,82.6161 438.241,82.6161 \n",
       "  \"/>\n",
       "<g clip-path=\"url(#clip00)\">\n",
       "<text style=\"fill:#000000; fill-opacity:1; font-family:Arial,Helvetica Neue,Helvetica,sans-serif; font-size:12; text-anchor:start;\" transform=\"rotate(0, 444.241, 87.1161)\" x=\"444.241\" y=\"87.1161\">h* hedge bond price</text>\n",
       "</g>\n",
       "<g clip-path=\"url(#clip00)\">\n",
       "<text style=\"fill:#000000; fill-opacity:1; font-family:Arial,Helvetica Neue,Helvetica,sans-serif; font-size:21; text-anchor:middle;\" transform=\"rotate(0, 157.075, 315.749)\" x=\"157.075\" y=\"315.749\">The interest rates are</text>\n",
       "</g>\n",
       "<g clip-path=\"url(#clip00)\">\n",
       "<text style=\"fill:#000000; fill-opacity:1; font-family:Arial,Helvetica Neue,Helvetica,sans-serif; font-size:21; text-anchor:middle;\" transform=\"rotate(0, 157.075, 338.429)\" x=\"157.075\" y=\"338.429\"> 0.05 (before) and 0.04 (after)</text>\n",
       "</g>\n",
       "</svg>\n"
      ]
     },
     "execution_count": 10,
     "metadata": {},
     "output_type": "execute_result"
    }
   ],
   "source": [
    "θ = 0:0.01:0.1\n",
    "\n",
    "(PL,PH) = (fill(NaN,length(θ)),fill(NaN,length(θ)))\n",
    "for i = 1:length(θ)\n",
    "    PL[i] = BondPrice3(θ[i],cf,m)  \n",
    "    PH[i] = BondPrice3(θ[i],100,0.5)\n",
    "end\n",
    "\n",
    "plot(θ,PL,label=\"liability\")\n",
    "plot!(θ,h*PH,label=\"h* hedge bond price\")\n",
    "title!(\"Naive hedging: the hedge position is not interest rate sensitive enough\")\n",
    "xlabel!(\"Interest rate\")\n",
    "ylabel!(\"Value of position\")\n",
    "annotate!(0.02,350,\"The interest rates are\\n $θ₀ (before) and $θ₁ (after)\")"
   ]
  },
  {
   "cell_type": "markdown",
   "metadata": {},
   "source": [
    "## Duration Matching\n",
    "\n",
    "Choose a hedge bond with the same duration as the liability and invest equally much into each.\n",
    "\n",
    "This is a special case of the naive hedging where $D_{L}^{M}=D_{H}$. Clearly, this gives $\\frac{\\Delta V}{P_{L}}\\approx 0$."
   ]
  },
  {
   "cell_type": "code",
   "execution_count": 11,
   "metadata": {},
   "outputs": [
    {
     "name": "stdout",
     "output_type": "stream",
     "text": [
      "A zero coupon bond with m=1.61 and face value of 100: price and hedge ratio h:     92.430     3.999\n",
      "\n",
      "(relative) change of hedge portolio value (exact):     -0.000\n",
      "\n",
      "(relative) change of hedge portolio value (approx): is constructed to be 0\n"
     ]
    }
   ],
   "source": [
    "PH₀ = BondPrice3(θ₀,100,Dmac)             \n",
    "PH₁ = BondPrice3(θ₁,100,Dmac)      \n",
    "h = PL₀/PH₀\n",
    "printlnPs(\"A zero coupon bond with m=$(round(Dmac,2)) and face value of 100: price and hedge ratio h: \",[PH₀ h])\n",
    "\n",
    "ΔV_exact = h*(PH₁-PH₀) - (PL₁-PL₀)\n",
    "printlnPs(\"\\n(relative) change of hedge portolio value (exact): \",ΔV_exact/PL₀)\n",
    "\n",
    "printlnPs(\"\\n(relative) change of hedge portolio value (approx): is constructed to be 0\")"
   ]
  },
  {
   "cell_type": "markdown",
   "metadata": {},
   "source": [
    "## Duration Hedging\n",
    "\n",
    "In this case, $D_{L}^{M}\\neq D_{H}$, but we adjust the hedge ratio $h$ to compensate for that. In particular, set \n",
    "\n",
    "$h =\\frac{D_{L}^{M}}{D_{H}^{M}}\\times\\frac{P_{L}}{P_{H}}$ to get\n",
    "\n",
    "$\\frac{\\Delta V}{P_{L}}\\approx D_{L}^{M}\\times\\left(  \\frac{\\Delta\\theta_{L} }{1+\\theta_{L}}-\\frac{\\Delta\\theta_{H}}{1+\\theta_{H}}\\right)$.\n",
    "\n",
    "The balance $(P_L-hP_H)$ is kept on a money market account ($M$)."
   ]
  },
  {
   "cell_type": "code",
   "execution_count": 12,
   "metadata": {},
   "outputs": [
    {
     "name": "stdout",
     "output_type": "stream",
     "text": [
      "A zero coupon bond with m=0.5 and face value of 100: price and hedge ratio h:     97.590    12.222\n",
      "\n",
      "(relative) change of hedge portolio value (exact):     -0.000\n",
      "\n",
      "(relative) change of hedge portolio value (approx): is constructed to be 0\n",
      "\n",
      "Notice that we keep h*PH-PL on the money market account  -823.129\n"
     ]
    }
   ],
   "source": [
    "PH₀ = BondPrice3(θ₀,100,0.5)             \n",
    "PH₁ = BondPrice3(θ₁,100,0.5)      \n",
    "h = Dmac/0.5 * PL₀/PH₀\n",
    "printlnPs(\"A zero coupon bond with m=0.5 and face value of 100: price and hedge ratio h: \",[PH₀ h])\n",
    "\n",
    "ΔV_exact = h*(PH₁-PH₀) - (PL₁-PL₀)\n",
    "printlnPs(\"\\n(relative) change of hedge portolio value (exact): \",ΔV_exact/PL₀)\n",
    "\n",
    "printlnPs(\"\\n(relative) change of hedge portolio value (approx): is constructed to be 0\")\n",
    "\n",
    "printlnPs(\"\\nNotice that we keep h*PH-PL on the money market account\",PL₀-h*PH₀)"
   ]
  },
  {
   "cell_type": "code",
   "execution_count": null,
   "metadata": {},
   "outputs": [],
   "source": []
  }
 ],
 "metadata": {
  "anaconda-cloud": {},
  "kernelspec": {
   "display_name": "Julia 0.6.1",
   "language": "julia",
   "name": "julia-0.6"
  },
  "language_info": {
   "file_extension": ".jl",
   "mimetype": "application/julia",
   "name": "julia",
   "version": "0.6.1"
  }
 },
 "nbformat": 4,
 "nbformat_minor": 1
}
