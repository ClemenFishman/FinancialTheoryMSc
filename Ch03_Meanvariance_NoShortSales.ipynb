{
 "cells": [
  {
   "cell_type": "markdown",
   "metadata": {},
   "source": [
    "# Mean Variance Frontier w/w.o Short Sales Constraints"
   ]
  },
  {
   "cell_type": "markdown",
   "metadata": {},
   "source": [
    "This code below calculates mean variances frontiers (a) when there are no restrictions on the portfolio weights and (b) when we impose the restriction that no weights can be negative.\n",
    "\n",
    "The latter case requires a numerical minimization routine (the code uses quadprog), which comes from the packages MathProgBase and Ipopt. You may have to install these to run the code (see below for instructions)."
   ]
  },
  {
   "cell_type": "markdown",
   "metadata": {},
   "source": [
    "# Load Packages"
   ]
  },
  {
   "cell_type": "code",
   "execution_count": 1,
   "metadata": {},
   "outputs": [
    {
     "data": {
      "text/plain": [
       "printmatDate"
      ]
     },
     "execution_count": 1,
     "metadata": {},
     "output_type": "execute_result"
    }
   ],
   "source": [
    "using MathProgBase, Ipopt\n",
    "#using Dates       #Julia 0.7\n",
    "\n",
    "include(\"printmat.jl\")    "
   ]
  },
  {
   "cell_type": "code",
   "execution_count": 2,
   "metadata": {},
   "outputs": [
    {
     "data": {
      "text/plain": [
       "Plots.GRBackend()"
      ]
     },
     "execution_count": 2,
     "metadata": {},
     "output_type": "execute_result"
    }
   ],
   "source": [
    "using Plots\n",
    "backend = \"gr\"              #\"gr\" (default), \"pyplot\" \n",
    "\n",
    "if backend == \"pyplot\"\n",
    "    pyplot(size=(600,400))\n",
    "else    \n",
    "    gr(size=(600,400))\n",
    "end"
   ]
  },
  {
   "cell_type": "markdown",
   "metadata": {},
   "source": [
    "# The Inputs to the MV Calculations"
   ]
  },
  {
   "cell_type": "code",
   "execution_count": 3,
   "metadata": {},
   "outputs": [
    {
     "name": "stdout",
     "output_type": "stream",
     "text": [
      "μ, Σ and Rf: \n",
      "     0.115\n",
      "     0.095\n",
      "     0.060\n",
      "\n",
      "     0.017     0.003     0.006\n",
      "     0.003     0.006     0.000\n",
      "     0.006     0.000     0.010\n",
      "\n",
      "     0.030\n"
     ]
    }
   ],
   "source": [
    "μ = [0.115; 0.095; 0.06]    #expected returns\n",
    "Σ  = [166  34  58;          #covariance matrix\n",
    "       34  64   4;\n",
    "       58   4 100]/100^2                  \n",
    "Rf = 0.03\n",
    "\n",
    "println(\"μ, Σ and Rf: \")\n",
    "printmat(μ)\n",
    "printmat(Σ)\n",
    "printlnPs(Rf)"
   ]
  },
  {
   "cell_type": "markdown",
   "metadata": {},
   "source": [
    "## From Ch2 Notebook (MV Frontier without portfolio restrictions)"
   ]
  },
  {
   "cell_type": "code",
   "execution_count": 4,
   "metadata": {},
   "outputs": [
    {
     "data": {
      "text/plain": [
       "MVCalc (generic function with 1 method)"
      ]
     },
     "execution_count": 4,
     "metadata": {},
     "output_type": "execute_result"
    }
   ],
   "source": [
    "function MVCalc(mustar,μ,Σ)           #calculates the std of a portfolio on MVF\n",
    "    n    = length(μ)\n",
    "    oneV = ones(n) \n",
    "    Σ_1  = inv(Σ)\n",
    "    A    = μ'Σ_1*μ\n",
    "    B    = μ'Σ_1*oneV\n",
    "    C    = oneV'Σ_1*oneV\n",
    "    λ    = (C*mustar - B)/(A*C-B^2)\n",
    "    δ    = (A-B*mustar)/(A*C-B^2)\n",
    "    w    = Σ_1 *(μ*λ + oneV*δ)\n",
    "    StdRp = sqrt(w'Σ*w)\n",
    "    return StdRp,w\n",
    "end"
   ]
  },
  {
   "cell_type": "code",
   "execution_count": 5,
   "metadata": {},
   "outputs": [],
   "source": [
    "mustar = linspace(0.04,0.15,101)\n",
    "L      = length(mustar)\n",
    "StdRp  = fill(NaN,L)\n",
    "for i = 1:L\n",
    "    StdRp[i] = MVCalc(mustar[i],μ,Σ)[1]\n",
    "end    "
   ]
  },
  {
   "cell_type": "code",
   "execution_count": 6,
   "metadata": {},
   "outputs": [
    {
     "data": {
      "text/html": [
       "<?xml version=\"1.0\" encoding=\"utf-8\"?>\n",
       "<svg xmlns=\"http://www.w3.org/2000/svg\" xmlns:xlink=\"http://www.w3.org/1999/xlink\" width=\"600\" height=\"400\" viewBox=\"0 0 600 400\">\n",
       "<defs>\n",
       "  <clipPath id=\"clip00\">\n",
       "    <rect x=\"0\" y=\"0\" width=\"600\" height=\"400\"/>\n",
       "  </clipPath>\n",
       "</defs>\n",
       "<polygon clip-path=\"url(#clip00)\" points=\"\n",
       "0,400 600,400 600,0 0,0 \n",
       "  \" fill=\"#ffffff\" fill-opacity=\"1\"/>\n",
       "<defs>\n",
       "  <clipPath id=\"clip01\">\n",
       "    <rect x=\"120\" y=\"0\" width=\"421\" height=\"400\"/>\n",
       "  </clipPath>\n",
       "</defs>\n",
       "<polygon clip-path=\"url(#clip00)\" points=\"\n",
       "44.6753,360.065 580.315,360.065 580.315,31.4961 44.6753,31.4961 \n",
       "  \" fill=\"#ffffff\" fill-opacity=\"1\"/>\n",
       "<defs>\n",
       "  <clipPath id=\"clip02\">\n",
       "    <rect x=\"44\" y=\"31\" width=\"537\" height=\"330\"/>\n",
       "  </clipPath>\n",
       "</defs>\n",
       "<polyline clip-path=\"url(#clip02)\" style=\"stroke:#000000; stroke-width:0.5; stroke-opacity:0.1; fill:none\" points=\"\n",
       "  44.6753,360.065 44.6753,31.4961 \n",
       "  \"/>\n",
       "<polyline clip-path=\"url(#clip02)\" style=\"stroke:#000000; stroke-width:0.5; stroke-opacity:0.1; fill:none\" points=\"\n",
       "  223.222,360.065 223.222,31.4961 \n",
       "  \"/>\n",
       "<polyline clip-path=\"url(#clip02)\" style=\"stroke:#000000; stroke-width:0.5; stroke-opacity:0.1; fill:none\" points=\"\n",
       "  401.768,360.065 401.768,31.4961 \n",
       "  \"/>\n",
       "<polyline clip-path=\"url(#clip02)\" style=\"stroke:#000000; stroke-width:0.5; stroke-opacity:0.1; fill:none\" points=\"\n",
       "  580.315,360.065 580.315,31.4961 \n",
       "  \"/>\n",
       "<polyline clip-path=\"url(#clip02)\" style=\"stroke:#000000; stroke-width:0.5; stroke-opacity:0.1; fill:none\" points=\"\n",
       "  44.6753,360.065 580.315,360.065 \n",
       "  \"/>\n",
       "<polyline clip-path=\"url(#clip02)\" style=\"stroke:#000000; stroke-width:0.5; stroke-opacity:0.1; fill:none\" points=\"\n",
       "  44.6753,250.542 580.315,250.542 \n",
       "  \"/>\n",
       "<polyline clip-path=\"url(#clip02)\" style=\"stroke:#000000; stroke-width:0.5; stroke-opacity:0.1; fill:none\" points=\"\n",
       "  44.6753,141.019 580.315,141.019 \n",
       "  \"/>\n",
       "<polyline clip-path=\"url(#clip02)\" style=\"stroke:#000000; stroke-width:0.5; stroke-opacity:0.1; fill:none\" points=\"\n",
       "  44.6753,31.4961 580.315,31.4961 \n",
       "  \"/>\n",
       "<polyline clip-path=\"url(#clip00)\" style=\"stroke:#000000; stroke-width:1; stroke-opacity:1; fill:none\" points=\"\n",
       "  44.6753,360.065 580.315,360.065 \n",
       "  \"/>\n",
       "<polyline clip-path=\"url(#clip00)\" style=\"stroke:#000000; stroke-width:1; stroke-opacity:1; fill:none\" points=\"\n",
       "  44.6753,360.065 44.6753,31.4961 \n",
       "  \"/>\n",
       "<polyline clip-path=\"url(#clip00)\" style=\"stroke:#000000; stroke-width:1; stroke-opacity:1; fill:none\" points=\"\n",
       "  44.6753,360.065 44.6753,355.137 \n",
       "  \"/>\n",
       "<polyline clip-path=\"url(#clip00)\" style=\"stroke:#000000; stroke-width:1; stroke-opacity:1; fill:none\" points=\"\n",
       "  223.222,360.065 223.222,355.137 \n",
       "  \"/>\n",
       "<polyline clip-path=\"url(#clip00)\" style=\"stroke:#000000; stroke-width:1; stroke-opacity:1; fill:none\" points=\"\n",
       "  401.768,360.065 401.768,355.137 \n",
       "  \"/>\n",
       "<polyline clip-path=\"url(#clip00)\" style=\"stroke:#000000; stroke-width:1; stroke-opacity:1; fill:none\" points=\"\n",
       "  580.315,360.065 580.315,355.137 \n",
       "  \"/>\n",
       "<polyline clip-path=\"url(#clip00)\" style=\"stroke:#000000; stroke-width:1; stroke-opacity:1; fill:none\" points=\"\n",
       "  44.6753,360.065 52.7099,360.065 \n",
       "  \"/>\n",
       "<polyline clip-path=\"url(#clip00)\" style=\"stroke:#000000; stroke-width:1; stroke-opacity:1; fill:none\" points=\"\n",
       "  44.6753,250.542 52.7099,250.542 \n",
       "  \"/>\n",
       "<polyline clip-path=\"url(#clip00)\" style=\"stroke:#000000; stroke-width:1; stroke-opacity:1; fill:none\" points=\"\n",
       "  44.6753,141.019 52.7099,141.019 \n",
       "  \"/>\n",
       "<polyline clip-path=\"url(#clip00)\" style=\"stroke:#000000; stroke-width:1; stroke-opacity:1; fill:none\" points=\"\n",
       "  44.6753,31.4961 52.7099,31.4961 \n",
       "  \"/>\n",
       "<g clip-path=\"url(#clip00)\">\n",
       "<text style=\"fill:#000000; fill-opacity:1; font-family:Arial,Helvetica Neue,Helvetica,sans-serif; font-size:12; text-anchor:middle;\" transform=\"rotate(0, 44.6753, 373.865)\" x=\"44.6753\" y=\"373.865\">0</text>\n",
       "</g>\n",
       "<g clip-path=\"url(#clip00)\">\n",
       "<text style=\"fill:#000000; fill-opacity:1; font-family:Arial,Helvetica Neue,Helvetica,sans-serif; font-size:12; text-anchor:middle;\" transform=\"rotate(0, 223.222, 373.865)\" x=\"223.222\" y=\"373.865\">5</text>\n",
       "</g>\n",
       "<g clip-path=\"url(#clip00)\">\n",
       "<text style=\"fill:#000000; fill-opacity:1; font-family:Arial,Helvetica Neue,Helvetica,sans-serif; font-size:12; text-anchor:middle;\" transform=\"rotate(0, 401.768, 373.865)\" x=\"401.768\" y=\"373.865\">10</text>\n",
       "</g>\n",
       "<g clip-path=\"url(#clip00)\">\n",
       "<text style=\"fill:#000000; fill-opacity:1; font-family:Arial,Helvetica Neue,Helvetica,sans-serif; font-size:12; text-anchor:middle;\" transform=\"rotate(0, 580.315, 373.865)\" x=\"580.315\" y=\"373.865\">15</text>\n",
       "</g>\n",
       "<g clip-path=\"url(#clip00)\">\n",
       "<text style=\"fill:#000000; fill-opacity:1; font-family:Arial,Helvetica Neue,Helvetica,sans-serif; font-size:12; text-anchor:end;\" transform=\"rotate(0, 38.6753, 364.565)\" x=\"38.6753\" y=\"364.565\">0</text>\n",
       "</g>\n",
       "<g clip-path=\"url(#clip00)\">\n",
       "<text style=\"fill:#000000; fill-opacity:1; font-family:Arial,Helvetica Neue,Helvetica,sans-serif; font-size:12; text-anchor:end;\" transform=\"rotate(0, 38.6753, 255.042)\" x=\"38.6753\" y=\"255.042\">5</text>\n",
       "</g>\n",
       "<g clip-path=\"url(#clip00)\">\n",
       "<text style=\"fill:#000000; fill-opacity:1; font-family:Arial,Helvetica Neue,Helvetica,sans-serif; font-size:12; text-anchor:end;\" transform=\"rotate(0, 38.6753, 145.519)\" x=\"38.6753\" y=\"145.519\">10</text>\n",
       "</g>\n",
       "<g clip-path=\"url(#clip00)\">\n",
       "<text style=\"fill:#000000; fill-opacity:1; font-family:Arial,Helvetica Neue,Helvetica,sans-serif; font-size:12; text-anchor:end;\" transform=\"rotate(0, 38.6753, 35.9961)\" x=\"38.6753\" y=\"35.9961\">15</text>\n",
       "</g>\n",
       "<g clip-path=\"url(#clip00)\">\n",
       "<text style=\"fill:#000000; fill-opacity:1; font-family:Arial,Helvetica Neue,Helvetica,sans-serif; font-size:21; text-anchor:middle;\" transform=\"rotate(0, 312.495, 18)\" x=\"312.495\" y=\"18\">Mean variance frontier (no portfolio restrictions)</text>\n",
       "</g>\n",
       "<g clip-path=\"url(#clip00)\">\n",
       "<text style=\"fill:#000000; fill-opacity:1; font-family:Arial,Helvetica Neue,Helvetica,sans-serif; font-size:16; text-anchor:middle;\" transform=\"rotate(0, 312.495, 397.6)\" x=\"312.495\" y=\"397.6\">Std(Rp), %</text>\n",
       "</g>\n",
       "<g clip-path=\"url(#clip00)\">\n",
       "<text style=\"fill:#000000; fill-opacity:1; font-family:Arial,Helvetica Neue,Helvetica,sans-serif; font-size:16; text-anchor:middle;\" transform=\"rotate(-90, 14.4, 195.781)\" x=\"14.4\" y=\"195.781\">ERp, %</text>\n",
       "</g>\n",
       "<polyline clip-path=\"url(#clip02)\" style=\"stroke:#ff0000; stroke-width:2; stroke-opacity:1; fill:none\" points=\"\n",
       "  437.294,272.447 430.316,270.037 423.405,267.628 416.565,265.218 409.801,262.809 403.116,260.399 396.516,257.99 390.004,255.58 383.586,253.171 377.268,250.761 \n",
       "  371.055,248.352 364.953,245.942 358.969,243.533 353.11,241.123 347.383,238.714 341.796,236.304 336.356,233.895 331.072,231.485 325.953,229.076 321.008,226.666 \n",
       "  316.246,224.257 311.678,221.847 307.313,219.438 303.162,217.028 299.235,214.619 295.543,212.209 292.095,209.8 288.904,207.39 285.978,204.981 283.328,202.571 \n",
       "  280.962,200.162 278.89,197.752 277.119,195.343 275.656,192.933 274.507,190.524 273.677,188.114 273.169,185.705 272.985,183.295 273.127,180.886 273.593,178.476 \n",
       "  274.382,176.067 275.49,173.657 276.913,171.248 278.645,168.838 280.679,166.429 283.007,164.019 285.621,161.61 288.512,159.2 291.67,156.791 295.085,154.381 \n",
       "  298.747,151.971 302.644,149.562 306.767,147.152 311.105,144.743 315.648,142.333 320.385,139.924 325.307,137.514 330.404,135.105 335.667,132.695 341.088,130.286 \n",
       "  346.657,127.876 352.366,125.467 358.209,123.057 364.177,120.648 370.264,118.238 376.463,115.829 382.768,113.419 389.173,111.01 395.673,108.6 402.262,106.191 \n",
       "  408.937,103.781 415.691,101.372 422.521,98.9623 429.423,96.5528 436.393,94.1433 443.427,91.7338 450.523,89.3243 457.676,86.9148 464.884,84.5053 472.145,82.0957 \n",
       "  479.455,79.6862 486.812,77.2767 494.214,74.8672 501.659,72.4577 509.144,70.0482 516.668,67.6387 524.228,65.2292 531.824,62.8197 539.453,60.4102 547.115,58.0007 \n",
       "  554.806,55.5911 562.527,53.1816 570.276,50.7721 578.051,48.3626 585.852,45.9531 593.678,43.5436 601.527,41.1341 609.398,38.7246 617.291,36.3151 625.204,33.9056 \n",
       "  633.137,31.4961 \n",
       "  \"/>\n",
       "</svg>\n"
      ]
     },
     "execution_count": 6,
     "metadata": {},
     "output_type": "execute_result"
    }
   ],
   "source": [
    "plot(StdRp*100,mustar*100,color=:red,linewidth=2,legend=false)\n",
    "plot!(xlim=(0,15),ylim=(0,15))\n",
    "title!(\"Mean variance frontier (no portfolio restrictions)\")\n",
    "xlabel!(\"Std(Rp), %\")\n",
    "ylabel!(\"ERp, %\")"
   ]
  },
  {
   "cell_type": "markdown",
   "metadata": {},
   "source": [
    "## MV Frontier when Short Sales are Not Allowed"
   ]
  },
  {
   "cell_type": "markdown",
   "metadata": {},
   "source": [
    "The code below solves (numerically) the following minimization problem \n",
    "\n",
    "$\\min \\text{Var}(R_p) \\> \\text{ s.t. } \\>  \\text{E}R_p = \\mu^*$,\n",
    " \n",
    "and where we require $w_i\\ge 0$\n",
    " \n",
    "The code below calls on\n",
    "```\n",
    "quadprog(zeros(N),Sigma,A,'=',b,zeros(N),ones(N),IpoptSolver(print_level=1))\n",
    "```\n",
    "\n",
    "This means that we minimize\n",
    "    $0'w + w' \\Sigma w/2$ subject to the restrictions $A w = b$ and $0 \\leq w \\leq 1$. The equality constraints ($A w = b$) are used to impose $1'w=1$ and $\\mu'w = \\mu^*$ (se the code below)."
   ]
  },
  {
   "cell_type": "code",
   "execution_count": 7,
   "metadata": {},
   "outputs": [
    {
     "data": {
      "text/plain": [
       "MeanVarNoSSPs (generic function with 1 method)"
      ]
     },
     "execution_count": 7,
     "metadata": {},
     "output_type": "execute_result"
    }
   ],
   "source": [
    "function MeanVarNoSSPs(mu,Sigma,mustar)   #MV with no short-sales, numerical minimization\n",
    "    (w_p,StdRp) = (NaN,NaN)     #default result (if no feasible solution)        \n",
    "    N = length(mu)\n",
    "    if minimum(mu) <= mustar <= maximum(mu)  #try only if feasible\n",
    "        A   = [ones(1,N);mu']                #1'w=1, mu'w = mustar\n",
    "        b   = [1;mustar]\n",
    "        Sol = quadprog(zeros(N),Sigma,A,'=',b,zeros(N),ones(N),IpoptSolver(print_level=1))\n",
    "        if Sol.status == :Optimal\n",
    "            w_p = Sol.sol\n",
    "            StdRp = sqrt(w_p'Sigma*w_p)\n",
    "        end    \n",
    "    end    \n",
    "    return StdRp,w_p\n",
    "end"
   ]
  },
  {
   "cell_type": "code",
   "execution_count": 8,
   "metadata": {},
   "outputs": [
    {
     "name": "stdout",
     "output_type": "stream",
     "text": [
      "\n",
      "******************************************************************************\n",
      "This program contains Ipopt, a library for large-scale nonlinear optimization.\n",
      " Ipopt is released as open source code under the Eclipse Public License (EPL).\n",
      "         For more information visit http://projects.coin-or.org/Ipopt\n",
      "******************************************************************************\n",
      "\n"
     ]
    }
   ],
   "source": [
    "Std_no_ss = fill(NaN,length(mustar))\n",
    "for i = 1:length(mustar)\n",
    "    Std_no_ss[i] = MeanVarNoSSPs(μ,Σ,mustar[i])[1]     #[1] to get first output\n",
    "end"
   ]
  },
  {
   "cell_type": "code",
   "execution_count": 9,
   "metadata": {},
   "outputs": [
    {
     "data": {
      "text/html": [
       "<?xml version=\"1.0\" encoding=\"utf-8\"?>\n",
       "<svg xmlns=\"http://www.w3.org/2000/svg\" xmlns:xlink=\"http://www.w3.org/1999/xlink\" width=\"600\" height=\"400\" viewBox=\"0 0 600 400\">\n",
       "<defs>\n",
       "  <clipPath id=\"clip00\">\n",
       "    <rect x=\"0\" y=\"0\" width=\"600\" height=\"400\"/>\n",
       "  </clipPath>\n",
       "</defs>\n",
       "<polygon clip-path=\"url(#clip00)\" points=\"\n",
       "0,400 600,400 600,0 0,0 \n",
       "  \" fill=\"#ffffff\" fill-opacity=\"1\"/>\n",
       "<defs>\n",
       "  <clipPath id=\"clip01\">\n",
       "    <rect x=\"120\" y=\"0\" width=\"421\" height=\"400\"/>\n",
       "  </clipPath>\n",
       "</defs>\n",
       "<polygon clip-path=\"url(#clip00)\" points=\"\n",
       "44.6753,360.065 580.315,360.065 580.315,31.4961 44.6753,31.4961 \n",
       "  \" fill=\"#ffffff\" fill-opacity=\"1\"/>\n",
       "<defs>\n",
       "  <clipPath id=\"clip02\">\n",
       "    <rect x=\"44\" y=\"31\" width=\"537\" height=\"330\"/>\n",
       "  </clipPath>\n",
       "</defs>\n",
       "<polyline clip-path=\"url(#clip02)\" style=\"stroke:#000000; stroke-width:0.5; stroke-opacity:0.1; fill:none\" points=\"\n",
       "  44.6753,360.065 44.6753,31.4961 \n",
       "  \"/>\n",
       "<polyline clip-path=\"url(#clip02)\" style=\"stroke:#000000; stroke-width:0.5; stroke-opacity:0.1; fill:none\" points=\"\n",
       "  223.222,360.065 223.222,31.4961 \n",
       "  \"/>\n",
       "<polyline clip-path=\"url(#clip02)\" style=\"stroke:#000000; stroke-width:0.5; stroke-opacity:0.1; fill:none\" points=\"\n",
       "  401.768,360.065 401.768,31.4961 \n",
       "  \"/>\n",
       "<polyline clip-path=\"url(#clip02)\" style=\"stroke:#000000; stroke-width:0.5; stroke-opacity:0.1; fill:none\" points=\"\n",
       "  580.315,360.065 580.315,31.4961 \n",
       "  \"/>\n",
       "<polyline clip-path=\"url(#clip02)\" style=\"stroke:#000000; stroke-width:0.5; stroke-opacity:0.1; fill:none\" points=\"\n",
       "  44.6753,360.065 580.315,360.065 \n",
       "  \"/>\n",
       "<polyline clip-path=\"url(#clip02)\" style=\"stroke:#000000; stroke-width:0.5; stroke-opacity:0.1; fill:none\" points=\"\n",
       "  44.6753,250.542 580.315,250.542 \n",
       "  \"/>\n",
       "<polyline clip-path=\"url(#clip02)\" style=\"stroke:#000000; stroke-width:0.5; stroke-opacity:0.1; fill:none\" points=\"\n",
       "  44.6753,141.019 580.315,141.019 \n",
       "  \"/>\n",
       "<polyline clip-path=\"url(#clip02)\" style=\"stroke:#000000; stroke-width:0.5; stroke-opacity:0.1; fill:none\" points=\"\n",
       "  44.6753,31.4961 580.315,31.4961 \n",
       "  \"/>\n",
       "<polyline clip-path=\"url(#clip00)\" style=\"stroke:#000000; stroke-width:1; stroke-opacity:1; fill:none\" points=\"\n",
       "  44.6753,360.065 580.315,360.065 \n",
       "  \"/>\n",
       "<polyline clip-path=\"url(#clip00)\" style=\"stroke:#000000; stroke-width:1; stroke-opacity:1; fill:none\" points=\"\n",
       "  44.6753,360.065 44.6753,31.4961 \n",
       "  \"/>\n",
       "<polyline clip-path=\"url(#clip00)\" style=\"stroke:#000000; stroke-width:1; stroke-opacity:1; fill:none\" points=\"\n",
       "  44.6753,360.065 44.6753,355.137 \n",
       "  \"/>\n",
       "<polyline clip-path=\"url(#clip00)\" style=\"stroke:#000000; stroke-width:1; stroke-opacity:1; fill:none\" points=\"\n",
       "  223.222,360.065 223.222,355.137 \n",
       "  \"/>\n",
       "<polyline clip-path=\"url(#clip00)\" style=\"stroke:#000000; stroke-width:1; stroke-opacity:1; fill:none\" points=\"\n",
       "  401.768,360.065 401.768,355.137 \n",
       "  \"/>\n",
       "<polyline clip-path=\"url(#clip00)\" style=\"stroke:#000000; stroke-width:1; stroke-opacity:1; fill:none\" points=\"\n",
       "  580.315,360.065 580.315,355.137 \n",
       "  \"/>\n",
       "<polyline clip-path=\"url(#clip00)\" style=\"stroke:#000000; stroke-width:1; stroke-opacity:1; fill:none\" points=\"\n",
       "  44.6753,360.065 52.7099,360.065 \n",
       "  \"/>\n",
       "<polyline clip-path=\"url(#clip00)\" style=\"stroke:#000000; stroke-width:1; stroke-opacity:1; fill:none\" points=\"\n",
       "  44.6753,250.542 52.7099,250.542 \n",
       "  \"/>\n",
       "<polyline clip-path=\"url(#clip00)\" style=\"stroke:#000000; stroke-width:1; stroke-opacity:1; fill:none\" points=\"\n",
       "  44.6753,141.019 52.7099,141.019 \n",
       "  \"/>\n",
       "<polyline clip-path=\"url(#clip00)\" style=\"stroke:#000000; stroke-width:1; stroke-opacity:1; fill:none\" points=\"\n",
       "  44.6753,31.4961 52.7099,31.4961 \n",
       "  \"/>\n",
       "<g clip-path=\"url(#clip00)\">\n",
       "<text style=\"fill:#000000; fill-opacity:1; font-family:Arial,Helvetica Neue,Helvetica,sans-serif; font-size:12; text-anchor:middle;\" transform=\"rotate(0, 44.6753, 373.865)\" x=\"44.6753\" y=\"373.865\">0</text>\n",
       "</g>\n",
       "<g clip-path=\"url(#clip00)\">\n",
       "<text style=\"fill:#000000; fill-opacity:1; font-family:Arial,Helvetica Neue,Helvetica,sans-serif; font-size:12; text-anchor:middle;\" transform=\"rotate(0, 223.222, 373.865)\" x=\"223.222\" y=\"373.865\">5</text>\n",
       "</g>\n",
       "<g clip-path=\"url(#clip00)\">\n",
       "<text style=\"fill:#000000; fill-opacity:1; font-family:Arial,Helvetica Neue,Helvetica,sans-serif; font-size:12; text-anchor:middle;\" transform=\"rotate(0, 401.768, 373.865)\" x=\"401.768\" y=\"373.865\">10</text>\n",
       "</g>\n",
       "<g clip-path=\"url(#clip00)\">\n",
       "<text style=\"fill:#000000; fill-opacity:1; font-family:Arial,Helvetica Neue,Helvetica,sans-serif; font-size:12; text-anchor:middle;\" transform=\"rotate(0, 580.315, 373.865)\" x=\"580.315\" y=\"373.865\">15</text>\n",
       "</g>\n",
       "<g clip-path=\"url(#clip00)\">\n",
       "<text style=\"fill:#000000; fill-opacity:1; font-family:Arial,Helvetica Neue,Helvetica,sans-serif; font-size:12; text-anchor:end;\" transform=\"rotate(0, 38.6753, 364.565)\" x=\"38.6753\" y=\"364.565\">0</text>\n",
       "</g>\n",
       "<g clip-path=\"url(#clip00)\">\n",
       "<text style=\"fill:#000000; fill-opacity:1; font-family:Arial,Helvetica Neue,Helvetica,sans-serif; font-size:12; text-anchor:end;\" transform=\"rotate(0, 38.6753, 255.042)\" x=\"38.6753\" y=\"255.042\">5</text>\n",
       "</g>\n",
       "<g clip-path=\"url(#clip00)\">\n",
       "<text style=\"fill:#000000; fill-opacity:1; font-family:Arial,Helvetica Neue,Helvetica,sans-serif; font-size:12; text-anchor:end;\" transform=\"rotate(0, 38.6753, 145.519)\" x=\"38.6753\" y=\"145.519\">10</text>\n",
       "</g>\n",
       "<g clip-path=\"url(#clip00)\">\n",
       "<text style=\"fill:#000000; fill-opacity:1; font-family:Arial,Helvetica Neue,Helvetica,sans-serif; font-size:12; text-anchor:end;\" transform=\"rotate(0, 38.6753, 35.9961)\" x=\"38.6753\" y=\"35.9961\">15</text>\n",
       "</g>\n",
       "<g clip-path=\"url(#clip00)\">\n",
       "<text style=\"fill:#000000; fill-opacity:1; font-family:Arial,Helvetica Neue,Helvetica,sans-serif; font-size:21; text-anchor:middle;\" transform=\"rotate(0, 312.495, 18)\" x=\"312.495\" y=\"18\">Mean variance frontier (no portfolio restrictions)</text>\n",
       "</g>\n",
       "<g clip-path=\"url(#clip00)\">\n",
       "<text style=\"fill:#000000; fill-opacity:1; font-family:Arial,Helvetica Neue,Helvetica,sans-serif; font-size:16; text-anchor:middle;\" transform=\"rotate(0, 312.495, 397.6)\" x=\"312.495\" y=\"397.6\">Std(Rp), %</text>\n",
       "</g>\n",
       "<g clip-path=\"url(#clip00)\">\n",
       "<text style=\"fill:#000000; fill-opacity:1; font-family:Arial,Helvetica Neue,Helvetica,sans-serif; font-size:16; text-anchor:middle;\" transform=\"rotate(-90, 14.4, 195.781)\" x=\"14.4\" y=\"195.781\">ERp, %</text>\n",
       "</g>\n",
       "<polyline clip-path=\"url(#clip02)\" style=\"stroke:#ff0000; stroke-width:2; stroke-opacity:1; fill:none\" points=\"\n",
       "  437.294,272.447 430.316,270.037 423.405,267.628 416.565,265.218 409.801,262.809 403.116,260.399 396.516,257.99 390.004,255.58 383.586,253.171 377.268,250.761 \n",
       "  371.055,248.352 364.953,245.942 358.969,243.533 353.11,241.123 347.383,238.714 341.796,236.304 336.356,233.895 331.072,231.485 325.953,229.076 321.008,226.666 \n",
       "  316.246,224.257 311.678,221.847 307.313,219.438 303.162,217.028 299.235,214.619 295.543,212.209 292.095,209.8 288.904,207.39 285.978,204.981 283.328,202.571 \n",
       "  280.962,200.162 278.89,197.752 277.119,195.343 275.656,192.933 274.507,190.524 273.677,188.114 273.169,185.705 272.985,183.295 273.127,180.886 273.593,178.476 \n",
       "  274.382,176.067 275.49,173.657 276.913,171.248 278.645,168.838 280.679,166.429 283.007,164.019 285.621,161.61 288.512,159.2 291.67,156.791 295.085,154.381 \n",
       "  298.747,151.971 302.644,149.562 306.767,147.152 311.105,144.743 315.648,142.333 320.385,139.924 325.307,137.514 330.404,135.105 335.667,132.695 341.088,130.286 \n",
       "  346.657,127.876 352.366,125.467 358.209,123.057 364.177,120.648 370.264,118.238 376.463,115.829 382.768,113.419 389.173,111.01 395.673,108.6 402.262,106.191 \n",
       "  408.937,103.781 415.691,101.372 422.521,98.9623 429.423,96.5528 436.393,94.1433 443.427,91.7338 450.523,89.3243 457.676,86.9148 464.884,84.5053 472.145,82.0957 \n",
       "  479.455,79.6862 486.812,77.2767 494.214,74.8672 501.659,72.4577 509.144,70.0482 516.668,67.6387 524.228,65.2292 531.824,62.8197 539.453,60.4102 547.115,58.0007 \n",
       "  554.806,55.5911 562.527,53.1816 570.276,50.7721 578.051,48.3626 585.852,45.9531 593.678,43.5436 601.527,41.1341 609.398,38.7246 617.291,36.3151 625.204,33.9056 \n",
       "  633.137,31.4961 \n",
       "  \"/>\n",
       "<polyline clip-path=\"url(#clip02)\" style=\"stroke:#008000; stroke-width:2; stroke-opacity:1; fill:none\" stroke-dasharray=\"8, 5\" points=\"\n",
       "  393.031,226.666 382.573,224.257 372.381,221.847 362.481,219.438 352.901,217.028 343.67,214.619 334.824,212.209 326.398,209.8 318.43,207.39 310.963,204.981 \n",
       "  304.038,202.571 297.701,200.162 291.998,197.752 286.971,195.343 282.666,192.933 279.12,190.524 276.37,188.114 274.444,185.705 273.362,183.295 273.137,180.886 \n",
       "  273.593,178.476 274.382,176.067 275.49,173.657 276.913,171.248 278.645,168.838 280.679,166.429 283.007,164.019 285.621,161.61 288.512,159.2 291.67,156.791 \n",
       "  295.085,154.381 298.747,151.971 302.644,149.562 306.767,147.152 311.105,144.743 315.648,142.333 320.385,139.924 325.492,137.514 332.379,135.105 341.22,132.695 \n",
       "  351.846,130.286 364.079,127.876 377.742,125.467 392.667,123.057 408.698,120.648 425.695,118.238 443.536,115.829 462.112,113.419 481.33,111.01 501.107,108.6 \n",
       "  \n",
       "  \"/>\n",
       "<polygon clip-path=\"url(#clip00)\" points=\"\n",
       "405.509,97.7361 562.315,97.7361 562.315,52.3761 405.509,52.3761 \n",
       "  \" fill=\"#ffffff\" fill-opacity=\"1\"/>\n",
       "<polyline clip-path=\"url(#clip00)\" style=\"stroke:#000000; stroke-width:1; stroke-opacity:1; fill:none\" points=\"\n",
       "  405.509,97.7361 562.315,97.7361 562.315,52.3761 405.509,52.3761 405.509,97.7361 \n",
       "  \"/>\n",
       "<polyline clip-path=\"url(#clip00)\" style=\"stroke:#ff0000; stroke-width:2; stroke-opacity:1; fill:none\" points=\"\n",
       "  411.509,67.4961 447.509,67.4961 \n",
       "  \"/>\n",
       "<g clip-path=\"url(#clip00)\">\n",
       "<text style=\"fill:#000000; fill-opacity:1; font-family:Arial,Helvetica Neue,Helvetica,sans-serif; font-size:12; text-anchor:start;\" transform=\"rotate(0, 453.509, 71.9961)\" x=\"453.509\" y=\"71.9961\">Risky only</text>\n",
       "</g>\n",
       "<polyline clip-path=\"url(#clip00)\" style=\"stroke:#008000; stroke-width:2; stroke-opacity:1; fill:none\" stroke-dasharray=\"8, 5\" points=\"\n",
       "  411.509,82.6161 447.509,82.6161 \n",
       "  \"/>\n",
       "<g clip-path=\"url(#clip00)\">\n",
       "<text style=\"fill:#000000; fill-opacity:1; font-family:Arial,Helvetica Neue,Helvetica,sans-serif; font-size:12; text-anchor:start;\" transform=\"rotate(0, 453.509, 87.1161)\" x=\"453.509\" y=\"87.1161\">Risky only (no ss) </text>\n",
       "</g>\n",
       "</svg>\n"
      ]
     },
     "execution_count": 9,
     "metadata": {},
     "output_type": "execute_result"
    }
   ],
   "source": [
    "plot(StdRp*100,mustar*100,color=:red,linewidth=2,label=\"Risky only\")\n",
    "plot!(Std_no_ss*100,mustar*100,color=:green,line=(:dash,2),label=\"Risky only (no ss) \")\n",
    "plot!(xlim=(0,15),ylim=(0,15))\n",
    "title!(\"Mean variance frontier (no portfolio restrictions)\")\n",
    "xlabel!(\"Std(Rp), %\")\n",
    "ylabel!(\"ERp, %\")"
   ]
  },
  {
   "cell_type": "code",
   "execution_count": null,
   "metadata": {
    "collapsed": true
   },
   "outputs": [],
   "source": []
  }
 ],
 "metadata": {
  "anaconda-cloud": {},
  "kernelspec": {
   "display_name": "Julia 0.6.2",
   "language": "julia",
   "name": "julia-0.6"
  },
  "language_info": {
   "file_extension": ".jl",
   "mimetype": "application/julia",
   "name": "julia",
   "version": "0.6.2"
  }
 },
 "nbformat": 4,
 "nbformat_minor": 1
}
