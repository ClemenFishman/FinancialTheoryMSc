{
 "cells": [
  {
   "cell_type": "markdown",
   "metadata": {
    "deletable": true,
    "editable": true
   },
   "source": [
    "## Load Packages"
   ]
  },
  {
   "cell_type": "code",
   "execution_count": 1,
   "metadata": {
    "collapsed": false,
    "deletable": true,
    "editable": true
   },
   "outputs": [
    {
     "data": {
      "text/plain": [
       "println4Ps (generic function with 1 method)"
      ]
     },
     "execution_count": 1,
     "metadata": {},
     "output_type": "execute_result"
    }
   ],
   "source": [
    "using Roots\n",
    "\n",
    "include(\"printmat.jl\")"
   ]
  },
  {
   "cell_type": "code",
   "execution_count": 2,
   "metadata": {
    "collapsed": false,
    "deletable": true,
    "editable": true
   },
   "outputs": [
    {
     "data": {
      "text/plain": [
       "Plots.GRBackend()"
      ]
     },
     "execution_count": 2,
     "metadata": {},
     "output_type": "execute_result"
    }
   ],
   "source": [
    "using Plots\n",
    "backend = \"gr\"              #\"gr\" (default), \"pyplot\" \n",
    "\n",
    "if backend == \"pyplot\"\n",
    "    pyplot(size=(600,400))\n",
    "else    \n",
    "    gr(size=(600,400))\n",
    "end"
   ]
  },
  {
   "cell_type": "markdown",
   "metadata": {
    "deletable": true,
    "editable": true
   },
   "source": [
    "# Interest Rate vs (Zero Coupon) Bond Price"
   ]
  },
  {
   "cell_type": "markdown",
   "metadata": {
    "deletable": true,
    "editable": true
   },
   "source": [
    "Recall: the bond price (for maturity $m$) and the the effective interest rate follow\n",
    "\n",
    "$B(m) = [1+Y(m)]^{-m}$\n",
    "\n",
    "Instead, with a continuously compounded interest rate we have \n",
    "\n",
    "$B(m) = e^{-m y(m)}$"
   ]
  },
  {
   "cell_type": "code",
   "execution_count": 3,
   "metadata": {
    "collapsed": false,
    "deletable": true,
    "editable": true
   },
   "outputs": [
    {
     "data": {
      "text/html": [
       "<?xml version=\"1.0\" encoding=\"utf-8\"?>\n",
       "<svg xmlns=\"http://www.w3.org/2000/svg\" xmlns:xlink=\"http://www.w3.org/1999/xlink\" width=\"600\" height=\"400\" viewBox=\"0 0 600 400\">\n",
       "<defs>\n",
       "  <clipPath id=\"clip00\">\n",
       "    <rect x=\"0\" y=\"0\" width=\"600\" height=\"400\"/>\n",
       "  </clipPath>\n",
       "</defs>\n",
       "<polygon clip-path=\"url(#clip00)\" points=\"\n",
       "0,400 600,400 600,0 0,0 \n",
       "  \" fill=\"#ffffff\" fill-opacity=\"1\"/>\n",
       "<defs>\n",
       "  <clipPath id=\"clip01\">\n",
       "    <rect x=\"120\" y=\"0\" width=\"421\" height=\"400\"/>\n",
       "  </clipPath>\n",
       "</defs>\n",
       "<polygon clip-path=\"url(#clip00)\" points=\"\n",
       "39.3701,368.504 592.126,368.504 592.126,7.87402 39.3701,7.87402 \n",
       "  \" fill=\"#ffffff\" fill-opacity=\"1\"/>\n",
       "<defs>\n",
       "  <clipPath id=\"clip02\">\n",
       "    <rect x=\"39\" y=\"7\" width=\"554\" height=\"362\"/>\n",
       "  </clipPath>\n",
       "</defs>\n",
       "<polyline clip-path=\"url(#clip02)\" style=\"stroke:#000000; stroke-width:1; stroke-opacity:0.5; fill:none\" stroke-dasharray=\"1, 2\" points=\"\n",
       "  39.3701,363.094 39.3701,13.2835 \n",
       "  \"/>\n",
       "<polyline clip-path=\"url(#clip02)\" style=\"stroke:#000000; stroke-width:1; stroke-opacity:0.5; fill:none\" stroke-dasharray=\"1, 2\" points=\"\n",
       "  118.335,363.094 118.335,13.2835 \n",
       "  \"/>\n",
       "<polyline clip-path=\"url(#clip02)\" style=\"stroke:#000000; stroke-width:1; stroke-opacity:0.5; fill:none\" stroke-dasharray=\"1, 2\" points=\"\n",
       "  197.3,363.094 197.3,13.2835 \n",
       "  \"/>\n",
       "<polyline clip-path=\"url(#clip02)\" style=\"stroke:#000000; stroke-width:1; stroke-opacity:0.5; fill:none\" stroke-dasharray=\"1, 2\" points=\"\n",
       "  276.265,363.094 276.265,13.2835 \n",
       "  \"/>\n",
       "<polyline clip-path=\"url(#clip02)\" style=\"stroke:#000000; stroke-width:1; stroke-opacity:0.5; fill:none\" stroke-dasharray=\"1, 2\" points=\"\n",
       "  355.231,363.094 355.231,13.2835 \n",
       "  \"/>\n",
       "<polyline clip-path=\"url(#clip02)\" style=\"stroke:#000000; stroke-width:1; stroke-opacity:0.5; fill:none\" stroke-dasharray=\"1, 2\" points=\"\n",
       "  434.196,363.094 434.196,13.2835 \n",
       "  \"/>\n",
       "<polyline clip-path=\"url(#clip02)\" style=\"stroke:#000000; stroke-width:1; stroke-opacity:0.5; fill:none\" stroke-dasharray=\"1, 2\" points=\"\n",
       "  513.161,363.094 513.161,13.2835 \n",
       "  \"/>\n",
       "<polyline clip-path=\"url(#clip02)\" style=\"stroke:#000000; stroke-width:1; stroke-opacity:0.5; fill:none\" stroke-dasharray=\"1, 2\" points=\"\n",
       "  592.126,363.094 592.126,13.2835 \n",
       "  \"/>\n",
       "<polyline clip-path=\"url(#clip02)\" style=\"stroke:#000000; stroke-width:1; stroke-opacity:0.5; fill:none\" stroke-dasharray=\"1, 2\" points=\"\n",
       "  47.6614,301.277 583.835,301.277 \n",
       "  \"/>\n",
       "<polyline clip-path=\"url(#clip02)\" style=\"stroke:#000000; stroke-width:1; stroke-opacity:0.5; fill:none\" stroke-dasharray=\"1, 2\" points=\"\n",
       "  47.6614,227.927 583.835,227.927 \n",
       "  \"/>\n",
       "<polyline clip-path=\"url(#clip02)\" style=\"stroke:#000000; stroke-width:1; stroke-opacity:0.5; fill:none\" stroke-dasharray=\"1, 2\" points=\"\n",
       "  47.6614,154.576 583.835,154.576 \n",
       "  \"/>\n",
       "<polyline clip-path=\"url(#clip02)\" style=\"stroke:#000000; stroke-width:1; stroke-opacity:0.5; fill:none\" stroke-dasharray=\"1, 2\" points=\"\n",
       "  47.6614,81.2249 583.835,81.2249 \n",
       "  \"/>\n",
       "<polyline clip-path=\"url(#clip02)\" style=\"stroke:#000000; stroke-width:1; stroke-opacity:0.5; fill:none\" stroke-dasharray=\"1, 2\" points=\"\n",
       "  47.6614,7.87402 583.835,7.87402 \n",
       "  \"/>\n",
       "<polyline clip-path=\"url(#clip00)\" style=\"stroke:#000000; stroke-width:1; stroke-opacity:1; fill:none\" points=\"\n",
       "  39.3701,368.504 592.126,368.504 \n",
       "  \"/>\n",
       "<polyline clip-path=\"url(#clip00)\" style=\"stroke:#000000; stroke-width:1; stroke-opacity:1; fill:none\" points=\"\n",
       "  39.3701,368.504 39.3701,363.094 \n",
       "  \"/>\n",
       "<polyline clip-path=\"url(#clip00)\" style=\"stroke:#000000; stroke-width:1; stroke-opacity:1; fill:none\" points=\"\n",
       "  118.335,368.504 118.335,363.094 \n",
       "  \"/>\n",
       "<polyline clip-path=\"url(#clip00)\" style=\"stroke:#000000; stroke-width:1; stroke-opacity:1; fill:none\" points=\"\n",
       "  197.3,368.504 197.3,363.094 \n",
       "  \"/>\n",
       "<polyline clip-path=\"url(#clip00)\" style=\"stroke:#000000; stroke-width:1; stroke-opacity:1; fill:none\" points=\"\n",
       "  276.265,368.504 276.265,363.094 \n",
       "  \"/>\n",
       "<polyline clip-path=\"url(#clip00)\" style=\"stroke:#000000; stroke-width:1; stroke-opacity:1; fill:none\" points=\"\n",
       "  355.231,368.504 355.231,363.094 \n",
       "  \"/>\n",
       "<polyline clip-path=\"url(#clip00)\" style=\"stroke:#000000; stroke-width:1; stroke-opacity:1; fill:none\" points=\"\n",
       "  434.196,368.504 434.196,363.094 \n",
       "  \"/>\n",
       "<polyline clip-path=\"url(#clip00)\" style=\"stroke:#000000; stroke-width:1; stroke-opacity:1; fill:none\" points=\"\n",
       "  513.161,368.504 513.161,363.094 \n",
       "  \"/>\n",
       "<polyline clip-path=\"url(#clip00)\" style=\"stroke:#000000; stroke-width:1; stroke-opacity:1; fill:none\" points=\"\n",
       "  592.126,368.504 592.126,363.094 \n",
       "  \"/>\n",
       "<polyline clip-path=\"url(#clip00)\" style=\"stroke:#000000; stroke-width:1; stroke-opacity:1; fill:none\" points=\"\n",
       "  39.3701,368.504 39.3701,7.87402 \n",
       "  \"/>\n",
       "<polyline clip-path=\"url(#clip00)\" style=\"stroke:#000000; stroke-width:1; stroke-opacity:1; fill:none\" points=\"\n",
       "  39.3701,301.277 47.6614,301.277 \n",
       "  \"/>\n",
       "<polyline clip-path=\"url(#clip00)\" style=\"stroke:#000000; stroke-width:1; stroke-opacity:1; fill:none\" points=\"\n",
       "  39.3701,227.927 47.6614,227.927 \n",
       "  \"/>\n",
       "<polyline clip-path=\"url(#clip00)\" style=\"stroke:#000000; stroke-width:1; stroke-opacity:1; fill:none\" points=\"\n",
       "  39.3701,154.576 47.6614,154.576 \n",
       "  \"/>\n",
       "<polyline clip-path=\"url(#clip00)\" style=\"stroke:#000000; stroke-width:1; stroke-opacity:1; fill:none\" points=\"\n",
       "  39.3701,81.2249 47.6614,81.2249 \n",
       "  \"/>\n",
       "<polyline clip-path=\"url(#clip00)\" style=\"stroke:#000000; stroke-width:1; stroke-opacity:1; fill:none\" points=\"\n",
       "  39.3701,7.87402 47.6614,7.87402 \n",
       "  \"/>\n",
       "<g clip-path=\"url(#clip00)\">\n",
       "<text style=\"fill:#000000; fill-opacity:1; font-family:Arial,Helvetica Neue,Helvetica,sans-serif; font-size:12; text-anchor:middle;\" transform=\"rotate(0, 39.3701, 382.304)\" x=\"39.3701\" y=\"382.304\">0.00</text>\n",
       "</g>\n",
       "<g clip-path=\"url(#clip00)\">\n",
       "<text style=\"fill:#000000; fill-opacity:1; font-family:Arial,Helvetica Neue,Helvetica,sans-serif; font-size:12; text-anchor:middle;\" transform=\"rotate(0, 118.335, 382.304)\" x=\"118.335\" y=\"382.304\">0.01</text>\n",
       "</g>\n",
       "<g clip-path=\"url(#clip00)\">\n",
       "<text style=\"fill:#000000; fill-opacity:1; font-family:Arial,Helvetica Neue,Helvetica,sans-serif; font-size:12; text-anchor:middle;\" transform=\"rotate(0, 197.3, 382.304)\" x=\"197.3\" y=\"382.304\">0.02</text>\n",
       "</g>\n",
       "<g clip-path=\"url(#clip00)\">\n",
       "<text style=\"fill:#000000; fill-opacity:1; font-family:Arial,Helvetica Neue,Helvetica,sans-serif; font-size:12; text-anchor:middle;\" transform=\"rotate(0, 276.265, 382.304)\" x=\"276.265\" y=\"382.304\">0.03</text>\n",
       "</g>\n",
       "<g clip-path=\"url(#clip00)\">\n",
       "<text style=\"fill:#000000; fill-opacity:1; font-family:Arial,Helvetica Neue,Helvetica,sans-serif; font-size:12; text-anchor:middle;\" transform=\"rotate(0, 355.231, 382.304)\" x=\"355.231\" y=\"382.304\">0.04</text>\n",
       "</g>\n",
       "<g clip-path=\"url(#clip00)\">\n",
       "<text style=\"fill:#000000; fill-opacity:1; font-family:Arial,Helvetica Neue,Helvetica,sans-serif; font-size:12; text-anchor:middle;\" transform=\"rotate(0, 434.196, 382.304)\" x=\"434.196\" y=\"382.304\">0.05</text>\n",
       "</g>\n",
       "<g clip-path=\"url(#clip00)\">\n",
       "<text style=\"fill:#000000; fill-opacity:1; font-family:Arial,Helvetica Neue,Helvetica,sans-serif; font-size:12; text-anchor:middle;\" transform=\"rotate(0, 513.161, 382.304)\" x=\"513.161\" y=\"382.304\">0.06</text>\n",
       "</g>\n",
       "<g clip-path=\"url(#clip00)\">\n",
       "<text style=\"fill:#000000; fill-opacity:1; font-family:Arial,Helvetica Neue,Helvetica,sans-serif; font-size:12; text-anchor:middle;\" transform=\"rotate(0, 592.126, 382.304)\" x=\"592.126\" y=\"382.304\">0.07</text>\n",
       "</g>\n",
       "<g clip-path=\"url(#clip00)\">\n",
       "<text style=\"fill:#000000; fill-opacity:1; font-family:Arial,Helvetica Neue,Helvetica,sans-serif; font-size:12; text-anchor:end;\" transform=\"rotate(0, 33.3701, 305.777)\" x=\"33.3701\" y=\"305.777\">0.6</text>\n",
       "</g>\n",
       "<g clip-path=\"url(#clip00)\">\n",
       "<text style=\"fill:#000000; fill-opacity:1; font-family:Arial,Helvetica Neue,Helvetica,sans-serif; font-size:12; text-anchor:end;\" transform=\"rotate(0, 33.3701, 232.427)\" x=\"33.3701\" y=\"232.427\">0.7</text>\n",
       "</g>\n",
       "<g clip-path=\"url(#clip00)\">\n",
       "<text style=\"fill:#000000; fill-opacity:1; font-family:Arial,Helvetica Neue,Helvetica,sans-serif; font-size:12; text-anchor:end;\" transform=\"rotate(0, 33.3701, 159.076)\" x=\"33.3701\" y=\"159.076\">0.8</text>\n",
       "</g>\n",
       "<g clip-path=\"url(#clip00)\">\n",
       "<text style=\"fill:#000000; fill-opacity:1; font-family:Arial,Helvetica Neue,Helvetica,sans-serif; font-size:12; text-anchor:end;\" transform=\"rotate(0, 33.3701, 85.7249)\" x=\"33.3701\" y=\"85.7249\">0.9</text>\n",
       "</g>\n",
       "<g clip-path=\"url(#clip00)\">\n",
       "<text style=\"fill:#000000; fill-opacity:1; font-family:Arial,Helvetica Neue,Helvetica,sans-serif; font-size:12; text-anchor:end;\" transform=\"rotate(0, 33.3701, 12.374)\" x=\"33.3701\" y=\"12.374\">1.0</text>\n",
       "</g>\n",
       "<g clip-path=\"url(#clip00)\">\n",
       "<text style=\"fill:#000000; fill-opacity:1; font-family:Arial,Helvetica Neue,Helvetica,sans-serif; font-size:21; text-anchor:middle;\" transform=\"rotate(0, 315.748, 18)\" x=\"315.748\" y=\"18\">Bond prices and rates</text>\n",
       "</g>\n",
       "<g clip-path=\"url(#clip00)\">\n",
       "<text style=\"fill:#000000; fill-opacity:1; font-family:Arial,Helvetica Neue,Helvetica,sans-serif; font-size:16; text-anchor:middle;\" transform=\"rotate(0, 315.748, 397.6)\" x=\"315.748\" y=\"397.6\">Interest rate</text>\n",
       "</g>\n",
       "<g clip-path=\"url(#clip00)\">\n",
       "<text style=\"fill:#000000; fill-opacity:1; font-family:Arial,Helvetica Neue,Helvetica,sans-serif; font-size:16; text-anchor:middle;\" transform=\"rotate(-90, 14.4, 188.189)\" x=\"14.4\" y=\"188.189\">Bond price</text>\n",
       "</g>\n",
       "<polyline clip-path=\"url(#clip02)\" style=\"stroke:#ff0000; stroke-width:2; stroke-opacity:1; fill:none\" points=\"\n",
       "  39.3701,7.87402 118.335,15.1365 197.3,22.2565 276.265,29.2383 355.231,36.0859 434.196,42.803 513.161,49.3934 592.126,55.8605 \n",
       "  \"/>\n",
       "<polyline clip-path=\"url(#clip02)\" style=\"stroke:#008000; stroke-width:2; stroke-opacity:1; fill:none\" stroke-dasharray=\"8, 5\" points=\"\n",
       "  39.3701,7.87402 118.335,77.3468 197.3,139.65 276.265,195.583 355.231,245.85 434.196,291.072 513.161,331.795 592.126,368.504 \n",
       "  \"/>\n",
       "<polygon clip-path=\"url(#clip00)\" points=\"\n",
       "495.021,74.114 574.126,74.114 574.126,28.754 495.021,28.754 \n",
       "  \" fill=\"#ffffff\" fill-opacity=\"1\"/>\n",
       "<polyline clip-path=\"url(#clip00)\" style=\"stroke:#000000; stroke-width:1; stroke-opacity:1; fill:none\" points=\"\n",
       "  495.021,74.114 574.126,74.114 574.126,28.754 495.021,28.754 495.021,74.114 \n",
       "  \"/>\n",
       "<polyline clip-path=\"url(#clip00)\" style=\"stroke:#ff0000; stroke-width:2; stroke-opacity:1; fill:none\" points=\"\n",
       "  501.021,43.874 537.021,43.874 \n",
       "  \"/>\n",
       "<g clip-path=\"url(#clip00)\">\n",
       "<text style=\"fill:#000000; fill-opacity:1; font-family:Arial,Helvetica Neue,Helvetica,sans-serif; font-size:12; text-anchor:start;\" transform=\"rotate(0, 543.021, 48.374)\" x=\"543.021\" y=\"48.374\">1y</text>\n",
       "</g>\n",
       "<polyline clip-path=\"url(#clip00)\" style=\"stroke:#008000; stroke-width:2; stroke-opacity:1; fill:none\" stroke-dasharray=\"8, 5\" points=\"\n",
       "  501.021,58.994 537.021,58.994 \n",
       "  \"/>\n",
       "<g clip-path=\"url(#clip00)\">\n",
       "<text style=\"fill:#000000; fill-opacity:1; font-family:Arial,Helvetica Neue,Helvetica,sans-serif; font-size:12; text-anchor:start;\" transform=\"rotate(0, 543.021, 63.494)\" x=\"543.021\" y=\"63.494\">10y</text>\n",
       "</g>\n",
       "</svg>\n"
      ]
     },
     "execution_count": 3,
     "metadata": {},
     "output_type": "execute_result"
    }
   ],
   "source": [
    "Ym  = 0:0.01:0.07               #consider different interest rates\n",
    "B1  = (1 + Ym).^(-1)\n",
    "B10 = (1 + Ym).^(-10)\n",
    "\n",
    "\n",
    "plot(Ym,B1,color=:red,linewidth=2,label=\"1y\")\n",
    "plot!(Ym,B10,color=:green,line=(:dash,2),label=\"10y\")\n",
    "title!(\"Bond prices and rates\")\n",
    "xlabel!(\"Interest rate\")\n",
    "ylabel!(\"Bond price\")"
   ]
  },
  {
   "cell_type": "code",
   "execution_count": 4,
   "metadata": {
    "collapsed": false,
    "deletable": true,
    "editable": true
   },
   "outputs": [
    {
     "name": "stdout",
     "output_type": "stream",
     "text": [
      "Effective and continuously compounded interest rates:      0.108     0.103\n"
     ]
    }
   ],
   "source": [
    "m  = 0.5                              #maturity\n",
    "B  = 0.95                             #bond price\n",
    "Y  = B^(-1/m) - 1                     #effective interest rate\n",
    "y  = -log(B)/m                        #continuously compounded interest rate\n",
    "\n",
    "printlnPs(\"Effective and continuously compounded interest rates: \",[Y y])"
   ]
  },
  {
   "cell_type": "markdown",
   "metadata": {
    "deletable": true,
    "editable": true
   },
   "source": [
    "# Bond Returns (Zero Coupon Bonds)"
   ]
  },
  {
   "cell_type": "markdown",
   "metadata": {
    "deletable": true,
    "editable": true
   },
   "source": [
    "Let $B_t$ denote the price of a bond in period $t$ and $B_{t+s}$ the price of the same bond $s$ periods later. (For simplicity, we skip the notation for maturity.)\n",
    "\n",
    "The log return of holding this bond is clearly $\\ln (B_{t+s}/B_t)$"
   ]
  },
  {
   "cell_type": "code",
   "execution_count": 5,
   "metadata": {
    "collapsed": false,
    "deletable": true,
    "editable": true
   },
   "outputs": [
    {
     "name": "stdout",
     "output_type": "stream",
     "text": [
      "Bond return as bond prices change from \n",
      "     0.995     0.951\n",
      "to \n",
      "     0.985     0.861\n",
      "\n",
      "    -0.010    -0.100\n"
     ]
    }
   ],
   "source": [
    "y₁ = 0.005                  #interest rate before\n",
    "y₂ = 0.015                  #interest rate after  \n",
    "\n",
    "B₁ = [exp(-1*y₁) exp(-10*y₁)]  #bond prices (1-year and 10 year) before\n",
    "B₂ = [exp(-1*y₂) exp(-10*y₂)]  #bond prices (1-year and 10 year) after\n",
    "\n",
    "R₂ = log.(B₂./B₁)               #returns\n",
    "\n",
    "printlnPs(\"Bond return as bond prices change from \")\n",
    "printlnPs(B₁)\n",
    "printlnPs(\"to \")\n",
    "printlnPs(B₂)\n",
    "\n",
    "printlnPs(\"\\n\",R₂)"
   ]
  },
  {
   "cell_type": "markdown",
   "metadata": {
    "deletable": true,
    "editable": true
   },
   "source": [
    "# Forward Rates"
   ]
  },
  {
   "cell_type": "markdown",
   "metadata": {
    "deletable": true,
    "editable": true
   },
   "source": [
    "From the forward-spot parity we have \n",
    "\n",
    "$F=\\left[  1+Y(m)\\right]  ^{m}B(n)=B(n)/B(m)$\n",
    "\n",
    "and a foward interest rate can then be defined as \n",
    "\n",
    "$\\Gamma(m,n)  =F^{-1/(n-m)}-1$"
   ]
  },
  {
   "cell_type": "code",
   "execution_count": 6,
   "metadata": {
    "collapsed": false,
    "deletable": true,
    "editable": true
   },
   "outputs": [
    {
     "name": "stdout",
     "output_type": "stream",
     "text": [
      "Price of 0.75-period bond and the foward price for delivery in period 0.5:      0.964     0.983\n",
      "\n",
      "Implied forward rate:      0.070\n"
     ]
    }
   ],
   "source": [
    "m = 0.5\n",
    "n = 0.75\n",
    "Ym = 0.04\n",
    "Yn = 0.05\n",
    "Bn = (1+Yn)^(-n)\n",
    "F  = (1+Ym)^m*Bn\n",
    "\n",
    "printlnPs(\"Price of $n-period bond and the foward price for delivery in period $m: \",[Bn F])\n",
    "\n",
    "Γ = F^(-1/(n-m)) - 1\n",
    "printlnPs(\"\\nImplied forward rate: \",Γ)"
   ]
  },
  {
   "cell_type": "markdown",
   "metadata": {
    "deletable": true,
    "editable": true
   },
   "source": [
    "# Coupon Bond Prices"
   ]
  },
  {
   "cell_type": "markdown",
   "metadata": {
    "deletable": true,
    "editable": true
   },
   "source": [
    "Recall, the coupon bond price $P$ is the present value of the future cash flows $cf_k$\n",
    "\n",
    "$P = \\sum_{k=1}^{K} \\frac{cf_{k}}{\\left[  1+Y(m_{k})\\right]  ^{m_{k}}}$\n",
    "\n",
    "and the yeld to maturity $\\theta$ solves\n",
    "\n",
    "$P = \\sum_{k=1}^{K} \\frac{cf_{k}}{(1+\\theta)  ^{m_{k}}}$\n",
    "\n",
    "The BondPrice3Ps(Y,cf,mk) function (see below) can handle both the case when $Y$ is a vector (like in the first\n",
    "equation) and when Y is a scalar (like $\\theta$ in the second equation)."
   ]
  },
  {
   "cell_type": "code",
   "execution_count": 7,
   "metadata": {
    "collapsed": false,
    "deletable": true,
    "editable": true
   },
   "outputs": [
    {
     "data": {
      "text/plain": [
       "BondPrice3Ps (generic function with 1 method)"
      ]
     },
     "execution_count": 7,
     "metadata": {},
     "output_type": "execute_result"
    }
   ],
   "source": [
    "function BondPrice3Ps(Y,cf,mk)              #cf is a vector of all cash flows\n",
    "    cfac = cf./((1+Y).^mk)                  #c/(1+y1)^t1 + c/(1+y2)^t2 + ...+ c/(1+y2)^m\n",
    "    P    = sum(cfac)                        #price\n",
    "    return P\n",
    "end"
   ]
  },
  {
   "cell_type": "code",
   "execution_count": 8,
   "metadata": {
    "collapsed": false,
    "deletable": true,
    "editable": true
   },
   "outputs": [
    {
     "name": "stdout",
     "output_type": "stream",
     "text": [
      "Y1 and Y2:      0.053     0.054\n",
      "\n",
      "Price of 2y bond with 0.06 coupon:      1.011\n",
      "\n",
      "Price of a 2y par (almost) bond with 0.09 coupon:      1.001\n"
     ]
    }
   ],
   "source": [
    "Y1 = 0.95^(-1) - 1                          #B(1) = 0.95 -> spot-rate, 1-year horizon\n",
    "Y2 = 0.90^(-1/2) - 1                        #B(2) = 0.90 -> spot-rate, 2-year horizon \n",
    "printlnPs(\"Y1 and Y2: \",[Y1 Y2])\n",
    "\n",
    "c = 0.06\n",
    "P =  BondPrice3Ps([Y1;Y2],[c;c+1],[1;2])\n",
    "printlnPs(\"\\nPrice of 2y bond with $c coupon: \",P)\n",
    "\n",
    "c = 0.09\n",
    "P =  BondPrice3Ps([0.06;0.091],[c;c+1],[1;2])\n",
    "printlnPs(\"\\nPrice of a 2y par (almost) bond with $c coupon: \",P)"
   ]
  },
  {
   "cell_type": "markdown",
   "metadata": {
    "collapsed": true,
    "deletable": true,
    "editable": true
   },
   "source": [
    "# Yield to Maturity"
   ]
  },
  {
   "cell_type": "code",
   "execution_count": 9,
   "metadata": {
    "collapsed": false,
    "deletable": true,
    "editable": true
   },
   "outputs": [
    {
     "name": "stdout",
     "output_type": "stream",
     "text": [
      "Price of 2-year 0.04 coupon bond:      1.019\n",
      "\n",
      "2-year 0.04 coupon bond, ytm:      0.030\n",
      "\n",
      "2-year 0.04 coupon bond, ytm:      0.040\n",
      "\n",
      "portfolio of B(1) and B(3), ytm:      0.091\n"
     ]
    }
   ],
   "source": [
    "c = 0.04\n",
    "Y = 0.03                   #all spot rates are 3%    \n",
    "P = BondPrice3Ps([Y;Y],[c;c+1],[1;2])\n",
    "ytm = fzero(y->BondPrice3Ps(y,[c;c+1],[1;2])-P,[-0.1;0.1])   #solving for ytm\n",
    "printlnPs(\"Price of 2-year $c coupon bond: \",P)\n",
    "printlnPs(\"\\n2-year $c coupon bond, ytm: \",ytm)\n",
    "\n",
    "c = 0.04\n",
    "Y = 0.04                   #all spot rates are 4%    \n",
    "P = BondPrice3Ps([Y;Y],[c;c+1],[1;2])\n",
    "ytm = fzero(y->BondPrice3Ps(y,[c;c+1],[1;2])-P,[-0.1;0.1])\n",
    "printlnPs(\"\\n2-year $c coupon bond, ytm: \",ytm)\n",
    "\n",
    "P = 1/1.07 + 1/1.1^3        #portfolio of B(1) and B(3)\n",
    "ytm = fzero(y->BondPrice3Ps(y,[1;1],[1;3])-P,[-0.1;0.1])\n",
    "printlnPs(\"\\nportfolio of B(1) and B(3), ytm: \",ytm)"
   ]
  },
  {
   "cell_type": "markdown",
   "metadata": {
    "deletable": true,
    "editable": true
   },
   "source": [
    "# The Return from Holding a Bond until Maturity\n",
    "\n",
    "The portfolio holds a 2-period coupon bond until maturity. All coupons are reinvested at the forward rates (so the total return is know already in the initial period)."
   ]
  },
  {
   "cell_type": "code",
   "execution_count": 10,
   "metadata": {
    "collapsed": false,
    "deletable": true,
    "editable": true
   },
   "outputs": [
    {
     "data": {
      "text/plain": [
       "BillPricePs (generic function with 1 method)"
      ]
     },
     "execution_count": 10,
     "metadata": {},
     "output_type": "execute_result"
    }
   ],
   "source": [
    "function BillPricePs(Y,m)             #trivial function\n",
    "    B = (1+Y)^(-m)\n",
    "    return B\n",
    "end"
   ]
  },
  {
   "cell_type": "code",
   "execution_count": 11,
   "metadata": {
    "collapsed": false,
    "deletable": true,
    "editable": true
   },
   "outputs": [
    {
     "name": "stdout",
     "output_type": "stream",
     "text": [
      "Prices of 1- and 2-year zero coupon bonds and a 2-year 0.03 coupon bond (at t)\n",
      "     0.962     0.907     0.963\n",
      "\n",
      "Portfolio value in t+2, coupons have been reinvested using forward contacts:      1.062\n",
      "\n",
      "Total portfolio gross return from t to t+2:      1.102\n",
      "Compare with (1+Y₀[2])^2:      1.102\n"
     ]
    }
   ],
   "source": [
    "Y1₀ = 0.04                       #spot interest rate in period 0 for 1y bill\n",
    "Y2₀ = 0.05             \n",
    "B1₀ = BillPricePs(Y1₀,1)         #zero coupon bond prices for the same maturities\n",
    "B2₀ = BillPricePs(Y2₀,2)         \n",
    "\n",
    "c = 0.03\n",
    "P2 =  BondPrice3Ps([Y1₀;Y2₀],[c;c+1],[1;2])\n",
    "println(\"Prices of 1- and 2-year zero coupon bonds and a 2-year $c coupon bond (at t)\")\n",
    "printmat([B1₀ B2₀ P2])\n",
    "\n",
    "Value₂ = c*B1₀/B2₀ + c + 1\n",
    "R      = Value₂/P2\n",
    "printlnPs(\"Portfolio value in t+2, coupons have been reinvested using forward contacts: \",Value₂)\n",
    "\n",
    "printlnPs(\"\\nTotal portfolio gross return from t to t+2: \",R,\n",
    "        \"\\nCompare with (1+Y₀[2])^2: \",(1+Y2₀)^2)"
   ]
  },
  {
   "cell_type": "markdown",
   "metadata": {
    "deletable": true,
    "editable": true
   },
   "source": [
    "# The Return from Selling a Bond before Maturity\n",
    "\n",
    "The portfolio holds a 2-period coupon bond for one period (from $t$ to $t+1$). All coupons are reinvested at the forward rates in the same way as if we were holding the bond until maturity. This whole portfolio is sold in $t+1$. At that time, the value is the known value at $t+2 \\times B_1(1)$, since this is the PV(known value at $t+2$)"
   ]
  },
  {
   "cell_type": "markdown",
   "metadata": {
    "deletable": true,
    "editable": true
   },
   "source": [
    "## Case 1: Unchanged Interest Rates"
   ]
  },
  {
   "cell_type": "code",
   "execution_count": 12,
   "metadata": {
    "collapsed": false,
    "deletable": true,
    "editable": true
   },
   "outputs": [
    {
     "name": "stdout",
     "output_type": "stream",
     "text": [
      "The interest rates and bond prices in period 0 are the same as in the previous example\n",
      "\n",
      "Portfolio value in t+1, coupons have been reinvested using forward contacts:      1.021\n",
      "\n",
      "Total portfolio return from t to t+1:      1.060\n",
      "Compare with B1₁/B2₀:      1.060\n"
     ]
    }
   ],
   "source": [
    "println(\"The interest rates and bond prices in period 0 are the same as in the previous example\")\n",
    "\n",
    "Y1₁ = 0.04                      #1-year interest rate in period 1 (unchanged)\n",
    "B1₁ = BillPricePs(Y1₁,1)        #bill price in period 1    \n",
    "\n",
    "Value₁ = Value₂*B1₁\n",
    "R      = Value₁/P2\n",
    "\n",
    "printlnPs(\"\\nPortfolio value in t+1, coupons have been reinvested using forward contacts: \",Value₁)\n",
    "printlnPs(\"\\nTotal portfolio return from t to t+1: \",R,\n",
    "\"\\nCompare with B1₁/B2₀: \",B1₁/B2₀)"
   ]
  },
  {
   "cell_type": "markdown",
   "metadata": {
    "deletable": true,
    "editable": true
   },
   "source": [
    "## Case 2: Higher Interest Rates"
   ]
  },
  {
   "cell_type": "code",
   "execution_count": 13,
   "metadata": {
    "collapsed": false,
    "deletable": true,
    "editable": true
   },
   "outputs": [
    {
     "name": "stdout",
     "output_type": "stream",
     "text": [
      "Once again, the interest rates and bond prices in period 0 are the same as in the previous example\n",
      "\n",
      "Portfolio value in t+1, coupons have been reinvested using forward contacts:      1.016\n",
      "\n",
      "Total portfolio return from t to t+1:      1.055\n",
      "Compare with B1₁/B2₀:      1.055\n"
     ]
    }
   ],
   "source": [
    "println(\"Once again, the interest rates and bond prices in period 0 are the same as in the previous example\")\n",
    "\n",
    "Y1₁ = 0.045                      #1-year interest rate in period 1 (unchanged)\n",
    "B1₁ = BillPricePs(Y1₁,1)        #bill price in period 1    \n",
    "\n",
    "Value₁ = Value₂*B1₁\n",
    "R      = Value₁/P2\n",
    "\n",
    "printlnPs(\"\\nPortfolio value in t+1, coupons have been reinvested using forward contacts: \",Value₁)\n",
    "printlnPs(\"\\nTotal portfolio return from t to t+1: \",R,\n",
    "\"\\nCompare with B1₁/B2₀: \",B1₁/B2₀)"
   ]
  },
  {
   "cell_type": "markdown",
   "metadata": {
    "deletable": true,
    "editable": true
   },
   "source": [
    "# Bootstrapping"
   ]
  },
  {
   "cell_type": "markdown",
   "metadata": {
    "deletable": true,
    "editable": true
   },
   "source": [
    "Recall: with information about coupons $c(k)$ and coupon bond price $P(m)$, we solve for the implied zero coupon bond prices $B(s)$ from\n",
    "\n",
    "$\n",
    "\\begin{bmatrix}\n",
    "P(1)\\\\\n",
    "P(2)\\\\\n",
    "P(3)\n",
    "\\end{bmatrix} =\n",
    "\\begin{bmatrix}\n",
    "c(1)+1 & 0 & 0\\\\\n",
    "c(2) & c(2)+1 & 0\\\\\n",
    "c(3) & c(3) & c(3)+1\n",
    "\\end{bmatrix}\n",
    "\\begin{bmatrix}\n",
    "B(1)\\\\\n",
    "B(2)\\\\\n",
    "B(3)\n",
    "\\end{bmatrix}\n",
    "$"
   ]
  },
  {
   "cell_type": "code",
   "execution_count": 14,
   "metadata": {
    "collapsed": false,
    "deletable": true,
    "editable": true
   },
   "outputs": [
    {
     "name": "stdout",
     "output_type": "stream",
     "text": [
      "The cash flow matrix\n",
      "     1.000     0.000\n",
      "     0.060     1.060\n",
      "\n",
      "Solve P = cfMat*B for B (implied zero-coupon bond prices):\n",
      "     0.950\n",
      "     0.899\n",
      "\n",
      "Implied spot interest rates:\n",
      "     0.053\n",
      "     0.055\n",
      "\n"
     ]
    }
   ],
   "source": [
    "c  = [0;0.06]                    #coupon rates of the bonds (here 2)\n",
    "P  = [0.95;1.01]                  #coupon bond prices\n",
    "mk = [1;2]  \n",
    "\n",
    "n = length(c)                           \n",
    "cfMat = eye(n)\n",
    "for i = 1:n                     #fill the cfMat matrix \n",
    "    for j = 1:i\n",
    "        cfMat[i,j] = cfMat[i,j] + c[i]\n",
    "    end\n",
    "end    \n",
    "\n",
    "println(\"The cash flow matrix\")\n",
    "printmat(cfMat)\n",
    "\n",
    "println(\"Solve P = cfMat*B for B (implied zero-coupon bond prices):\")\n",
    "B = cfMat\\P\n",
    "printmat(B)\n",
    "\n",
    "Y = zeros(n)                   #solve for the implied spot rates\n",
    "for i = 1:n\n",
    "    Y[i] = B[i]^(-1/mk[i]) - 1\n",
    "end    \n",
    "println(\"Implied spot interest rates:\")\n",
    "printmat(Y)"
   ]
  },
  {
   "cell_type": "markdown",
   "metadata": {
    "deletable": true,
    "editable": true
   },
   "source": [
    "# Estimating Yield Curve with Regression Analysis"
   ]
  },
  {
   "cell_type": "markdown",
   "metadata": {
    "deletable": true,
    "editable": true
   },
   "source": [
    "Recall: with a quadratic discount function\n",
    "\n",
    "$B(m)=a_{0}+a_{1}m+a_{2}m^{2}$,\n",
    "\n",
    "we can write the coupon bond price \n",
    "\n",
    "$P\\left(  m_{K}\\right)   =\\sum_{k=1}^{K}B(m_{k})c+B(m_{K})$\n",
    "as \n",
    "\n",
    "$P\\left(  m_{K}\\right)   =\\sum_{k=1}^{K}\\left(  a_{0}+a_{1}m_{k}+a_{2}m_{k}^{2}\\right)  c+\\left(\n",
    "a_{0}+a_{1}m_{K}+a_{2}m_{K}^{2}\\right)$\n",
    "\n",
    "Collect terms as \n",
    "\n",
    "$\n",
    "P\\left(  m_{K}\\right)  =a_{0}\\underset{\\text{term 0}}{\\underbrace{(Kc+1)}\n",
    "}+a_{1}\\underset{\\text{term 1}}{\\underbrace{(c\n",
    "{\\textstyle\\sum_{k=1}^{K}}\n",
    "m_{k}+m_{K})}}+a_{2}\\underset{\\text{term 2}}{\\underbrace{(c\n",
    "{\\textstyle\\sum_{k=1}^{K}}\n",
    "m_{k}^{2}+m_{K}^{2})}}$\n",
    "\n",
    "We estimate $(a_0,a_1,a_2)$ by using the \"terms\" as regressors.\n"
   ]
  },
  {
   "cell_type": "code",
   "execution_count": 15,
   "metadata": {
    "collapsed": false,
    "deletable": true,
    "editable": true
   },
   "outputs": [
    {
     "name": "stdout",
     "output_type": "stream",
     "text": [
      "regressors\n",
      "     1.000     1.000     1.000\n",
      "     1.120     2.180     4.300\n",
      "\n",
      "regression coefficients in discount fn\n",
      "     0.693\n",
      "     0.411\n",
      "    -0.154\n",
      "\n",
      "maturities and fitted discount fn\n",
      "     1.000     0.950\n",
      "     2.000     0.899\n",
      "     3.000     0.540\n",
      "     4.000    -0.126\n",
      "     5.000    -1.101\n",
      "\n",
      "Check that m=1 and m=2 give the same results as in the bootstrap (as many obs as coeffs in this case)"
     ]
    }
   ],
   "source": [
    "x = zeros(n,3)                      #create regressors for quadratic model: 3 columns\n",
    "for i = 1:n                         #x[i,j] is for bond i, regressor j\n",
    "    x[i,1] = mk[i]*c[i] + 1\n",
    "    x[i,2] = c[i]*sum(1:mk[i]) + mk[i]\n",
    "    x[i,3] = c[i]*sum((1:mk[i]).^2) + mk[i]^2\n",
    "end    \n",
    "\n",
    "println(\"regressors\")\n",
    "printmat(x)\n",
    "\n",
    "a = x\\P                           #regress Bc on x\n",
    "println(\"regression coefficients in discount fn\")\n",
    "printmat(a)\n",
    "\n",
    "m = 1:5\n",
    "B = a[1] + a[2]*m + a[3]*m.^2      #fitted discount function\n",
    "println(\"maturities and fitted discount fn\")\n",
    "printmat([m B])\n",
    "\n",
    "print(\"Check that m=1 and m=2 give the same results as in the bootstrap (as many obs as coeffs in this case)\")"
   ]
  },
  {
   "cell_type": "code",
   "execution_count": null,
   "metadata": {
    "collapsed": true,
    "deletable": true,
    "editable": true
   },
   "outputs": [],
   "source": []
  }
 ],
 "metadata": {
  "anaconda-cloud": {},
  "kernelspec": {
   "display_name": "Julia 0.6.0",
   "language": "julia",
   "name": "julia-0.6"
  },
  "language_info": {
   "file_extension": ".jl",
   "mimetype": "application/julia",
   "name": "julia",
   "version": "0.6.0"
  }
 },
 "nbformat": 4,
 "nbformat_minor": 0
}
