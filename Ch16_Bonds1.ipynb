{
 "cells": [
  {
   "cell_type": "markdown",
   "metadata": {
    "deletable": true,
    "editable": true
   },
   "source": [
    "## Load Packages"
   ]
  },
  {
   "cell_type": "code",
   "execution_count": 1,
   "metadata": {
    "collapsed": false,
    "deletable": true,
    "editable": true
   },
   "outputs": [
    {
     "data": {
      "text/plain": [
       "println4Ps (generic function with 1 method)"
      ]
     },
     "execution_count": 1,
     "metadata": {},
     "output_type": "execute_result"
    }
   ],
   "source": [
    "using Roots\n",
    "\n",
    "include(\"printmat.jl\")"
   ]
  },
  {
   "cell_type": "code",
   "execution_count": 2,
   "metadata": {
    "collapsed": false,
    "deletable": true,
    "editable": true
   },
   "outputs": [
    {
     "data": {
      "text/plain": [
       "Plots.GRBackend()"
      ]
     },
     "execution_count": 2,
     "metadata": {},
     "output_type": "execute_result"
    }
   ],
   "source": [
    "using Plots\n",
    "backend = \"gr\"              #\"gr\" (default), \"pyplot\" \n",
    "\n",
    "if backend == \"pyplot\"\n",
    "    pyplot(size=(600,400))\n",
    "else    \n",
    "    gr(size=(600,400))\n",
    "end"
   ]
  },
  {
   "cell_type": "markdown",
   "metadata": {
    "deletable": true,
    "editable": true
   },
   "source": [
    "# Interest Rate vs (Zero Coupon) Bond Price"
   ]
  },
  {
   "cell_type": "markdown",
   "metadata": {
    "deletable": true,
    "editable": true
   },
   "source": [
    "Recall: the bond price (for maturity $m$) and the the effective interest rate follow\n",
    "\n",
    "$B(m) = [1+Y(m)]^{-m}$\n",
    "\n",
    "Instead, with a continuously compounded interest rate we have \n",
    "\n",
    "$B(m) = e^{-m y(m)}$"
   ]
  },
  {
   "cell_type": "code",
   "execution_count": 3,
   "metadata": {
    "collapsed": false,
    "deletable": true,
    "editable": true
   },
   "outputs": [
    {
     "data": {
      "text/plain": [
       "BillPrice2Ps (generic function with 1 method)"
      ]
     },
     "execution_count": 3,
     "metadata": {},
     "output_type": "execute_result"
    }
   ],
   "source": [
    "function BillPricePs(Y,m)             \n",
    "    B = (1+Y).^(-m)\n",
    "    return B\n",
    "end\n",
    "function BillPrice2Ps(y,m)             \n",
    "    B = exp.(-m*y)\n",
    "    return B\n",
    "end"
   ]
  },
  {
   "cell_type": "code",
   "execution_count": 4,
   "metadata": {
    "collapsed": false,
    "deletable": true,
    "editable": true
   },
   "outputs": [
    {
     "data": {
      "text/html": [
       "<?xml version=\"1.0\" encoding=\"utf-8\"?>\n",
       "<svg xmlns=\"http://www.w3.org/2000/svg\" xmlns:xlink=\"http://www.w3.org/1999/xlink\" width=\"600\" height=\"400\" viewBox=\"0 0 600 400\">\n",
       "<defs>\n",
       "  <clipPath id=\"clip00\">\n",
       "    <rect x=\"0\" y=\"0\" width=\"600\" height=\"400\"/>\n",
       "  </clipPath>\n",
       "</defs>\n",
       "<polygon clip-path=\"url(#clip00)\" points=\"\n",
       "0,400 600,400 600,0 0,0 \n",
       "  \" fill=\"#ffffff\" fill-opacity=\"1\"/>\n",
       "<defs>\n",
       "  <clipPath id=\"clip01\">\n",
       "    <rect x=\"120\" y=\"0\" width=\"421\" height=\"400\"/>\n",
       "  </clipPath>\n",
       "</defs>\n",
       "<polygon clip-path=\"url(#clip00)\" points=\"\n",
       "55.1181,372.441 592.126,372.441 592.126,27.5591 55.1181,27.5591 \n",
       "  \" fill=\"#ffffff\" fill-opacity=\"1\"/>\n",
       "<defs>\n",
       "  <clipPath id=\"clip02\">\n",
       "    <rect x=\"55\" y=\"27\" width=\"538\" height=\"346\"/>\n",
       "  </clipPath>\n",
       "</defs>\n",
       "<polyline clip-path=\"url(#clip02)\" style=\"stroke:#000000; stroke-width:0.5; stroke-opacity:0.1; fill:none\" points=\"\n",
       "  55.1181,367.268 55.1181,32.7323 \n",
       "  \"/>\n",
       "<polyline clip-path=\"url(#clip02)\" style=\"stroke:#000000; stroke-width:0.5; stroke-opacity:0.1; fill:none\" points=\"\n",
       "  131.834,367.268 131.834,32.7323 \n",
       "  \"/>\n",
       "<polyline clip-path=\"url(#clip02)\" style=\"stroke:#000000; stroke-width:0.5; stroke-opacity:0.1; fill:none\" points=\"\n",
       "  208.549,367.268 208.549,32.7323 \n",
       "  \"/>\n",
       "<polyline clip-path=\"url(#clip02)\" style=\"stroke:#000000; stroke-width:0.5; stroke-opacity:0.1; fill:none\" points=\"\n",
       "  285.264,367.268 285.264,32.7323 \n",
       "  \"/>\n",
       "<polyline clip-path=\"url(#clip02)\" style=\"stroke:#000000; stroke-width:0.5; stroke-opacity:0.1; fill:none\" points=\"\n",
       "  361.98,367.268 361.98,32.7323 \n",
       "  \"/>\n",
       "<polyline clip-path=\"url(#clip02)\" style=\"stroke:#000000; stroke-width:0.5; stroke-opacity:0.1; fill:none\" points=\"\n",
       "  438.695,367.268 438.695,32.7323 \n",
       "  \"/>\n",
       "<polyline clip-path=\"url(#clip02)\" style=\"stroke:#000000; stroke-width:0.5; stroke-opacity:0.1; fill:none\" points=\"\n",
       "  515.411,367.268 515.411,32.7323 \n",
       "  \"/>\n",
       "<polyline clip-path=\"url(#clip02)\" style=\"stroke:#000000; stroke-width:0.5; stroke-opacity:0.1; fill:none\" points=\"\n",
       "  592.126,367.268 592.126,32.7323 \n",
       "  \"/>\n",
       "<polyline clip-path=\"url(#clip02)\" style=\"stroke:#000000; stroke-width:0.5; stroke-opacity:0.1; fill:none\" points=\"\n",
       "  63.1732,308.15 584.071,308.15 \n",
       "  \"/>\n",
       "<polyline clip-path=\"url(#clip02)\" style=\"stroke:#000000; stroke-width:0.5; stroke-opacity:0.1; fill:none\" points=\"\n",
       "  63.1732,238.002 584.071,238.002 \n",
       "  \"/>\n",
       "<polyline clip-path=\"url(#clip02)\" style=\"stroke:#000000; stroke-width:0.5; stroke-opacity:0.1; fill:none\" points=\"\n",
       "  63.1732,167.855 584.071,167.855 \n",
       "  \"/>\n",
       "<polyline clip-path=\"url(#clip02)\" style=\"stroke:#000000; stroke-width:0.5; stroke-opacity:0.1; fill:none\" points=\"\n",
       "  63.1732,97.7068 584.071,97.7068 \n",
       "  \"/>\n",
       "<polyline clip-path=\"url(#clip02)\" style=\"stroke:#000000; stroke-width:0.5; stroke-opacity:0.1; fill:none\" points=\"\n",
       "  63.1732,27.5591 584.071,27.5591 \n",
       "  \"/>\n",
       "<polyline clip-path=\"url(#clip00)\" style=\"stroke:#000000; stroke-width:1; stroke-opacity:1; fill:none\" points=\"\n",
       "  55.1181,372.441 592.126,372.441 \n",
       "  \"/>\n",
       "<polyline clip-path=\"url(#clip00)\" style=\"stroke:#000000; stroke-width:1; stroke-opacity:1; fill:none\" points=\"\n",
       "  55.1181,372.441 55.1181,367.268 \n",
       "  \"/>\n",
       "<polyline clip-path=\"url(#clip00)\" style=\"stroke:#000000; stroke-width:1; stroke-opacity:1; fill:none\" points=\"\n",
       "  131.834,372.441 131.834,367.268 \n",
       "  \"/>\n",
       "<polyline clip-path=\"url(#clip00)\" style=\"stroke:#000000; stroke-width:1; stroke-opacity:1; fill:none\" points=\"\n",
       "  208.549,372.441 208.549,367.268 \n",
       "  \"/>\n",
       "<polyline clip-path=\"url(#clip00)\" style=\"stroke:#000000; stroke-width:1; stroke-opacity:1; fill:none\" points=\"\n",
       "  285.264,372.441 285.264,367.268 \n",
       "  \"/>\n",
       "<polyline clip-path=\"url(#clip00)\" style=\"stroke:#000000; stroke-width:1; stroke-opacity:1; fill:none\" points=\"\n",
       "  361.98,372.441 361.98,367.268 \n",
       "  \"/>\n",
       "<polyline clip-path=\"url(#clip00)\" style=\"stroke:#000000; stroke-width:1; stroke-opacity:1; fill:none\" points=\"\n",
       "  438.695,372.441 438.695,367.268 \n",
       "  \"/>\n",
       "<polyline clip-path=\"url(#clip00)\" style=\"stroke:#000000; stroke-width:1; stroke-opacity:1; fill:none\" points=\"\n",
       "  515.411,372.441 515.411,367.268 \n",
       "  \"/>\n",
       "<polyline clip-path=\"url(#clip00)\" style=\"stroke:#000000; stroke-width:1; stroke-opacity:1; fill:none\" points=\"\n",
       "  592.126,372.441 592.126,367.268 \n",
       "  \"/>\n",
       "<polyline clip-path=\"url(#clip00)\" style=\"stroke:#000000; stroke-width:1; stroke-opacity:1; fill:none\" points=\"\n",
       "  55.1181,372.441 55.1181,27.5591 \n",
       "  \"/>\n",
       "<polyline clip-path=\"url(#clip00)\" style=\"stroke:#000000; stroke-width:1; stroke-opacity:1; fill:none\" points=\"\n",
       "  55.1181,308.15 63.1732,308.15 \n",
       "  \"/>\n",
       "<polyline clip-path=\"url(#clip00)\" style=\"stroke:#000000; stroke-width:1; stroke-opacity:1; fill:none\" points=\"\n",
       "  55.1181,238.002 63.1732,238.002 \n",
       "  \"/>\n",
       "<polyline clip-path=\"url(#clip00)\" style=\"stroke:#000000; stroke-width:1; stroke-opacity:1; fill:none\" points=\"\n",
       "  55.1181,167.855 63.1732,167.855 \n",
       "  \"/>\n",
       "<polyline clip-path=\"url(#clip00)\" style=\"stroke:#000000; stroke-width:1; stroke-opacity:1; fill:none\" points=\"\n",
       "  55.1181,97.7068 63.1732,97.7068 \n",
       "  \"/>\n",
       "<polyline clip-path=\"url(#clip00)\" style=\"stroke:#000000; stroke-width:1; stroke-opacity:1; fill:none\" points=\"\n",
       "  55.1181,27.5591 63.1732,27.5591 \n",
       "  \"/>\n",
       "<g clip-path=\"url(#clip00)\">\n",
       "<text style=\"fill:#000000; fill-opacity:1; font-family:Arial,Helvetica Neue,Helvetica,sans-serif; font-size:12; text-anchor:middle;\" transform=\"rotate(0, 55.1181, 386.241)\" x=\"55.1181\" y=\"386.241\">0.00</text>\n",
       "</g>\n",
       "<g clip-path=\"url(#clip00)\">\n",
       "<text style=\"fill:#000000; fill-opacity:1; font-family:Arial,Helvetica Neue,Helvetica,sans-serif; font-size:12; text-anchor:middle;\" transform=\"rotate(0, 131.834, 386.241)\" x=\"131.834\" y=\"386.241\">0.01</text>\n",
       "</g>\n",
       "<g clip-path=\"url(#clip00)\">\n",
       "<text style=\"fill:#000000; fill-opacity:1; font-family:Arial,Helvetica Neue,Helvetica,sans-serif; font-size:12; text-anchor:middle;\" transform=\"rotate(0, 208.549, 386.241)\" x=\"208.549\" y=\"386.241\">0.02</text>\n",
       "</g>\n",
       "<g clip-path=\"url(#clip00)\">\n",
       "<text style=\"fill:#000000; fill-opacity:1; font-family:Arial,Helvetica Neue,Helvetica,sans-serif; font-size:12; text-anchor:middle;\" transform=\"rotate(0, 285.264, 386.241)\" x=\"285.264\" y=\"386.241\">0.03</text>\n",
       "</g>\n",
       "<g clip-path=\"url(#clip00)\">\n",
       "<text style=\"fill:#000000; fill-opacity:1; font-family:Arial,Helvetica Neue,Helvetica,sans-serif; font-size:12; text-anchor:middle;\" transform=\"rotate(0, 361.98, 386.241)\" x=\"361.98\" y=\"386.241\">0.04</text>\n",
       "</g>\n",
       "<g clip-path=\"url(#clip00)\">\n",
       "<text style=\"fill:#000000; fill-opacity:1; font-family:Arial,Helvetica Neue,Helvetica,sans-serif; font-size:12; text-anchor:middle;\" transform=\"rotate(0, 438.695, 386.241)\" x=\"438.695\" y=\"386.241\">0.05</text>\n",
       "</g>\n",
       "<g clip-path=\"url(#clip00)\">\n",
       "<text style=\"fill:#000000; fill-opacity:1; font-family:Arial,Helvetica Neue,Helvetica,sans-serif; font-size:12; text-anchor:middle;\" transform=\"rotate(0, 515.411, 386.241)\" x=\"515.411\" y=\"386.241\">0.06</text>\n",
       "</g>\n",
       "<g clip-path=\"url(#clip00)\">\n",
       "<text style=\"fill:#000000; fill-opacity:1; font-family:Arial,Helvetica Neue,Helvetica,sans-serif; font-size:12; text-anchor:middle;\" transform=\"rotate(0, 592.126, 386.241)\" x=\"592.126\" y=\"386.241\">0.07</text>\n",
       "</g>\n",
       "<g clip-path=\"url(#clip00)\">\n",
       "<text style=\"fill:#000000; fill-opacity:1; font-family:Arial,Helvetica Neue,Helvetica,sans-serif; font-size:12; text-anchor:end;\" transform=\"rotate(0, 49.1181, 312.65)\" x=\"49.1181\" y=\"312.65\">0.6</text>\n",
       "</g>\n",
       "<g clip-path=\"url(#clip00)\">\n",
       "<text style=\"fill:#000000; fill-opacity:1; font-family:Arial,Helvetica Neue,Helvetica,sans-serif; font-size:12; text-anchor:end;\" transform=\"rotate(0, 49.1181, 242.502)\" x=\"49.1181\" y=\"242.502\">0.7</text>\n",
       "</g>\n",
       "<g clip-path=\"url(#clip00)\">\n",
       "<text style=\"fill:#000000; fill-opacity:1; font-family:Arial,Helvetica Neue,Helvetica,sans-serif; font-size:12; text-anchor:end;\" transform=\"rotate(0, 49.1181, 172.355)\" x=\"49.1181\" y=\"172.355\">0.8</text>\n",
       "</g>\n",
       "<g clip-path=\"url(#clip00)\">\n",
       "<text style=\"fill:#000000; fill-opacity:1; font-family:Arial,Helvetica Neue,Helvetica,sans-serif; font-size:12; text-anchor:end;\" transform=\"rotate(0, 49.1181, 102.207)\" x=\"49.1181\" y=\"102.207\">0.9</text>\n",
       "</g>\n",
       "<g clip-path=\"url(#clip00)\">\n",
       "<text style=\"fill:#000000; fill-opacity:1; font-family:Arial,Helvetica Neue,Helvetica,sans-serif; font-size:12; text-anchor:end;\" transform=\"rotate(0, 49.1181, 32.0591)\" x=\"49.1181\" y=\"32.0591\">1.0</text>\n",
       "</g>\n",
       "<g clip-path=\"url(#clip00)\">\n",
       "<text style=\"fill:#000000; fill-opacity:1; font-family:Arial,Helvetica Neue,Helvetica,sans-serif; font-size:21; text-anchor:middle;\" transform=\"rotate(0, 323.622, 18)\" x=\"323.622\" y=\"18\">Bond prices and rates</text>\n",
       "</g>\n",
       "<g clip-path=\"url(#clip00)\">\n",
       "<text style=\"fill:#000000; fill-opacity:1; font-family:Arial,Helvetica Neue,Helvetica,sans-serif; font-size:16; text-anchor:middle;\" transform=\"rotate(0, 323.622, 397.6)\" x=\"323.622\" y=\"397.6\">Interest rate</text>\n",
       "</g>\n",
       "<g clip-path=\"url(#clip00)\">\n",
       "<text style=\"fill:#000000; fill-opacity:1; font-family:Arial,Helvetica Neue,Helvetica,sans-serif; font-size:16; text-anchor:middle;\" transform=\"rotate(-90, 14.4, 200)\" x=\"14.4\" y=\"200\">Bond price</text>\n",
       "</g>\n",
       "<polyline clip-path=\"url(#clip02)\" style=\"stroke:#ff0000; stroke-width:2; stroke-opacity:1; fill:none\" points=\"\n",
       "  55.1181,27.5591 131.834,34.5044 208.549,41.3135 285.264,47.9904 361.98,54.539 438.695,60.9627 515.411,67.2653 592.126,73.4501 \n",
       "  \"/>\n",
       "<polyline clip-path=\"url(#clip02)\" style=\"stroke:#008000; stroke-width:2; stroke-opacity:1; fill:none\" stroke-dasharray=\"8, 5\" points=\"\n",
       "  55.1181,27.5591 131.834,93.9981 208.549,153.581 285.264,207.071 361.98,255.143 438.695,298.39 515.411,337.335 592.126,372.441 \n",
       "  \"/>\n",
       "<polygon clip-path=\"url(#clip00)\" points=\"\n",
       "495.021,93.7991 574.126,93.7991 574.126,48.4391 495.021,48.4391 \n",
       "  \" fill=\"#ffffff\" fill-opacity=\"1\"/>\n",
       "<polyline clip-path=\"url(#clip00)\" style=\"stroke:#000000; stroke-width:1; stroke-opacity:1; fill:none\" points=\"\n",
       "  495.021,93.7991 574.126,93.7991 574.126,48.4391 495.021,48.4391 495.021,93.7991 \n",
       "  \"/>\n",
       "<polyline clip-path=\"url(#clip00)\" style=\"stroke:#ff0000; stroke-width:2; stroke-opacity:1; fill:none\" points=\"\n",
       "  501.021,63.5591 537.021,63.5591 \n",
       "  \"/>\n",
       "<g clip-path=\"url(#clip00)\">\n",
       "<text style=\"fill:#000000; fill-opacity:1; font-family:Arial,Helvetica Neue,Helvetica,sans-serif; font-size:12; text-anchor:start;\" transform=\"rotate(0, 543.021, 68.0591)\" x=\"543.021\" y=\"68.0591\">1y</text>\n",
       "</g>\n",
       "<polyline clip-path=\"url(#clip00)\" style=\"stroke:#008000; stroke-width:2; stroke-opacity:1; fill:none\" stroke-dasharray=\"8, 5\" points=\"\n",
       "  501.021,78.6791 537.021,78.6791 \n",
       "  \"/>\n",
       "<g clip-path=\"url(#clip00)\">\n",
       "<text style=\"fill:#000000; fill-opacity:1; font-family:Arial,Helvetica Neue,Helvetica,sans-serif; font-size:12; text-anchor:start;\" transform=\"rotate(0, 543.021, 83.1791)\" x=\"543.021\" y=\"83.1791\">10y</text>\n",
       "</g>\n",
       "</svg>\n"
      ]
     },
     "execution_count": 4,
     "metadata": {},
     "output_type": "execute_result"
    }
   ],
   "source": [
    "Ym  = 0:0.01:0.07               #consider different interest rates\n",
    "B1  = BillPricePs(Ym,1)         #1-year zero coupon bond \n",
    "B10 = BillPricePs(Ym,10)        #10-year\n",
    "\n",
    "\n",
    "plot(Ym,B1,color=:red,linewidth=2,label=\"1y\")\n",
    "plot!(Ym,B10,color=:green,line=(:dash,2),label=\"10y\")\n",
    "title!(\"Bond prices and rates\")\n",
    "xlabel!(\"Interest rate\")\n",
    "ylabel!(\"Bond price\")"
   ]
  },
  {
   "cell_type": "code",
   "execution_count": 5,
   "metadata": {
    "collapsed": false,
    "deletable": true,
    "editable": true
   },
   "outputs": [
    {
     "name": "stdout",
     "output_type": "stream",
     "text": [
      "Effective and continuously compounded interest rates:      0.108     0.103\n"
     ]
    }
   ],
   "source": [
    "m  = 0.5                              #maturity\n",
    "B  = 0.95                             #bond price\n",
    "Y  = B^(-1/m) - 1                     #effective interest rate\n",
    "y  = -log(B)/m                        #continuously compounded interest rate\n",
    "\n",
    "printlnPs(\"Effective and continuously compounded interest rates: \",[Y y])"
   ]
  },
  {
   "cell_type": "markdown",
   "metadata": {
    "deletable": true,
    "editable": true
   },
   "source": [
    "# Bond Returns (Zero Coupon Bonds)"
   ]
  },
  {
   "cell_type": "markdown",
   "metadata": {
    "deletable": true,
    "editable": true
   },
   "source": [
    "Let $B_0$ denote the price of a bond in period $0$ and $B_1$ the price of the same bond one period later. (For simplicity, we skip the notation for maturity.)\n",
    "\n",
    "The *log* return of holding this bond is clearly $\\ln (B_1/B_0)$\n",
    "\n",
    "The cell below works with continuously compounded interest rates."
   ]
  },
  {
   "cell_type": "code",
   "execution_count": 6,
   "metadata": {
    "collapsed": false,
    "deletable": true,
    "editable": true
   },
   "outputs": [
    {
     "name": "stdout",
     "output_type": "stream",
     "text": [
      "The log return as bond prices change from \n",
      "     0.995     0.951\n",
      "to\n",
      "     0.985     0.861\n",
      "is \n",
      "    -0.010    -0.100\n"
     ]
    }
   ],
   "source": [
    "y₀ = 0.005                  #(continuously compounded) interest rate before\n",
    "y₁ = 0.015                  #interest rate after  \n",
    "\n",
    "B₀ = [BillPrice2Ps(y₀,1) BillPrice2Ps(y₀,10)]  #bond prices (1-year and 10 year) before\n",
    "B₁ = [BillPrice2Ps(y₁,1) BillPrice2Ps(y₁,10)]  #bond prices (1-year and 10 year) after\n",
    "\n",
    "R₁ = log.(B₁./B₀)               #return\n",
    "\n",
    "printlnPs(\"The log return as bond prices change from \\n\",B₀)\n",
    "printlnPs(\"to\\n\",B₁)\n",
    "printlnPs(\"is \\n\",R₁)"
   ]
  },
  {
   "cell_type": "markdown",
   "metadata": {
    "deletable": true,
    "editable": true
   },
   "source": [
    "# Forward Rates"
   ]
  },
  {
   "cell_type": "markdown",
   "metadata": {
    "deletable": true,
    "editable": true
   },
   "source": [
    "From the forward-spot parity we have \n",
    "\n",
    "$F=\\left[  1+Y(m)\\right]  ^{m}B(n)=B(n)/B(m)$\n",
    "\n",
    "and a foward interest rate can then be defined as \n",
    "\n",
    "$\\Gamma(m,n)  =F^{-1/(n-m)}-1$"
   ]
  },
  {
   "cell_type": "code",
   "execution_count": 7,
   "metadata": {
    "collapsed": false,
    "deletable": true,
    "editable": true
   },
   "outputs": [
    {
     "data": {
      "text/plain": [
       "ForwardRatePs (generic function with 1 method)"
      ]
     },
     "execution_count": 7,
     "metadata": {},
     "output_type": "execute_result"
    }
   ],
   "source": [
    "function ForwardRatePs(Ym,m,Yn,n)           #forward rate, assuming n > m\n",
    "    Bm = (1+Ym)^(-m) \n",
    "    Bn = (1+Yn)^(-n)\n",
    "    F  = Bn/Bm\n",
    "    Γ  = F^(-1/(n-m)) - 1\n",
    "    return Γ\n",
    "end"
   ]
  },
  {
   "cell_type": "code",
   "execution_count": 8,
   "metadata": {
    "collapsed": false,
    "deletable": true,
    "editable": true
   },
   "outputs": [
    {
     "name": "stdout",
     "output_type": "stream",
     "text": [
      "\n",
      "Implied forward rate:      0.070\n"
     ]
    }
   ],
   "source": [
    "m = 0.5\n",
    "n = 0.75\n",
    "Ym = 0.04\n",
    "Yn = 0.05\n",
    "\n",
    "Γ = ForwardRatePs(Ym,m,Yn,n)\n",
    "printlnPs(\"\\nImplied forward rate: \",Γ)"
   ]
  },
  {
   "cell_type": "markdown",
   "metadata": {
    "deletable": true,
    "editable": true
   },
   "source": [
    "# Coupon Bond Prices"
   ]
  },
  {
   "cell_type": "markdown",
   "metadata": {
    "deletable": true,
    "editable": true
   },
   "source": [
    "Recall, the coupon bond price $P$ is the present value of the future cash flows $cf_k$\n",
    "\n",
    "$P = \\sum_{k=1}^{K} \\frac{cf_{k}}{\\left[  1+Y(m_{k})\\right]  ^{m_{k}}}$\n",
    "\n",
    "The BondPrice3Ps(Y,cf,mk) function (see below) can handle both the case when $Y$ is a vector with different values for different maturities and when Y is a scalar (same interest rate for all maturities)."
   ]
  },
  {
   "cell_type": "code",
   "execution_count": 9,
   "metadata": {
    "collapsed": false,
    "deletable": true,
    "editable": true
   },
   "outputs": [
    {
     "data": {
      "text/plain": [
       "BondPrice3Ps (generic function with 1 method)"
      ]
     },
     "execution_count": 9,
     "metadata": {},
     "output_type": "execute_result"
    }
   ],
   "source": [
    "function BondPrice3Ps(Y,cf,mk)              #cf is a vector of all cash flows\n",
    "    cdisc = cf./((1+Y).^mk)                 #c/(1+y1)^m1 + c/(1+y2)^m2 + ...\n",
    "    P     = sum(cdisc)                      #price\n",
    "    return P\n",
    "end"
   ]
  },
  {
   "cell_type": "code",
   "execution_count": 10,
   "metadata": {
    "collapsed": false,
    "deletable": true,
    "editable": true
   },
   "outputs": [
    {
     "name": "stdout",
     "output_type": "stream",
     "text": [
      "\n",
      "Price of 2y bond with 0.06 coupon:      1.011\n",
      "\n",
      "Price of a 2y (almost) par bond. It has a 0.09 coupon.      1.001\n"
     ]
    }
   ],
   "source": [
    "Y1 = 0.053\n",
    "Y2 = 0.054\n",
    "c = 0.06\n",
    "P =  BondPrice3Ps([Y1;Y2],[c;c+1],[1;2])\n",
    "printlnPs(\"\\nPrice of 2y bond with $c coupon: \",P)\n",
    "\n",
    "Y1 = 0.06\n",
    "Y2 = 0.091\n",
    "c = 0.09\n",
    "P =  BondPrice3Ps([0.06;0.091],[c;c+1],[1;2])\n",
    "printlnPs(\"\\nPrice of a 2y (almost) par bond. It has a $c coupon. \",P)"
   ]
  },
  {
   "cell_type": "markdown",
   "metadata": {
    "collapsed": true,
    "deletable": true,
    "editable": true
   },
   "source": [
    "# Yield to Maturity"
   ]
  },
  {
   "cell_type": "markdown",
   "metadata": {
    "deletable": true,
    "editable": true
   },
   "source": [
    "The yield to maturity is the $\\theta$ that solves\n",
    "\n",
    "$P = \\sum_{k=1}^{K} \\frac{cf_{k}}{(1+\\theta)  ^{m_{k}}}$\n",
    "\n",
    "We typically have to find $\\theta$ by a numerical method."
   ]
  },
  {
   "cell_type": "code",
   "execution_count": 11,
   "metadata": {
    "collapsed": false,
    "deletable": true,
    "editable": true
   },
   "outputs": [
    {
     "name": "stdout",
     "output_type": "stream",
     "text": [
      "Price of 2-year 0.04 coupon bond:      1.019\n",
      "\n",
      "2-year 0.04 coupon bond, ytm when all spot rates are 0.03:      0.030\n",
      "\n",
      "3y annuity, ytm when the spot rates are [0.04, 0.05, 0.06]:      0.053\n"
     ]
    }
   ],
   "source": [
    "c = 0.04\n",
    "Y = 0.03                   #all spot rates are 3%    \n",
    "P = BondPrice3Ps([Y;Y],[c;c+1],[1;2])\n",
    "ytm = fzero(y->BondPrice3Ps(y,[c;c+1],[1;2])-P,[-0.1;0.1])   #solving for ytm\n",
    "printlnPs(\"Price of 2-year $c coupon bond: \",P)\n",
    "printlnPs(\"\\n2-year $c coupon bond, ytm when all spot rates are $Y: \",ytm)\n",
    "\n",
    "\n",
    "mk = [1;2;3]                  #3-year annuity\n",
    "Y  = [0.04;0.05;0.06]         #spot interest rates \n",
    "c  = [1;1;1]\n",
    "P = BondPrice3Ps(Y,c,mk)\n",
    "ytm = fzero(y->BondPrice3Ps(y,c,mk)-P,[-0.2;0.2])\n",
    "printlnPs(\"\\n3y annuity, ytm when the spot rates are $Y: \",ytm)"
   ]
  },
  {
   "cell_type": "code",
   "execution_count": 12,
   "metadata": {
    "collapsed": false,
    "deletable": true,
    "editable": true
   },
   "outputs": [
    {
     "name": "stdout",
     "output_type": "stream",
     "text": [
      "\n",
      "portfolio of B(1) and B(3), ytm:      0.091\n"
     ]
    }
   ],
   "source": [
    "P = 1/1.07 + 1/1.1^3        #portfolio of B(1) and B(3)\n",
    "ytm = fzero(y->BondPrice3Ps(y,[1;1],[1;3])-P,[-0.1;0.1])\n",
    "printlnPs(\"\\nportfolio of B(1) and B(3), ytm: \",ytm)"
   ]
  },
  {
   "cell_type": "markdown",
   "metadata": {
    "deletable": true,
    "editable": true
   },
   "source": [
    "# The Return from Holding a Bond until Maturity (extra)\n",
    "\n",
    "This section illustrates that if the reinvestment of the coupons is \"locked in\" by forward contracts, then the coupon bond behaves like a zero-coupon portfolio.\n",
    "\n",
    "The portfolio holds a 2-period coupon bond until maturity. All coupons are reinvested at the forward rates (so the total return is know already in the initial period). "
   ]
  },
  {
   "cell_type": "code",
   "execution_count": 13,
   "metadata": {
    "collapsed": false,
    "deletable": true,
    "editable": true
   },
   "outputs": [
    {
     "data": {
      "text/plain": [
       "PVPs (generic function with 1 method)"
      ]
     },
     "execution_count": 13,
     "metadata": {},
     "output_type": "execute_result"
    }
   ],
   "source": [
    "function PVPs(Z,Ym,m)                       #present value\n",
    "  PV = (1+Ym)^(-m) * Z    \n",
    "  return PV\n",
    "end    "
   ]
  },
  {
   "cell_type": "code",
   "execution_count": 14,
   "metadata": {
    "collapsed": false,
    "deletable": true,
    "editable": true
   },
   "outputs": [
    {
     "name": "stdout",
     "output_type": "stream",
     "text": [
      "Prices of 1- and 2-year zero coupon bonds and a 2-year 0.03 coupon bond (in period=0)\n",
      "     0.962     0.907     0.963\n",
      "\n",
      "\n",
      "Forward price for investment between period 1 and 2:      0.060\n",
      "Portfolio value in period 2, coupons have been reinvested using forward contacts:      1.062\n",
      "\n",
      "Total portfolio return from period 0 to period 2:      0.103\n",
      "Compare with (1+Y₀[2])^2 - 1:      0.103\n"
     ]
    }
   ],
   "source": [
    "Y1₀ = 0.04                       #spot interest rate in period 0 for 1y bill\n",
    "Y2₀ = 0.05                       #for 2y bill\n",
    "B1₀ = BillPricePs(Y1₀,1)         #zero coupon bond prices for the same maturities\n",
    "B2₀ = BillPricePs(Y2₀,2)         \n",
    "\n",
    "c  = 0.03\n",
    "P2 =  BondPrice3Ps([Y1₀;Y2₀],[c;c+1],[1;2])\n",
    "println(\"Prices of 1- and 2-year zero coupon bonds and a 2-year $c coupon bond (in period=0)\")\n",
    "printmat([B1₀ B2₀ P2])\n",
    "\n",
    "Γ = ForwardRatePs(Y1₀,1,Y2₀,2)\n",
    "printlnPs(\"\\nForward price for investment between period 1 and 2: \",Γ)\n",
    "\n",
    "Value₂ = c*(1+Γ) + c + 1\n",
    "R      = Value₂/P2 - 1\n",
    "printlnPs(\"Portfolio value in period 2, coupons have been reinvested using forward contacts: \",Value₂)\n",
    "\n",
    "printlnPs(\"\\nTotal portfolio return from period 0 to period 2: \",R,\n",
    "        \"\\nCompare with (1+Y₀[2])^2 - 1: \",(1+Y2₀)^2 - 1)"
   ]
  },
  {
   "cell_type": "markdown",
   "metadata": {
    "deletable": true,
    "editable": true
   },
   "source": [
    "# The Return from Selling a Bond before Maturity (extra)\n",
    "\n",
    "This section illustrates that if the reinvestment of the coupons is \"locked in\" by forward contracts, then the coupon bond behaves like a zero-coupon portfolio.\n",
    "\n",
    "The portfolio holds a 2-period coupon bond for one period (from period 0 to period 1). All coupons are reinvested at the forward rates in the same way as if we were holding the bond until maturity. This whole portfolio is sold in period 1. At that time, the value of the portfolio is is just the present value of the value on period 2 (which is known in period 1)."
   ]
  },
  {
   "cell_type": "markdown",
   "metadata": {
    "deletable": true,
    "editable": true
   },
   "source": [
    "## Case 1: Unchanged Interest Rates"
   ]
  },
  {
   "cell_type": "code",
   "execution_count": 15,
   "metadata": {
    "collapsed": false,
    "deletable": true,
    "editable": true
   },
   "outputs": [
    {
     "name": "stdout",
     "output_type": "stream",
     "text": [
      "The interest rates and bond prices in period 0 are the same as in the previous example\n",
      "\n",
      "Portfolio value in period 1, coupons have been reinvested using forward contacts:      1.021\n",
      "\n",
      "Total portfolio return from period 0 to 1:      0.060\n",
      "Compare with B1₁/B2₀ - 1:      0.060\n"
     ]
    }
   ],
   "source": [
    "println(\"The interest rates and bond prices in period 0 are the same as in the previous example\")\n",
    "\n",
    "Y1₁ = 0.04                      #1-year interest rate in period 1 (unchanged)\n",
    "B1₁ = BillPricePs(Y1₁,1)        #bill price in period 1    \n",
    "\n",
    "Value₁ = PVPs(Value₂,Y1₁,1)     #present value of Value₂ (from the previous calculations)\n",
    "R      = Value₁/P2 - 1\n",
    "\n",
    "printlnPs(\"\\nPortfolio value in period 1, coupons have been reinvested using forward contacts: \",Value₁)\n",
    "printlnPs(\"\\nTotal portfolio return from period 0 to 1: \",R,\n",
    "\"\\nCompare with B1₁/B2₀ - 1: \",B1₁/B2₀ - 1)"
   ]
  },
  {
   "cell_type": "markdown",
   "metadata": {
    "deletable": true,
    "editable": true
   },
   "source": [
    "## Case 2: Higher Interest Rates"
   ]
  },
  {
   "cell_type": "code",
   "execution_count": 16,
   "metadata": {
    "collapsed": false,
    "deletable": true,
    "editable": true
   },
   "outputs": [
    {
     "name": "stdout",
     "output_type": "stream",
     "text": [
      "Once again, the interest rates and bond prices in period 0 are the same as in the previous example\n",
      "\n",
      "Portfolio value in period 1, coupons have been reinvested using forward contacts:      1.016\n",
      "\n",
      "Total portfolio return from 0 to 1:      0.055\n",
      "Compare with B1₁/B2₀ - 1:      0.055\n"
     ]
    }
   ],
   "source": [
    "println(\"Once again, the interest rates and bond prices in period 0 are the same as in the previous example\")\n",
    "\n",
    "Y1₁ = 0.045                      #1-year interest rate in period 1 (unchanged)\n",
    "B1₁ = BillPricePs(Y1₁,1)         #bill price in period 1    \n",
    "\n",
    "Value₁ = PVPs(Value₂,Y1₁,1)       #present value of Value₂ (from the previous calculations)\n",
    "R      = Value₁/P2 - 1\n",
    "\n",
    "printlnPs(\"\\nPortfolio value in period 1, coupons have been reinvested using forward contacts: \",Value₁)\n",
    "printlnPs(\"\\nTotal portfolio return from 0 to 1: \",R,\n",
    "\"\\nCompare with B1₁/B2₀ - 1: \",B1₁/B2₀ - 1)"
   ]
  },
  {
   "cell_type": "markdown",
   "metadata": {
    "deletable": true,
    "editable": true
   },
   "source": [
    "# Bootstrapping"
   ]
  },
  {
   "cell_type": "markdown",
   "metadata": {
    "deletable": true,
    "editable": true
   },
   "source": [
    "Recall: with information about coupons $c(k)$ and coupon bond price $P(m)$, we solve for the implied zero coupon bond prices $B(s)$ from\n",
    "\n",
    "$\n",
    "\\begin{bmatrix}\n",
    "P(1)\\\\\n",
    "P(2)\\\\\n",
    "P(3)\n",
    "\\end{bmatrix} =\n",
    "\\begin{bmatrix}\n",
    "c(1)+1 & 0 & 0\\\\\n",
    "c(2) & c(2)+1 & 0\\\\\n",
    "c(3) & c(3) & c(3)+1\n",
    "\\end{bmatrix}\n",
    "\\begin{bmatrix}\n",
    "B(1)\\\\\n",
    "B(2)\\\\\n",
    "B(3)\n",
    "\\end{bmatrix}\n",
    "$"
   ]
  },
  {
   "cell_type": "code",
   "execution_count": 17,
   "metadata": {
    "collapsed": false,
    "deletable": true,
    "editable": true
   },
   "outputs": [
    {
     "name": "stdout",
     "output_type": "stream",
     "text": [
      "The cash flow matrix\n",
      "     1.000     0.000\n",
      "     0.060     1.060\n",
      "\n",
      "Solve P = cfMat*B for B (implied zero-coupon bond prices):\n",
      "     0.950\n",
      "     0.899\n",
      "\n",
      "Implied spot interest rates:\n",
      "     0.053\n",
      "     0.055\n",
      "\n"
     ]
    }
   ],
   "source": [
    "c  = [0;0.06]                    #coupon rates of the bonds (here 2)\n",
    "P  = [0.95;1.01]                 #coupon bond prices\n",
    "mk = [1;2]                       #time of coupon payments\n",
    "\n",
    "n = length(c)                           \n",
    "cfMat = eye(n)\n",
    "for i = 1:n                     #fill the cfMat matrix \n",
    "    for j = 1:i\n",
    "        cfMat[i,j] = cfMat[i,j] + c[i]\n",
    "    end\n",
    "end    \n",
    "\n",
    "println(\"The cash flow matrix\")\n",
    "printmat(cfMat)\n",
    "\n",
    "println(\"Solve P = cfMat*B for B (implied zero-coupon bond prices):\")\n",
    "B = cfMat\\P\n",
    "printmat(B)\n",
    "\n",
    "Y = zeros(n)                   #solve for the implied spot rates\n",
    "for i = 1:n\n",
    "    Y[i] = B[i]^(-1/mk[i]) - 1\n",
    "end    \n",
    "println(\"Implied spot interest rates:\")\n",
    "printmat(Y)"
   ]
  },
  {
   "cell_type": "markdown",
   "metadata": {
    "deletable": true,
    "editable": true
   },
   "source": [
    "# Estimating Yield Curve with Regression Analysis"
   ]
  },
  {
   "cell_type": "markdown",
   "metadata": {
    "deletable": true,
    "editable": true
   },
   "source": [
    "Recall: with a quadratic discount function\n",
    "\n",
    "$B(m)=a_{0}+a_{1}m+a_{2}m^{2}$,\n",
    "\n",
    "we can write the coupon bond price \n",
    "\n",
    "$P\\left(  m_{K}\\right)   =\\sum_{k=1}^{K}B(m_{k})c+B(m_{K})$\n",
    "as \n",
    "\n",
    "$P\\left(  m_{K}\\right)   =\\sum_{k=1}^{K}\\left(  a_{0}+a_{1}m_{k}+a_{2}m_{k}^{2}\\right)  c+\\left(\n",
    "a_{0}+a_{1}m_{K}+a_{2}m_{K}^{2}\\right)$\n",
    "\n",
    "Collect terms as \n",
    "\n",
    "$\n",
    "P\\left(  m_{K}\\right)  =a_{0}\\underset{\\text{term 0}}{\\underbrace{(Kc+1)}\n",
    "}+a_{1}\\underset{\\text{term 1}}{\\underbrace{(c\n",
    "{\\textstyle\\sum_{k=1}^{K}}\n",
    "m_{k}+m_{K})}}+a_{2}\\underset{\\text{term 2}}{\\underbrace{(c\n",
    "{\\textstyle\\sum_{k=1}^{K}}\n",
    "m_{k}^{2}+m_{K}^{2})}}$\n",
    "\n",
    "We estimate $(a_0,a_1,a_2)$ by using the \"terms\" as regressors.\n"
   ]
  },
  {
   "cell_type": "code",
   "execution_count": 18,
   "metadata": {
    "collapsed": false,
    "deletable": true,
    "editable": true
   },
   "outputs": [
    {
     "name": "stdout",
     "output_type": "stream",
     "text": [
      "regressors\n",
      "     1.000     1.000     1.000\n",
      "     1.120     2.180     4.300\n",
      "\n",
      "regression coefficients in discount fn\n",
      "     0.693\n",
      "     0.411\n",
      "    -0.154\n",
      "\n",
      "maturities and fitted discount fn\n",
      "     1.000     0.950\n",
      "     2.000     0.899\n",
      "     3.000     0.540\n",
      "     4.000    -0.126\n",
      "     5.000    -1.101\n",
      "\n",
      "Check that m=1 and m=2 give the same results as in the bootstrap (as many obs as coeffs in this case)"
     ]
    }
   ],
   "source": [
    "x = zeros(n,3)                      #create regressors for quadratic model: 3 columns\n",
    "for i = 1:n                         #x[i,j] is for bond i, regressor j\n",
    "    x[i,1] = mk[i]*c[i] + 1\n",
    "    x[i,2] = c[i]*sum(1:mk[i]) + mk[i]\n",
    "    x[i,3] = c[i]*sum((1:mk[i]).^2) + mk[i]^2\n",
    "end    \n",
    "\n",
    "println(\"regressors\")\n",
    "printmat(x)\n",
    "\n",
    "a = x\\P                           #regress Bc on x\n",
    "println(\"regression coefficients in discount fn\")\n",
    "printmat(a)\n",
    "\n",
    "m = 1:5\n",
    "B = a[1] + a[2]*m + a[3]*m.^2      #fitted discount function\n",
    "println(\"maturities and fitted discount fn\")\n",
    "printmat([m B])\n",
    "\n",
    "print(\"Check that m=1 and m=2 give the same results as in the bootstrap (as many obs as coeffs in this case)\")"
   ]
  },
  {
   "cell_type": "code",
   "execution_count": null,
   "metadata": {
    "collapsed": true,
    "deletable": true,
    "editable": true
   },
   "outputs": [],
   "source": []
  }
 ],
 "metadata": {
  "anaconda-cloud": {},
  "kernelspec": {
   "display_name": "Julia 0.6.0",
   "language": "julia",
   "name": "julia-0.6"
  },
  "language_info": {
   "file_extension": ".jl",
   "mimetype": "application/julia",
   "name": "julia",
   "version": "0.6.0"
  }
 },
 "nbformat": 4,
 "nbformat_minor": 0
}
