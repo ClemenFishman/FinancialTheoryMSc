{
 "cells": [
  {
   "cell_type": "markdown",
   "metadata": {},
   "source": [
    "## Load Packages"
   ]
  },
  {
   "cell_type": "code",
   "execution_count": 1,
   "metadata": {},
   "outputs": [
    {
     "data": {
      "text/plain": [
       "printmatDate"
      ]
     },
     "execution_count": 1,
     "metadata": {},
     "output_type": "execute_result"
    }
   ],
   "source": [
    "using Roots\n",
    "\n",
    "include(\"printmat.jl\")"
   ]
  },
  {
   "cell_type": "code",
   "execution_count": 2,
   "metadata": {},
   "outputs": [
    {
     "data": {
      "text/plain": [
       "Plots.GRBackend()"
      ]
     },
     "execution_count": 2,
     "metadata": {},
     "output_type": "execute_result"
    }
   ],
   "source": [
    "using Plots\n",
    "backend = \"gr\"              #\"gr\" (default), \"pyplot\" \n",
    "\n",
    "if backend == \"pyplot\"\n",
    "    pyplot(size=(600,400))\n",
    "else    \n",
    "    gr(size=(600,400))\n",
    "end"
   ]
  },
  {
   "cell_type": "markdown",
   "metadata": {},
   "source": [
    "# Interest Rate vs (Zero Coupon) Bond Price"
   ]
  },
  {
   "cell_type": "markdown",
   "metadata": {},
   "source": [
    "Recall: the bond price (for maturity $m$) and the the effective interest rate follow\n",
    "\n",
    "$B(m) = [1+Y(m)]^{-m}$\n",
    "\n",
    "Instead, with a continuously compounded interest rate we have \n",
    "\n",
    "$B(m) = e^{-m y(m)}$"
   ]
  },
  {
   "cell_type": "code",
   "execution_count": 3,
   "metadata": {},
   "outputs": [
    {
     "data": {
      "text/plain": [
       "BillPrice2 (generic function with 1 method)"
      ]
     },
     "execution_count": 3,
     "metadata": {},
     "output_type": "execute_result"
    }
   ],
   "source": [
    "function BillPrice(Y,m)             \n",
    "    B = (1+Y)^(-m)\n",
    "    return B\n",
    "end\n",
    "function BillPrice2(y,m)             \n",
    "    B = exp(-m*y)\n",
    "    return B\n",
    "end"
   ]
  },
  {
   "cell_type": "code",
   "execution_count": 4,
   "metadata": {},
   "outputs": [
    {
     "name": "stdout",
     "output_type": "stream",
     "text": [
      "let's plot it\n"
     ]
    }
   ],
   "source": [
    "Ym  = 0:0.01:0.07             #consider different interest rates\n",
    "B1  = BillPrice.(Ym,1)        #1-year zero coupon bond \n",
    "B10 = BillPrice.(Ym,10)       #10-year\n",
    "\n",
    "println(\"let's plot it\")"
   ]
  },
  {
   "cell_type": "code",
   "execution_count": 5,
   "metadata": {},
   "outputs": [
    {
     "data": {
      "text/html": [
       "<?xml version=\"1.0\" encoding=\"utf-8\"?>\n",
       "<svg xmlns=\"http://www.w3.org/2000/svg\" xmlns:xlink=\"http://www.w3.org/1999/xlink\" width=\"600\" height=\"400\" viewBox=\"0 0 600 400\">\n",
       "<defs>\n",
       "  <clipPath id=\"clip00\">\n",
       "    <rect x=\"0\" y=\"0\" width=\"600\" height=\"400\"/>\n",
       "  </clipPath>\n",
       "</defs>\n",
       "<polygon clip-path=\"url(#clip00)\" points=\"\n",
       "0,400 600,400 600,0 0,0 \n",
       "  \" fill=\"#ffffff\" fill-opacity=\"1\"/>\n",
       "<defs>\n",
       "  <clipPath id=\"clip01\">\n",
       "    <rect x=\"120\" y=\"0\" width=\"421\" height=\"400\"/>\n",
       "  </clipPath>\n",
       "</defs>\n",
       "<polygon clip-path=\"url(#clip00)\" points=\"\n",
       "47.9701,360.065 580.315,360.065 580.315,31.4961 47.9701,31.4961 \n",
       "  \" fill=\"#ffffff\" fill-opacity=\"1\"/>\n",
       "<defs>\n",
       "  <clipPath id=\"clip02\">\n",
       "    <rect x=\"47\" y=\"31\" width=\"533\" height=\"330\"/>\n",
       "  </clipPath>\n",
       "</defs>\n",
       "<polyline clip-path=\"url(#clip02)\" style=\"stroke:#000000; stroke-width:0.5; stroke-opacity:0.1; fill:none\" points=\"\n",
       "  47.9701,360.065 47.9701,31.4961 \n",
       "  \"/>\n",
       "<polyline clip-path=\"url(#clip02)\" style=\"stroke:#000000; stroke-width:0.5; stroke-opacity:0.1; fill:none\" points=\"\n",
       "  124.019,360.065 124.019,31.4961 \n",
       "  \"/>\n",
       "<polyline clip-path=\"url(#clip02)\" style=\"stroke:#000000; stroke-width:0.5; stroke-opacity:0.1; fill:none\" points=\"\n",
       "  200.069,360.065 200.069,31.4961 \n",
       "  \"/>\n",
       "<polyline clip-path=\"url(#clip02)\" style=\"stroke:#000000; stroke-width:0.5; stroke-opacity:0.1; fill:none\" points=\"\n",
       "  276.118,360.065 276.118,31.4961 \n",
       "  \"/>\n",
       "<polyline clip-path=\"url(#clip02)\" style=\"stroke:#000000; stroke-width:0.5; stroke-opacity:0.1; fill:none\" points=\"\n",
       "  352.167,360.065 352.167,31.4961 \n",
       "  \"/>\n",
       "<polyline clip-path=\"url(#clip02)\" style=\"stroke:#000000; stroke-width:0.5; stroke-opacity:0.1; fill:none\" points=\"\n",
       "  428.216,360.065 428.216,31.4961 \n",
       "  \"/>\n",
       "<polyline clip-path=\"url(#clip02)\" style=\"stroke:#000000; stroke-width:0.5; stroke-opacity:0.1; fill:none\" points=\"\n",
       "  504.266,360.065 504.266,31.4961 \n",
       "  \"/>\n",
       "<polyline clip-path=\"url(#clip02)\" style=\"stroke:#000000; stroke-width:0.5; stroke-opacity:0.1; fill:none\" points=\"\n",
       "  580.315,360.065 580.315,31.4961 \n",
       "  \"/>\n",
       "<polyline clip-path=\"url(#clip02)\" style=\"stroke:#000000; stroke-width:0.5; stroke-opacity:0.1; fill:none\" points=\"\n",
       "  47.9701,298.815 580.315,298.815 \n",
       "  \"/>\n",
       "<polyline clip-path=\"url(#clip02)\" style=\"stroke:#000000; stroke-width:0.5; stroke-opacity:0.1; fill:none\" points=\"\n",
       "  47.9701,231.986 580.315,231.986 \n",
       "  \"/>\n",
       "<polyline clip-path=\"url(#clip02)\" style=\"stroke:#000000; stroke-width:0.5; stroke-opacity:0.1; fill:none\" points=\"\n",
       "  47.9701,165.156 580.315,165.156 \n",
       "  \"/>\n",
       "<polyline clip-path=\"url(#clip02)\" style=\"stroke:#000000; stroke-width:0.5; stroke-opacity:0.1; fill:none\" points=\"\n",
       "  47.9701,98.3259 580.315,98.3259 \n",
       "  \"/>\n",
       "<polyline clip-path=\"url(#clip02)\" style=\"stroke:#000000; stroke-width:0.5; stroke-opacity:0.1; fill:none\" points=\"\n",
       "  47.9701,31.4961 580.315,31.4961 \n",
       "  \"/>\n",
       "<polyline clip-path=\"url(#clip00)\" style=\"stroke:#000000; stroke-width:1; stroke-opacity:1; fill:none\" points=\"\n",
       "  47.9701,360.065 580.315,360.065 \n",
       "  \"/>\n",
       "<polyline clip-path=\"url(#clip00)\" style=\"stroke:#000000; stroke-width:1; stroke-opacity:1; fill:none\" points=\"\n",
       "  47.9701,360.065 47.9701,31.4961 \n",
       "  \"/>\n",
       "<polyline clip-path=\"url(#clip00)\" style=\"stroke:#000000; stroke-width:1; stroke-opacity:1; fill:none\" points=\"\n",
       "  47.9701,360.065 47.9701,355.137 \n",
       "  \"/>\n",
       "<polyline clip-path=\"url(#clip00)\" style=\"stroke:#000000; stroke-width:1; stroke-opacity:1; fill:none\" points=\"\n",
       "  124.019,360.065 124.019,355.137 \n",
       "  \"/>\n",
       "<polyline clip-path=\"url(#clip00)\" style=\"stroke:#000000; stroke-width:1; stroke-opacity:1; fill:none\" points=\"\n",
       "  200.069,360.065 200.069,355.137 \n",
       "  \"/>\n",
       "<polyline clip-path=\"url(#clip00)\" style=\"stroke:#000000; stroke-width:1; stroke-opacity:1; fill:none\" points=\"\n",
       "  276.118,360.065 276.118,355.137 \n",
       "  \"/>\n",
       "<polyline clip-path=\"url(#clip00)\" style=\"stroke:#000000; stroke-width:1; stroke-opacity:1; fill:none\" points=\"\n",
       "  352.167,360.065 352.167,355.137 \n",
       "  \"/>\n",
       "<polyline clip-path=\"url(#clip00)\" style=\"stroke:#000000; stroke-width:1; stroke-opacity:1; fill:none\" points=\"\n",
       "  428.216,360.065 428.216,355.137 \n",
       "  \"/>\n",
       "<polyline clip-path=\"url(#clip00)\" style=\"stroke:#000000; stroke-width:1; stroke-opacity:1; fill:none\" points=\"\n",
       "  504.266,360.065 504.266,355.137 \n",
       "  \"/>\n",
       "<polyline clip-path=\"url(#clip00)\" style=\"stroke:#000000; stroke-width:1; stroke-opacity:1; fill:none\" points=\"\n",
       "  580.315,360.065 580.315,355.137 \n",
       "  \"/>\n",
       "<polyline clip-path=\"url(#clip00)\" style=\"stroke:#000000; stroke-width:1; stroke-opacity:1; fill:none\" points=\"\n",
       "  47.9701,298.815 55.9553,298.815 \n",
       "  \"/>\n",
       "<polyline clip-path=\"url(#clip00)\" style=\"stroke:#000000; stroke-width:1; stroke-opacity:1; fill:none\" points=\"\n",
       "  47.9701,231.986 55.9553,231.986 \n",
       "  \"/>\n",
       "<polyline clip-path=\"url(#clip00)\" style=\"stroke:#000000; stroke-width:1; stroke-opacity:1; fill:none\" points=\"\n",
       "  47.9701,165.156 55.9553,165.156 \n",
       "  \"/>\n",
       "<polyline clip-path=\"url(#clip00)\" style=\"stroke:#000000; stroke-width:1; stroke-opacity:1; fill:none\" points=\"\n",
       "  47.9701,98.3259 55.9553,98.3259 \n",
       "  \"/>\n",
       "<polyline clip-path=\"url(#clip00)\" style=\"stroke:#000000; stroke-width:1; stroke-opacity:1; fill:none\" points=\"\n",
       "  47.9701,31.4961 55.9553,31.4961 \n",
       "  \"/>\n",
       "<g clip-path=\"url(#clip00)\">\n",
       "<text style=\"fill:#000000; fill-opacity:1; font-family:Arial,Helvetica Neue,Helvetica,sans-serif; font-size:12; text-anchor:middle;\" transform=\"rotate(0, 47.9701, 373.865)\" x=\"47.9701\" y=\"373.865\">0.00</text>\n",
       "</g>\n",
       "<g clip-path=\"url(#clip00)\">\n",
       "<text style=\"fill:#000000; fill-opacity:1; font-family:Arial,Helvetica Neue,Helvetica,sans-serif; font-size:12; text-anchor:middle;\" transform=\"rotate(0, 124.019, 373.865)\" x=\"124.019\" y=\"373.865\">0.01</text>\n",
       "</g>\n",
       "<g clip-path=\"url(#clip00)\">\n",
       "<text style=\"fill:#000000; fill-opacity:1; font-family:Arial,Helvetica Neue,Helvetica,sans-serif; font-size:12; text-anchor:middle;\" transform=\"rotate(0, 200.069, 373.865)\" x=\"200.069\" y=\"373.865\">0.02</text>\n",
       "</g>\n",
       "<g clip-path=\"url(#clip00)\">\n",
       "<text style=\"fill:#000000; fill-opacity:1; font-family:Arial,Helvetica Neue,Helvetica,sans-serif; font-size:12; text-anchor:middle;\" transform=\"rotate(0, 276.118, 373.865)\" x=\"276.118\" y=\"373.865\">0.03</text>\n",
       "</g>\n",
       "<g clip-path=\"url(#clip00)\">\n",
       "<text style=\"fill:#000000; fill-opacity:1; font-family:Arial,Helvetica Neue,Helvetica,sans-serif; font-size:12; text-anchor:middle;\" transform=\"rotate(0, 352.167, 373.865)\" x=\"352.167\" y=\"373.865\">0.04</text>\n",
       "</g>\n",
       "<g clip-path=\"url(#clip00)\">\n",
       "<text style=\"fill:#000000; fill-opacity:1; font-family:Arial,Helvetica Neue,Helvetica,sans-serif; font-size:12; text-anchor:middle;\" transform=\"rotate(0, 428.216, 373.865)\" x=\"428.216\" y=\"373.865\">0.05</text>\n",
       "</g>\n",
       "<g clip-path=\"url(#clip00)\">\n",
       "<text style=\"fill:#000000; fill-opacity:1; font-family:Arial,Helvetica Neue,Helvetica,sans-serif; font-size:12; text-anchor:middle;\" transform=\"rotate(0, 504.266, 373.865)\" x=\"504.266\" y=\"373.865\">0.06</text>\n",
       "</g>\n",
       "<g clip-path=\"url(#clip00)\">\n",
       "<text style=\"fill:#000000; fill-opacity:1; font-family:Arial,Helvetica Neue,Helvetica,sans-serif; font-size:12; text-anchor:middle;\" transform=\"rotate(0, 580.315, 373.865)\" x=\"580.315\" y=\"373.865\">0.07</text>\n",
       "</g>\n",
       "<g clip-path=\"url(#clip00)\">\n",
       "<text style=\"fill:#000000; fill-opacity:1; font-family:Arial,Helvetica Neue,Helvetica,sans-serif; font-size:12; text-anchor:end;\" transform=\"rotate(0, 41.9701, 303.315)\" x=\"41.9701\" y=\"303.315\">0.6</text>\n",
       "</g>\n",
       "<g clip-path=\"url(#clip00)\">\n",
       "<text style=\"fill:#000000; fill-opacity:1; font-family:Arial,Helvetica Neue,Helvetica,sans-serif; font-size:12; text-anchor:end;\" transform=\"rotate(0, 41.9701, 236.486)\" x=\"41.9701\" y=\"236.486\">0.7</text>\n",
       "</g>\n",
       "<g clip-path=\"url(#clip00)\">\n",
       "<text style=\"fill:#000000; fill-opacity:1; font-family:Arial,Helvetica Neue,Helvetica,sans-serif; font-size:12; text-anchor:end;\" transform=\"rotate(0, 41.9701, 169.656)\" x=\"41.9701\" y=\"169.656\">0.8</text>\n",
       "</g>\n",
       "<g clip-path=\"url(#clip00)\">\n",
       "<text style=\"fill:#000000; fill-opacity:1; font-family:Arial,Helvetica Neue,Helvetica,sans-serif; font-size:12; text-anchor:end;\" transform=\"rotate(0, 41.9701, 102.826)\" x=\"41.9701\" y=\"102.826\">0.9</text>\n",
       "</g>\n",
       "<g clip-path=\"url(#clip00)\">\n",
       "<text style=\"fill:#000000; fill-opacity:1; font-family:Arial,Helvetica Neue,Helvetica,sans-serif; font-size:12; text-anchor:end;\" transform=\"rotate(0, 41.9701, 35.9961)\" x=\"41.9701\" y=\"35.9961\">1.0</text>\n",
       "</g>\n",
       "<g clip-path=\"url(#clip00)\">\n",
       "<text style=\"fill:#000000; fill-opacity:1; font-family:Arial,Helvetica Neue,Helvetica,sans-serif; font-size:21; text-anchor:middle;\" transform=\"rotate(0, 314.143, 18)\" x=\"314.143\" y=\"18\">Bond prices and rates</text>\n",
       "</g>\n",
       "<g clip-path=\"url(#clip00)\">\n",
       "<text style=\"fill:#000000; fill-opacity:1; font-family:Arial,Helvetica Neue,Helvetica,sans-serif; font-size:16; text-anchor:middle;\" transform=\"rotate(0, 314.143, 397.6)\" x=\"314.143\" y=\"397.6\">Interest rate</text>\n",
       "</g>\n",
       "<g clip-path=\"url(#clip00)\">\n",
       "<text style=\"fill:#000000; fill-opacity:1; font-family:Arial,Helvetica Neue,Helvetica,sans-serif; font-size:16; text-anchor:middle;\" transform=\"rotate(-90, 14.4, 195.781)\" x=\"14.4\" y=\"195.781\">Bond price</text>\n",
       "</g>\n",
       "<polyline clip-path=\"url(#clip02)\" style=\"stroke:#ff0000; stroke-width:2; stroke-opacity:1; fill:none\" points=\"\n",
       "  47.9701,31.4961 124.019,38.1129 200.069,44.6 276.118,50.9611 352.167,57.1998 428.216,63.3198 504.266,69.3243 580.315,75.2165 \n",
       "  \"/>\n",
       "<polyline clip-path=\"url(#clip02)\" style=\"stroke:#008000; stroke-width:2; stroke-opacity:1; fill:none\" stroke-dasharray=\"8, 5\" points=\"\n",
       "  47.9701,31.4961 124.019,94.7926 200.069,151.557 276.118,202.518 352.167,248.316 428.216,289.517 504.266,326.62 580.315,360.065 \n",
       "  \"/>\n",
       "<polygon clip-path=\"url(#clip00)\" points=\"\n",
       "483.21,97.7361 562.315,97.7361 562.315,52.3761 483.21,52.3761 \n",
       "  \" fill=\"#ffffff\" fill-opacity=\"1\"/>\n",
       "<polyline clip-path=\"url(#clip00)\" style=\"stroke:#000000; stroke-width:1; stroke-opacity:1; fill:none\" points=\"\n",
       "  483.21,97.7361 562.315,97.7361 562.315,52.3761 483.21,52.3761 483.21,97.7361 \n",
       "  \"/>\n",
       "<polyline clip-path=\"url(#clip00)\" style=\"stroke:#ff0000; stroke-width:2; stroke-opacity:1; fill:none\" points=\"\n",
       "  489.21,67.4961 525.21,67.4961 \n",
       "  \"/>\n",
       "<g clip-path=\"url(#clip00)\">\n",
       "<text style=\"fill:#000000; fill-opacity:1; font-family:Arial,Helvetica Neue,Helvetica,sans-serif; font-size:12; text-anchor:start;\" transform=\"rotate(0, 531.21, 71.9961)\" x=\"531.21\" y=\"71.9961\">1y</text>\n",
       "</g>\n",
       "<polyline clip-path=\"url(#clip00)\" style=\"stroke:#008000; stroke-width:2; stroke-opacity:1; fill:none\" stroke-dasharray=\"8, 5\" points=\"\n",
       "  489.21,82.6161 525.21,82.6161 \n",
       "  \"/>\n",
       "<g clip-path=\"url(#clip00)\">\n",
       "<text style=\"fill:#000000; fill-opacity:1; font-family:Arial,Helvetica Neue,Helvetica,sans-serif; font-size:12; text-anchor:start;\" transform=\"rotate(0, 531.21, 87.1161)\" x=\"531.21\" y=\"87.1161\">10y</text>\n",
       "</g>\n",
       "</svg>\n"
      ]
     },
     "execution_count": 5,
     "metadata": {},
     "output_type": "execute_result"
    }
   ],
   "source": [
    "plot(Ym,B1,color=:red,linewidth=2,label=\"1y\")\n",
    "plot!(Ym,B10,color=:green,line=(:dash,2),label=\"10y\")\n",
    "title!(\"Bond prices and rates\")\n",
    "xlabel!(\"Interest rate\")\n",
    "ylabel!(\"Bond price\")"
   ]
  },
  {
   "cell_type": "code",
   "execution_count": 6,
   "metadata": {},
   "outputs": [
    {
     "name": "stdout",
     "output_type": "stream",
     "text": [
      "Effective and continuously compounded interest rates (0.5-year bond with price 0.95):      0.108     0.103\n"
     ]
    }
   ],
   "source": [
    "m  = 0.5                              #maturity\n",
    "B  = 0.95                             #bond price\n",
    "Y  = B^(-1/m) - 1                     #effective interest rate\n",
    "y  = -log(B)/m                        #continuously compounded interest rate\n",
    "\n",
    "printlnPs(\"Effective and continuously compounded interest rates ($m-year bond with price $B): \",[Y y])"
   ]
  },
  {
   "cell_type": "markdown",
   "metadata": {},
   "source": [
    "# Bond Returns (Zero Coupon Bonds)"
   ]
  },
  {
   "cell_type": "markdown",
   "metadata": {},
   "source": [
    "Let $B_0$ denote the price of a bond in period $0$ and $B_1$ the price of the same bond one period later. (For simplicity, we skip the notation for maturity.)\n",
    "\n",
    "The *log* return of holding this bond is clearly $\\ln (B_1/B_0)$\n",
    "\n",
    "The cell below works with continuously compounded interest rates."
   ]
  },
  {
   "cell_type": "code",
   "execution_count": 7,
   "metadata": {},
   "outputs": [
    {
     "name": "stdout",
     "output_type": "stream",
     "text": [
      "Bonds:  1y    10y\n",
      "\n",
      "all interest rates change from 0.005 to 0.015,\n",
      "so the bond prices change from \n",
      "     0.995     0.951\n",
      "to\n",
      "     0.985     0.861\n",
      "which gives the returns \n",
      "    -0.010    -0.100\n"
     ]
    }
   ],
   "source": [
    "y₀ = 0.005                      #(continuously compounded) interest rate before\n",
    "y₁ = 0.015                      #interest rate after  \n",
    "\n",
    "B₀ = BillPrice2.(y₀,[1 10])     #bond prices (1-year and 10 year) before\n",
    "B₁ = BillPrice2.(y₁,[1 10])     #bond prices (1-year and 10 year) after\n",
    "\n",
    "R₁ = log.(B₁./B₀)                #return\n",
    "\n",
    "printlnPs(\"Bonds:  1y    10y\\n\")\n",
    "printlnPs(\"all interest rates change from $y₀ to $y₁,\")\n",
    "printlnPs(\"so the bond prices change from \\n\",B₀)\n",
    "printlnPs(\"to\\n\",B₁)\n",
    "printlnPs(\"which gives the returns \\n\",R₁)"
   ]
  },
  {
   "cell_type": "markdown",
   "metadata": {},
   "source": [
    "# Forward Rates"
   ]
  },
  {
   "cell_type": "markdown",
   "metadata": {},
   "source": [
    "From the forward-spot parity, the forward price of a bond (delivered in $m$ and maturing in $n$) is\n",
    "\n",
    "$F=\\left[  1+Y(m)\\right]  ^{m}B(n)=B(n)/B(m)$.\n",
    "\n",
    "A foward interest rate can then be defined as \n",
    "\n",
    "$\\Gamma(m,n)  =F^{-1/(n-m)}-1$"
   ]
  },
  {
   "cell_type": "code",
   "execution_count": 8,
   "metadata": {},
   "outputs": [
    {
     "data": {
      "text/plain": [
       "ForwardRate (generic function with 1 method)"
      ]
     },
     "execution_count": 8,
     "metadata": {},
     "output_type": "execute_result"
    }
   ],
   "source": [
    "function ForwardRate(Ym,m,Yn,n)           #forward rate, assuming n > m\n",
    "    Bm = (1+Ym)^(-m) \n",
    "    Bn = (1+Yn)^(-n)\n",
    "    F  = Bn/Bm\n",
    "    Γ  = F^(-1/(n-m)) - 1\n",
    "    return Γ\n",
    "end"
   ]
  },
  {
   "cell_type": "code",
   "execution_count": 9,
   "metadata": {},
   "outputs": [
    {
     "name": "stdout",
     "output_type": "stream",
     "text": [
      "\n",
      "Implied forward rate (from 0.5 to 0.75 years ahead):      0.070\n"
     ]
    }
   ],
   "source": [
    "m  = 0.5\n",
    "n  = 0.75\n",
    "Ym = 0.04\n",
    "Yn = 0.05\n",
    "\n",
    "Γ = ForwardRate(Ym,m,Yn,n)\n",
    "printlnPs(\"\\nImplied forward rate (from $m to $n years ahead): \",Γ)"
   ]
  },
  {
   "cell_type": "markdown",
   "metadata": {},
   "source": [
    "# Coupon Bond Prices"
   ]
  },
  {
   "cell_type": "markdown",
   "metadata": {},
   "source": [
    "Recall, the coupon bond price $P$ is the present value of the future cash flows $cf_k$\n",
    "\n",
    "$P = \\sum_{k=1}^{K} \\frac{cf_{k}}{\\left[  1+Y(m_{k})\\right]  ^{m_{k}}}$\n",
    "\n",
    "The BondPrice3(Y,cf,m) function (see below) can handle both the case when $Y$ is a vector with different values for different maturities and when Y is a scalar (same interest rate for all maturities)."
   ]
  },
  {
   "cell_type": "code",
   "execution_count": 10,
   "metadata": {},
   "outputs": [
    {
     "data": {
      "text/plain": [
       "BondPrice3"
      ]
     },
     "execution_count": 10,
     "metadata": {},
     "output_type": "execute_result"
    }
   ],
   "source": [
    "\"\"\"\n",
    "Y:  scalar or K vector of interest rates\n",
    "cf: scalar or K vector of cash flows\n",
    "m: K vector of times for the cash flows\n",
    "\"\"\"\n",
    "function BondPrice3(Y,cf,m)              #cf is a vector of all cash flows at times m\n",
    "    cdisc = cf./((Y.+1).^m)                #c/(1+y1)^m1 + c/(1+y2)^m2 + ...\n",
    "    P     = sum(cdisc)                     #price\n",
    "    return P\n",
    "end"
   ]
  },
  {
   "cell_type": "code",
   "execution_count": 11,
   "metadata": {},
   "outputs": [
    {
     "name": "stdout",
     "output_type": "stream",
     "text": [
      "\n",
      "Price of 2y bond with 0.06 coupon when the spot rates are [0.053, 0.054]:      1.011\n",
      "\n",
      "Price of a 2y (almost) par bond. It has a 0.09 coupon and spot rates are [0.06, 0.091].      1.001\n"
     ]
    }
   ],
   "source": [
    "Y = [0.053;0.054]\n",
    "c  = 0.06\n",
    "P  =  BondPrice3(Y,[c;c+1],[1;2])\n",
    "printlnPs(\"\\nPrice of 2y bond with $c coupon when the spot rates are $Y: \",P)\n",
    "\n",
    "Y  = [0.06;0.091]\n",
    "c  = 0.09\n",
    "P  =  BondPrice3(Y,[c;c+1],[1;2])\n",
    "printlnPs(\"\\nPrice of a 2y (almost) par bond. It has a $c coupon and spot rates are $Y. \",P)"
   ]
  },
  {
   "cell_type": "markdown",
   "metadata": {
    "collapsed": true
   },
   "source": [
    "# Yield to Maturity"
   ]
  },
  {
   "cell_type": "markdown",
   "metadata": {},
   "source": [
    "The yield to maturity is the $\\theta$ that solves\n",
    "\n",
    "$P = \\sum_{k=1}^{K} \\frac{cf_{k}}{(1+\\theta)  ^{m_{k}}}$\n",
    "\n",
    "We typically have to find $\\theta$ by a numerical method."
   ]
  },
  {
   "cell_type": "code",
   "execution_count": 12,
   "metadata": {},
   "outputs": [
    {
     "name": "stdout",
     "output_type": "stream",
     "text": [
      "Price of 2-year 0.04 coupon bond when all spot rates are 0.03:      1.019\n",
      "\n",
      "ytm of this bond:      0.030\n"
     ]
    }
   ],
   "source": [
    "c = 0.04\n",
    "Y = 0.03                   #all spot rates are 3%    \n",
    "\n",
    "P = BondPrice3(Y,[c;c+1],[1;2])\n",
    "ytm = fzero(y->BondPrice3(y,[c;c+1],[1;2])-P,[-0.1;0.1])   #solving for ytm\n",
    "\n",
    "printlnPs(\"Price of 2-year $c coupon bond when all spot rates are $Y: \",P)\n",
    "printlnPs(\"\\nytm of this bond: \",ytm)"
   ]
  },
  {
   "cell_type": "code",
   "execution_count": 13,
   "metadata": {},
   "outputs": [
    {
     "name": "stdout",
     "output_type": "stream",
     "text": [
      "\n",
      "ytm of 3y annuity when the spot rates are [0.04, 0.05, 0.06]:      0.053\n"
     ]
    }
   ],
   "source": [
    "m  = [1;2;3]                  #3-year annuity\n",
    "Y  = [0.04;0.05;0.06]         #spot interest rates \n",
    "c  = [1;1;1]\n",
    "\n",
    "P  = BondPrice3(Y,c,m)\n",
    "ytm = fzero(y->BondPrice3(y,c,m)-P,[-0.2;0.2])\n",
    "\n",
    "printlnPs(\"\\nytm of 3y annuity when the spot rates are $Y: \",ytm)"
   ]
  },
  {
   "cell_type": "markdown",
   "metadata": {},
   "source": [
    "# Bootstrapping"
   ]
  },
  {
   "cell_type": "markdown",
   "metadata": {},
   "source": [
    "Recall: with information about coupons $c(k)$ and coupon bond price $P(m)$, we solve for the implied zero coupon bond prices $B(s)$ from\n",
    "\n",
    "$\n",
    "\\begin{bmatrix}\n",
    "P(1)\\\\\n",
    "P(2)\n",
    "\\end{bmatrix} =\n",
    "\\begin{bmatrix}\n",
    "c(1)+1 & 0 \\\\\n",
    "c(2) & c(2)+1\n",
    "\\end{bmatrix}\n",
    "\\begin{bmatrix}\n",
    "B(1)\\\\\n",
    "B(2)\n",
    "\\end{bmatrix}\n",
    "$"
   ]
  },
  {
   "cell_type": "code",
   "execution_count": 14,
   "metadata": {},
   "outputs": [
    {
     "name": "stdout",
     "output_type": "stream",
     "text": [
      "The cash flow matrix\n",
      "     1.000     0.000\n",
      "     0.060     1.060\n",
      "\n",
      "Solve P = cfMat*B for B (implied zero-coupon bond prices):\n",
      "     0.950\n",
      "     0.899\n",
      "\n",
      "Implied spot interest rates:\n",
      "     0.053\n",
      "     0.055\n",
      "\n"
     ]
    }
   ],
   "source": [
    "c  = [0;0.06]                    #coupon rates of the bonds (here 2)\n",
    "P  = [0.95;1.01]                 #coupon bond prices\n",
    "m  = [1;2]                       #time of coupon payments\n",
    "\n",
    "n = length(c)                           \n",
    "cfMat = eye(n)\n",
    "for i = 1:n, j = 1:i                      #fill the cfMat matrix \n",
    "    cfMat[i,j] = cfMat[i,j] + c[i]\n",
    "end    \n",
    "\n",
    "println(\"The cash flow matrix\")\n",
    "printmat(cfMat)\n",
    "\n",
    "println(\"Solve P = cfMat*B for B (implied zero-coupon bond prices):\")\n",
    "B = cfMat\\P\n",
    "printmat(B)\n",
    "\n",
    "Y = zeros(n)                   #solve for the implied spot rates\n",
    "for i = 1:n\n",
    "    Y[i] = B[i]^(-1/m[i]) - 1\n",
    "end    \n",
    "println(\"Implied spot interest rates:\")\n",
    "printmat(Y)"
   ]
  },
  {
   "cell_type": "markdown",
   "metadata": {},
   "source": [
    "# Estimating Yield Curve with Regression Analysis"
   ]
  },
  {
   "cell_type": "markdown",
   "metadata": {},
   "source": [
    "Recall: with a quadratic discount function\n",
    "\n",
    "$B(m)=a_{0}+a_{1}m+a_{2}m^{2}$,\n",
    "\n",
    "we can write the coupon bond price \n",
    "\n",
    "$P\\left(  m_{K}\\right)   =\\sum_{k=1}^{K}B(m_{k})c+B(m_{K})$\n",
    "as \n",
    "\n",
    "$P\\left(  m_{K}\\right)   =\\sum_{k=1}^{K}\\left(  a_{0}+a_{1}m_{k}+a_{2}m_{k}^{2}\\right)  c+\\left(\n",
    "a_{0}+a_{1}m_{K}+a_{2}m_{K}^{2}\\right)$\n",
    "\n",
    "Collect terms as \n",
    "\n",
    "$\n",
    "P\\left(  m_{K}\\right)  =a_{0}\\underset{\\text{term 0}}{\\underbrace{(Kc+1)}\n",
    "}+a_{1}\\underset{\\text{term 1}}{\\underbrace{(c\n",
    "{\\textstyle\\sum_{k=1}^{K}}\n",
    "m_{k}+m_{K})}}+a_{2}\\underset{\\text{term 2}}{\\underbrace{(c\n",
    "{\\textstyle\\sum_{k=1}^{K}}\n",
    "m_{k}^{2}+m_{K}^{2})}}$\n",
    "\n",
    "We estimate $(a_0,a_1,a_2)$ by using the \"terms\" as regressors.\n"
   ]
  },
  {
   "cell_type": "code",
   "execution_count": 15,
   "metadata": {},
   "outputs": [
    {
     "name": "stdout",
     "output_type": "stream",
     "text": [
      "regressors:\n",
      "    term 0     term 1   term 2\n",
      "     1.000     1.000     1.000\n",
      "     1.120     2.180     4.300\n",
      "\n",
      "regression coefficients in B\n",
      "     0.693\n",
      "     0.411\n",
      "    -0.154\n",
      "\n",
      "maturities    fitted B\n",
      "     1.000     0.950\n",
      "     2.000     0.899\n",
      "     3.000     0.540\n",
      "     4.000    -0.126\n",
      "     5.000    -1.101\n",
      "\n",
      "Check that m=1 and m=2 give the same B as in the bootstrap"
     ]
    }
   ],
   "source": [
    "x = zeros(n,3)                      #create regressors for quadratic model: 3 columns\n",
    "for i = 1:n                         #x[i,j] is for bond i, regressor j\n",
    "    x[i,1] = m[i]*c[i] + 1\n",
    "    x[i,2] = c[i]*sum(m[1]:m[i]) + m[i]\n",
    "    x[i,3] = c[i]*sum((m[1]:m[i]).^2) + m[i]^2\n",
    "end    \n",
    "\n",
    "println(\"regressors:\")\n",
    "println(\"    term 0     term 1   term 2\")\n",
    "printmat(x)\n",
    "\n",
    "a = x\\P                           #regress Bc on x\n",
    "println(\"regression coefficients in B\")\n",
    "printmat(a)\n",
    "\n",
    "m = 1:5\n",
    "B = a[1] .+ a[2]*m + a[3]*m.^2      #fitted discount function\n",
    "println(\"maturities    fitted B\")\n",
    "printmat([m B])\n",
    "\n",
    "print(\"Check that m=1 and m=2 give the same B as in the bootstrap\")"
   ]
  },
  {
   "cell_type": "code",
   "execution_count": null,
   "metadata": {
    "collapsed": true
   },
   "outputs": [],
   "source": []
  }
 ],
 "metadata": {
  "anaconda-cloud": {},
  "kernelspec": {
   "display_name": "Julia 0.6.1",
   "language": "julia",
   "name": "julia-0.6"
  },
  "language_info": {
   "file_extension": ".jl",
   "mimetype": "application/julia",
   "name": "julia",
   "version": "0.6.1"
  }
 },
 "nbformat": 4,
 "nbformat_minor": 1
}
