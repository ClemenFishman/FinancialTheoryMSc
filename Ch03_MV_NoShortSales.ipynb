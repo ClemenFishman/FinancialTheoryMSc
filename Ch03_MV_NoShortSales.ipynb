{
 "cells": [
  {
   "cell_type": "markdown",
   "metadata": {},
   "source": [
    "# Mean Variance Frontier w/w.o Short Sales Constraints"
   ]
  },
  {
   "cell_type": "markdown",
   "metadata": {},
   "source": [
    "This code below calculates mean variances frontiers (a) when there are no restrictions on the portfolio weights and (b) when we impose the restriction that no weights can be negative.\n",
    "\n",
    "The latter case requires a numerical minimization routine (the code uses quadprog), which comes from the packages MathProgBase and Ipopt."
   ]
  },
  {
   "cell_type": "markdown",
   "metadata": {},
   "source": [
    "# Load Packages"
   ]
  },
  {
   "cell_type": "code",
   "execution_count": 1,
   "metadata": {},
   "outputs": [
    {
     "data": {
      "text/plain": [
       "printlnPs (generic function with 2 methods)"
      ]
     },
     "execution_count": 1,
     "metadata": {},
     "output_type": "execute_result"
    }
   ],
   "source": [
    "using Dates, MathProgBase, Ipopt        \n",
    "\n",
    "include(\"printmat.jl\")    "
   ]
  },
  {
   "cell_type": "code",
   "execution_count": 3,
   "metadata": {},
   "outputs": [],
   "source": [
    "using Plots\n",
    "backend = \"gr\"              #\"gr\" (default), \"pyplot\" \n",
    "\n",
    "if backend == \"pyplot\"\n",
    "    pyplot(size=(600,400))\n",
    "else    \n",
    "    gr(size=(480,320))\n",
    "    default(fmt = :svg)\n",
    "end"
   ]
  },
  {
   "cell_type": "markdown",
   "metadata": {},
   "source": [
    "# Traditional MV Calculations (no constraints)"
   ]
  },
  {
   "cell_type": "code",
   "execution_count": 4,
   "metadata": {},
   "outputs": [
    {
     "name": "stdout",
     "output_type": "stream",
     "text": [
      "μ, Σ and Rf: \n",
      "     0.115\n",
      "     0.095\n",
      "     0.060\n",
      "\n",
      "     0.017     0.003     0.006\n",
      "     0.003     0.006     0.000\n",
      "     0.006     0.000     0.010\n",
      "\n",
      "     0.030\n"
     ]
    }
   ],
   "source": [
    "μ = [0.115; 0.095; 0.06]    #expected returns\n",
    "Σ  = [166  34  58;          #covariance matrix\n",
    "       34  64   4;\n",
    "       58   4 100]/100^2                  \n",
    "Rf = 0.03\n",
    "\n",
    "println(\"μ, Σ and Rf: \")\n",
    "printmat(μ)\n",
    "printmat(Σ)\n",
    "printlnPs(Rf)"
   ]
  },
  {
   "cell_type": "markdown",
   "metadata": {},
   "source": [
    "## From Ch3 Notebook (MV Frontier without portfolio constraints)"
   ]
  },
  {
   "cell_type": "code",
   "execution_count": 5,
   "metadata": {},
   "outputs": [
    {
     "data": {
      "text/plain": [
       "MVCalc (generic function with 1 method)"
      ]
     },
     "execution_count": 5,
     "metadata": {},
     "output_type": "execute_result"
    }
   ],
   "source": [
    "function MVCalc(mustar,μ,Σ)           #calculates the std of a portfolio on MVF\n",
    "    n    = length(μ)\n",
    "    oneV = ones(n) \n",
    "    Σ_1  = inv(Σ)\n",
    "    A    = μ'Σ_1*μ\n",
    "    B    = μ'Σ_1*oneV\n",
    "    C    = oneV'Σ_1*oneV\n",
    "    λ    = (C*mustar - B)/(A*C-B^2)\n",
    "    δ    = (A-B*mustar)/(A*C-B^2)\n",
    "    w    = Σ_1 *(μ*λ + oneV*δ)\n",
    "    StdRp = sqrt(w'Σ*w)\n",
    "    return StdRp,w\n",
    "end"
   ]
  },
  {
   "cell_type": "code",
   "execution_count": 6,
   "metadata": {},
   "outputs": [],
   "source": [
    "mustar = range(0.04,stop=0.15,length=101)      #0.7 syntax\n",
    "L      = length(mustar)\n",
    "StdRp  = fill(NaN,L)\n",
    "for i = 1:L\n",
    "    StdRp[i] = MVCalc(mustar[i],μ,Σ)[1]\n",
    "end    "
   ]
  },
  {
   "cell_type": "code",
   "execution_count": 7,
   "metadata": {},
   "outputs": [
    {
     "data": {
      "image/svg+xml": [
       "<?xml version=\"1.0\" encoding=\"utf-8\"?>\n",
       "<svg xmlns=\"http://www.w3.org/2000/svg\" xmlns:xlink=\"http://www.w3.org/1999/xlink\" width=\"480\" height=\"320\" viewBox=\"0 0 480 320\">\n",
       "<defs>\n",
       "  <clipPath id=\"clip3800\">\n",
       "    <rect x=\"0\" y=\"0\" width=\"480\" height=\"320\"/>\n",
       "  </clipPath>\n",
       "</defs>\n",
       "<polygon clip-path=\"url(#clip3800)\" points=\"\n",
       "0,320 480,320 480,0 0,0 \n",
       "  \" fill=\"#ffffff\" fill-opacity=\"1\"/>\n",
       "<defs>\n",
       "  <clipPath id=\"clip3801\">\n",
       "    <rect x=\"96\" y=\"0\" width=\"337\" height=\"320\"/>\n",
       "  </clipPath>\n",
       "</defs>\n",
       "<polygon clip-path=\"url(#clip3800)\" points=\"\n",
       "52.7512,280.121 460.315,280.121 460.315,31.4961 52.7512,31.4961 \n",
       "  \" fill=\"#ffffff\" fill-opacity=\"1\"/>\n",
       "<defs>\n",
       "  <clipPath id=\"clip3802\">\n",
       "    <rect x=\"52\" y=\"31\" width=\"409\" height=\"250\"/>\n",
       "  </clipPath>\n",
       "</defs>\n",
       "<polyline clip-path=\"url(#clip3802)\" style=\"stroke:#000000; stroke-width:0.5; stroke-opacity:0.1; fill:none\" points=\"\n",
       "  52.7512,280.121 52.7512,31.4961 \n",
       "  \"/>\n",
       "<polyline clip-path=\"url(#clip3802)\" style=\"stroke:#000000; stroke-width:0.5; stroke-opacity:0.1; fill:none\" points=\"\n",
       "  188.606,280.121 188.606,31.4961 \n",
       "  \"/>\n",
       "<polyline clip-path=\"url(#clip3802)\" style=\"stroke:#000000; stroke-width:0.5; stroke-opacity:0.1; fill:none\" points=\"\n",
       "  324.46,280.121 324.46,31.4961 \n",
       "  \"/>\n",
       "<polyline clip-path=\"url(#clip3802)\" style=\"stroke:#000000; stroke-width:0.5; stroke-opacity:0.1; fill:none\" points=\"\n",
       "  460.315,280.121 460.315,31.4961 \n",
       "  \"/>\n",
       "<polyline clip-path=\"url(#clip3802)\" style=\"stroke:#000000; stroke-width:0.5; stroke-opacity:0.1; fill:none\" points=\"\n",
       "  52.7512,280.121 460.315,280.121 \n",
       "  \"/>\n",
       "<polyline clip-path=\"url(#clip3802)\" style=\"stroke:#000000; stroke-width:0.5; stroke-opacity:0.1; fill:none\" points=\"\n",
       "  52.7512,197.246 460.315,197.246 \n",
       "  \"/>\n",
       "<polyline clip-path=\"url(#clip3802)\" style=\"stroke:#000000; stroke-width:0.5; stroke-opacity:0.1; fill:none\" points=\"\n",
       "  52.7512,114.371 460.315,114.371 \n",
       "  \"/>\n",
       "<polyline clip-path=\"url(#clip3802)\" style=\"stroke:#000000; stroke-width:0.5; stroke-opacity:0.1; fill:none\" points=\"\n",
       "  52.7512,31.4961 460.315,31.4961 \n",
       "  \"/>\n",
       "<polyline clip-path=\"url(#clip3800)\" style=\"stroke:#000000; stroke-width:1; stroke-opacity:1; fill:none\" points=\"\n",
       "  52.7512,280.121 460.315,280.121 \n",
       "  \"/>\n",
       "<polyline clip-path=\"url(#clip3800)\" style=\"stroke:#000000; stroke-width:1; stroke-opacity:1; fill:none\" points=\"\n",
       "  52.7512,280.121 52.7512,31.4961 \n",
       "  \"/>\n",
       "<polyline clip-path=\"url(#clip3800)\" style=\"stroke:#000000; stroke-width:1; stroke-opacity:1; fill:none\" points=\"\n",
       "  52.7512,280.121 52.7512,276.391 \n",
       "  \"/>\n",
       "<polyline clip-path=\"url(#clip3800)\" style=\"stroke:#000000; stroke-width:1; stroke-opacity:1; fill:none\" points=\"\n",
       "  188.606,280.121 188.606,276.391 \n",
       "  \"/>\n",
       "<polyline clip-path=\"url(#clip3800)\" style=\"stroke:#000000; stroke-width:1; stroke-opacity:1; fill:none\" points=\"\n",
       "  324.46,280.121 324.46,276.391 \n",
       "  \"/>\n",
       "<polyline clip-path=\"url(#clip3800)\" style=\"stroke:#000000; stroke-width:1; stroke-opacity:1; fill:none\" points=\"\n",
       "  460.315,280.121 460.315,276.391 \n",
       "  \"/>\n",
       "<polyline clip-path=\"url(#clip3800)\" style=\"stroke:#000000; stroke-width:1; stroke-opacity:1; fill:none\" points=\"\n",
       "  52.7512,280.121 58.8647,280.121 \n",
       "  \"/>\n",
       "<polyline clip-path=\"url(#clip3800)\" style=\"stroke:#000000; stroke-width:1; stroke-opacity:1; fill:none\" points=\"\n",
       "  52.7512,197.246 58.8647,197.246 \n",
       "  \"/>\n",
       "<polyline clip-path=\"url(#clip3800)\" style=\"stroke:#000000; stroke-width:1; stroke-opacity:1; fill:none\" points=\"\n",
       "  52.7512,114.371 58.8647,114.371 \n",
       "  \"/>\n",
       "<polyline clip-path=\"url(#clip3800)\" style=\"stroke:#000000; stroke-width:1; stroke-opacity:1; fill:none\" points=\"\n",
       "  52.7512,31.4961 58.8647,31.4961 \n",
       "  \"/>\n",
       "<g clip-path=\"url(#clip3800)\">\n",
       "<text style=\"fill:#000000; fill-opacity:1; font-family:Arial,Helvetica Neue,Helvetica,sans-serif; font-size:12; text-anchor:middle;\" transform=\"rotate(0, 52.7512, 293.321)\" x=\"52.7512\" y=\"293.321\">0</text>\n",
       "</g>\n",
       "<g clip-path=\"url(#clip3800)\">\n",
       "<text style=\"fill:#000000; fill-opacity:1; font-family:Arial,Helvetica Neue,Helvetica,sans-serif; font-size:12; text-anchor:middle;\" transform=\"rotate(0, 188.606, 293.321)\" x=\"188.606\" y=\"293.321\">5</text>\n",
       "</g>\n",
       "<g clip-path=\"url(#clip3800)\">\n",
       "<text style=\"fill:#000000; fill-opacity:1; font-family:Arial,Helvetica Neue,Helvetica,sans-serif; font-size:12; text-anchor:middle;\" transform=\"rotate(0, 324.46, 293.321)\" x=\"324.46\" y=\"293.321\">10</text>\n",
       "</g>\n",
       "<g clip-path=\"url(#clip3800)\">\n",
       "<text style=\"fill:#000000; fill-opacity:1; font-family:Arial,Helvetica Neue,Helvetica,sans-serif; font-size:12; text-anchor:middle;\" transform=\"rotate(0, 460.315, 293.321)\" x=\"460.315\" y=\"293.321\">15</text>\n",
       "</g>\n",
       "<g clip-path=\"url(#clip3800)\">\n",
       "<text style=\"fill:#000000; fill-opacity:1; font-family:Arial,Helvetica Neue,Helvetica,sans-serif; font-size:12; text-anchor:end;\" transform=\"rotate(0, 47.9512, 284.621)\" x=\"47.9512\" y=\"284.621\">0</text>\n",
       "</g>\n",
       "<g clip-path=\"url(#clip3800)\">\n",
       "<text style=\"fill:#000000; fill-opacity:1; font-family:Arial,Helvetica Neue,Helvetica,sans-serif; font-size:12; text-anchor:end;\" transform=\"rotate(0, 47.9512, 201.746)\" x=\"47.9512\" y=\"201.746\">5</text>\n",
       "</g>\n",
       "<g clip-path=\"url(#clip3800)\">\n",
       "<text style=\"fill:#000000; fill-opacity:1; font-family:Arial,Helvetica Neue,Helvetica,sans-serif; font-size:12; text-anchor:end;\" transform=\"rotate(0, 47.9512, 118.871)\" x=\"47.9512\" y=\"118.871\">10</text>\n",
       "</g>\n",
       "<g clip-path=\"url(#clip3800)\">\n",
       "<text style=\"fill:#000000; fill-opacity:1; font-family:Arial,Helvetica Neue,Helvetica,sans-serif; font-size:12; text-anchor:end;\" transform=\"rotate(0, 47.9512, 35.9961)\" x=\"47.9512\" y=\"35.9961\">15</text>\n",
       "</g>\n",
       "<g clip-path=\"url(#clip3800)\">\n",
       "<text style=\"fill:#000000; fill-opacity:1; font-family:Arial,Helvetica Neue,Helvetica,sans-serif; font-size:21; text-anchor:middle;\" transform=\"rotate(0, 256.533, 18)\" x=\"256.533\" y=\"18\">Mean variance frontier (no portfolio constraints)</text>\n",
       "</g>\n",
       "<g clip-path=\"url(#clip3800)\">\n",
       "<text style=\"fill:#000000; fill-opacity:1; font-family:Arial,Helvetica Neue,Helvetica,sans-serif; font-size:16; text-anchor:middle;\" transform=\"rotate(0, 256.533, 317.6)\" x=\"256.533\" y=\"317.6\">Std(Rp), %</text>\n",
       "</g>\n",
       "<g clip-path=\"url(#clip3800)\">\n",
       "<text style=\"fill:#000000; fill-opacity:1; font-family:Arial,Helvetica Neue,Helvetica,sans-serif; font-size:16; text-anchor:middle;\" transform=\"rotate(-90, 14.4, 155.808)\" x=\"14.4\" y=\"155.808\">ERp, %</text>\n",
       "</g>\n",
       "<polyline clip-path=\"url(#clip3802)\" style=\"stroke:#ff0000; stroke-width:2; stroke-opacity:1; fill:none\" points=\"\n",
       "  351.492,213.821 346.182,211.998 340.924,210.174 335.719,208.351 330.572,206.528 325.486,204.705 320.464,202.881 315.509,201.058 310.626,199.235 305.818,197.412 \n",
       "  301.091,195.588 296.448,193.765 291.895,191.942 287.437,190.119 283.079,188.295 278.828,186.472 274.689,184.649 270.668,182.826 266.773,181.002 263.01,179.179 \n",
       "  259.387,177.356 255.911,175.533 252.59,173.709 249.432,171.886 246.444,170.063 243.634,168.24 241.011,166.416 238.583,164.593 236.356,162.77 234.34,160.947 \n",
       "  232.54,159.123 230.963,157.3 229.615,155.477 228.502,153.654 227.628,151.83 226.996,150.007 226.61,148.184 226.47,146.361 226.578,144.537 226.933,142.714 \n",
       "  227.533,140.891 228.376,139.068 229.459,137.244 230.777,135.421 232.324,133.598 234.096,131.775 236.085,129.951 238.285,128.128 240.688,126.305 243.286,124.482 \n",
       "  246.072,122.658 249.038,120.835 252.175,119.012 255.475,117.189 258.932,115.365 262.536,113.542 266.281,111.719 270.16,109.896 274.165,108.072 278.289,106.249 \n",
       "  282.526,104.426 286.871,102.603 291.316,100.779 295.857,98.9562 300.489,97.133 305.205,95.3097 310.003,93.4865 314.877,91.6632 319.822,89.84 324.836,88.0167 \n",
       "  329.915,86.1935 335.054,84.3702 340.251,82.547 345.503,80.7237 350.806,78.9005 356.158,77.0772 361.557,75.254 367,73.4307 372.485,71.6075 378.009,69.7842 \n",
       "  383.571,67.961 389.169,66.1378 394.802,64.3145 400.466,62.4913 406.161,60.668 411.886,58.8448 417.639,57.0215 423.419,55.1983 429.224,53.375 435.053,51.5518 \n",
       "  440.906,49.7285 446.78,47.9053 452.676,46.082 458.593,44.2588 464.528,42.4355 470.483,40.6123 476.455,38.7891 482.444,36.9658 488.449,35.1426 494.471,33.3193 \n",
       "  500.507,31.4961 \n",
       "  \"/>\n",
       "</svg>\n"
      ]
     },
     "execution_count": 7,
     "metadata": {},
     "output_type": "execute_result"
    }
   ],
   "source": [
    "p1 = plot(StdRp*100,mustar*100,color=:red,linewidth=2,legend=false)\n",
    "plot!(xlim=(0,15),ylim=(0,15))\n",
    "title!(\"Mean variance frontier (no portfolio constraints)\")\n",
    "xlabel!(\"Std(Rp), %\")\n",
    "ylabel!(\"ERp, %\")"
   ]
  },
  {
   "cell_type": "markdown",
   "metadata": {},
   "source": [
    "# MV Frontier when Short Sales are Not Allowed\n",
    "\n",
    "The code below solves (numerically) the following minimization problem \n",
    "\n",
    "$\\min \\text{Var}(R_p) \\: \\text{ s.t. } \\: \\text{E}R_p = \\mu^*$,\n",
    " \n",
    "and where we require $w_i\\ge 0$.\n",
    " \n",
    "The code below calls on\n",
    "```\n",
    "quadprog(zeros(N),Sigma,A,'=',b,zeros(N),ones(N),IpoptSolver(print_level=1))\n",
    "```\n",
    "\n",
    "This means that we minimize\n",
    "$0'w + w' \\Sigma w/2$ subject to the constraints $A w = b$ and $0 \\leq w \\leq 1$. The equality constraints ($A w = b$) are used to impose $1'w=1$ and $\\mu'w = \\mu^*$ (se the code below).\n",
    "    \n",
    "The ```quadprog()``` function is tailor made for linear-quadratic optimization problems with constraints. More general optimization functions would also work, but are likely to be slower."
   ]
  },
  {
   "cell_type": "code",
   "execution_count": 8,
   "metadata": {},
   "outputs": [
    {
     "data": {
      "text/plain": [
       "MeanVarNoSSPs (generic function with 1 method)"
      ]
     },
     "execution_count": 8,
     "metadata": {},
     "output_type": "execute_result"
    }
   ],
   "source": [
    "function MeanVarNoSSPs(mu,Sigma,mustar)   #MV with no short-sales, numerical minimization\n",
    "    (w_p,StdRp) = (NaN,NaN)               #default result (if no feasible solution)        \n",
    "    N = length(mu)\n",
    "    if minimum(mu) <= mustar <= maximum(mu)  #try only if feasible\n",
    "        A   = [ones(1,N);mu']                #1'w=1, mu'w = mustar\n",
    "        b   = [1;mustar]\n",
    "        Sol = quadprog(zeros(N),Sigma,A,'=',b,zeros(N),ones(N),IpoptSolver(print_level=1))\n",
    "        if Sol.status == :Optimal\n",
    "            w_p = Sol.sol\n",
    "            StdRp = sqrt(w_p'Sigma*w_p)\n",
    "        end    \n",
    "    end    \n",
    "    return StdRp,w_p\n",
    "end"
   ]
  },
  {
   "cell_type": "code",
   "execution_count": 9,
   "metadata": {},
   "outputs": [
    {
     "name": "stdout",
     "output_type": "stream",
     "text": [
      "\n",
      "******************************************************************************\n",
      "This program contains Ipopt, a library for large-scale nonlinear optimization.\n",
      " Ipopt is released as open source code under the Eclipse Public License (EPL).\n",
      "         For more information visit http://projects.coin-or.org/Ipopt\n",
      "******************************************************************************\n",
      "\n"
     ]
    }
   ],
   "source": [
    "Std_no_ss = fill(NaN,length(mustar))\n",
    "for i = 1:length(mustar)\n",
    "    Std_no_ss[i] = MeanVarNoSSPs(μ,Σ,mustar[i])[1]     #[1] to get first output\n",
    "end"
   ]
  },
  {
   "cell_type": "code",
   "execution_count": 10,
   "metadata": {},
   "outputs": [
    {
     "data": {
      "image/svg+xml": [
       "<?xml version=\"1.0\" encoding=\"utf-8\"?>\n",
       "<svg xmlns=\"http://www.w3.org/2000/svg\" xmlns:xlink=\"http://www.w3.org/1999/xlink\" width=\"480\" height=\"320\" viewBox=\"0 0 480 320\">\n",
       "<defs>\n",
       "  <clipPath id=\"clip4000\">\n",
       "    <rect x=\"0\" y=\"0\" width=\"480\" height=\"320\"/>\n",
       "  </clipPath>\n",
       "</defs>\n",
       "<polygon clip-path=\"url(#clip4000)\" points=\"\n",
       "0,320 480,320 480,0 0,0 \n",
       "  \" fill=\"#ffffff\" fill-opacity=\"1\"/>\n",
       "<defs>\n",
       "  <clipPath id=\"clip4001\">\n",
       "    <rect x=\"96\" y=\"0\" width=\"337\" height=\"320\"/>\n",
       "  </clipPath>\n",
       "</defs>\n",
       "<polygon clip-path=\"url(#clip4000)\" points=\"\n",
       "52.7512,280.121 460.315,280.121 460.315,31.4961 52.7512,31.4961 \n",
       "  \" fill=\"#ffffff\" fill-opacity=\"1\"/>\n",
       "<defs>\n",
       "  <clipPath id=\"clip4002\">\n",
       "    <rect x=\"52\" y=\"31\" width=\"409\" height=\"250\"/>\n",
       "  </clipPath>\n",
       "</defs>\n",
       "<polyline clip-path=\"url(#clip4002)\" style=\"stroke:#000000; stroke-width:0.5; stroke-opacity:0.1; fill:none\" points=\"\n",
       "  52.7512,280.121 52.7512,31.4961 \n",
       "  \"/>\n",
       "<polyline clip-path=\"url(#clip4002)\" style=\"stroke:#000000; stroke-width:0.5; stroke-opacity:0.1; fill:none\" points=\"\n",
       "  188.606,280.121 188.606,31.4961 \n",
       "  \"/>\n",
       "<polyline clip-path=\"url(#clip4002)\" style=\"stroke:#000000; stroke-width:0.5; stroke-opacity:0.1; fill:none\" points=\"\n",
       "  324.46,280.121 324.46,31.4961 \n",
       "  \"/>\n",
       "<polyline clip-path=\"url(#clip4002)\" style=\"stroke:#000000; stroke-width:0.5; stroke-opacity:0.1; fill:none\" points=\"\n",
       "  460.315,280.121 460.315,31.4961 \n",
       "  \"/>\n",
       "<polyline clip-path=\"url(#clip4002)\" style=\"stroke:#000000; stroke-width:0.5; stroke-opacity:0.1; fill:none\" points=\"\n",
       "  52.7512,280.121 460.315,280.121 \n",
       "  \"/>\n",
       "<polyline clip-path=\"url(#clip4002)\" style=\"stroke:#000000; stroke-width:0.5; stroke-opacity:0.1; fill:none\" points=\"\n",
       "  52.7512,197.246 460.315,197.246 \n",
       "  \"/>\n",
       "<polyline clip-path=\"url(#clip4002)\" style=\"stroke:#000000; stroke-width:0.5; stroke-opacity:0.1; fill:none\" points=\"\n",
       "  52.7512,114.371 460.315,114.371 \n",
       "  \"/>\n",
       "<polyline clip-path=\"url(#clip4002)\" style=\"stroke:#000000; stroke-width:0.5; stroke-opacity:0.1; fill:none\" points=\"\n",
       "  52.7512,31.4961 460.315,31.4961 \n",
       "  \"/>\n",
       "<polyline clip-path=\"url(#clip4000)\" style=\"stroke:#000000; stroke-width:1; stroke-opacity:1; fill:none\" points=\"\n",
       "  52.7512,280.121 460.315,280.121 \n",
       "  \"/>\n",
       "<polyline clip-path=\"url(#clip4000)\" style=\"stroke:#000000; stroke-width:1; stroke-opacity:1; fill:none\" points=\"\n",
       "  52.7512,280.121 52.7512,31.4961 \n",
       "  \"/>\n",
       "<polyline clip-path=\"url(#clip4000)\" style=\"stroke:#000000; stroke-width:1; stroke-opacity:1; fill:none\" points=\"\n",
       "  52.7512,280.121 52.7512,276.391 \n",
       "  \"/>\n",
       "<polyline clip-path=\"url(#clip4000)\" style=\"stroke:#000000; stroke-width:1; stroke-opacity:1; fill:none\" points=\"\n",
       "  188.606,280.121 188.606,276.391 \n",
       "  \"/>\n",
       "<polyline clip-path=\"url(#clip4000)\" style=\"stroke:#000000; stroke-width:1; stroke-opacity:1; fill:none\" points=\"\n",
       "  324.46,280.121 324.46,276.391 \n",
       "  \"/>\n",
       "<polyline clip-path=\"url(#clip4000)\" style=\"stroke:#000000; stroke-width:1; stroke-opacity:1; fill:none\" points=\"\n",
       "  460.315,280.121 460.315,276.391 \n",
       "  \"/>\n",
       "<polyline clip-path=\"url(#clip4000)\" style=\"stroke:#000000; stroke-width:1; stroke-opacity:1; fill:none\" points=\"\n",
       "  52.7512,280.121 58.8647,280.121 \n",
       "  \"/>\n",
       "<polyline clip-path=\"url(#clip4000)\" style=\"stroke:#000000; stroke-width:1; stroke-opacity:1; fill:none\" points=\"\n",
       "  52.7512,197.246 58.8647,197.246 \n",
       "  \"/>\n",
       "<polyline clip-path=\"url(#clip4000)\" style=\"stroke:#000000; stroke-width:1; stroke-opacity:1; fill:none\" points=\"\n",
       "  52.7512,114.371 58.8647,114.371 \n",
       "  \"/>\n",
       "<polyline clip-path=\"url(#clip4000)\" style=\"stroke:#000000; stroke-width:1; stroke-opacity:1; fill:none\" points=\"\n",
       "  52.7512,31.4961 58.8647,31.4961 \n",
       "  \"/>\n",
       "<g clip-path=\"url(#clip4000)\">\n",
       "<text style=\"fill:#000000; fill-opacity:1; font-family:Arial,Helvetica Neue,Helvetica,sans-serif; font-size:12; text-anchor:middle;\" transform=\"rotate(0, 52.7512, 293.321)\" x=\"52.7512\" y=\"293.321\">0</text>\n",
       "</g>\n",
       "<g clip-path=\"url(#clip4000)\">\n",
       "<text style=\"fill:#000000; fill-opacity:1; font-family:Arial,Helvetica Neue,Helvetica,sans-serif; font-size:12; text-anchor:middle;\" transform=\"rotate(0, 188.606, 293.321)\" x=\"188.606\" y=\"293.321\">5</text>\n",
       "</g>\n",
       "<g clip-path=\"url(#clip4000)\">\n",
       "<text style=\"fill:#000000; fill-opacity:1; font-family:Arial,Helvetica Neue,Helvetica,sans-serif; font-size:12; text-anchor:middle;\" transform=\"rotate(0, 324.46, 293.321)\" x=\"324.46\" y=\"293.321\">10</text>\n",
       "</g>\n",
       "<g clip-path=\"url(#clip4000)\">\n",
       "<text style=\"fill:#000000; fill-opacity:1; font-family:Arial,Helvetica Neue,Helvetica,sans-serif; font-size:12; text-anchor:middle;\" transform=\"rotate(0, 460.315, 293.321)\" x=\"460.315\" y=\"293.321\">15</text>\n",
       "</g>\n",
       "<g clip-path=\"url(#clip4000)\">\n",
       "<text style=\"fill:#000000; fill-opacity:1; font-family:Arial,Helvetica Neue,Helvetica,sans-serif; font-size:12; text-anchor:end;\" transform=\"rotate(0, 47.9512, 284.621)\" x=\"47.9512\" y=\"284.621\">0</text>\n",
       "</g>\n",
       "<g clip-path=\"url(#clip4000)\">\n",
       "<text style=\"fill:#000000; fill-opacity:1; font-family:Arial,Helvetica Neue,Helvetica,sans-serif; font-size:12; text-anchor:end;\" transform=\"rotate(0, 47.9512, 201.746)\" x=\"47.9512\" y=\"201.746\">5</text>\n",
       "</g>\n",
       "<g clip-path=\"url(#clip4000)\">\n",
       "<text style=\"fill:#000000; fill-opacity:1; font-family:Arial,Helvetica Neue,Helvetica,sans-serif; font-size:12; text-anchor:end;\" transform=\"rotate(0, 47.9512, 118.871)\" x=\"47.9512\" y=\"118.871\">10</text>\n",
       "</g>\n",
       "<g clip-path=\"url(#clip4000)\">\n",
       "<text style=\"fill:#000000; fill-opacity:1; font-family:Arial,Helvetica Neue,Helvetica,sans-serif; font-size:12; text-anchor:end;\" transform=\"rotate(0, 47.9512, 35.9961)\" x=\"47.9512\" y=\"35.9961\">15</text>\n",
       "</g>\n",
       "<g clip-path=\"url(#clip4000)\">\n",
       "<text style=\"fill:#000000; fill-opacity:1; font-family:Arial,Helvetica Neue,Helvetica,sans-serif; font-size:21; text-anchor:middle;\" transform=\"rotate(0, 256.533, 18)\" x=\"256.533\" y=\"18\">Mean variance frontier (with/without short sales constraints)</text>\n",
       "</g>\n",
       "<g clip-path=\"url(#clip4000)\">\n",
       "<text style=\"fill:#000000; fill-opacity:1; font-family:Arial,Helvetica Neue,Helvetica,sans-serif; font-size:16; text-anchor:middle;\" transform=\"rotate(0, 256.533, 317.6)\" x=\"256.533\" y=\"317.6\">Std(Rp), %</text>\n",
       "</g>\n",
       "<g clip-path=\"url(#clip4000)\">\n",
       "<text style=\"fill:#000000; fill-opacity:1; font-family:Arial,Helvetica Neue,Helvetica,sans-serif; font-size:16; text-anchor:middle;\" transform=\"rotate(-90, 14.4, 155.808)\" x=\"14.4\" y=\"155.808\">ERp, %</text>\n",
       "</g>\n",
       "<polyline clip-path=\"url(#clip4002)\" style=\"stroke:#ff0000; stroke-width:2; stroke-opacity:1; fill:none\" points=\"\n",
       "  351.492,213.821 346.182,211.998 340.924,210.174 335.719,208.351 330.572,206.528 325.486,204.705 320.464,202.881 315.509,201.058 310.626,199.235 305.818,197.412 \n",
       "  301.091,195.588 296.448,193.765 291.895,191.942 287.437,190.119 283.079,188.295 278.828,186.472 274.689,184.649 270.668,182.826 266.773,181.002 263.01,179.179 \n",
       "  259.387,177.356 255.911,175.533 252.59,173.709 249.432,171.886 246.444,170.063 243.634,168.24 241.011,166.416 238.583,164.593 236.356,162.77 234.34,160.947 \n",
       "  232.54,159.123 230.963,157.3 229.615,155.477 228.502,153.654 227.628,151.83 226.996,150.007 226.61,148.184 226.47,146.361 226.578,144.537 226.933,142.714 \n",
       "  227.533,140.891 228.376,139.068 229.459,137.244 230.777,135.421 232.324,133.598 234.096,131.775 236.085,129.951 238.285,128.128 240.688,126.305 243.286,124.482 \n",
       "  246.072,122.658 249.038,120.835 252.175,119.012 255.475,117.189 258.932,115.365 262.536,113.542 266.281,111.719 270.16,109.896 274.165,108.072 278.289,106.249 \n",
       "  282.526,104.426 286.871,102.603 291.316,100.779 295.857,98.9562 300.489,97.133 305.205,95.3097 310.003,93.4865 314.877,91.6632 319.822,89.84 324.836,88.0167 \n",
       "  329.915,86.1935 335.054,84.3702 340.251,82.547 345.503,80.7237 350.806,78.9005 356.158,77.0772 361.557,75.254 367,73.4307 372.485,71.6075 378.009,69.7842 \n",
       "  383.571,67.961 389.169,66.1378 394.802,64.3145 400.466,62.4913 406.161,60.668 411.886,58.8448 417.639,57.0215 423.419,55.1983 429.224,53.375 435.053,51.5518 \n",
       "  440.906,49.7285 446.78,47.9053 452.676,46.082 458.593,44.2588 464.528,42.4355 470.483,40.6123 476.455,38.7891 482.444,36.9658 488.449,35.1426 494.471,33.3193 \n",
       "  500.507,31.4961 \n",
       "  \"/>\n",
       "<polyline clip-path=\"url(#clip4002)\" style=\"stroke:#008000; stroke-width:2; stroke-opacity:1; fill:none\" stroke-dasharray=\"8, 5\" points=\"\n",
       "  317.812,179.179 309.855,177.356 302.1,175.533 294.567,173.709 287.277,171.886 280.254,170.063 273.523,168.24 267.111,166.416 261.049,164.593 255.367,162.77 \n",
       "  250.098,160.947 245.277,159.123 240.937,157.3 237.112,155.477 233.836,153.654 231.139,151.83 229.046,150.007 227.58,148.184 226.757,146.361 226.585,144.537 \n",
       "  226.933,142.714 227.533,140.891 228.376,139.068 229.459,137.244 230.777,135.421 232.324,133.598 234.096,131.775 236.085,129.951 238.285,128.128 240.688,126.305 \n",
       "  243.286,124.482 246.072,122.658 249.038,120.835 252.175,119.012 255.475,117.189 258.932,115.365 262.536,113.542 266.422,111.719 271.663,109.896 278.39,108.072 \n",
       "  286.475,106.249 295.783,104.426 306.179,102.603 317.535,100.779 329.733,98.9562 342.666,97.133 356.241,95.3097 370.375,93.4865 384.998,91.6632 400.046,89.84 \n",
       "  \n",
       "  \"/>\n",
       "<polygon clip-path=\"url(#clip4000)\" points=\"\n",
       "67.1512,90.5361 216.786,90.5361 216.786,45.1761 67.1512,45.1761 \n",
       "  \" fill=\"#ffffff\" fill-opacity=\"1\"/>\n",
       "<polyline clip-path=\"url(#clip4000)\" style=\"stroke:#000000; stroke-width:1; stroke-opacity:1; fill:none\" points=\"\n",
       "  67.1512,90.5361 216.786,90.5361 216.786,45.1761 67.1512,45.1761 67.1512,90.5361 \n",
       "  \"/>\n",
       "<polyline clip-path=\"url(#clip4000)\" style=\"stroke:#ff0000; stroke-width:2; stroke-opacity:1; fill:none\" points=\"\n",
       "  71.9512,60.2961 100.751,60.2961 \n",
       "  \"/>\n",
       "<g clip-path=\"url(#clip4000)\">\n",
       "<text style=\"fill:#000000; fill-opacity:1; font-family:Arial,Helvetica Neue,Helvetica,sans-serif; font-size:12; text-anchor:start;\" transform=\"rotate(0, 105.551, 64.7961)\" x=\"105.551\" y=\"64.7961\">Risky only</text>\n",
       "</g>\n",
       "<polyline clip-path=\"url(#clip4000)\" style=\"stroke:#008000; stroke-width:2; stroke-opacity:1; fill:none\" stroke-dasharray=\"8, 5\" points=\"\n",
       "  71.9512,75.4161 100.751,75.4161 \n",
       "  \"/>\n",
       "<g clip-path=\"url(#clip4000)\">\n",
       "<text style=\"fill:#000000; fill-opacity:1; font-family:Arial,Helvetica Neue,Helvetica,sans-serif; font-size:12; text-anchor:start;\" transform=\"rotate(0, 105.551, 79.9161)\" x=\"105.551\" y=\"79.9161\">Risky only (no ss)  </text>\n",
       "</g>\n",
       "</svg>\n"
      ]
     },
     "execution_count": 10,
     "metadata": {},
     "output_type": "execute_result"
    }
   ],
   "source": [
    "p1 = plot(StdRp*100,mustar*100,color=:red,linewidth=2,label=\"Risky only\")\n",
    "plot!(Std_no_ss*100,mustar*100,color=:green,line=(:dash,2),label=\"Risky only (no ss)  \")\n",
    "plot!(xlim=(0,15),ylim=(0,15),legend=:topleft)\n",
    "title!(\"Mean variance frontier (with/without short sales constraints)\")\n",
    "xlabel!(\"Std(Rp), %\")\n",
    "ylabel!(\"ERp, %\")"
   ]
  },
  {
   "cell_type": "code",
   "execution_count": null,
   "metadata": {},
   "outputs": [],
   "source": []
  }
 ],
 "metadata": {
  "anaconda-cloud": {},
  "kernelspec": {
   "display_name": "Julia 1.0.0",
   "language": "julia",
   "name": "julia-1.0"
  },
  "language_info": {
   "file_extension": ".jl",
   "mimetype": "application/julia",
   "name": "julia",
   "version": "1.0.0"
  }
 },
 "nbformat": 4,
 "nbformat_minor": 1
}
