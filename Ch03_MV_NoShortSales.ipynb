{
 "cells": [
  {
   "cell_type": "markdown",
   "metadata": {},
   "source": [
    "# Mean Variance Frontier w/w.o Short Sales Constraints"
   ]
  },
  {
   "cell_type": "markdown",
   "metadata": {},
   "source": [
    "This code below calculates mean variances frontiers (a) when there are no restrictions on the portfolio weights and (b) when we impose the restriction that no weights can be negative.\n",
    "\n",
    "The latter case requires a numerical minimization routine (the code uses quadprog), which comes from the packages MathProgBase and Ipopt."
   ]
  },
  {
   "cell_type": "markdown",
   "metadata": {},
   "source": [
    "# Load Packages"
   ]
  },
  {
   "cell_type": "code",
   "execution_count": 1,
   "metadata": {},
   "outputs": [
    {
     "data": {
      "text/plain": [
       "printlnPs (generic function with 2 methods)"
      ]
     },
     "execution_count": 1,
     "metadata": {},
     "output_type": "execute_result"
    }
   ],
   "source": [
    "using MathProgBase, Ipopt\n",
    "using Dates            \n",
    "\n",
    "include(\"printmat.jl\")    "
   ]
  },
  {
   "cell_type": "code",
   "execution_count": 3,
   "metadata": {},
   "outputs": [],
   "source": [
    "using Plots\n",
    "backend = \"gr\"              #\"gr\" (default), \"pyplot\" \n",
    "\n",
    "if backend == \"pyplot\"\n",
    "    pyplot(size=(600,400))\n",
    "else    \n",
    "    gr(size=(600,400))\n",
    "    default(fmt = :png)\n",
    "end"
   ]
  },
  {
   "cell_type": "markdown",
   "metadata": {},
   "source": [
    "# Traditional MV Calculations (no constraints)"
   ]
  },
  {
   "cell_type": "code",
   "execution_count": 4,
   "metadata": {},
   "outputs": [
    {
     "name": "stdout",
     "output_type": "stream",
     "text": [
      "μ, Σ and Rf: \n",
      "     0.115\n",
      "     0.095\n",
      "     0.060\n",
      "\n",
      "     0.017     0.003     0.006\n",
      "     0.003     0.006     0.000\n",
      "     0.006     0.000     0.010\n",
      "\n",
      "     0.030\n"
     ]
    }
   ],
   "source": [
    "μ = [0.115; 0.095; 0.06]    #expected returns\n",
    "Σ  = [166  34  58;          #covariance matrix\n",
    "       34  64   4;\n",
    "       58   4 100]/100^2                  \n",
    "Rf = 0.03\n",
    "\n",
    "println(\"μ, Σ and Rf: \")\n",
    "printmat(μ)\n",
    "printmat(Σ)\n",
    "printlnPs(Rf)"
   ]
  },
  {
   "cell_type": "markdown",
   "metadata": {},
   "source": [
    "## From Ch3 Notebook (MV Frontier without portfolio constraints)"
   ]
  },
  {
   "cell_type": "code",
   "execution_count": 5,
   "metadata": {},
   "outputs": [
    {
     "data": {
      "text/plain": [
       "MVCalc (generic function with 1 method)"
      ]
     },
     "execution_count": 5,
     "metadata": {},
     "output_type": "execute_result"
    }
   ],
   "source": [
    "function MVCalc(mustar,μ,Σ)           #calculates the std of a portfolio on MVF\n",
    "    n    = length(μ)\n",
    "    oneV = ones(n) \n",
    "    Σ_1  = inv(Σ)\n",
    "    A    = μ'Σ_1*μ\n",
    "    B    = μ'Σ_1*oneV\n",
    "    C    = oneV'Σ_1*oneV\n",
    "    λ    = (C*mustar - B)/(A*C-B^2)\n",
    "    δ    = (A-B*mustar)/(A*C-B^2)\n",
    "    w    = Σ_1 *(μ*λ + oneV*δ)\n",
    "    StdRp = sqrt(w'Σ*w)\n",
    "    return StdRp,w\n",
    "end"
   ]
  },
  {
   "cell_type": "code",
   "execution_count": 6,
   "metadata": {},
   "outputs": [],
   "source": [
    "mustar = range(0.04,stop=0.15,length=101)      #0.7 syntax\n",
    "L      = length(mustar)\n",
    "StdRp  = fill(NaN,L)\n",
    "for i = 1:L\n",
    "    StdRp[i] = MVCalc(mustar[i],μ,Σ)[1]\n",
    "end    "
   ]
  },
  {
   "cell_type": "code",
   "execution_count": 7,
   "metadata": {},
   "outputs": [
    {
     "data": {
      "image/png": "[encoded data removed]"
     },
     "metadata": {},
     "output_type": "display_data"
    }
   ],
   "source": [
    "p1 = plot(StdRp*100,mustar*100,color=:red,linewidth=2,legend=false)\n",
    "plot!(p1,xlim=(0,15),ylim=(0,15))\n",
    "title!(p1,\"Mean variance frontier (no portfolio constraints)\")\n",
    "xlabel!(p1,\"Std(Rp), %\")\n",
    "ylabel!(p1,\"ERp, %\")\n",
    "display(\"image/png\",p1)"
   ]
  },
  {
   "cell_type": "markdown",
   "metadata": {},
   "source": [
    "# MV Frontier when Short Sales are Not Allowed\n",
    "\n",
    "The code below solves (numerically) the following minimization problem \n",
    "\n",
    "$\\min \\text{Var}(R_p) \\: \\text{ s.t. } \\: \\text{E}R_p = \\mu^*$,\n",
    " \n",
    "and where we require $w_i\\ge 0$.\n",
    " \n",
    "The code below calls on\n",
    "```\n",
    "quadprog(zeros(N),Sigma,A,'=',b,zeros(N),ones(N),IpoptSolver(print_level=1))\n",
    "```\n",
    "\n",
    "This means that we minimize\n",
    "$0'w + w' \\Sigma w/2$ subject to the constraints $A w = b$ and $0 \\leq w \\leq 1$. The equality constraints ($A w = b$) are used to impose $1'w=1$ and $\\mu'w = \\mu^*$ (se the code below).\n",
    "    \n",
    "The ```quadprog()``` function is tailor made for linear-quadratic optimization problems with constraints. More general optimization functions would also work, but are likely to be slower."
   ]
  },
  {
   "cell_type": "code",
   "execution_count": 8,
   "metadata": {},
   "outputs": [
    {
     "data": {
      "text/plain": [
       "MeanVarNoSSPs (generic function with 1 method)"
      ]
     },
     "execution_count": 8,
     "metadata": {},
     "output_type": "execute_result"
    }
   ],
   "source": [
    "function MeanVarNoSSPs(mu,Sigma,mustar)   #MV with no short-sales, numerical minimization\n",
    "    (w_p,StdRp) = (NaN,NaN)               #default result (if no feasible solution)        \n",
    "    N = length(mu)\n",
    "    if minimum(mu) <= mustar <= maximum(mu)  #try only if feasible\n",
    "        A   = [ones(1,N);mu']                #1'w=1, mu'w = mustar\n",
    "        b   = [1;mustar]\n",
    "        Sol = quadprog(zeros(N),Sigma,A,'=',b,zeros(N),ones(N),IpoptSolver(print_level=1))\n",
    "        if Sol.status == :Optimal\n",
    "            w_p = Sol.sol\n",
    "            StdRp = sqrt(w_p'Sigma*w_p)\n",
    "        end    \n",
    "    end    \n",
    "    return StdRp,w_p\n",
    "end"
   ]
  },
  {
   "cell_type": "code",
   "execution_count": 9,
   "metadata": {},
   "outputs": [
    {
     "name": "stdout",
     "output_type": "stream",
     "text": [
      "\n",
      "******************************************************************************\n",
      "This program contains Ipopt, a library for large-scale nonlinear optimization.\n",
      " Ipopt is released as open source code under the Eclipse Public License (EPL).\n",
      "         For more information visit http://projects.coin-or.org/Ipopt\n",
      "******************************************************************************\n",
      "\n"
     ]
    }
   ],
   "source": [
    "Std_no_ss = fill(NaN,length(mustar))\n",
    "for i = 1:length(mustar)\n",
    "    Std_no_ss[i] = MeanVarNoSSPs(μ,Σ,mustar[i])[1]     #[1] to get first output\n",
    "end"
   ]
  },
  {
   "cell_type": "code",
   "execution_count": 10,
   "metadata": {},
   "outputs": [
    {
     "data": {
      "image/png": "[encoded data removed]"
     },
     "metadata": {},
     "output_type": "display_data"
    }
   ],
   "source": [
    "p1 = plot(StdRp*100,mustar*100,color=:red,linewidth=2,label=\"Risky only\")\n",
    "plot!(p1,Std_no_ss*100,mustar*100,color=:green,line=(:dash,2),label=\"Risky only (no ss)  \")\n",
    "plot!(p1,xlim=(0,15),ylim=(0,15),legend=:topleft)\n",
    "title!(p1,\"Mean variance frontier (with/without short sales constraints)\")\n",
    "xlabel!(p1,\"Std(Rp), %\")\n",
    "ylabel!(p1,\"ERp, %\")\n",
    "display(\"image/png\",p1)"
   ]
  },
  {
   "cell_type": "code",
   "execution_count": null,
   "metadata": {},
   "outputs": [],
   "source": []
  }
 ],
 "metadata": {
  "anaconda-cloud": {},
  "kernelspec": {
   "display_name": "Julia 1.0.0",
   "language": "julia",
   "name": "julia-1.0"
  },
  "language_info": {
   "file_extension": ".jl",
   "mimetype": "application/julia",
   "name": "julia",
   "version": "1.0.0"
  }
 },
 "nbformat": 4,
 "nbformat_minor": 1
}
