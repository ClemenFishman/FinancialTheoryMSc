{
 "cells": [
  {
   "cell_type": "markdown",
   "metadata": {},
   "source": [
    "## Load Packages"
   ]
  },
  {
   "cell_type": "code",
   "execution_count": 1,
   "metadata": {},
   "outputs": [
    {
     "data": {
      "text/plain": [
       "printlnPs (generic function with 2 methods)"
      ]
     },
     "execution_count": 1,
     "metadata": {},
     "output_type": "execute_result"
    }
   ],
   "source": [
    "using Dates, Distributions, DelimitedFiles\n",
    "\n",
    "include(\"printmat.jl\")"
   ]
  },
  {
   "cell_type": "code",
   "execution_count": 3,
   "metadata": {},
   "outputs": [],
   "source": [
    "using Plots\n",
    "backend = \"gr\"              #\"gr\" (default), \"pyplot\" \n",
    "\n",
    "if backend == \"pyplot\"\n",
    "    pyplot(size=(600,400))\n",
    "else    \n",
    "    gr(size=(600,400))\n",
    "    default(fmt = :png)\n",
    "end"
   ]
  },
  {
   "cell_type": "markdown",
   "metadata": {},
   "source": [
    "# VaR for a N(μ,σ²) Return"
   ]
  },
  {
   "cell_type": "markdown",
   "metadata": {},
   "source": [
    "$\\textrm{VaR}_{95\\%} = - 5^{th}$ percentile of the return distribution\n",
    "\n",
    "With a $N(\\mu,\\sigma^2)$ distribution this gives\n",
    "\n",
    "$\\textrm{VaR}_{95\\%} = - (\\mu-1.64\\sigma)$"
   ]
  },
  {
   "cell_type": "code",
   "execution_count": 4,
   "metadata": {},
   "outputs": [
    {
     "data": {
      "text/plain": [
       "ϕNS (generic function with 3 methods)"
      ]
     },
     "execution_count": 4,
     "metadata": {},
     "output_type": "execute_result"
    }
   ],
   "source": [
    "function ϕNS(x,μ=0,σ²=1)                #pdf of N(μ,σ²), NS for \"non-standard\"\n",
    "    pdfx = pdf(Normal(μ,sqrt(σ²)),x)    #the Distributions package wants\n",
    "    return pdfx                         #Normal(μ,σ), not σ² \n",
    "end"
   ]
  },
  {
   "cell_type": "code",
   "execution_count": 5,
   "metadata": {},
   "outputs": [
    {
     "name": "stdout",
     "output_type": "stream",
     "text": [
      "with μ=8 and σ=16, the 5th quantile and VaR 95% are:    -18.240    18.240\n"
     ]
    }
   ],
   "source": [
    "μ = 8\n",
    "σ = 16\n",
    "\n",
    "R    = range(-60,stop=60,length=301)\n",
    "\n",
    "pdfR = ϕNS.(R,μ,σ^2)\n",
    "\n",
    "q05   = μ - 1.64*σ \n",
    "VaR95 = -(μ - 1.64*σ)\n",
    "printlnPs(\"with μ=$μ and σ=$σ, the 5th quantile and VaR 95% are: \",[q05 VaR95])"
   ]
  },
  {
   "cell_type": "code",
   "execution_count": 6,
   "metadata": {},
   "outputs": [
    {
     "name": "stdout",
     "output_type": "stream",
     "text": [
      "get an exact result by using the quantile() function:    -18.318\n"
     ]
    }
   ],
   "source": [
    "q05b = quantile(Normal(μ,sqrt(σ^2)),0.05)    #exact calculation of the the 5th quantile\n",
    "printlnPs(\"get an exact result by using the quantile() function: \",q05b)"
   ]
  },
  {
   "cell_type": "code",
   "execution_count": 7,
   "metadata": {},
   "outputs": [
    {
     "data": {
      "image/png": "[encoded data removed]"
     },
     "metadata": {},
     "output_type": "display_data"
    }
   ],
   "source": [
    "Rb = R[R .<= -VaR95]\n",
    "\n",
    "p1 = plot(R,pdfR,color=:red,linewidth=2,legend=false)\n",
    "plot!(p1,Rb,ϕNS.(Rb,μ,σ^2),color=:red,linewidth=2,legend=nothing,fill=(0,:blue))\n",
    "title!(p1,\"pdf of N($μ,$(σ^2)) and VaR (95%)\")\n",
    "xlabel!(p1,\"return, %\")\n",
    "plot!(p1,[-VaR95],linetype=:vline,color=:blue)\n",
    "display(\"image/png\",p1)"
   ]
  },
  {
   "cell_type": "markdown",
   "metadata": {},
   "source": [
    "# Loading Daily S&P 500 Data"
   ]
  },
  {
   "cell_type": "code",
   "execution_count": 8,
   "metadata": {},
   "outputs": [
    {
     "name": "stdout",
     "output_type": "stream",
     "text": [
      "Number of days in the sample: 9352\n"
     ]
    }
   ],
   "source": [
    "x  = readdlm(\"Data/SP500RfPs.csv\",',',skipstart=1)\n",
    "SP = convert(Array{Float64},x[:,2])       #convert to numerical array, S&P 500 level\n",
    "R  = (SP[2:end]./SP[1:end-1] .- 1) * 100  #returns, % \n",
    "T  = length(R)  \n",
    "\n",
    "dN = Date.(string.(x[2:end,1]),\"d/m/y\")    #convert to Date, 2:end as for R\n",
    "\n",
    "println(\"Number of days in the sample: $T\")"
   ]
  },
  {
   "cell_type": "markdown",
   "metadata": {},
   "source": [
    "# Backtesting VaR from N() on Data"
   ]
  },
  {
   "cell_type": "markdown",
   "metadata": {},
   "source": [
    "To backtest a VaR model, study the relative frequency of Loss > VaR. \n",
    "\n",
    "The code below does this for difference confidence levels (0.05,0.04,...) of the VaR."
   ]
  },
  {
   "cell_type": "code",
   "execution_count": 9,
   "metadata": {},
   "outputs": [
    {
     "name": "stdout",
     "output_type": "stream",
     "text": [
      "conf level      empirical VaR   N()-based VAR  theoretical coverage  actual coverage\n",
      "          0.950          1.640          1.790          0.950          0.959\n",
      "          0.955          1.715          1.846          0.955          0.963\n",
      "          0.960          1.802          1.907          0.960          0.966\n",
      "          0.965          1.886          1.975          0.965          0.968\n",
      "          0.970          2.031          2.052          0.970          0.971\n",
      "          0.975          2.194          2.140          0.975          0.974\n",
      "          0.980          2.349          2.244          0.980          0.977\n",
      "          0.985          2.566          2.373          0.985          0.981\n",
      "          0.990          2.958          2.547          0.990          0.984\n",
      "          0.995          3.826          2.824          0.995          0.988\n",
      "\n"
     ]
    }
   ],
   "source": [
    "μ_emp = mean(R)                             #mean and std of data\n",
    "σ_emp = std(R)\n",
    "\n",
    "pval = 0.05:-0.005:0.005\n",
    "L    = length(pval)\n",
    "Loss = -R\n",
    "\n",
    "VaR = fill(NaN,L)\n",
    "(VaR_emp,BreakFreq) = (copy(VaR),copy(VaR))\n",
    "for i = 1:L                 #loop over different (1-confidence levels)\n",
    "    VaR_emp[i]   = -quantile(R,pval[i])\n",
    "    VaR[i]       = -quantile(Normal(μ_emp,σ_emp),pval[i])\n",
    "    BreakFreq[i] = mean(Loss .> VaR[i])           #frequency of breaking the VaR\n",
    "end    \n",
    "\n",
    "println(\"conf level      empirical VaR   N()-based VAR  theoretical coverage  actual coverage\")\n",
    "printmat([(1.0.-pval) VaR_emp VaR (1.0.-pval) (1.0.-BreakFreq)],15)"
   ]
  },
  {
   "cell_type": "markdown",
   "metadata": {},
   "source": [
    "The code below studes the relative frequency of Loss > VaR, but this time over a moving data window. This allows us to investigate if there are long periods of failure (in either direction) the VaR."
   ]
  },
  {
   "cell_type": "code",
   "execution_count": 10,
   "metadata": {},
   "outputs": [],
   "source": [
    "VaR95 = -(μ_emp - 1.64*σ_emp)\n",
    "\n",
    "BreakFreqT = fill(NaN,T)                   #vector, freq(Loss>VaR) on moving data window\n",
    "for t = 101:T\n",
    "    BreakFreqT[t] = mean(Loss[t-100:t] .> VaR95)\n",
    "end"
   ]
  },
  {
   "cell_type": "code",
   "execution_count": 11,
   "metadata": {},
   "outputs": [
    {
     "data": {
      "image/png": "[encoded data removed]"
     },
     "metadata": {},
     "output_type": "display_data"
    }
   ],
   "source": [
    "xTicksLoc = Dates.value.([Date(1980);Date(1990);Date(2000);Date(2010)])\n",
    "xTicksLab = [\"1980\";\"1990\";\"2000\";\"2010\"]               #crude way of getting tick marks right\n",
    "\n",
    "p1 = plot(dN,BreakFreqT*100,color=:blue,ylim=(-1,35),legend=false,xticks=(xTicksLoc,xTicksLab))\n",
    "title!(p1,\"Pr(Loss > VaR 95%) over last 100 days\")\n",
    "ylabel!(p1,\"%\")\n",
    "plot!(p1,[5],linetype=:hline,color=:black)\n",
    "display(\"image/png\",p1)"
   ]
  },
  {
   "cell_type": "markdown",
   "metadata": {
    "collapsed": true
   },
   "source": [
    "# A Simple Dynamic VaR with Time-Varying Volatility"
   ]
  },
  {
   "cell_type": "markdown",
   "metadata": {},
   "source": [
    "We first construct an simple estimate of $\\sigma_t^2$ as a backward looking moving average\n",
    "\n",
    "$\\sigma_t^2 = \\lambda \\sigma_{t-1}^2 + (1-\\lambda) (R_{t-1} -\\mu_{t-1})^2$,\n",
    "where $\\mu_{t}=\\lambda \\mu_{t-1} + (1-\\lambda) R_{t-1}$ \n",
    "\n",
    "Redo the VaR calculation using \n",
    "\n",
    "$\\textrm{VaR}_{t} = - (\\mu_t-1.64\\sigma_t)$ and study if it has better properties than the static VaR"
   ]
  },
  {
   "cell_type": "code",
   "execution_count": 12,
   "metadata": {},
   "outputs": [
    {
     "name": "stdout",
     "output_type": "stream",
     "text": [
      "conf level, coverage\n",
      "     0.950     0.944\n",
      "     0.955     0.947\n",
      "     0.960     0.952\n",
      "     0.965     0.956\n",
      "     0.970     0.961\n",
      "     0.975     0.966\n",
      "     0.980     0.971\n",
      "     0.985     0.975\n",
      "     0.990     0.982\n",
      "     0.995     0.987\n",
      "\n"
     ]
    }
   ],
   "source": [
    "λ   = 0.94\n",
    "s2T = fill(σ_emp^2,T)          #vector, time-varying variance\n",
    "μT  = fill(μ_emp,T)\n",
    "for t = 2:T\n",
    "    μT[t]  = λ*μT[t-1]  + (1-λ)*R[t-1]\n",
    "    s2T[t] = λ*s2T[t-1] + (1-λ)*(R[t-1]-μT[t-1])^2    #RiskMetrics approach\n",
    "end\n",
    "\n",
    "BreakFreq = fill(NaN,L)\n",
    "for i = 1:L\n",
    "    local critval, VaR_i\n",
    "    critval      = abs(quantile(Normal(0,1),pval[i]))\n",
    "    VaR_i        = -(μT .- critval*sqrt.(s2T))\n",
    "    BreakFreq[i] = mean(Loss .> VaR_i)\n",
    "end    \n",
    "\n",
    "println(\"conf level, coverage\")\n",
    "printmat([(1.0.-pval) (1.0.-BreakFreq)])"
   ]
  },
  {
   "cell_type": "code",
   "execution_count": 13,
   "metadata": {},
   "outputs": [],
   "source": [
    "VaR95 = -(μT .- 1.64*sqrt.(s2T)) \n",
    "\n",
    "BreakFreqT = fill(NaN,T)                   #vector, freq(Loss>VaR) on moving data window\n",
    "for t = 101:T\n",
    "    BreakFreqT[t] = mean(Loss[t-100:t] .> VaR95[t-100:t])\n",
    "end    "
   ]
  },
  {
   "cell_type": "code",
   "execution_count": 14,
   "metadata": {},
   "outputs": [
    {
     "data": {
      "image/png": "[encoded data removed]"
     },
     "metadata": {},
     "output_type": "display_data"
    }
   ],
   "source": [
    "xTicksLoc = Dates.value.([Date(1980);Date(1990);Date(2000);Date(2010)])\n",
    "xTicksLab = [\"1980\";\"1990\";\"2000\";\"2010\"]               #crude way of getting tick marks right\n",
    "\n",
    "p1 = plot(dN,BreakFreqT*100,color=:blue,ylim=(-1,35),legend=false,xticks=(xTicksLoc,xTicksLab))\n",
    "title!(p1,\"Pr(Loss > VaR 95%) over last 100 days\")\n",
    "ylabel!(p1,\"%\")\n",
    "plot!(p1,[5],linetype=:hline,color=:black)\n",
    "display(\"image/png\",p1)"
   ]
  },
  {
   "cell_type": "markdown",
   "metadata": {},
   "source": [
    "# Expected Shortfall"
   ]
  },
  {
   "cell_type": "markdown",
   "metadata": {},
   "source": [
    "Recall: $\\text{ES}_{\\alpha}=-\\text{E}(R|R\\leq-\\text{VaR}_{\\alpha})$\n",
    "\n",
    "For a normally distributed return $R\\sim N(\\mu,\\sigma^{2})$ we have\n",
    "\n",
    "$\\text{ES}_{95\\%}=-\\mu+\\frac{\\phi(-1.64)}{0.05}\\sigma$"
   ]
  },
  {
   "cell_type": "code",
   "execution_count": 15,
   "metadata": {},
   "outputs": [
    {
     "name": "stdout",
     "output_type": "stream",
     "text": [
      "N() based ES 95% with μ=8 and σ=16 is:     25.268\n"
     ]
    }
   ],
   "source": [
    "μ = 8\n",
    "σ = 16\n",
    "ES95 = -(μ - ϕNS(1.64)/0.05*σ)\n",
    "printlnPs(\"N() based ES 95% with μ=$μ and σ=$σ is: \",ES95)"
   ]
  },
  {
   "cell_type": "code",
   "execution_count": 16,
   "metadata": {},
   "outputs": [
    {
     "name": "stdout",
     "output_type": "stream",
     "text": [
      "Conf level     ES from N()  ES (historical)\n",
      "       0.950       2.254       2.569\n",
      "       0.955       2.303       2.668\n",
      "       0.960       2.356       2.779\n",
      "       0.965       2.415       2.914\n",
      "       0.970       2.482       3.075\n",
      "       0.975       2.560       3.270\n",
      "       0.980       2.652       3.516\n",
      "       0.985       2.767       3.871\n",
      "       0.990       2.924       4.429\n",
      "       0.995       3.176       5.628\n",
      "\n"
     ]
    }
   ],
   "source": [
    "ESN    = fill(NaN,L) \n",
    "ES_emp = copy(ESN)\n",
    "for i = 1:L\n",
    "    local critval, vv_i\n",
    "    critval   = abs(quantile(Normal(0,1),pval[i]))    \n",
    "    ESN[i]    = -(μ_emp .- ϕNS(critval)/pval[i]*σ_emp)\n",
    "    vv_i      = Loss .> VaR_emp[i]      \n",
    "    ES_emp[i] = mean(Loss[vv_i])        #mean of obs when Loss > VaR\n",
    "end    \n",
    "\n",
    "println(\"Conf level     ES from N()  ES (historical)\")\n",
    "printmat([(1 .- pval) ESN ES_emp],12)"
   ]
  },
  {
   "cell_type": "code",
   "execution_count": null,
   "metadata": {},
   "outputs": [],
   "source": []
  }
 ],
 "metadata": {
  "anaconda-cloud": {},
  "kernelspec": {
   "display_name": "Julia 1.0.0",
   "language": "julia",
   "name": "julia-1.0"
  },
  "language_info": {
   "file_extension": ".jl",
   "mimetype": "application/julia",
   "name": "julia",
   "version": "1.0.0"
  }
 },
 "nbformat": 4,
 "nbformat_minor": 1
}
