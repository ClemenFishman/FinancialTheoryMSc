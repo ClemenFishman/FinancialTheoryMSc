{
 "cells": [
  {
   "cell_type": "markdown",
   "metadata": {},
   "source": [
    "## Load Packages"
   ]
  },
  {
   "cell_type": "code",
   "execution_count": 1,
   "metadata": {},
   "outputs": [
    {
     "data": {
      "text/plain": [
       "println4Ps (generic function with 1 method)"
      ]
     },
     "execution_count": 1,
     "metadata": {},
     "output_type": "execute_result"
    }
   ],
   "source": [
    "include(\"printmat.jl\")"
   ]
  },
  {
   "cell_type": "code",
   "execution_count": 2,
   "metadata": {},
   "outputs": [
    {
     "data": {
      "text/plain": [
       "Plots.GRBackend()"
      ]
     },
     "execution_count": 2,
     "metadata": {},
     "output_type": "execute_result"
    }
   ],
   "source": [
    "using Plots\n",
    "backend = \"gr\"              #\"gr\" (default), \"pyplot\" \n",
    "\n",
    "if backend == \"pyplot\"\n",
    "    pyplot(size=(600,400))\n",
    "else    \n",
    "    gr(size=(600,400))\n",
    "end"
   ]
  },
  {
   "cell_type": "markdown",
   "metadata": {},
   "source": [
    "# From Chapter on Mean-Variance Analysis"
   ]
  },
  {
   "cell_type": "code",
   "execution_count": 3,
   "metadata": {},
   "outputs": [
    {
     "data": {
      "text/plain": [
       "MVTangencyP (generic function with 1 method)"
      ]
     },
     "execution_count": 3,
     "metadata": {},
     "output_type": "execute_result"
    }
   ],
   "source": [
    "function MVTangencyP(μ,Σ,Rf)           #calculates the tangency portfolio\n",
    "    n     = length(μ)\n",
    "    oneV  = ones(n)  \n",
    "    μe    = μ - Rf                    #excess returns            \n",
    "    Σ_1   = inv(Σ)\n",
    "    w     = Σ_1 *μe/(oneV'Σ_1*μe)\n",
    "    muT   = w'μ + (1-sum(w))*Rf\n",
    "    StdRT = sqrt(w'Σ*w)\n",
    "    return w,muT,StdRT\n",
    "end"
   ]
  },
  {
   "cell_type": "markdown",
   "metadata": {},
   "source": [
    "# Several Risky Assets and one Riskfree Asset"
   ]
  },
  {
   "cell_type": "markdown",
   "metadata": {},
   "source": [
    "An investor who maximizes\n",
    "\n",
    "$\\text{E}U(R_{p})   =\\text{E}R_{p}-\\frac{k}{2} \\text{Var}(R_{p})$,\n",
    "\n",
    "subject to \n",
    "\n",
    "$R_{p} = v'R^e + R_f$\n",
    "\n",
    "will pick the portfolio weights (on the risky assets)\n",
    "\n",
    "$v  =\\frac{1}{k}\\Sigma^{-1}\\mu^{e}$\n",
    "\n",
    "The portfolio weight on the riskfree asset is $1-\\mathbf{1}'v$"
   ]
  },
  {
   "cell_type": "code",
   "execution_count": 4,
   "metadata": {},
   "outputs": [
    {
     "name": "stdout",
     "output_type": "stream",
     "text": [
      "expected returns: \n",
      "     0.090\n",
      "     0.060\n",
      "\n",
      "covariance matrix:\n",
      "     0.026     0.000\n",
      "     0.000     0.014\n",
      "\n"
     ]
    }
   ],
   "source": [
    "μ = [0.09; 0.06]                     #means\n",
    "Σ = [ 256  0;\n",
    "      0    144]/100^2\n",
    "Rf = 0.01\n",
    "println(\"expected returns: \")\n",
    "printmat(μ)\n",
    "println(\"covariance matrix:\")\n",
    "printmat(Σ)"
   ]
  },
  {
   "cell_type": "code",
   "execution_count": 5,
   "metadata": {},
   "outputs": [
    {
     "data": {
      "text/plain": [
       "OptimalPortfolio (generic function with 1 method)"
      ]
     },
     "execution_count": 5,
     "metadata": {},
     "output_type": "execute_result"
    }
   ],
   "source": [
    "function OptimalPortfolio(μ,Σ,Rf,k)           #calculates optimal portfolio weights etc\n",
    "    n   = length(μ)\n",
    "    μe  = μ - Rf                              #expected excess returns            \n",
    "    Σ_1 = inv(Σ)\n",
    "    v   = Σ_1 * μe/k                          #optimal weights risky assets, 1-1'v in riskfree   \n",
    "    mup   = v'μ + (1-sum(v))*Rf               #expected return and std of optimal portfolio\n",
    "    StdRp = sqrt(v'Σ*v)\n",
    "    return v, mup, StdRp\n",
    "end    "
   ]
  },
  {
   "cell_type": "code",
   "execution_count": 6,
   "metadata": {},
   "outputs": [
    {
     "name": "stdout",
     "output_type": "stream",
     "text": [
      "optimal portfolio weights on risky and riskfree when k = 15: \n",
      "     0.208\n",
      "     0.231\n",
      "     0.560\n",
      "\n",
      "optimal portfolio weights on risky/their sum: \n",
      "     0.474\n",
      "     0.526\n",
      "\n",
      "Tangency portfolio: \n",
      "     0.474\n",
      "     0.526\n",
      "\n",
      "ERp and Std(Rp) for optimal portfolio when k = 15, %: \n",
      "     3.824     4.339\n",
      "\n"
     ]
    }
   ],
   "source": [
    "k = 15\n",
    "(vOpt,muOpt,StdOpt) = OptimalPortfolio(μ,Σ,Rf,k)         #find optimal portfolio\n",
    "\n",
    "println(\"optimal portfolio weights on risky and riskfree when k = $k: \")\n",
    "printmat([vOpt;(1-sum(vOpt))])\n",
    "println(\"optimal portfolio weights on risky/their sum: \")\n",
    "printmat(vOpt/sum(vOpt))\n",
    "\n",
    "(wT,muT,StdRT) = MVTangencyP(μ,Σ,Rf)\n",
    "println(\"Tangency portfolio: \")\n",
    "printmat(wT)\n",
    "\n",
    "println(\"ERp and Std(Rp) for optimal portfolio when k = $k, %: \")\n",
    "printmat([muOpt StdOpt]*100)"
   ]
  },
  {
   "cell_type": "code",
   "execution_count": 8,
   "metadata": {},
   "outputs": [
    {
     "name": "stdout",
     "output_type": "stream",
     "text": [
      "k ERp StdRp, %:\n",
      "     5.000     9.472    13.017\n",
      "     6.000     8.060    10.848\n",
      "     7.000     7.052     9.298\n",
      "     8.000     6.295     8.136\n",
      "     9.000     5.707     7.232\n",
      "    10.000     5.236     6.509\n",
      "    11.000     4.851     5.917\n",
      "    12.000     4.530     5.424\n",
      "    13.000     4.259     5.007\n",
      "    14.000     4.026     4.649\n",
      "    15.000     3.824     4.339\n",
      "    16.000     3.648     4.068\n",
      "    17.000     3.492     3.829\n",
      "    18.000     3.353     3.616\n",
      "    19.000     3.230     3.426\n",
      "    20.000     3.118     3.254\n",
      "    21.000     3.017     3.099\n",
      "    22.000     2.926     2.958\n",
      "    23.000     2.842     2.830\n",
      "    24.000     2.765     2.712\n",
      "    25.000     2.694     2.603\n",
      "\n"
     ]
    }
   ],
   "source": [
    "k = 5:1:25\n",
    "K = length(k)\n",
    "ERp   = fill(NaN,K)\n",
    "StdRp = fill(NaN,K)\n",
    "for i = 1:K\n",
    "    (v_i,ER_i,Std_i) = OptimalPortfolio(μ,Σ,Rf,k[i])\n",
    "    ERp[i]   = ER_i \n",
    "    StdRp[i] = Std_i\n",
    "end    \n",
    "\n",
    "println(\"k ERp StdRp, %:\")\n",
    "printmat([collect(k) ERp*100 StdRp*100])"
   ]
  },
  {
   "cell_type": "code",
   "execution_count": 9,
   "metadata": {},
   "outputs": [
    {
     "data": {
      "text/html": [
       "<?xml version=\"1.0\" encoding=\"utf-8\"?>\n",
       "<svg xmlns=\"http://www.w3.org/2000/svg\" xmlns:xlink=\"http://www.w3.org/1999/xlink\" width=\"600\" height=\"400\" viewBox=\"0 0 600 400\">\n",
       "<defs>\n",
       "  <clipPath id=\"clip00\">\n",
       "    <rect x=\"0\" y=\"0\" width=\"600\" height=\"400\"/>\n",
       "  </clipPath>\n",
       "</defs>\n",
       "<polygon clip-path=\"url(#clip00)\" points=\"\n",
       "0,400 600,400 600,0 0,0 \n",
       "  \" fill=\"#ffffff\" fill-opacity=\"1\"/>\n",
       "<defs>\n",
       "  <clipPath id=\"clip01\">\n",
       "    <rect x=\"120\" y=\"0\" width=\"421\" height=\"400\"/>\n",
       "  </clipPath>\n",
       "</defs>\n",
       "<polygon clip-path=\"url(#clip00)\" points=\"\n",
       "44.6753,360.065 580.315,360.065 580.315,31.4961 44.6753,31.4961 \n",
       "  \" fill=\"#ffffff\" fill-opacity=\"1\"/>\n",
       "<defs>\n",
       "  <clipPath id=\"clip02\">\n",
       "    <rect x=\"44\" y=\"31\" width=\"537\" height=\"330\"/>\n",
       "  </clipPath>\n",
       "</defs>\n",
       "<polyline clip-path=\"url(#clip02)\" style=\"stroke:#000000; stroke-width:0.5; stroke-opacity:0.1; fill:none\" points=\"\n",
       "  44.6753,355.137 44.6753,36.4246 \n",
       "  \"/>\n",
       "<polyline clip-path=\"url(#clip02)\" style=\"stroke:#000000; stroke-width:0.5; stroke-opacity:0.1; fill:none\" points=\"\n",
       "  223.222,355.137 223.222,36.4246 \n",
       "  \"/>\n",
       "<polyline clip-path=\"url(#clip02)\" style=\"stroke:#000000; stroke-width:0.5; stroke-opacity:0.1; fill:none\" points=\"\n",
       "  401.768,355.137 401.768,36.4246 \n",
       "  \"/>\n",
       "<polyline clip-path=\"url(#clip02)\" style=\"stroke:#000000; stroke-width:0.5; stroke-opacity:0.1; fill:none\" points=\"\n",
       "  580.315,355.137 580.315,36.4246 \n",
       "  \"/>\n",
       "<polyline clip-path=\"url(#clip02)\" style=\"stroke:#000000; stroke-width:0.5; stroke-opacity:0.1; fill:none\" points=\"\n",
       "  52.7099,360.065 572.28,360.065 \n",
       "  \"/>\n",
       "<polyline clip-path=\"url(#clip02)\" style=\"stroke:#000000; stroke-width:0.5; stroke-opacity:0.1; fill:none\" points=\"\n",
       "  52.7099,250.542 572.28,250.542 \n",
       "  \"/>\n",
       "<polyline clip-path=\"url(#clip02)\" style=\"stroke:#000000; stroke-width:0.5; stroke-opacity:0.1; fill:none\" points=\"\n",
       "  52.7099,141.019 572.28,141.019 \n",
       "  \"/>\n",
       "<polyline clip-path=\"url(#clip02)\" style=\"stroke:#000000; stroke-width:0.5; stroke-opacity:0.1; fill:none\" points=\"\n",
       "  52.7099,31.4961 572.28,31.4961 \n",
       "  \"/>\n",
       "<polyline clip-path=\"url(#clip00)\" style=\"stroke:#000000; stroke-width:1; stroke-opacity:1; fill:none\" points=\"\n",
       "  44.6753,360.065 580.315,360.065 \n",
       "  \"/>\n",
       "<polyline clip-path=\"url(#clip00)\" style=\"stroke:#000000; stroke-width:1; stroke-opacity:1; fill:none\" points=\"\n",
       "  44.6753,360.065 44.6753,355.137 \n",
       "  \"/>\n",
       "<polyline clip-path=\"url(#clip00)\" style=\"stroke:#000000; stroke-width:1; stroke-opacity:1; fill:none\" points=\"\n",
       "  223.222,360.065 223.222,355.137 \n",
       "  \"/>\n",
       "<polyline clip-path=\"url(#clip00)\" style=\"stroke:#000000; stroke-width:1; stroke-opacity:1; fill:none\" points=\"\n",
       "  401.768,360.065 401.768,355.137 \n",
       "  \"/>\n",
       "<polyline clip-path=\"url(#clip00)\" style=\"stroke:#000000; stroke-width:1; stroke-opacity:1; fill:none\" points=\"\n",
       "  580.315,360.065 580.315,355.137 \n",
       "  \"/>\n",
       "<polyline clip-path=\"url(#clip00)\" style=\"stroke:#000000; stroke-width:1; stroke-opacity:1; fill:none\" points=\"\n",
       "  44.6753,360.065 44.6753,31.4961 \n",
       "  \"/>\n",
       "<polyline clip-path=\"url(#clip00)\" style=\"stroke:#000000; stroke-width:1; stroke-opacity:1; fill:none\" points=\"\n",
       "  44.6753,360.065 52.7099,360.065 \n",
       "  \"/>\n",
       "<polyline clip-path=\"url(#clip00)\" style=\"stroke:#000000; stroke-width:1; stroke-opacity:1; fill:none\" points=\"\n",
       "  44.6753,250.542 52.7099,250.542 \n",
       "  \"/>\n",
       "<polyline clip-path=\"url(#clip00)\" style=\"stroke:#000000; stroke-width:1; stroke-opacity:1; fill:none\" points=\"\n",
       "  44.6753,141.019 52.7099,141.019 \n",
       "  \"/>\n",
       "<polyline clip-path=\"url(#clip00)\" style=\"stroke:#000000; stroke-width:1; stroke-opacity:1; fill:none\" points=\"\n",
       "  44.6753,31.4961 52.7099,31.4961 \n",
       "  \"/>\n",
       "<g clip-path=\"url(#clip00)\">\n",
       "<text style=\"fill:#000000; fill-opacity:1; font-family:Arial,Helvetica Neue,Helvetica,sans-serif; font-size:12; text-anchor:middle;\" transform=\"rotate(0, 44.6753, 373.865)\" x=\"44.6753\" y=\"373.865\">0</text>\n",
       "</g>\n",
       "<g clip-path=\"url(#clip00)\">\n",
       "<text style=\"fill:#000000; fill-opacity:1; font-family:Arial,Helvetica Neue,Helvetica,sans-serif; font-size:12; text-anchor:middle;\" transform=\"rotate(0, 223.222, 373.865)\" x=\"223.222\" y=\"373.865\">5</text>\n",
       "</g>\n",
       "<g clip-path=\"url(#clip00)\">\n",
       "<text style=\"fill:#000000; fill-opacity:1; font-family:Arial,Helvetica Neue,Helvetica,sans-serif; font-size:12; text-anchor:middle;\" transform=\"rotate(0, 401.768, 373.865)\" x=\"401.768\" y=\"373.865\">10</text>\n",
       "</g>\n",
       "<g clip-path=\"url(#clip00)\">\n",
       "<text style=\"fill:#000000; fill-opacity:1; font-family:Arial,Helvetica Neue,Helvetica,sans-serif; font-size:12; text-anchor:middle;\" transform=\"rotate(0, 580.315, 373.865)\" x=\"580.315\" y=\"373.865\">15</text>\n",
       "</g>\n",
       "<g clip-path=\"url(#clip00)\">\n",
       "<text style=\"fill:#000000; fill-opacity:1; font-family:Arial,Helvetica Neue,Helvetica,sans-serif; font-size:12; text-anchor:end;\" transform=\"rotate(0, 38.6753, 364.565)\" x=\"38.6753\" y=\"364.565\">0</text>\n",
       "</g>\n",
       "<g clip-path=\"url(#clip00)\">\n",
       "<text style=\"fill:#000000; fill-opacity:1; font-family:Arial,Helvetica Neue,Helvetica,sans-serif; font-size:12; text-anchor:end;\" transform=\"rotate(0, 38.6753, 255.042)\" x=\"38.6753\" y=\"255.042\">5</text>\n",
       "</g>\n",
       "<g clip-path=\"url(#clip00)\">\n",
       "<text style=\"fill:#000000; fill-opacity:1; font-family:Arial,Helvetica Neue,Helvetica,sans-serif; font-size:12; text-anchor:end;\" transform=\"rotate(0, 38.6753, 145.519)\" x=\"38.6753\" y=\"145.519\">10</text>\n",
       "</g>\n",
       "<g clip-path=\"url(#clip00)\">\n",
       "<text style=\"fill:#000000; fill-opacity:1; font-family:Arial,Helvetica Neue,Helvetica,sans-serif; font-size:12; text-anchor:end;\" transform=\"rotate(0, 38.6753, 35.9961)\" x=\"38.6753\" y=\"35.9961\">15</text>\n",
       "</g>\n",
       "<g clip-path=\"url(#clip00)\">\n",
       "<text style=\"fill:#000000; fill-opacity:1; font-family:Arial,Helvetica Neue,Helvetica,sans-serif; font-size:21; text-anchor:middle;\" transform=\"rotate(0, 312.495, 18)\" x=\"312.495\" y=\"18\">Mean vs standard deviation of optimal portfolios</text>\n",
       "</g>\n",
       "<g clip-path=\"url(#clip00)\">\n",
       "<text style=\"fill:#000000; fill-opacity:1; font-family:Arial,Helvetica Neue,Helvetica,sans-serif; font-size:16; text-anchor:middle;\" transform=\"rotate(0, 312.495, 397.6)\" x=\"312.495\" y=\"397.6\">Std(Rp), %</text>\n",
       "</g>\n",
       "<g clip-path=\"url(#clip00)\">\n",
       "<text style=\"fill:#000000; fill-opacity:1; font-family:Arial,Helvetica Neue,Helvetica,sans-serif; font-size:16; text-anchor:middle;\" transform=\"rotate(-90, 14.4, 195.781)\" x=\"14.4\" y=\"195.781\">ERp, %</text>\n",
       "</g>\n",
       "<circle clip-path=\"url(#clip02)\" style=\"fill:#000000; stroke:none; fill-opacity:1\" cx=\"509.506\" cy=\"152.58\" r=\"4\"/>\n",
       "<circle clip-path=\"url(#clip02)\" style=\"fill:#009af9; stroke:none; fill-opacity:1\" cx=\"509.506\" cy=\"152.58\" r=\"3\"/>\n",
       "<circle clip-path=\"url(#clip02)\" style=\"fill:#000000; stroke:none; fill-opacity:1\" cx=\"432.035\" cy=\"183.51\" r=\"4\"/>\n",
       "<circle clip-path=\"url(#clip02)\" style=\"fill:#009af9; stroke:none; fill-opacity:1\" cx=\"432.035\" cy=\"183.51\" r=\"3\"/>\n",
       "<circle clip-path=\"url(#clip02)\" style=\"fill:#000000; stroke:none; fill-opacity:1\" cx=\"376.697\" cy=\"205.603\" r=\"4\"/>\n",
       "<circle clip-path=\"url(#clip02)\" style=\"fill:#009af9; stroke:none; fill-opacity:1\" cx=\"376.697\" cy=\"205.603\" r=\"3\"/>\n",
       "<circle clip-path=\"url(#clip02)\" style=\"fill:#000000; stroke:none; fill-opacity:1\" cx=\"335.195\" cy=\"222.173\" r=\"4\"/>\n",
       "<circle clip-path=\"url(#clip02)\" style=\"fill:#009af9; stroke:none; fill-opacity:1\" cx=\"335.195\" cy=\"222.173\" r=\"3\"/>\n",
       "<circle clip-path=\"url(#clip02)\" style=\"fill:#000000; stroke:none; fill-opacity:1\" cx=\"302.915\" cy=\"235.06\" r=\"4\"/>\n",
       "<circle clip-path=\"url(#clip02)\" style=\"fill:#009af9; stroke:none; fill-opacity:1\" cx=\"302.915\" cy=\"235.06\" r=\"3\"/>\n",
       "<circle clip-path=\"url(#clip02)\" style=\"fill:#000000; stroke:none; fill-opacity:1\" cx=\"277.091\" cy=\"245.37\" r=\"4\"/>\n",
       "<circle clip-path=\"url(#clip02)\" style=\"fill:#009af9; stroke:none; fill-opacity:1\" cx=\"277.091\" cy=\"245.37\" r=\"3\"/>\n",
       "<circle clip-path=\"url(#clip02)\" style=\"fill:#000000; stroke:none; fill-opacity:1\" cx=\"255.962\" cy=\"253.806\" r=\"4\"/>\n",
       "<circle clip-path=\"url(#clip02)\" style=\"fill:#009af9; stroke:none; fill-opacity:1\" cx=\"255.962\" cy=\"253.806\" r=\"3\"/>\n",
       "<circle clip-path=\"url(#clip02)\" style=\"fill:#000000; stroke:none; fill-opacity:1\" cx=\"238.355\" cy=\"260.835\" r=\"4\"/>\n",
       "<circle clip-path=\"url(#clip02)\" style=\"fill:#009af9; stroke:none; fill-opacity:1\" cx=\"238.355\" cy=\"260.835\" r=\"3\"/>\n",
       "<circle clip-path=\"url(#clip02)\" style=\"fill:#000000; stroke:none; fill-opacity:1\" cx=\"223.456\" cy=\"266.784\" r=\"4\"/>\n",
       "<circle clip-path=\"url(#clip02)\" style=\"fill:#009af9; stroke:none; fill-opacity:1\" cx=\"223.456\" cy=\"266.784\" r=\"3\"/>\n",
       "<circle clip-path=\"url(#clip02)\" style=\"fill:#000000; stroke:none; fill-opacity:1\" cx=\"210.686\" cy=\"271.882\" r=\"4\"/>\n",
       "<circle clip-path=\"url(#clip02)\" style=\"fill:#009af9; stroke:none; fill-opacity:1\" cx=\"210.686\" cy=\"271.882\" r=\"3\"/>\n",
       "<circle clip-path=\"url(#clip02)\" style=\"fill:#000000; stroke:none; fill-opacity:1\" cx=\"199.619\" cy=\"276.301\" r=\"4\"/>\n",
       "<circle clip-path=\"url(#clip02)\" style=\"fill:#009af9; stroke:none; fill-opacity:1\" cx=\"199.619\" cy=\"276.301\" r=\"3\"/>\n",
       "<circle clip-path=\"url(#clip02)\" style=\"fill:#000000; stroke:none; fill-opacity:1\" cx=\"189.935\" cy=\"280.167\" r=\"4\"/>\n",
       "<circle clip-path=\"url(#clip02)\" style=\"fill:#009af9; stroke:none; fill-opacity:1\" cx=\"189.935\" cy=\"280.167\" r=\"3\"/>\n",
       "<circle clip-path=\"url(#clip02)\" style=\"fill:#000000; stroke:none; fill-opacity:1\" cx=\"181.39\" cy=\"283.578\" r=\"4\"/>\n",
       "<circle clip-path=\"url(#clip02)\" style=\"fill:#009af9; stroke:none; fill-opacity:1\" cx=\"181.39\" cy=\"283.578\" r=\"3\"/>\n",
       "<circle clip-path=\"url(#clip02)\" style=\"fill:#000000; stroke:none; fill-opacity:1\" cx=\"173.795\" cy=\"286.611\" r=\"4\"/>\n",
       "<circle clip-path=\"url(#clip02)\" style=\"fill:#009af9; stroke:none; fill-opacity:1\" cx=\"173.795\" cy=\"286.611\" r=\"3\"/>\n",
       "<circle clip-path=\"url(#clip02)\" style=\"fill:#000000; stroke:none; fill-opacity:1\" cx=\"166.999\" cy=\"289.324\" r=\"4\"/>\n",
       "<circle clip-path=\"url(#clip02)\" style=\"fill:#009af9; stroke:none; fill-opacity:1\" cx=\"166.999\" cy=\"289.324\" r=\"3\"/>\n",
       "<circle clip-path=\"url(#clip02)\" style=\"fill:#000000; stroke:none; fill-opacity:1\" cx=\"160.883\" cy=\"291.766\" r=\"4\"/>\n",
       "<circle clip-path=\"url(#clip02)\" style=\"fill:#009af9; stroke:none; fill-opacity:1\" cx=\"160.883\" cy=\"291.766\" r=\"3\"/>\n",
       "<circle clip-path=\"url(#clip02)\" style=\"fill:#000000; stroke:none; fill-opacity:1\" cx=\"155.349\" cy=\"293.975\" r=\"4\"/>\n",
       "<circle clip-path=\"url(#clip02)\" style=\"fill:#009af9; stroke:none; fill-opacity:1\" cx=\"155.349\" cy=\"293.975\" r=\"3\"/>\n",
       "<circle clip-path=\"url(#clip02)\" style=\"fill:#000000; stroke:none; fill-opacity:1\" cx=\"150.319\" cy=\"295.983\" r=\"4\"/>\n",
       "<circle clip-path=\"url(#clip02)\" style=\"fill:#009af9; stroke:none; fill-opacity:1\" cx=\"150.319\" cy=\"295.983\" r=\"3\"/>\n",
       "<circle clip-path=\"url(#clip02)\" style=\"fill:#000000; stroke:none; fill-opacity:1\" cx=\"145.726\" cy=\"297.817\" r=\"4\"/>\n",
       "<circle clip-path=\"url(#clip02)\" style=\"fill:#009af9; stroke:none; fill-opacity:1\" cx=\"145.726\" cy=\"297.817\" r=\"3\"/>\n",
       "<circle clip-path=\"url(#clip02)\" style=\"fill:#000000; stroke:none; fill-opacity:1\" cx=\"141.515\" cy=\"299.498\" r=\"4\"/>\n",
       "<circle clip-path=\"url(#clip02)\" style=\"fill:#009af9; stroke:none; fill-opacity:1\" cx=\"141.515\" cy=\"299.498\" r=\"3\"/>\n",
       "<circle clip-path=\"url(#clip02)\" style=\"fill:#000000; stroke:none; fill-opacity:1\" cx=\"137.642\" cy=\"301.045\" r=\"4\"/>\n",
       "<circle clip-path=\"url(#clip02)\" style=\"fill:#009af9; stroke:none; fill-opacity:1\" cx=\"137.642\" cy=\"301.045\" r=\"3\"/>\n",
       "</svg>\n"
      ]
     },
     "execution_count": 9,
     "metadata": {},
     "output_type": "execute_result"
    }
   ],
   "source": [
    "scatter(StdRp*100,ERp*100,xlims=(0,15),ylims=(0,15),legend=false)\n",
    "title!(\"Mean vs standard deviation of optimal portfolios\")\n",
    "xlabel!(\"Std(Rp), %\")\n",
    "ylabel!(\"ERp, %\")"
   ]
  },
  {
   "cell_type": "code",
   "execution_count": null,
   "metadata": {
    "collapsed": true
   },
   "outputs": [],
   "source": []
  }
 ],
 "metadata": {
  "anaconda-cloud": {},
  "kernelspec": {
   "display_name": "Julia 0.6.0",
   "language": "julia",
   "name": "julia-0.6"
  },
  "language_info": {
   "file_extension": ".jl",
   "mimetype": "application/julia",
   "name": "julia",
   "version": "0.6.0"
  }
 },
 "nbformat": 4,
 "nbformat_minor": 1
}
