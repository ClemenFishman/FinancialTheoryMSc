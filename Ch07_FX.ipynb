{
 "cells": [
  {
   "cell_type": "markdown",
   "metadata": {},
   "source": [
    "## Load Routines for Printing Matrices"
   ]
  },
  {
   "cell_type": "code",
   "execution_count": 1,
   "metadata": {},
   "outputs": [
    {
     "data": {
      "text/plain": [
       "printmatDate (generic function with 8 methods)"
      ]
     },
     "execution_count": 1,
     "metadata": {},
     "output_type": "execute_result"
    }
   ],
   "source": [
    "using Dates           \n",
    "\n",
    "include(\"printmat.jl\")\n",
    "include(\"printTable.jl\")"
   ]
  },
  {
   "cell_type": "code",
   "execution_count": 3,
   "metadata": {},
   "outputs": [],
   "source": [
    "using Plots\n",
    "backend = \"gr\"              #\"gr\" (default), \"pyplot\" \n",
    "\n",
    "if backend == \"pyplot\"\n",
    "    pyplot(size=(600,400))\n",
    "else    \n",
    "    gr(size=(600,400))\n",
    "    default(fmt = :png)\n",
    "end"
   ]
  },
  {
   "cell_type": "markdown",
   "metadata": {},
   "source": [
    "# Exchange Rate Quotations: Cross-Rates"
   ]
  },
  {
   "cell_type": "code",
   "execution_count": 4,
   "metadata": {},
   "outputs": [
    {
     "name": "stdout",
     "output_type": "stream",
     "text": [
      "CHF per AUD:      0.811\n"
     ]
    }
   ],
   "source": [
    "CHF_USD = 0.9970                       #how many CHF to pay for 1 USD\n",
    "USD_AUD = 0.8139\n",
    "\n",
    "CHF_AUD = CHF_USD*USD_AUD\n",
    "\n",
    "printlnPs(\"CHF per AUD: \",CHF_AUD)"
   ]
  },
  {
   "cell_type": "markdown",
   "metadata": {},
   "source": [
    "# Currency Returns\n",
    "\n",
    "The strategy is: in $t=0$, you borrow on the domestic money market (at the safe rate $R_f$), buy foreign currency (at the price $S_0$) and lend on foreign money market (at the safe rate $R_f^*$). Finally, in $t=1$ sell the foreign currency (at the price $S_1$). \n",
    "\n",
    "Since the strategy is financed by borrowing, we express the excess return as \n",
    "\n",
    "$\n",
    "R^e = (1+R_f^*)S₁/S₀ - 1 - R_f\n",
    "$\n",
    "\n",
    "Notice that Rf and Rfstar are the safe rates over the investment period (for instance, one-month period). Conversion from annualized interest rates to these monthly rates is discussed under UIP (below)."
   ]
  },
  {
   "cell_type": "code",
   "execution_count": 5,
   "metadata": {},
   "outputs": [
    {
     "name": "stdout",
     "output_type": "stream",
     "text": [
      "                                 \n",
      "S₀                          1.200\n",
      "Rf                          0.040\n",
      "Rfstar                      0.060\n",
      "S₁                          1.250\n",
      "Currency excess return      0.064\n",
      "\n"
     ]
    }
   ],
   "source": [
    "S₀ = 1.2            #current spot FX rate, t=0\n",
    "S₁ = 1.25           #spot FX rate in t=1\n",
    "Rfstar = 0.06      #safe rate (foreign) between period 0 and 1\n",
    "Rf     = 0.04      #safe domestic rate\n",
    "\n",
    "Re = (1+Rfstar)*S₁/S₀ - 1 - Rf\n",
    "\n",
    "xy = [S₀,Rf,Rfstar,S₁,Re]\n",
    "printTable(xy,[\" \"],[\"S₀\";\"Rf\";\"Rfstar\";\"S₁\";\"Currency excess return \"])"
   ]
  },
  {
   "cell_type": "code",
   "execution_count": 6,
   "metadata": {},
   "outputs": [
    {
     "data": {
      "image/png": "[encoded data removed]"
     },
     "metadata": {},
     "output_type": "display_data"
    }
   ],
   "source": [
    "S₁ = 1.1:0.01:1.3           #vector, different possible exchange rates in t=1\n",
    "\n",
    "Re = (1+Rfstar)*S₁/S₀ .- 1 .- Rf\n",
    "\n",
    "p1 = plot(S₁,Re,legend=nothing,color=:red)\n",
    "plot!(p1,[S₀],linetype=:vline,linecolor=:black,line=(:dot,1))\n",
    "plot!(p1,[0],linetype=:hline,linecolor=:black,line=(:dash,1))\n",
    "title!(p1,\"Currency excess return (in t=0, S = $S₀)\")\n",
    "xlabel!(p1,\"Exchange rate in t=1\")\n",
    "annotate!(p1,1.15,0.07,\"Foreign and domestic \\nint rates: $Rfstar $Rf\")\n",
    "display(\"image/png\",p1)"
   ]
  },
  {
   "cell_type": "markdown",
   "metadata": {},
   "source": [
    "# Uncovered Interest Rate Parity (UIP)\n",
    "\n",
    "\n",
    "UIP assumes that the expected future exchange rate (E$_0S_m$) is related to the current (as of $t=0$) exchange rate and interest rates, in such a way that the expected excess return on a a foreign investment (on the foreign money market) is zero.\n",
    "\n",
    "Interest rates are typically annualized (denoted $y$ and $y^*$ below). This means that the safe rate over an investment period of $m$ years (eg. $m=1/12$ for a month) is $(1+y)^m$."
   ]
  },
  {
   "cell_type": "code",
   "execution_count": 7,
   "metadata": {},
   "outputs": [
    {
     "name": "stdout",
     "output_type": "stream",
     "text": [
      "Expected future exchange rate 0.5 years ahead according to UIP:      1.189\n"
     ]
    }
   ],
   "source": [
    "S₀     = 1.2                       #current spot FX rate\n",
    "y     = 0.04                      #annualized interest rates\n",
    "ystar = 0.06\n",
    "m     = 1/2                       #investment period  \n",
    "ESm   = S₀ * (1+y)^m/(1+ystar)^m  #implies E(excess return) = 0\n",
    "\n",
    "printlnPs(\"Expected future exchange rate $m years ahead according to UIP: \",ESm)"
   ]
  },
  {
   "cell_type": "code",
   "execution_count": null,
   "metadata": {},
   "outputs": [],
   "source": []
  }
 ],
 "metadata": {
  "anaconda-cloud": {},
  "kernelspec": {
   "display_name": "Julia 1.0.0",
   "language": "julia",
   "name": "julia-1.0"
  },
  "language_info": {
   "file_extension": ".jl",
   "mimetype": "application/julia",
   "name": "julia",
   "version": "1.0.0"
  }
 },
 "nbformat": 4,
 "nbformat_minor": 1
}
