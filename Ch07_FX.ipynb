{
 "cells": [
  {
   "cell_type": "markdown",
   "metadata": {},
   "source": [
    "## Load Routines for Printing Matrices"
   ]
  },
  {
   "cell_type": "code",
   "execution_count": 1,
   "metadata": {},
   "outputs": [
    {
     "data": {
      "text/plain": [
       "printlnPs (generic function with 2 methods)"
      ]
     },
     "execution_count": 1,
     "metadata": {},
     "output_type": "execute_result"
    }
   ],
   "source": [
    "#using Dates            #Julia 0.7\n",
    "using Compat, Missings  #to use 0.7 syntax in 0.6\n",
    "\n",
    "include(\"printmat.jl\")"
   ]
  },
  {
   "cell_type": "code",
   "execution_count": 2,
   "metadata": {},
   "outputs": [
    {
     "data": {
      "text/plain": [
       "Plots.GRBackend()"
      ]
     },
     "execution_count": 2,
     "metadata": {},
     "output_type": "execute_result"
    }
   ],
   "source": [
    "using Plots\n",
    "backend = \"gr\"              #\"gr\" (default), \"pyplot\" \n",
    "\n",
    "if backend == \"pyplot\"\n",
    "    pyplot(size=(600,400))\n",
    "else    \n",
    "    gr(size=(600,400))\n",
    "end"
   ]
  },
  {
   "cell_type": "markdown",
   "metadata": {},
   "source": [
    "# Exchange Rate Quotations: Cross-Rates"
   ]
  },
  {
   "cell_type": "code",
   "execution_count": 3,
   "metadata": {},
   "outputs": [
    {
     "name": "stdout",
     "output_type": "stream",
     "text": [
      "CHF per AUD:      0.811\n"
     ]
    }
   ],
   "source": [
    "CHF_USD = 0.9970                       #how many CHF to pay for 1 USD\n",
    "USD_AUD = 0.8139\n",
    "\n",
    "CHF_AUD = CHF_USD*USD_AUD\n",
    "\n",
    "printlnPs(\"CHF per AUD: \",CHF_AUD)"
   ]
  },
  {
   "cell_type": "markdown",
   "metadata": {},
   "source": [
    "# Currency Returns\n",
    "\n",
    "The strategy is: in $t=0$, you borrow on the domestic money market (at the safe rate $R_f$), buy foreign currency (at the price $S_0$) and lend on foreign money market (at the safe rate $R_f^*$). Finally, in $t=1$ sell the foreign currency (at the price $S_1$). \n",
    "\n",
    "Since the strategy is financed by borrowing, we express the excess return as \n",
    "\n",
    "$\n",
    "R^e = (1+R_f^*)S₁/S₀ - 1 - R_f\n",
    "$\n",
    "\n",
    "Notice that Rf and Rfstar are the safe rates over the investment period (for instance, one-month period). Conversion from annualized interest rates to these monthly rates is discussed under UIP (below)."
   ]
  },
  {
   "cell_type": "code",
   "execution_count": 4,
   "metadata": {},
   "outputs": [
    {
     "ename": "LoadError",
     "evalue": "\u001b[91mUndefVarError: printTable not defined\u001b[39m",
     "output_type": "error",
     "traceback": [
      "\u001b[91mUndefVarError: printTable not defined\u001b[39m",
      ""
     ]
    }
   ],
   "source": [
    "S₀ = 1.2            #current spot FX rate, t=0\n",
    "S₁ = 1.25           #spot FX rate in t=1\n",
    "Rfstar = 0.06      #safe rate (foreign) between period 0 and 1\n",
    "Rf     = 0.04      #safe domestic rate\n",
    "\n",
    "Re = (1+Rfstar)*S₁/S₀ - 1 - Rf\n",
    "\n",
    "xy = [S₀,Rf,Rfstar,S₁,Re]\n",
    "printTable(xy,[\" \"],[\"S₀\";\"Rf\";\"Rfstar\";\"S₁\";\"Currency excess return \"])"
   ]
  },
  {
   "cell_type": "code",
   "execution_count": 5,
   "metadata": {},
   "outputs": [
    {
     "data": {
      "image/svg+xml": [
       "<?xml version=\"1.0\" encoding=\"utf-8\"?>\n",
       "<svg xmlns=\"http://www.w3.org/2000/svg\" xmlns:xlink=\"http://www.w3.org/1999/xlink\" width=\"600\" height=\"400\" viewBox=\"0 0 600 400\">\n",
       "<defs>\n",
       "  <clipPath id=\"clip8700\">\n",
       "    <rect x=\"0\" y=\"0\" width=\"600\" height=\"400\"/>\n",
       "  </clipPath>\n",
       "</defs>\n",
       "<polygon clip-path=\"url(#clip8700)\" points=\"\n",
       "0,400 600,400 600,0 0,0 \n",
       "  \" fill=\"#ffffff\" fill-opacity=\"1\"/>\n",
       "<defs>\n",
       "  <clipPath id=\"clip8701\">\n",
       "    <rect x=\"120\" y=\"0\" width=\"421\" height=\"400\"/>\n",
       "  </clipPath>\n",
       "</defs>\n",
       "<polygon clip-path=\"url(#clip8700)\" points=\"\n",
       "46.1926,360.121 580.315,360.121 580.315,31.4961 46.1926,31.4961 \n",
       "  \" fill=\"#ffffff\" fill-opacity=\"1\"/>\n",
       "<defs>\n",
       "  <clipPath id=\"clip8702\">\n",
       "    <rect x=\"46\" y=\"31\" width=\"535\" height=\"330\"/>\n",
       "  </clipPath>\n",
       "</defs>\n",
       "<polyline clip-path=\"url(#clip8702)\" style=\"stroke:#000000; stroke-width:0.5; stroke-opacity:0.1; fill:none\" points=\"\n",
       "  46.1926,360.121 46.1926,31.4961 \n",
       "  \"/>\n",
       "<polyline clip-path=\"url(#clip8702)\" style=\"stroke:#000000; stroke-width:0.5; stroke-opacity:0.1; fill:none\" points=\"\n",
       "  179.723,360.121 179.723,31.4961 \n",
       "  \"/>\n",
       "<polyline clip-path=\"url(#clip8702)\" style=\"stroke:#000000; stroke-width:0.5; stroke-opacity:0.1; fill:none\" points=\"\n",
       "  313.254,360.121 313.254,31.4961 \n",
       "  \"/>\n",
       "<polyline clip-path=\"url(#clip8702)\" style=\"stroke:#000000; stroke-width:0.5; stroke-opacity:0.1; fill:none\" points=\"\n",
       "  446.784,360.121 446.784,31.4961 \n",
       "  \"/>\n",
       "<polyline clip-path=\"url(#clip8702)\" style=\"stroke:#000000; stroke-width:0.5; stroke-opacity:0.1; fill:none\" points=\"\n",
       "  580.315,360.121 580.315,31.4961 \n",
       "  \"/>\n",
       "<polyline clip-path=\"url(#clip8702)\" style=\"stroke:#000000; stroke-width:0.5; stroke-opacity:0.1; fill:none\" points=\"\n",
       "  46.1926,326.018 580.315,326.018 \n",
       "  \"/>\n",
       "<polyline clip-path=\"url(#clip8702)\" style=\"stroke:#000000; stroke-width:0.5; stroke-opacity:0.1; fill:none\" points=\"\n",
       "  46.1926,233.011 580.315,233.011 \n",
       "  \"/>\n",
       "<polyline clip-path=\"url(#clip8702)\" style=\"stroke:#000000; stroke-width:0.5; stroke-opacity:0.1; fill:none\" points=\"\n",
       "  46.1926,140.004 580.315,140.004 \n",
       "  \"/>\n",
       "<polyline clip-path=\"url(#clip8702)\" style=\"stroke:#000000; stroke-width:0.5; stroke-opacity:0.1; fill:none\" points=\"\n",
       "  46.1926,46.9972 580.315,46.9972 \n",
       "  \"/>\n",
       "<polyline clip-path=\"url(#clip8700)\" style=\"stroke:#000000; stroke-width:1; stroke-opacity:1; fill:none\" points=\"\n",
       "  46.1926,360.121 580.315,360.121 \n",
       "  \"/>\n",
       "<polyline clip-path=\"url(#clip8700)\" style=\"stroke:#000000; stroke-width:1; stroke-opacity:1; fill:none\" points=\"\n",
       "  46.1926,360.121 46.1926,31.4961 \n",
       "  \"/>\n",
       "<polyline clip-path=\"url(#clip8700)\" style=\"stroke:#000000; stroke-width:1; stroke-opacity:1; fill:none\" points=\"\n",
       "  46.1926,360.121 46.1926,355.191 \n",
       "  \"/>\n",
       "<polyline clip-path=\"url(#clip8700)\" style=\"stroke:#000000; stroke-width:1; stroke-opacity:1; fill:none\" points=\"\n",
       "  179.723,360.121 179.723,355.191 \n",
       "  \"/>\n",
       "<polyline clip-path=\"url(#clip8700)\" style=\"stroke:#000000; stroke-width:1; stroke-opacity:1; fill:none\" points=\"\n",
       "  313.254,360.121 313.254,355.191 \n",
       "  \"/>\n",
       "<polyline clip-path=\"url(#clip8700)\" style=\"stroke:#000000; stroke-width:1; stroke-opacity:1; fill:none\" points=\"\n",
       "  446.784,360.121 446.784,355.191 \n",
       "  \"/>\n",
       "<polyline clip-path=\"url(#clip8700)\" style=\"stroke:#000000; stroke-width:1; stroke-opacity:1; fill:none\" points=\"\n",
       "  580.315,360.121 580.315,355.191 \n",
       "  \"/>\n",
       "<polyline clip-path=\"url(#clip8700)\" style=\"stroke:#000000; stroke-width:1; stroke-opacity:1; fill:none\" points=\"\n",
       "  46.1926,326.018 54.2044,326.018 \n",
       "  \"/>\n",
       "<polyline clip-path=\"url(#clip8700)\" style=\"stroke:#000000; stroke-width:1; stroke-opacity:1; fill:none\" points=\"\n",
       "  46.1926,233.011 54.2044,233.011 \n",
       "  \"/>\n",
       "<polyline clip-path=\"url(#clip8700)\" style=\"stroke:#000000; stroke-width:1; stroke-opacity:1; fill:none\" points=\"\n",
       "  46.1926,140.004 54.2044,140.004 \n",
       "  \"/>\n",
       "<polyline clip-path=\"url(#clip8700)\" style=\"stroke:#000000; stroke-width:1; stroke-opacity:1; fill:none\" points=\"\n",
       "  46.1926,46.9972 54.2044,46.9972 \n",
       "  \"/>\n",
       "<g clip-path=\"url(#clip8700)\">\n",
       "<text style=\"fill:#000000; fill-opacity:1; font-family:Arial,Helvetica Neue,Helvetica,sans-serif; font-size:12; text-anchor:middle;\" transform=\"rotate(0, 46.1926, 373.921)\" x=\"46.1926\" y=\"373.921\">1.10</text>\n",
       "</g>\n",
       "<g clip-path=\"url(#clip8700)\">\n",
       "<text style=\"fill:#000000; fill-opacity:1; font-family:Arial,Helvetica Neue,Helvetica,sans-serif; font-size:12; text-anchor:middle;\" transform=\"rotate(0, 179.723, 373.921)\" x=\"179.723\" y=\"373.921\">1.15</text>\n",
       "</g>\n",
       "<g clip-path=\"url(#clip8700)\">\n",
       "<text style=\"fill:#000000; fill-opacity:1; font-family:Arial,Helvetica Neue,Helvetica,sans-serif; font-size:12; text-anchor:middle;\" transform=\"rotate(0, 313.254, 373.921)\" x=\"313.254\" y=\"373.921\">1.20</text>\n",
       "</g>\n",
       "<g clip-path=\"url(#clip8700)\">\n",
       "<text style=\"fill:#000000; fill-opacity:1; font-family:Arial,Helvetica Neue,Helvetica,sans-serif; font-size:12; text-anchor:middle;\" transform=\"rotate(0, 446.784, 373.921)\" x=\"446.784\" y=\"373.921\">1.25</text>\n",
       "</g>\n",
       "<g clip-path=\"url(#clip8700)\">\n",
       "<text style=\"fill:#000000; fill-opacity:1; font-family:Arial,Helvetica Neue,Helvetica,sans-serif; font-size:12; text-anchor:middle;\" transform=\"rotate(0, 580.315, 373.921)\" x=\"580.315\" y=\"373.921\">1.30</text>\n",
       "</g>\n",
       "<g clip-path=\"url(#clip8700)\">\n",
       "<text style=\"fill:#000000; fill-opacity:1; font-family:Arial,Helvetica Neue,Helvetica,sans-serif; font-size:12; text-anchor:end;\" transform=\"rotate(0, 40.1926, 330.518)\" x=\"40.1926\" y=\"330.518\">-0.05</text>\n",
       "</g>\n",
       "<g clip-path=\"url(#clip8700)\">\n",
       "<text style=\"fill:#000000; fill-opacity:1; font-family:Arial,Helvetica Neue,Helvetica,sans-serif; font-size:12; text-anchor:end;\" transform=\"rotate(0, 40.1926, 237.511)\" x=\"40.1926\" y=\"237.511\">0.00</text>\n",
       "</g>\n",
       "<g clip-path=\"url(#clip8700)\">\n",
       "<text style=\"fill:#000000; fill-opacity:1; font-family:Arial,Helvetica Neue,Helvetica,sans-serif; font-size:12; text-anchor:end;\" transform=\"rotate(0, 40.1926, 144.504)\" x=\"40.1926\" y=\"144.504\">0.05</text>\n",
       "</g>\n",
       "<g clip-path=\"url(#clip8700)\">\n",
       "<text style=\"fill:#000000; fill-opacity:1; font-family:Arial,Helvetica Neue,Helvetica,sans-serif; font-size:12; text-anchor:end;\" transform=\"rotate(0, 40.1926, 51.4972)\" x=\"40.1926\" y=\"51.4972\">0.10</text>\n",
       "</g>\n",
       "<g clip-path=\"url(#clip8700)\">\n",
       "<text style=\"fill:#000000; fill-opacity:1; font-family:Arial,Helvetica Neue,Helvetica,sans-serif; font-size:21; text-anchor:middle;\" transform=\"rotate(0, 313.254, 18)\" x=\"313.254\" y=\"18\">Currency excess return (in t=0, S = 1.2)</text>\n",
       "</g>\n",
       "<g clip-path=\"url(#clip8700)\">\n",
       "<text style=\"fill:#000000; fill-opacity:1; font-family:Arial,Helvetica Neue,Helvetica,sans-serif; font-size:16; text-anchor:middle;\" transform=\"rotate(0, 313.254, 397.6)\" x=\"313.254\" y=\"397.6\">Exchange rate in t=1</text>\n",
       "</g>\n",
       "<polyline clip-path=\"url(#clip8702)\" style=\"stroke:#ff0000; stroke-width:1; stroke-opacity:1; fill:none\" points=\"\n",
       "  46.1926,360.121 72.8987,343.689 99.6048,327.258 126.311,310.827 153.017,294.396 179.723,277.965 206.429,261.533 233.135,245.102 259.842,228.671 286.548,212.24 \n",
       "  313.254,195.808 339.96,179.377 366.666,162.946 393.372,146.515 420.078,130.083 446.784,113.652 473.49,97.221 500.197,80.7898 526.903,64.3585 553.609,47.9273 \n",
       "  580.315,31.4961 \n",
       "  \"/>\n",
       "<polyline clip-path=\"url(#clip8702)\" style=\"stroke:#000000; stroke-width:1; stroke-opacity:1; fill:none\" stroke-dasharray=\"1, 2\" points=\"\n",
       "  313.254,33222.6 313.254,-32831 \n",
       "  \"/>\n",
       "<polyline clip-path=\"url(#clip8702)\" style=\"stroke:#000000; stroke-width:1; stroke-opacity:1; fill:none\" stroke-dasharray=\"8, 5\" points=\"\n",
       "  -53366,233.011 53992.6,233.011 \n",
       "  \"/>\n",
       "<g clip-path=\"url(#clip8700)\">\n",
       "<text style=\"fill:#000000; fill-opacity:1; font-family:Arial,Helvetica Neue,Helvetica,sans-serif; font-size:21; text-anchor:middle;\" transform=\"rotate(0, 179.723, 98.9614)\" x=\"179.723\" y=\"98.9614\">Foreign and domestic </text>\n",
       "</g>\n",
       "<g clip-path=\"url(#clip8700)\">\n",
       "<text style=\"fill:#000000; fill-opacity:1; font-family:Arial,Helvetica Neue,Helvetica,sans-serif; font-size:21; text-anchor:middle;\" transform=\"rotate(0, 179.723, 121.641)\" x=\"179.723\" y=\"121.641\">int rates: 0.06 0.04</text>\n",
       "</g>\n",
       "</svg>\n"
      ]
     },
     "execution_count": 5,
     "metadata": {},
     "output_type": "execute_result"
    }
   ],
   "source": [
    "S₁ = 1.1:0.01:1.3           #vector, different possible exchange rates in t=1\n",
    "\n",
    "Re = (1+Rfstar)*S₁/S₀ .- 1 .- Rf\n",
    "\n",
    "plot(S₁,Re,legend=nothing,color=:red)\n",
    "plot!([S₀],linetype=:vline,linecolor=:black,line=(:dot,1))\n",
    "plot!([0],linetype=:hline,linecolor=:black,line=(:dash,1))\n",
    "title!(\"Currency excess return (in t=0, S = $S₀)\")\n",
    "xlabel!(\"Exchange rate in t=1\")\n",
    "annotate!(1.15,0.07,\"Foreign and domestic \\nint rates: $Rfstar $Rf\")"
   ]
  },
  {
   "cell_type": "markdown",
   "metadata": {},
   "source": [
    "# Uncovered Interest Rate Parity (UIP)\n",
    "\n",
    "\n",
    "UIP assumes that the expected future exchange rate (E$_0S_m$) depends on the current (as of $t=0$) exchange rate and interest rates, in such a way that the expected excess return on a a foreign investment (on the foreign money market) is zero.\n",
    "\n",
    "Interest rates are typically annualized (denoted $y$ and $y^*$ below). This means that the safe rate over an investment period of $m$ years (eg. $m=1/12$ for a month) is $(1+y)^m$."
   ]
  },
  {
   "cell_type": "code",
   "execution_count": 6,
   "metadata": {},
   "outputs": [
    {
     "name": "stdout",
     "output_type": "stream",
     "text": [
      "Expected future exchange rate 0.5 years ahead according to UIP:      1.189\n"
     ]
    }
   ],
   "source": [
    "S₀     = 1.2                       #current spot FX rate\n",
    "y     = 0.04                      #annualized interest rates\n",
    "ystar = 0.06\n",
    "m     = 1/2                       #investment period  \n",
    "ESm   = S₀ * (1+y)^m/(1+ystar)^m  #implies E(excess return) = 0\n",
    "\n",
    "printlnPs(\"Expected future exchange rate $m years ahead according to UIP: \",ESm)"
   ]
  },
  {
   "cell_type": "code",
   "execution_count": null,
   "metadata": {},
   "outputs": [],
   "source": []
  }
 ],
 "metadata": {
  "anaconda-cloud": {},
  "kernelspec": {
   "display_name": "Julia 0.6.3",
   "language": "julia",
   "name": "julia-0.6"
  },
  "language_info": {
   "file_extension": ".jl",
   "mimetype": "application/julia",
   "name": "julia",
   "version": "0.6.3"
  }
 },
 "nbformat": 4,
 "nbformat_minor": 1
}
