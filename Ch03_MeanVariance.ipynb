{
 "cells": [
  {
   "cell_type": "markdown",
   "metadata": {},
   "source": [
    "## Load Packages"
   ]
  },
  {
   "cell_type": "code",
   "execution_count": 1,
   "metadata": {},
   "outputs": [
    {
     "data": {
      "text/plain": [
       "printlnPs (generic function with 2 methods)"
      ]
     },
     "execution_count": 1,
     "metadata": {},
     "output_type": "execute_result"
    }
   ],
   "source": [
    "using Dates, LinearAlgebra\n",
    "\n",
    "include(\"printmat.jl\")"
   ]
  },
  {
   "cell_type": "code",
   "execution_count": 3,
   "metadata": {},
   "outputs": [
    {
     "data": {
      "text/plain": [
       "Plots.GRBackend()"
      ]
     },
     "execution_count": 3,
     "metadata": {},
     "output_type": "execute_result"
    }
   ],
   "source": [
    "using Plots\n",
    "backend = \"gr\"              #\"gr\" (default), \"pyplot\" \n",
    "\n",
    "if backend == \"pyplot\"\n",
    "    pyplot(size=(600,400))\n",
    "else    \n",
    "    gr(size=(600,400))\n",
    "end"
   ]
  },
  {
   "cell_type": "markdown",
   "metadata": {},
   "source": [
    "# The MV Frontier\n",
    "\n",
    "\n",
    "MV analysis starts with providing the vector of expected returns $\\mu$ and the covariance matrix $\\Sigma$ of the investable assets.\n",
    "\n",
    "Then, it plots the \"mean variance\" frontier: it is a scatter plot showing the lowest possible portfolio standard deviation, Std$(R_p)$, on the horizontal axis at a required average return, $\\text{E}R_p=\\mu^*$, on the vertical axis. Clearly, we consider many different $\\mu^*$ values to create the scatter.\n",
    "\n",
    "Remember: to calculate the expected return and the variance of a portfolio with portfolio weights in the vector $w$, use \n",
    "\n",
    "$\\text{E}R_p = w'\\mu$ and \n",
    "\n",
    "$\\text{Var}(R_p) = w'\\Sigma w$.\n",
    "\n",
    "Also, the sum of the portfolio weights should be one."
   ]
  },
  {
   "cell_type": "markdown",
   "metadata": {},
   "source": [
    "# MV Frontier  with Two Assets\n",
    "\n",
    "With only two investable assets, all portfolios of them are on the MV frontier. We can trace out the entire MV frontier by calculating the means and standard deviations of a range of portfolios with different weights ($w_1,1-w_1$) on the two assets."
   ]
  },
  {
   "cell_type": "code",
   "execution_count": 4,
   "metadata": {},
   "outputs": [
    {
     "name": "stdout",
     "output_type": "stream",
     "text": [
      "expected returns: \n",
      "     0.115\n",
      "     0.060\n",
      "\n",
      "covariance matrix:\n",
      "     0.017     0.006\n",
      "     0.006     0.010\n",
      "\n"
     ]
    }
   ],
   "source": [
    "μ = [0.115; 0.06]            #means\n",
    "Σ  = [166   58;              #covariance matrix\n",
    "       58  100]/100^2    \n",
    "\n",
    "println(\"expected returns: \")\n",
    "printmat(μ)\n",
    "println(\"covariance matrix:\")\n",
    "printmat(Σ)"
   ]
  },
  {
   "cell_type": "code",
   "execution_count": 5,
   "metadata": {},
   "outputs": [],
   "source": [
    "w₁ = 1.5:-0.05:-0.5           #different possible weights on asset 1\n",
    "n  = length(w₁)\n",
    "\n",
    "ERp   = fill(NaN,n)\n",
    "StdRp = fill(NaN,n)\n",
    "for i = 1:n\n",
    "    local w                #w is local to the loop\n",
    "    w        = [w₁[i];1-w₁[i]]\n",
    "    ERp[i]   = w'μ\n",
    "    StdRp[i] = sqrt(w'Σ*w)\n",
    "end   "
   ]
  },
  {
   "cell_type": "code",
   "execution_count": 6,
   "metadata": {},
   "outputs": [
    {
     "data": {
      "image/png": "[encoded data removed]"
     },
     "metadata": {},
     "output_type": "display_data"
    }
   ],
   "source": [
    "p1 = plot(StdRp*100,ERp*100,legend=nothing,color=:red,xlim=(0,15),ylim=(0,15))\n",
    "scatter!(p1,sqrt.(diag(Σ))*100,μ*100)\n",
    "title!(p1,\"Mean vs standard deviation\")\n",
    "xlabel!(p1,\"Std(Rp), %\")\n",
    "ylabel!(p1,\"ERp, %\")\n",
    "display(\"image/png\",p1)"
   ]
  },
  {
   "cell_type": "markdown",
   "metadata": {},
   "source": [
    "# Calculating the MV Frontier: 3 or More (Risky) Assets\n",
    "\n",
    "With 3 or more asssets we have to solve the optimization problem\n",
    "\n",
    "$\\min \\text{Var}(R_p) \\: \\text{ s.t. } \\: \\text{E}R_p = \\mu^*$,\n",
    "\n",
    "and clearly also that the sum of portfolio weights is one. We do not (at this point) impose any further restrictions.\n",
    "\n",
    "This can be done with a numerical minimization routine or by linear algebra (at least when we do not put any further restrictions on the portfolio weights). The next cells use the linear algrebra approach. "
   ]
  },
  {
   "cell_type": "code",
   "execution_count": 7,
   "metadata": {},
   "outputs": [
    {
     "name": "stdout",
     "output_type": "stream",
     "text": [
      "μ, Σ and Rf: \n",
      "     0.115\n",
      "     0.095\n",
      "     0.060\n",
      "\n",
      "     0.017     0.003     0.006\n",
      "     0.003     0.006     0.000\n",
      "     0.006     0.000     0.010\n",
      "\n",
      "     0.030\n",
      "\n"
     ]
    }
   ],
   "source": [
    "μ = [0.115; 0.095; 0.06]    #expected returns\n",
    "Σ  = [166  34  58;              #covariance matrix\n",
    "       34  64   4;\n",
    "       58   4 100]/100^2                  \n",
    "Rf = 0.03\n",
    "\n",
    "println(\"μ, Σ and Rf: \")\n",
    "printmat(μ)\n",
    "printmat(Σ)\n",
    "printmat(Rf)"
   ]
  },
  {
   "cell_type": "markdown",
   "metadata": {},
   "source": [
    "All portfolios on the MV frontier of risky assets only have (a vector of) portfolio weights as in\n",
    "\n",
    "$w = \\Sigma^{-1}(\\mu \\lambda + \\mathbf{1} \\delta)$, \n",
    "\n",
    "where the scalars $\\lambda$ and $\\delta$ depend on $(\\mu,\\Sigma)$ and the required average return $\\mu^*$ and where $\\mathbf{1}$ is a vector of ones. \n",
    "\n",
    "Some of the intermediate calculations are as follows. (Later on we put it all in a function)"
   ]
  },
  {
   "cell_type": "code",
   "execution_count": 8,
   "metadata": {},
   "outputs": [
    {
     "name": "stdout",
     "output_type": "stream",
     "text": [
      "inv(Σ):\n",
      "    85.735   -42.545   -48.024\n",
      "   -42.545   177.754    17.566\n",
      "   -48.024    17.566   127.151\n",
      "\n",
      "Σ*inv(Σ):\n",
      "     1.000     0.000     0.000\n",
      "     0.000     1.000     0.000\n",
      "    -0.000     0.000     1.000\n",
      "\n",
      "A, B, C:      1.804    19.759   244.634\n",
      "λ and δ:      0.093    -0.003\n",
      "w: \n",
      "     0.288\n",
      "     0.690\n",
      "     0.022\n",
      "\n"
     ]
    }
   ],
   "source": [
    "mustar = 0.1            #required average return  \n",
    "\n",
    "n    = length(μ)\n",
    "oneV = ones(n)          #vector of ones, the bold 1            \n",
    " \n",
    "Σ_1  = inv(Σ)\n",
    "\n",
    "println(\"inv(Σ):\")\n",
    "printmat(Σ_1)\n",
    "println(\"Σ*inv(Σ):\")\n",
    "printmat(Σ*Σ_1)\n",
    "\n",
    "A    = μ'Σ_1*μ                  \n",
    "B    = μ'Σ_1*oneV\n",
    "C    = oneV'Σ_1*oneV\n",
    "printlnPs(\"A, B, C: \",[A B C ])\n",
    "\n",
    "λ    = (C*mustar - B)/(A*C-B^2)\n",
    "δ    = (A-B*mustar)/(A*C-B^2)\n",
    "printlnPs(\"λ and δ: \",[λ δ])\n",
    "\n",
    "w    = Σ_1 *(μ*λ + oneV*δ)  #in Julia, we could do Σ_1 *(μ*λ .+ δ)\n",
    "println(\"w: \")\n",
    "printmat(w)"
   ]
  },
  {
   "cell_type": "code",
   "execution_count": 9,
   "metadata": {},
   "outputs": [
    {
     "data": {
      "text/plain": [
       "MVCalc (generic function with 1 method)"
      ]
     },
     "execution_count": 9,
     "metadata": {},
     "output_type": "execute_result"
    }
   ],
   "source": [
    "function MVCalc(mustar,μ,Σ) #the std of a portfolio on MVF of risky assets\n",
    "    n    = length(μ)\n",
    "    oneV = ones(n) \n",
    "    Σ_1  = inv(Σ)\n",
    "    A    = μ'Σ_1*μ                 \n",
    "    B    = μ'Σ_1*oneV\n",
    "    C    = oneV'Σ_1*oneV\n",
    "    λ    = (C*mustar - B)/(A*C-B^2)\n",
    "    δ    = (A-B*mustar)/(A*C-B^2)\n",
    "    w    = Σ_1 *(μ*λ.+δ)\n",
    "    StdRp = sqrt(w'Σ*w)\n",
    "    return StdRp,w\n",
    "end"
   ]
  },
  {
   "cell_type": "code",
   "execution_count": 10,
   "metadata": {},
   "outputs": [
    {
     "name": "stdout",
     "output_type": "stream",
     "text": [
      "Just testing: std and w of portfolio with mean return 10:      0.077\n",
      "     0.288\n",
      "     0.690\n",
      "     0.022\n",
      "\n"
     ]
    }
   ],
   "source": [
    "(StdAt10,wAt10) = MVCalc(0.1,μ,Σ)\n",
    "printlnPs(\"Just testing: std and w of portfolio with mean return 10: \",StdAt10)\n",
    "printmat(wAt10)"
   ]
  },
  {
   "cell_type": "code",
   "execution_count": 11,
   "metadata": {},
   "outputs": [],
   "source": [
    "mustar = range(Rf,stop=0.15,length=101)\n",
    "L      = length(mustar)\n",
    "StdRp  = fill(NaN,L)                      #loop over different required average returns, (mustar)\n",
    "for i = 1:L\n",
    "    StdRp[i] = MVCalc(mustar[i],μ,Σ)[1]   #[1] picks out only the first function output\n",
    "end"
   ]
  },
  {
   "cell_type": "code",
   "execution_count": 12,
   "metadata": {},
   "outputs": [
    {
     "data": {
      "image/png": "[encoded data removed]"
     },
     "metadata": {},
     "output_type": "display_data"
    }
   ],
   "source": [
    "p1 = plot(StdRp*100,mustar*100,legend=nothing,color=:red,xlim=(0,15),ylim=(0,15))\n",
    "scatter!(p1,sqrt.(diag(Σ))*100,μ*100)\n",
    "title!(p1,\"Mean vs standard deviation\")\n",
    "xlabel!(p1,\"Std(Rp), %\")\n",
    "ylabel!(p1,\"ERp, %\")\n",
    "display(\"image/png\",p1)"
   ]
  },
  {
   "cell_type": "markdown",
   "metadata": {},
   "source": [
    "# Calculating the MV Frontier (of Risky and Riskfree Assets)"
   ]
  },
  {
   "cell_type": "markdown",
   "metadata": {},
   "source": [
    "All portfolios on the MV frontier of both risky and riskfree have (a vector of) portfolio weights on the risky assets as in \n",
    "\n",
    "$w=\\frac{\\mu^{\\ast}-R_{f}}{(\\mu^{e})^{\\prime}\\Sigma^{-1}\\mu^{e}}\\Sigma^{-1}\n",
    "\\mu^{e}$, \n",
    "\n",
    "where $\\mu^*$ is the required average return.\n",
    "\n",
    "The weight of the riskfree asset is $1-\\mathbf{1}'w$"
   ]
  },
  {
   "cell_type": "code",
   "execution_count": 13,
   "metadata": {},
   "outputs": [
    {
     "data": {
      "text/plain": [
       "MVCalcRf (generic function with 1 method)"
      ]
     },
     "execution_count": 13,
     "metadata": {},
     "output_type": "execute_result"
    }
   ],
   "source": [
    "function MVCalcRf(mustar,μ,Σ,Rf)           #calculates the std of a portfolio on MVF of (Risky,Riskfree)\n",
    "    n     = length(μ)\n",
    "    μe    = μ .- Rf                        #expected excess returns            \n",
    "    Σ_1   = inv(Σ)\n",
    "    w     = (mustar-Rf)/(μe'Σ_1*μe) * Σ_1*μe\n",
    "    StdRp = sqrt(w'Σ*w)\n",
    "    return StdRp,w\n",
    "end"
   ]
  },
  {
   "cell_type": "code",
   "execution_count": 14,
   "metadata": {},
   "outputs": [],
   "source": [
    "StdRpRf  = fill(NaN,L)                 #loop over required average returns (mustar)\n",
    "for i = 1:L\n",
    "    StdRpRf[i] = MVCalcRf(mustar[i],μ,Σ,Rf)[1]\n",
    "end    "
   ]
  },
  {
   "cell_type": "code",
   "execution_count": 15,
   "metadata": {},
   "outputs": [
    {
     "data": {
      "image/png": "[encoded data removed]"
     },
     "metadata": {},
     "output_type": "display_data"
    }
   ],
   "source": [
    "p1 = plot(StdRp*100,mustar*100,legend=nothing,color=:red,xlim=(0,15),ylim=(0,15))\n",
    "plot!(p1,StdRpRf*100,mustar*100,legend=nothing,color=:blue)\n",
    "scatter!(p1,sqrt.(diag(Σ))*100,μ*100)\n",
    "title!(p1,\"Mean vs standard deviation\")\n",
    "xlabel!(p1,\"Std(Rp), %\")\n",
    "ylabel!(p1,\"ERp, %\")\n",
    "display(\"image/png\",p1)"
   ]
  },
  {
   "cell_type": "markdown",
   "metadata": {},
   "source": [
    "# Tangency Portfolio"
   ]
  },
  {
   "cell_type": "markdown",
   "metadata": {},
   "source": [
    "The tangency portfolio is a particular portfolio on the MV frontier of risky and riskfree, where the weights on the risky assets sum to one. It is therefore also on the MV frontier of risky assets only. The vector of portfolio weights is\n",
    "\n",
    "$w_{T}=\\frac{\\Sigma^{-1}\\mu^{e}}{\\mathbf{1}^{\\prime}\\Sigma^{-1}\\mu^{e}}$"
   ]
  },
  {
   "cell_type": "code",
   "execution_count": 16,
   "metadata": {},
   "outputs": [
    {
     "data": {
      "text/plain": [
       "MVTangencyP (generic function with 1 method)"
      ]
     },
     "execution_count": 16,
     "metadata": {},
     "output_type": "execute_result"
    }
   ],
   "source": [
    "function MVTangencyP(μ,Σ,Rf)           #calculates the tangency portfolio\n",
    "    n     = length(μ)\n",
    "    oneV  = ones(n)  \n",
    "    μe    = μ .- Rf                    #expected excess returns            \n",
    "    Σ_1   = inv(Σ)\n",
    "    w     = Σ_1 *μe/(oneV'Σ_1*μe)\n",
    "    muT   = w'μ + (1-sum(w))*Rf\n",
    "    StdT = sqrt(w'Σ*w)\n",
    "    return w,muT,StdT\n",
    "end"
   ]
  },
  {
   "cell_type": "code",
   "execution_count": 17,
   "metadata": {},
   "outputs": [
    {
     "name": "stdout",
     "output_type": "stream",
     "text": [
      "Tangency portfolio: \n",
      "     0.248\n",
      "     0.682\n",
      "     0.070\n",
      "\n",
      "mean and std of tangency portfolio, %:      9.750     7.372\n"
     ]
    }
   ],
   "source": [
    "(wT,muT,StdT) = MVTangencyP(μ,Σ,Rf)\n",
    "println(\"Tangency portfolio: \")\n",
    "printmat(wT)\n",
    "printlnPs(\"mean and std of tangency portfolio, %: \",[muT StdT]*100)"
   ]
  },
  {
   "cell_type": "markdown",
   "metadata": {},
   "source": [
    "By mixing the tangency portfolio and the riskfree, we can create any point on the MV frontier of risky and riskfree (also called the Capital Market Line, CML). \n",
    "\n",
    "The code below shows the expected return and standard deviation of several portfolio (different $v$ values) of the form\n",
    "\n",
    "$R_p = v R_T + (1-v)R_f$ where $R_T=w_T'R$"
   ]
  },
  {
   "cell_type": "code",
   "execution_count": 18,
   "metadata": {},
   "outputs": [],
   "source": [
    "v = [0;0.44;1;1.41]                                 #try different mixes of wT and Rf\n",
    "\n",
    "(ERLev,StdLev)  = (similar(v),similar(v))           #to store results in\n",
    "for i = 1:length(v)                    #loop over different v values (mix of wT and Rf)\n",
    "    ERLev[i]   = v[i]'muT + (1-v[i])*Rf     #portfolio with v[i] in wT and 1-v[i] in Rf\n",
    "    StdLev[i]  = abs(v[i])*StdT\n",
    "end"
   ]
  },
  {
   "cell_type": "code",
   "execution_count": 19,
   "metadata": {},
   "outputs": [
    {
     "data": {
      "image/png": "[encoded data removed]"
     },
     "metadata": {},
     "output_type": "display_data"
    }
   ],
   "source": [
    "p1 = plot(StdRp*100,mustar*100,legend=nothing,color=:magenta,xlim=(0,15),ylim=(0,15))\n",
    "plot!(p1,StdRpRf*100,mustar*100,legend=nothing,color=:blue)\n",
    "scatter!(p1,StdLev*100,ERLev*100)\n",
    "title!(p1,\"Mean vs standard deviation\")\n",
    "xlabel!(p1,\"Std(Rp), %\")\n",
    "ylabel!(p1,\"ERp, %\")\n",
    "display(\"image/png\",p1)"
   ]
  },
  {
   "cell_type": "markdown",
   "metadata": {},
   "source": [
    "## Examples of Tangency Portfolios"
   ]
  },
  {
   "cell_type": "code",
   "execution_count": 20,
   "metadata": {},
   "outputs": [
    {
     "name": "stdout",
     "output_type": "stream",
     "text": [
      "     0.474\n",
      "     0.526\n",
      "\n",
      "     0.574\n",
      "     0.426\n",
      "\n",
      "     0.513\n",
      "     0.487\n",
      "\n",
      "     1.538\n",
      "    -0.538\n",
      "\n"
     ]
    }
   ],
   "source": [
    "μb = [9; 6]/100                     #means\n",
    "Σb = [ 256  0;\n",
    "      0    144]/100^2\n",
    "Rfb = 1/100\n",
    "wT, = MVTangencyP(μb,Σb,Rfb)\n",
    "printmat(wT)\n",
    "\n",
    "wT, = MVTangencyP([13; 6]/100,Σb,Rfb)\n",
    "printmat(wT)\n",
    "\n",
    "Σb = [ 1  -0.8;\n",
    "      -0.8    1]\n",
    "wT, = MVTangencyP(μb,Σb,Rfb)\n",
    "printmat(wT)\n",
    "\n",
    "Σb = [ 1  0.8;\n",
    "      0.8    1]\n",
    "wT, = MVTangencyP(μb,Σb,Rfb)\n",
    "printmat(wT)"
   ]
  },
  {
   "cell_type": "markdown",
   "metadata": {},
   "source": [
    "# Drawing the MV Frontier Revisisted (extra)\n",
    "\n",
    "Recall: with only two investable assets, all portfolios of them are on the MV frontier.\n",
    "\n",
    "We apply this idea by using the global minimum variance portfolio (see below for code) and the tangency portfolios (see above)."
   ]
  },
  {
   "cell_type": "code",
   "execution_count": 21,
   "metadata": {},
   "outputs": [
    {
     "data": {
      "text/plain": [
       "MVMinimumVarP (generic function with 1 method)"
      ]
     },
     "execution_count": 21,
     "metadata": {},
     "output_type": "execute_result"
    }
   ],
   "source": [
    "function MVMinimumVarP(μ,Σ,Rf)           #calculates the global minimum variance portfolio\n",
    "    n     = length(μ)\n",
    "    oneV  = ones(n)  \n",
    "    μe    = μ .- Rf                     \n",
    "    Σ_1   = inv(Σ)\n",
    "    w     = Σ_1*oneV/(oneV'Σ_1*oneV)\n",
    "    mu    = w'μ + (1-sum(w))*Rf\n",
    "    Std   = sqrt(w'Σ*w)\n",
    "    return w,mu,Std\n",
    "end"
   ]
  },
  {
   "cell_type": "code",
   "execution_count": 22,
   "metadata": {},
   "outputs": [
    {
     "name": "stdout",
     "output_type": "stream",
     "text": [
      "Tangency and minum variance portfolios: \n",
      "     0.248    -0.020\n",
      "     0.682     0.625\n",
      "     0.070     0.395\n",
      "\n"
     ]
    }
   ],
   "source": [
    "(wT,muT,StdT) = MVTangencyP(μ,Σ,Rf)\n",
    "(wMvp,muMvp,StdMvp) = MVMinimumVarP(μ,Σ,Rf)\n",
    "println(\"Tangency and minum variance portfolios: \")\n",
    "printmat([wT wMvp])"
   ]
  },
  {
   "cell_type": "code",
   "execution_count": 23,
   "metadata": {},
   "outputs": [],
   "source": [
    "v = range(-2.5,stop=2.5,length=101)                      #try different mixes of wT and wMvp\n",
    "\n",
    "(ERLev,StdLev)  = (similar(v),similar(v))\n",
    "for i = 1:length(v)\n",
    "    local w\n",
    "    w          = v[i]*wT + (1-v[i])*wMvp                        #portfolio with v[i] in wT and 1-v[i] in wMvp\n",
    "    ERLev[i]   = w'μ\n",
    "    StdLev[i]  = sqrt(w'Σ*w)\n",
    "end"
   ]
  },
  {
   "cell_type": "code",
   "execution_count": 24,
   "metadata": {},
   "outputs": [
    {
     "data": {
      "image/png": "[encoded data removed]"
     },
     "metadata": {},
     "output_type": "display_data"
    }
   ],
   "source": [
    "p1 = plot(StdRp*100,mustar*100,legend=nothing,color=:red,xlim=(0,15),ylim=(0,15))\n",
    "plot!(p1,StdRpRf*100,mustar*100,legend=nothing,color=:blue)\n",
    "scatter!(p1,StdLev*100,ERLev*100)\n",
    "title!(p1,\"Mean vs standard deviation: scatter points are new\")\n",
    "xlabel!(p1,\"Std(Rp), %\")\n",
    "ylabel!(p1,\"ERp, %\")\n",
    "display(\"image/png\",p1)"
   ]
  },
  {
   "cell_type": "code",
   "execution_count": null,
   "metadata": {},
   "outputs": [],
   "source": []
  }
 ],
 "metadata": {
  "anaconda-cloud": {},
  "kernelspec": {
   "display_name": "Julia 1.0.0",
   "language": "julia",
   "name": "julia-1.0"
  },
  "language_info": {
   "file_extension": ".jl",
   "mimetype": "application/julia",
   "name": "julia",
   "version": "1.0.0"
  }
 },
 "nbformat": 4,
 "nbformat_minor": 1
}
