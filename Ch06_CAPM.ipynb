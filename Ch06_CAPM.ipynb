{
 "cells": [
  {
   "cell_type": "markdown",
   "metadata": {},
   "source": [
    "## Load Packages"
   ]
  },
  {
   "cell_type": "code",
   "execution_count": 1,
   "metadata": {},
   "outputs": [
    {
     "data": {
      "text/plain": [
       "printlnPs (generic function with 2 methods)"
      ]
     },
     "execution_count": 1,
     "metadata": {},
     "output_type": "execute_result"
    }
   ],
   "source": [
    "using Dates, DelimitedFiles, Statistics \n",
    "\n",
    "include(\"printmat.jl\")"
   ]
  },
  {
   "cell_type": "code",
   "execution_count": 3,
   "metadata": {},
   "outputs": [],
   "source": [
    "using Plots\n",
    "backend = \"gr\"              #\"gr\" (default), \"pyplot\" \n",
    "\n",
    "if backend == \"pyplot\"\n",
    "    pyplot(size=(600,400))\n",
    "else    \n",
    "    gr(size=(600,400))\n",
    "    default(fmt = :png)\n",
    "end"
   ]
  },
  {
   "cell_type": "markdown",
   "metadata": {},
   "source": [
    "# The Theoretical Predictions of CAPM\n",
    "\n",
    "The following section illustrates the theoretical predictions of CAPM by taking the following steps: \n",
    "1. define a set of investable assets\n",
    "2. find the tangency portfolio\n",
    "3. calculate the betas of each asset against the tangency portfolio\n",
    "4. check whether the average returns are in accordance with CAPM."
   ]
  },
  {
   "cell_type": "markdown",
   "metadata": {},
   "source": [
    "## Characteristics of Three Assets: Means and Covariances"
   ]
  },
  {
   "cell_type": "code",
   "execution_count": 4,
   "metadata": {},
   "outputs": [
    {
     "name": "stdout",
     "output_type": "stream",
     "text": [
      "expected returns: \n",
      "     0.115\n",
      "     0.095\n",
      "     0.060\n",
      "\n",
      "covariance matrix:\n",
      "     0.017     0.003     0.006\n",
      "     0.003     0.006     0.000\n",
      "     0.006     0.000     0.010\n",
      "\n"
     ]
    }
   ],
   "source": [
    "μ = [0.115; 0.095; 0.06]    #expected returns\n",
    "Σ  = [166  34  58;          #covariance matrix\n",
    "       34  64   4;\n",
    "       58   4 100]/100^2                  \n",
    "Rf = 0.03\n",
    "\n",
    "println(\"expected returns: \")\n",
    "printmat(μ)\n",
    "println(\"covariance matrix:\")\n",
    "printmat(Σ)"
   ]
  },
  {
   "cell_type": "markdown",
   "metadata": {},
   "source": [
    "## The Tangency Portfolio\n",
    "\n",
    "The function for the tangency portfolio is from the chapter on mean-variance analysis."
   ]
  },
  {
   "cell_type": "code",
   "execution_count": 5,
   "metadata": {},
   "outputs": [
    {
     "data": {
      "text/plain": [
       "MVTangencyP (generic function with 1 method)"
      ]
     },
     "execution_count": 5,
     "metadata": {},
     "output_type": "execute_result"
    }
   ],
   "source": [
    "function MVTangencyP(μ,Σ,Rf)           #calculates the tangency portfolio\n",
    "    n     = length(μ)\n",
    "    oneV  = ones(n)  \n",
    "    μe    = μ .- Rf                    #expected excess returns            \n",
    "    Σ_1   = inv(Σ)\n",
    "    w     = Σ_1 * μe/(oneV'Σ_1*μe)\n",
    "    muT   = w'μ + (1-sum(w))*Rf\n",
    "    StdT  = sqrt(w'Σ*w)\n",
    "    return w,muT,StdT\n",
    "end"
   ]
  },
  {
   "cell_type": "code",
   "execution_count": 6,
   "metadata": {},
   "outputs": [
    {
     "name": "stdout",
     "output_type": "stream",
     "text": [
      "\n",
      "Tangency portfolio: \n",
      "     0.248\n",
      "     0.682\n",
      "     0.070\n",
      "\n"
     ]
    }
   ],
   "source": [
    "(wT,muT,StdT) = MVTangencyP(μ,Σ,Rf)\n",
    "println(\"\\nTangency portfolio: \")\n",
    "printmat(wT)"
   ]
  },
  {
   "cell_type": "markdown",
   "metadata": {},
   "source": [
    "## (Theoretical) β of the Assets\n",
    "\n",
    "The tangency portfolio is a portfolio of the investable assets ($R_T=w_T'R$). It is therefore straightforward to calculate the covariance (and betas) of $R_T$ with each of the assets.\n",
    "\n",
    "Details: \n",
    "\n",
    "$\\textrm{Cov}(R_i,R_T) = w_i'\\Sigma w_T$, and $\\beta_i = \\textrm{Cov}(R_i,R_T)/\\textrm{Var}(R_T)$."
   ]
  },
  {
   "cell_type": "code",
   "execution_count": 7,
   "metadata": {},
   "outputs": [
    {
     "name": "stdout",
     "output_type": "stream",
     "text": [
      "\n",
      "β of the 3 assets: \n",
      "     1.259\n",
      "     0.963\n",
      "     0.444\n",
      "\n"
     ]
    }
   ],
   "source": [
    "n = length(μ)                      #no. assets\n",
    "\n",
    "β     = fill(NaN,n)\n",
    "for i = 1:n\n",
    "    local wi, CovRim\n",
    "    wi     = zeros(n)\n",
    "    wi[i]  = 1                      #weight 1 on asset i\n",
    "    CovRim = wi'Σ*wT\n",
    "    β[i]   = CovRim/StdT^2          #usual OLS coefficient\n",
    "end    \n",
    "println(\"\\nβ of the $n assets: \")\n",
    "printmat(β)"
   ]
  },
  {
   "cell_type": "markdown",
   "metadata": {},
   "source": [
    "## Trying CAPM on the Three Assets"
   ]
  },
  {
   "cell_type": "markdown",
   "metadata": {},
   "source": [
    "Recall: CAPMS says\n",
    "\n",
    "$\\textrm{E}R_{i}  = R_f + \\beta_{i}(\\mu_{T}-R_f)$\n",
    " \n",
    "This can be compared with the (actual) average returns. "
   ]
  },
  {
   "cell_type": "code",
   "execution_count": 8,
   "metadata": {},
   "outputs": [
    {
     "name": "stdout",
     "output_type": "stream",
     "text": [
      "\n",
      "μ and as suggested by CAPM: \n",
      "     0.115     0.115\n",
      "     0.095     0.095\n",
      "     0.060     0.060\n",
      "\n"
     ]
    }
   ],
   "source": [
    "ERi_CAPM = Rf .+ β*(muT-Rf)      #vector since β is\n",
    "\n",
    "println(\"\\nμ and as suggested by CAPM: \")\n",
    "printmat([μ ERi_CAPM])"
   ]
  },
  {
   "cell_type": "code",
   "execution_count": 9,
   "metadata": {},
   "outputs": [
    {
     "data": {
      "image/png": "[encoded data removed]"
     },
     "metadata": {},
     "output_type": "display_data"
    }
   ],
   "source": [
    "p1 = scatter(β,ERi_CAPM*100,xlim=(0,2),ylim=(0,15),legend=false)\n",
    "title!(p1,\"beta vs ERi\")\n",
    "xlabel!(p1,\"beta\")\n",
    "ylabel!(p1,\"ERi, %\")\n",
    "display(\"image/png\",p1)"
   ]
  },
  {
   "cell_type": "markdown",
   "metadata": {},
   "source": [
    "# An Empirical Test of CAPM \n",
    "\n",
    "The next section performs an empirical test of CAPM. First, we load data. Second, we run linear regressions and test whether the intercept is zero (the CAPM prediction) or not."
   ]
  },
  {
   "cell_type": "markdown",
   "metadata": {},
   "source": [
    "## Loading Data"
   ]
  },
  {
   "cell_type": "code",
   "execution_count": 10,
   "metadata": {},
   "outputs": [
    {
     "data": {
      "text/plain": [
       "(388, 5)"
      ]
     },
     "execution_count": 10,
     "metadata": {},
     "output_type": "execute_result"
    }
   ],
   "source": [
    "x    = readdlm(\"Data/FFmFactorsPs.csv\",',',skipstart=1)\n",
    "Rme  = x[:,2]                #market excess return\n",
    "RSMB = x[:,3]                #small minus big firms\n",
    "RHML = x[:,4]                #high minus low book-to-market ratio\n",
    "Rf   = x[:,5]                #interest rate\n",
    "\n",
    "\n",
    "x  = readdlm(\"Data/FF25Ps.csv\",',') #no header line: x is matrix\n",
    "R  = x[:,2:end]                     #returns for 25 FF portfolios\n",
    "Re = R .- Rf                        #excess returns for the 25 FF portfolios\n",
    "Re = Re[:,[1;7;13;19;25]]           #use just 5 assets to make the printing easier \n",
    "\n",
    "(T,n) = size(Re)                 #no. obs and  no. test assets"
   ]
  },
  {
   "cell_type": "markdown",
   "metadata": {},
   "source": [
    "## OLS Estimation and Testing α = 0"
   ]
  },
  {
   "cell_type": "markdown",
   "metadata": {},
   "source": [
    "We now use the market return as a proxy for the tangency portfolio - and test if the model holds.\n",
    "\n",
    "Recall: estimate $(\\alpha_{i},b_{i})$ in the CAPM regression\n",
    "\n",
    "$R_{it}^{e}  =\\alpha_{i}+b_{i}R_{mt}^{e}+\\varepsilon_{it}$\n",
    "\n",
    "Test if $\\alpha_{i}=0$\n",
    "\n",
    "Under the Gauss-Markov assumptions, $\\textrm{Cov}(\\alpha_{i},b_{i}) = (X'X)^{-1}\\textrm{Var}(\\varepsilon_{it})$,\n",
    "where row $t$ of $X$ contains $[1, R_{mt}^e]$. Use element [1,1] of the covariance matrix as the variance of the $\\alpha_i$ estimate."
   ]
  },
  {
   "cell_type": "code",
   "execution_count": 11,
   "metadata": {},
   "outputs": [
    {
     "name": "stdout",
     "output_type": "stream",
     "text": [
      "\n",
      "OLS intercepts and t-stats, regressing Re on constant and Rme\n",
      "    -0.504    -1.656\n",
      "     0.153     1.031\n",
      "     0.305     2.471\n",
      "     0.279     2.163\n",
      "     0.336     2.073\n",
      "\n"
     ]
    }
   ],
   "source": [
    "x   = [ones(T) Rme]                   #regressors\n",
    "Σ_1 = inv(x'x)\n",
    "\n",
    "α     = fill(NaN,n)\n",
    "tstat = fill(NaN,n)\n",
    "for i = 1:n                              #loop over the different test assets\n",
    "    local b_i, residual, Covb\n",
    "    b_i       = x\\Re[:,i]                #OLS\n",
    "    residual  = Re[:,i] - x*b_i\n",
    "    α[i]      = b_i[1]                   #estimated α\n",
    "    Covb      = Σ_1*var(residual)   \n",
    "    tstat[i] = (α[i]-0)/sqrt(Covb[1,1])  #tstat of H₀: true α=0\n",
    "end    \n",
    "println(\"\\nOLS intercepts and t-stats, regressing Re on constant and Rme\")\n",
    "printmat([α tstat])"
   ]
  },
  {
   "cell_type": "code",
   "execution_count": null,
   "metadata": {},
   "outputs": [],
   "source": []
  }
 ],
 "metadata": {
  "anaconda-cloud": {},
  "kernelspec": {
   "display_name": "Julia 1.0.0",
   "language": "julia",
   "name": "julia-1.0"
  },
  "language_info": {
   "file_extension": ".jl",
   "mimetype": "application/julia",
   "name": "julia",
   "version": "1.0.0"
  }
 },
 "nbformat": 4,
 "nbformat_minor": 1
}
