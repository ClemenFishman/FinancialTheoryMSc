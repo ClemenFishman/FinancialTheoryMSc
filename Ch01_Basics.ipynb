{
 "cells": [
  {
   "cell_type": "markdown",
   "metadata": {},
   "source": [
    "## Load Routines for Printing Matrices"
   ]
  },
  {
   "cell_type": "code",
   "execution_count": 1,
   "metadata": {},
   "outputs": [
    {
     "data": {
      "text/plain": [
       "println4Ps (generic function with 1 method)"
      ]
     },
     "execution_count": 1,
     "metadata": {},
     "output_type": "execute_result"
    }
   ],
   "source": [
    "include(\"printmat.jl\")"
   ]
  },
  {
   "cell_type": "markdown",
   "metadata": {},
   "source": [
    "# Return Calculations\n",
    "\n",
    "From prices (measured after dividends) $P_t$ and dividends $D_t$ the return of holding the asset between $t-1$ and $t$ is\n",
    "\n",
    "$\n",
    "R_t = (P_t+D_t)/P_{t-1} - 1\n",
    "$"
   ]
  },
  {
   "cell_type": "code",
   "execution_count": 2,
   "metadata": {},
   "outputs": [
    {
     "name": "stdout",
     "output_type": "stream",
     "text": [
      "period and returns in %\n",
      "     2.000    10.000\n",
      "     3.000     0.926\n",
      "\n"
     ]
    }
   ],
   "source": [
    "P = [100;108;109]           #price series, after dividends\n",
    "D = [0;2;0]     \n",
    "t = 1:length(P)\n",
    "\n",
    "R = (P[2:end] + D[2:end])./P[1:end-1] - 1\n",
    "println(\"period and returns in %\")\n",
    "printmat([t[2:end] R*100])"
   ]
  },
  {
   "cell_type": "markdown",
   "metadata": {},
   "source": [
    "# Portfolio Return: Definition, Expected Value and Variance"
   ]
  },
  {
   "cell_type": "markdown",
   "metadata": {},
   "source": [
    "With portfolio weights in the vector $w$, the portfolio return, the expected portfolio return and the portfolio variance can be computed as\n",
    "\n",
    "$R_p = w'R$, $ER_p = w'\\mu$ and $Var(R_p) = w'\\Sigma w$"
   ]
  },
  {
   "cell_type": "code",
   "execution_count": 3,
   "metadata": {},
   "outputs": [
    {
     "name": "stdout",
     "output_type": "stream",
     "text": [
      "portfolio weights: \n",
      "     0.800\n",
      "     0.200\n",
      "\n",
      "Returns of assets: \n",
      "     0.100\n",
      "     0.050\n",
      "\n",
      "Portfolio return:      0.090\n"
     ]
    }
   ],
   "source": [
    "w = [0.8;0.2]\n",
    "R = [10;5]/100          #returns of asset 1 and 2\n",
    "Rp = w'R\n",
    "println(\"portfolio weights: \")\n",
    "printmat(w)\n",
    "println(\"Returns of assets: \")\n",
    "printmat(R)\n",
    "printlnPs(\"Portfolio return: \",Rp)"
   ]
  },
  {
   "cell_type": "code",
   "execution_count": 4,
   "metadata": {},
   "outputs": [
    {
     "name": "stdout",
     "output_type": "stream",
     "text": [
      "expected returns*100: \n",
      "     9.000\n",
      "     6.000\n",
      "\n",
      "covariance matrix*100^2:\n",
      "   256.000    96.000\n",
      "    96.000   144.000\n",
      "\n"
     ]
    }
   ],
   "source": [
    "μ = [9;6]/100                    #\\mu and tab to get this\n",
    "Σ = [256 96;\n",
    "     96 144]/100^2\n",
    "\n",
    "println(\"expected returns*100: \")\n",
    "printmat(μ*100)\n",
    "\n",
    "println(\"covariance matrix*100^2:\")\n",
    "printmat(Σ*100^2)"
   ]
  },
  {
   "cell_type": "code",
   "execution_count": 5,
   "metadata": {},
   "outputs": [
    {
     "name": "stdout",
     "output_type": "stream",
     "text": [
      "expected portfolio return, variance and std of portfolio return: \n",
      "     0.084     0.020     0.142\n",
      "\n"
     ]
    }
   ],
   "source": [
    "ERp = w'μ\n",
    "VarRp = w'Σ*w\n",
    "\n",
    "println(\"expected portfolio return, variance and std of portfolio return: \")\n",
    "printmat([ERp VarRp sqrt.(VarRp)])"
   ]
  },
  {
   "cell_type": "code",
   "execution_count": 6,
   "metadata": {},
   "outputs": [
    {
     "name": "stdout",
     "output_type": "stream",
     "text": [
      "portfolio std when the assets are negatively correlated:     0.118\n"
     ]
    }
   ],
   "source": [
    "Σb = [256 -96;\n",
    "      -96 144]/100^2\n",
    "\n",
    "                                        #()[1] to extract a scalar, not an 1x1 matrix\n",
    "printlnPs(\"portfolio std when the assets are negatively correlated:\",sqrt((w'Σb*w)[1]))"
   ]
  },
  {
   "cell_type": "markdown",
   "metadata": {},
   "source": [
    "# Matrix Appendix"
   ]
  },
  {
   "cell_type": "code",
   "execution_count": 7,
   "metadata": {},
   "outputs": [
    {
     "name": "stdout",
     "output_type": "stream",
     "text": [
      "        11        13\n",
      "        13        14\n",
      "\n",
      "        10        30\n",
      "        30        40\n",
      "\n"
     ]
    }
   ],
   "source": [
    "A = [1 3;3 4]\n",
    "c = 10\n",
    "printmat(A + c)\n",
    "printmat(A*c)"
   ]
  },
  {
   "cell_type": "code",
   "execution_count": 8,
   "metadata": {},
   "outputs": [
    {
     "name": "stdout",
     "output_type": "stream",
     "text": [
      "         8\n",
      "         6\n",
      "\n",
      "         2         5\n",
      "         6         2\n",
      "\n"
     ]
    }
   ],
   "source": [
    "A = [10;11]\n",
    "B = [2;5]\n",
    "printmat(A-B)\n",
    "printmat([1 3;3 4] + [1 2;3 -2])"
   ]
  },
  {
   "cell_type": "code",
   "execution_count": 9,
   "metadata": {},
   "outputs": [
    {
     "name": "stdout",
     "output_type": "stream",
     "text": [
      "        10        11\n",
      "\n",
      "         1         4\n",
      "         2         5\n",
      "         3         6\n",
      "\n"
     ]
    }
   ],
   "source": [
    "printmat([10;11]')\n",
    "printmat([1 2 3;4 5 6]')"
   ]
  },
  {
   "cell_type": "code",
   "execution_count": 10,
   "metadata": {},
   "outputs": [
    {
     "name": "stdout",
     "output_type": "stream",
     "text": [
      "        10        -4\n",
      "        15        -2\n",
      "\n",
      "        17\n",
      "        26\n",
      "\n"
     ]
    }
   ],
   "source": [
    "printmat([1 3;3 4]*[1 2;3 -2])\n",
    "printmat([1 3;3 4]*[2;5])"
   ]
  },
  {
   "cell_type": "code",
   "execution_count": 11,
   "metadata": {},
   "outputs": [
    {
     "name": "stdout",
     "output_type": "stream",
     "text": [
      "        75\n",
      "\n",
      "        20        50\n",
      "        22        55\n",
      "\n",
      "      1244\n",
      "\n"
     ]
    }
   ],
   "source": [
    "printmat([10;11]'*[2;5])\n",
    "printmat([10;11]*[2;5]')\n",
    "printmat([10;11]'*[1 3;3 4]*[10;11])"
   ]
  },
  {
   "cell_type": "code",
   "execution_count": 12,
   "metadata": {},
   "outputs": [
    {
     "name": "stdout",
     "output_type": "stream",
     "text": [
      "    -0.800     0.600\n",
      "     0.600    -0.200\n",
      "\n",
      "     1.000    -0.000\n",
      "     0.000     1.000\n",
      "\n"
     ]
    }
   ],
   "source": [
    "printmat(inv([1 3;3 4]))\n",
    "printmat(inv([1 3;3 4])*[1 3;3 4])"
   ]
  },
  {
   "cell_type": "code",
   "execution_count": null,
   "metadata": {
    "collapsed": true
   },
   "outputs": [],
   "source": []
  }
 ],
 "metadata": {
  "anaconda-cloud": {},
  "kernelspec": {
   "display_name": "Julia 0.6.0",
   "language": "julia",
   "name": "julia-0.6"
  },
  "language_info": {
   "file_extension": ".jl",
   "mimetype": "application/julia",
   "name": "julia",
   "version": "0.6.0"
  }
 },
 "nbformat": 4,
 "nbformat_minor": 1
}
