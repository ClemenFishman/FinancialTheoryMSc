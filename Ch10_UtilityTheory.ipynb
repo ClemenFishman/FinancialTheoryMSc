{
 "cells": [
  {
   "cell_type": "markdown",
   "metadata": {},
   "source": [
    "# Load Packages"
   ]
  },
  {
   "cell_type": "code",
   "execution_count": 1,
   "metadata": {},
   "outputs": [
    {
     "data": {
      "text/plain": [
       "println4Ps (generic function with 1 method)"
      ]
     },
     "execution_count": 1,
     "metadata": {},
     "output_type": "execute_result"
    }
   ],
   "source": [
    "\n",
    "include(\"printmat.jl\")"
   ]
  },
  {
   "cell_type": "code",
   "execution_count": 2,
   "metadata": {},
   "outputs": [
    {
     "data": {
      "text/plain": [
       "Plots.GRBackend()"
      ]
     },
     "execution_count": 2,
     "metadata": {},
     "output_type": "execute_result"
    }
   ],
   "source": [
    "using Plots\n",
    "backend = \"gr\"              #\"gr\" (default), \"pyplot\" \n",
    "\n",
    "if backend == \"pyplot\"\n",
    "    pyplot(size=(600,400))\n",
    "else    \n",
    "    gr(size=(600,400))\n",
    "end"
   ]
  },
  {
   "cell_type": "markdown",
   "metadata": {},
   "source": [
    "# Utility Function"
   ]
  },
  {
   "cell_type": "markdown",
   "metadata": {},
   "source": [
    "Recall: the CRRA utility function is $U(W) = \\frac{W^{1-k}}{1-k}$"
   ]
  },
  {
   "cell_type": "code",
   "execution_count": 3,
   "metadata": {},
   "outputs": [
    {
     "data": {
      "text/plain": [
       "U (generic function with 1 method)"
      ]
     },
     "execution_count": 3,
     "metadata": {},
     "output_type": "execute_result"
    }
   ],
   "source": [
    "U(x,k) =  x.^(1-k)/(1-k)    #CRRA utility function, k is the risk aversion"
   ]
  },
  {
   "cell_type": "code",
   "execution_count": 4,
   "metadata": {},
   "outputs": [
    {
     "data": {
      "text/html": [
       "<?xml version=\"1.0\" encoding=\"utf-8\"?>\n",
       "<svg xmlns=\"http://www.w3.org/2000/svg\" xmlns:xlink=\"http://www.w3.org/1999/xlink\" width=\"600\" height=\"400\" viewBox=\"0 0 600 400\">\n",
       "<defs>\n",
       "  <clipPath id=\"clip00\">\n",
       "    <rect x=\"0\" y=\"0\" width=\"600\" height=\"400\"/>\n",
       "  </clipPath>\n",
       "</defs>\n",
       "<polygon clip-path=\"url(#clip00)\" points=\"\n",
       "0,400 600,400 600,0 0,0 \n",
       "  \" fill=\"#ffffff\" fill-opacity=\"1\"/>\n",
       "<defs>\n",
       "  <clipPath id=\"clip01\">\n",
       "    <rect x=\"120\" y=\"0\" width=\"421\" height=\"400\"/>\n",
       "  </clipPath>\n",
       "</defs>\n",
       "<polygon clip-path=\"url(#clip00)\" points=\"\n",
       "39.1436,360.065 580.315,360.065 580.315,31.4961 39.1436,31.4961 \n",
       "  \" fill=\"#ffffff\" fill-opacity=\"1\"/>\n",
       "<defs>\n",
       "  <clipPath id=\"clip02\">\n",
       "    <rect x=\"39\" y=\"31\" width=\"542\" height=\"330\"/>\n",
       "  </clipPath>\n",
       "</defs>\n",
       "<polyline clip-path=\"url(#clip02)\" style=\"stroke:#000000; stroke-width:0.5; stroke-opacity:0.1; fill:none\" points=\"\n",
       "  39.1436,355.137 39.1436,36.4246 \n",
       "  \"/>\n",
       "<polyline clip-path=\"url(#clip02)\" style=\"stroke:#000000; stroke-width:0.5; stroke-opacity:0.1; fill:none\" points=\"\n",
       "  174.436,355.137 174.436,36.4246 \n",
       "  \"/>\n",
       "<polyline clip-path=\"url(#clip02)\" style=\"stroke:#000000; stroke-width:0.5; stroke-opacity:0.1; fill:none\" points=\"\n",
       "  309.729,355.137 309.729,36.4246 \n",
       "  \"/>\n",
       "<polyline clip-path=\"url(#clip02)\" style=\"stroke:#000000; stroke-width:0.5; stroke-opacity:0.1; fill:none\" points=\"\n",
       "  445.022,355.137 445.022,36.4246 \n",
       "  \"/>\n",
       "<polyline clip-path=\"url(#clip02)\" style=\"stroke:#000000; stroke-width:0.5; stroke-opacity:0.1; fill:none\" points=\"\n",
       "  47.2612,320.637 572.197,320.637 \n",
       "  \"/>\n",
       "<polyline clip-path=\"url(#clip02)\" style=\"stroke:#000000; stroke-width:0.5; stroke-opacity:0.1; fill:none\" points=\"\n",
       "  47.2612,241.78 572.197,241.78 \n",
       "  \"/>\n",
       "<polyline clip-path=\"url(#clip02)\" style=\"stroke:#000000; stroke-width:0.5; stroke-opacity:0.1; fill:none\" points=\"\n",
       "  47.2612,162.924 572.197,162.924 \n",
       "  \"/>\n",
       "<polyline clip-path=\"url(#clip02)\" style=\"stroke:#000000; stroke-width:0.5; stroke-opacity:0.1; fill:none\" points=\"\n",
       "  47.2612,84.0672 572.197,84.0672 \n",
       "  \"/>\n",
       "<polyline clip-path=\"url(#clip00)\" style=\"stroke:#000000; stroke-width:1; stroke-opacity:1; fill:none\" points=\"\n",
       "  39.1436,360.065 580.315,360.065 \n",
       "  \"/>\n",
       "<polyline clip-path=\"url(#clip00)\" style=\"stroke:#000000; stroke-width:1; stroke-opacity:1; fill:none\" points=\"\n",
       "  39.1436,360.065 39.1436,355.137 \n",
       "  \"/>\n",
       "<polyline clip-path=\"url(#clip00)\" style=\"stroke:#000000; stroke-width:1; stroke-opacity:1; fill:none\" points=\"\n",
       "  174.436,360.065 174.436,355.137 \n",
       "  \"/>\n",
       "<polyline clip-path=\"url(#clip00)\" style=\"stroke:#000000; stroke-width:1; stroke-opacity:1; fill:none\" points=\"\n",
       "  309.729,360.065 309.729,355.137 \n",
       "  \"/>\n",
       "<polyline clip-path=\"url(#clip00)\" style=\"stroke:#000000; stroke-width:1; stroke-opacity:1; fill:none\" points=\"\n",
       "  445.022,360.065 445.022,355.137 \n",
       "  \"/>\n",
       "<polyline clip-path=\"url(#clip00)\" style=\"stroke:#000000; stroke-width:1; stroke-opacity:1; fill:none\" points=\"\n",
       "  39.1436,360.065 39.1436,31.4961 \n",
       "  \"/>\n",
       "<polyline clip-path=\"url(#clip00)\" style=\"stroke:#000000; stroke-width:1; stroke-opacity:1; fill:none\" points=\"\n",
       "  39.1436,320.637 47.2612,320.637 \n",
       "  \"/>\n",
       "<polyline clip-path=\"url(#clip00)\" style=\"stroke:#000000; stroke-width:1; stroke-opacity:1; fill:none\" points=\"\n",
       "  39.1436,241.78 47.2612,241.78 \n",
       "  \"/>\n",
       "<polyline clip-path=\"url(#clip00)\" style=\"stroke:#000000; stroke-width:1; stroke-opacity:1; fill:none\" points=\"\n",
       "  39.1436,162.924 47.2612,162.924 \n",
       "  \"/>\n",
       "<polyline clip-path=\"url(#clip00)\" style=\"stroke:#000000; stroke-width:1; stroke-opacity:1; fill:none\" points=\"\n",
       "  39.1436,84.0672 47.2612,84.0672 \n",
       "  \"/>\n",
       "<g clip-path=\"url(#clip00)\">\n",
       "<text style=\"fill:#000000; fill-opacity:1; font-family:Arial,Helvetica Neue,Helvetica,sans-serif; font-size:12; text-anchor:middle;\" transform=\"rotate(0, 39.1436, 373.865)\" x=\"39.1436\" y=\"373.865\">0.8</text>\n",
       "</g>\n",
       "<g clip-path=\"url(#clip00)\">\n",
       "<text style=\"fill:#000000; fill-opacity:1; font-family:Arial,Helvetica Neue,Helvetica,sans-serif; font-size:12; text-anchor:middle;\" transform=\"rotate(0, 174.436, 373.865)\" x=\"174.436\" y=\"373.865\">0.9</text>\n",
       "</g>\n",
       "<g clip-path=\"url(#clip00)\">\n",
       "<text style=\"fill:#000000; fill-opacity:1; font-family:Arial,Helvetica Neue,Helvetica,sans-serif; font-size:12; text-anchor:middle;\" transform=\"rotate(0, 309.729, 373.865)\" x=\"309.729\" y=\"373.865\">1.0</text>\n",
       "</g>\n",
       "<g clip-path=\"url(#clip00)\">\n",
       "<text style=\"fill:#000000; fill-opacity:1; font-family:Arial,Helvetica Neue,Helvetica,sans-serif; font-size:12; text-anchor:middle;\" transform=\"rotate(0, 445.022, 373.865)\" x=\"445.022\" y=\"373.865\">1.1</text>\n",
       "</g>\n",
       "<g clip-path=\"url(#clip00)\">\n",
       "<text style=\"fill:#000000; fill-opacity:1; font-family:Arial,Helvetica Neue,Helvetica,sans-serif; font-size:12; text-anchor:end;\" transform=\"rotate(0, 33.1436, 325.137)\" x=\"33.1436\" y=\"325.137\">-1.2</text>\n",
       "</g>\n",
       "<g clip-path=\"url(#clip00)\">\n",
       "<text style=\"fill:#000000; fill-opacity:1; font-family:Arial,Helvetica Neue,Helvetica,sans-serif; font-size:12; text-anchor:end;\" transform=\"rotate(0, 33.1436, 246.28)\" x=\"33.1436\" y=\"246.28\">-1.1</text>\n",
       "</g>\n",
       "<g clip-path=\"url(#clip00)\">\n",
       "<text style=\"fill:#000000; fill-opacity:1; font-family:Arial,Helvetica Neue,Helvetica,sans-serif; font-size:12; text-anchor:end;\" transform=\"rotate(0, 33.1436, 167.424)\" x=\"33.1436\" y=\"167.424\">-1.0</text>\n",
       "</g>\n",
       "<g clip-path=\"url(#clip00)\">\n",
       "<text style=\"fill:#000000; fill-opacity:1; font-family:Arial,Helvetica Neue,Helvetica,sans-serif; font-size:12; text-anchor:end;\" transform=\"rotate(0, 33.1436, 88.5672)\" x=\"33.1436\" y=\"88.5672\">-0.9</text>\n",
       "</g>\n",
       "<g clip-path=\"url(#clip00)\">\n",
       "<text style=\"fill:#000000; fill-opacity:1; font-family:Arial,Helvetica Neue,Helvetica,sans-serif; font-size:21; text-anchor:middle;\" transform=\"rotate(0, 309.729, 18)\" x=\"309.729\" y=\"18\">Utility function, CRRA</text>\n",
       "</g>\n",
       "<g clip-path=\"url(#clip00)\">\n",
       "<text style=\"fill:#000000; fill-opacity:1; font-family:Arial,Helvetica Neue,Helvetica,sans-serif; font-size:16; text-anchor:middle;\" transform=\"rotate(0, 309.729, 397.6)\" x=\"309.729\" y=\"397.6\">wealth</text>\n",
       "</g>\n",
       "<polyline clip-path=\"url(#clip02)\" style=\"stroke:#ff0000; stroke-width:2; stroke-opacity:1; fill:none\" points=\"\n",
       "  39.1436,360.065 61.6924,339.949 84.2412,320.637 106.79,302.083 129.339,284.242 151.888,267.074 174.436,250.542 196.985,234.612 219.534,219.25 242.083,204.427 \n",
       "  264.632,190.116 287.18,176.289 309.729,162.924 332.278,149.996 354.827,137.486 377.376,125.373 399.925,113.638 422.473,102.265 445.022,91.2359 467.571,80.5363 \n",
       "  490.12,70.1513 512.669,60.0673 535.217,50.2715 557.766,40.7515 580.315,31.4961 \n",
       "  \"/>\n",
       "</svg>\n"
      ]
     },
     "execution_count": 4,
     "metadata": {},
     "output_type": "execute_result"
    }
   ],
   "source": [
    "W = linspace(0.8,1.2,25)\n",
    "\n",
    "\n",
    "plot(W,U(W,2),color=:red,linewidth=2,legend=false)\n",
    "title!(\"Utility function, CRRA\")\n",
    "xlabel!(\"wealth\")"
   ]
  },
  {
   "cell_type": "markdown",
   "metadata": {},
   "source": [
    "# Expected Utility"
   ]
  },
  {
   "cell_type": "markdown",
   "metadata": {},
   "source": [
    "Recall: if $\\pi_s$ is the probability of outcome $W_s$ and there are $S$ possible outcomes, then\n",
    "\n",
    "$\\text{E}W = \\sum\\nolimits_{s=1}^{S} \\pi_{s}W_{s}$ and \n",
    "\n",
    "$\\text{E}U(W) = \\sum\\nolimits_{s=1}^{S} \\pi_{s}U(W_{s})$\n",
    "\n",
    "Concavity of the utility function means that \n",
    "$\\text{E} U(W) < U(\\text{E} W)$"
   ]
  },
  {
   "cell_type": "code",
   "execution_count": 5,
   "metadata": {},
   "outputs": [
    {
     "data": {
      "text/plain": [
       "EU (generic function with 1 method)"
      ]
     },
     "execution_count": 5,
     "metadata": {},
     "output_type": "execute_result"
    }
   ],
   "source": [
    "EU(x,π,k) = sum(π.*U(x,k))               #expected utility"
   ]
  },
  {
   "cell_type": "code",
   "execution_count": 6,
   "metadata": {},
   "outputs": [
    {
     "name": "stdout",
     "output_type": "stream",
     "text": [
      "Possible wealth levels and the corresponding utility\n",
      "     0.850    -1.176\n",
      "     1.150    -0.870\n",
      "\n",
      "Utility at expected value and Expected utility:     -1.000    -1.023\n"
     ]
    }
   ],
   "source": [
    "W₁ = 0.85               #possible outcomes\n",
    "W₂ = 1.15\n",
    "π₁ = 0.5                #probabilities of outcomes \n",
    "π₂ = 1 - π₁\n",
    "\n",
    "xx = [W₁ U(W₁,2);\n",
    "      W₂ U(W₂,2)]\n",
    "println(\"Possible wealth levels and the corresponding utility\")\n",
    "printmat(xx)\n",
    "\n",
    "UtilExpW = U(sum([π₁;π₂].*[W₁;W₂]),2)\n",
    "ExpUtil  = EU([W₁;W₂],[π₁;π₂],2)\n",
    "printlnPs(\"Utility at expected value and Expected utility: \",[UtilExpW ExpUtil])"
   ]
  },
  {
   "cell_type": "code",
   "execution_count": 7,
   "metadata": {},
   "outputs": [
    {
     "data": {
      "text/html": [
       "<?xml version=\"1.0\" encoding=\"utf-8\"?>\n",
       "<svg xmlns=\"http://www.w3.org/2000/svg\" xmlns:xlink=\"http://www.w3.org/1999/xlink\" width=\"600\" height=\"400\" viewBox=\"0 0 600 400\">\n",
       "<defs>\n",
       "  <clipPath id=\"clip00\">\n",
       "    <rect x=\"0\" y=\"0\" width=\"600\" height=\"400\"/>\n",
       "  </clipPath>\n",
       "</defs>\n",
       "<polygon clip-path=\"url(#clip00)\" points=\"\n",
       "0,400 600,400 600,0 0,0 \n",
       "  \" fill=\"#ffffff\" fill-opacity=\"1\"/>\n",
       "<defs>\n",
       "  <clipPath id=\"clip01\">\n",
       "    <rect x=\"120\" y=\"0\" width=\"421\" height=\"400\"/>\n",
       "  </clipPath>\n",
       "</defs>\n",
       "<polygon clip-path=\"url(#clip00)\" points=\"\n",
       "39.1436,360.065 580.315,360.065 580.315,31.4961 39.1436,31.4961 \n",
       "  \" fill=\"#ffffff\" fill-opacity=\"1\"/>\n",
       "<defs>\n",
       "  <clipPath id=\"clip02\">\n",
       "    <rect x=\"39\" y=\"31\" width=\"542\" height=\"330\"/>\n",
       "  </clipPath>\n",
       "</defs>\n",
       "<polyline clip-path=\"url(#clip02)\" style=\"stroke:#000000; stroke-width:0.5; stroke-opacity:0.1; fill:none\" points=\"\n",
       "  54.4598,355.137 54.4598,36.4246 \n",
       "  \"/>\n",
       "<polyline clip-path=\"url(#clip02)\" style=\"stroke:#000000; stroke-width:0.5; stroke-opacity:0.1; fill:none\" points=\"\n",
       "  182.095,355.137 182.095,36.4246 \n",
       "  \"/>\n",
       "<polyline clip-path=\"url(#clip02)\" style=\"stroke:#000000; stroke-width:0.5; stroke-opacity:0.1; fill:none\" points=\"\n",
       "  309.729,355.137 309.729,36.4246 \n",
       "  \"/>\n",
       "<polyline clip-path=\"url(#clip02)\" style=\"stroke:#000000; stroke-width:0.5; stroke-opacity:0.1; fill:none\" points=\"\n",
       "  437.364,355.137 437.364,36.4246 \n",
       "  \"/>\n",
       "<polyline clip-path=\"url(#clip02)\" style=\"stroke:#000000; stroke-width:0.5; stroke-opacity:0.1; fill:none\" points=\"\n",
       "  564.999,355.137 564.999,36.4246 \n",
       "  \"/>\n",
       "<polyline clip-path=\"url(#clip02)\" style=\"stroke:#000000; stroke-width:0.5; stroke-opacity:0.1; fill:none\" points=\"\n",
       "  47.2612,360.065 572.197,360.065 \n",
       "  \"/>\n",
       "<polyline clip-path=\"url(#clip02)\" style=\"stroke:#000000; stroke-width:0.5; stroke-opacity:0.1; fill:none\" points=\"\n",
       "  47.2612,305.304 572.197,305.304 \n",
       "  \"/>\n",
       "<polyline clip-path=\"url(#clip02)\" style=\"stroke:#000000; stroke-width:0.5; stroke-opacity:0.1; fill:none\" points=\"\n",
       "  47.2612,250.542 572.197,250.542 \n",
       "  \"/>\n",
       "<polyline clip-path=\"url(#clip02)\" style=\"stroke:#000000; stroke-width:0.5; stroke-opacity:0.1; fill:none\" points=\"\n",
       "  47.2612,195.781 572.197,195.781 \n",
       "  \"/>\n",
       "<polyline clip-path=\"url(#clip02)\" style=\"stroke:#000000; stroke-width:0.5; stroke-opacity:0.1; fill:none\" points=\"\n",
       "  47.2612,141.019 572.197,141.019 \n",
       "  \"/>\n",
       "<polyline clip-path=\"url(#clip02)\" style=\"stroke:#000000; stroke-width:0.5; stroke-opacity:0.1; fill:none\" points=\"\n",
       "  47.2612,86.2576 572.197,86.2576 \n",
       "  \"/>\n",
       "<polyline clip-path=\"url(#clip02)\" style=\"stroke:#000000; stroke-width:0.5; stroke-opacity:0.1; fill:none\" points=\"\n",
       "  47.2612,31.4961 572.197,31.4961 \n",
       "  \"/>\n",
       "<polyline clip-path=\"url(#clip00)\" style=\"stroke:#000000; stroke-width:1; stroke-opacity:1; fill:none\" points=\"\n",
       "  39.1436,360.065 580.315,360.065 \n",
       "  \"/>\n",
       "<polyline clip-path=\"url(#clip00)\" style=\"stroke:#000000; stroke-width:1; stroke-opacity:1; fill:none\" points=\"\n",
       "  54.4598,360.065 54.4598,355.137 \n",
       "  \"/>\n",
       "<polyline clip-path=\"url(#clip00)\" style=\"stroke:#000000; stroke-width:1; stroke-opacity:1; fill:none\" points=\"\n",
       "  182.095,360.065 182.095,355.137 \n",
       "  \"/>\n",
       "<polyline clip-path=\"url(#clip00)\" style=\"stroke:#000000; stroke-width:1; stroke-opacity:1; fill:none\" points=\"\n",
       "  309.729,360.065 309.729,355.137 \n",
       "  \"/>\n",
       "<polyline clip-path=\"url(#clip00)\" style=\"stroke:#000000; stroke-width:1; stroke-opacity:1; fill:none\" points=\"\n",
       "  437.364,360.065 437.364,355.137 \n",
       "  \"/>\n",
       "<polyline clip-path=\"url(#clip00)\" style=\"stroke:#000000; stroke-width:1; stroke-opacity:1; fill:none\" points=\"\n",
       "  564.999,360.065 564.999,355.137 \n",
       "  \"/>\n",
       "<polyline clip-path=\"url(#clip00)\" style=\"stroke:#000000; stroke-width:1; stroke-opacity:1; fill:none\" points=\"\n",
       "  39.1436,360.065 39.1436,31.4961 \n",
       "  \"/>\n",
       "<polyline clip-path=\"url(#clip00)\" style=\"stroke:#000000; stroke-width:1; stroke-opacity:1; fill:none\" points=\"\n",
       "  39.1436,360.065 47.2612,360.065 \n",
       "  \"/>\n",
       "<polyline clip-path=\"url(#clip00)\" style=\"stroke:#000000; stroke-width:1; stroke-opacity:1; fill:none\" points=\"\n",
       "  39.1436,305.304 47.2612,305.304 \n",
       "  \"/>\n",
       "<polyline clip-path=\"url(#clip00)\" style=\"stroke:#000000; stroke-width:1; stroke-opacity:1; fill:none\" points=\"\n",
       "  39.1436,250.542 47.2612,250.542 \n",
       "  \"/>\n",
       "<polyline clip-path=\"url(#clip00)\" style=\"stroke:#000000; stroke-width:1; stroke-opacity:1; fill:none\" points=\"\n",
       "  39.1436,195.781 47.2612,195.781 \n",
       "  \"/>\n",
       "<polyline clip-path=\"url(#clip00)\" style=\"stroke:#000000; stroke-width:1; stroke-opacity:1; fill:none\" points=\"\n",
       "  39.1436,141.019 47.2612,141.019 \n",
       "  \"/>\n",
       "<polyline clip-path=\"url(#clip00)\" style=\"stroke:#000000; stroke-width:1; stroke-opacity:1; fill:none\" points=\"\n",
       "  39.1436,86.2576 47.2612,86.2576 \n",
       "  \"/>\n",
       "<polyline clip-path=\"url(#clip00)\" style=\"stroke:#000000; stroke-width:1; stroke-opacity:1; fill:none\" points=\"\n",
       "  39.1436,31.4961 47.2612,31.4961 \n",
       "  \"/>\n",
       "<g clip-path=\"url(#clip00)\">\n",
       "<text style=\"fill:#000000; fill-opacity:1; font-family:Arial,Helvetica Neue,Helvetica,sans-serif; font-size:12; text-anchor:middle;\" transform=\"rotate(0, 54.4598, 373.865)\" x=\"54.4598\" y=\"373.865\">0.8</text>\n",
       "</g>\n",
       "<g clip-path=\"url(#clip00)\">\n",
       "<text style=\"fill:#000000; fill-opacity:1; font-family:Arial,Helvetica Neue,Helvetica,sans-serif; font-size:12; text-anchor:middle;\" transform=\"rotate(0, 182.095, 373.865)\" x=\"182.095\" y=\"373.865\">0.9</text>\n",
       "</g>\n",
       "<g clip-path=\"url(#clip00)\">\n",
       "<text style=\"fill:#000000; fill-opacity:1; font-family:Arial,Helvetica Neue,Helvetica,sans-serif; font-size:12; text-anchor:middle;\" transform=\"rotate(0, 309.729, 373.865)\" x=\"309.729\" y=\"373.865\">1.0</text>\n",
       "</g>\n",
       "<g clip-path=\"url(#clip00)\">\n",
       "<text style=\"fill:#000000; fill-opacity:1; font-family:Arial,Helvetica Neue,Helvetica,sans-serif; font-size:12; text-anchor:middle;\" transform=\"rotate(0, 437.364, 373.865)\" x=\"437.364\" y=\"373.865\">1.1</text>\n",
       "</g>\n",
       "<g clip-path=\"url(#clip00)\">\n",
       "<text style=\"fill:#000000; fill-opacity:1; font-family:Arial,Helvetica Neue,Helvetica,sans-serif; font-size:12; text-anchor:middle;\" transform=\"rotate(0, 564.999, 373.865)\" x=\"564.999\" y=\"373.865\">1.2</text>\n",
       "</g>\n",
       "<g clip-path=\"url(#clip00)\">\n",
       "<text style=\"fill:#000000; fill-opacity:1; font-family:Arial,Helvetica Neue,Helvetica,sans-serif; font-size:12; text-anchor:end;\" transform=\"rotate(0, 33.1436, 364.565)\" x=\"33.1436\" y=\"364.565\">-1.3</text>\n",
       "</g>\n",
       "<g clip-path=\"url(#clip00)\">\n",
       "<text style=\"fill:#000000; fill-opacity:1; font-family:Arial,Helvetica Neue,Helvetica,sans-serif; font-size:12; text-anchor:end;\" transform=\"rotate(0, 33.1436, 309.804)\" x=\"33.1436\" y=\"309.804\">-1.2</text>\n",
       "</g>\n",
       "<g clip-path=\"url(#clip00)\">\n",
       "<text style=\"fill:#000000; fill-opacity:1; font-family:Arial,Helvetica Neue,Helvetica,sans-serif; font-size:12; text-anchor:end;\" transform=\"rotate(0, 33.1436, 255.042)\" x=\"33.1436\" y=\"255.042\">-1.1</text>\n",
       "</g>\n",
       "<g clip-path=\"url(#clip00)\">\n",
       "<text style=\"fill:#000000; fill-opacity:1; font-family:Arial,Helvetica Neue,Helvetica,sans-serif; font-size:12; text-anchor:end;\" transform=\"rotate(0, 33.1436, 200.281)\" x=\"33.1436\" y=\"200.281\">-1.0</text>\n",
       "</g>\n",
       "<g clip-path=\"url(#clip00)\">\n",
       "<text style=\"fill:#000000; fill-opacity:1; font-family:Arial,Helvetica Neue,Helvetica,sans-serif; font-size:12; text-anchor:end;\" transform=\"rotate(0, 33.1436, 145.519)\" x=\"33.1436\" y=\"145.519\">-0.9</text>\n",
       "</g>\n",
       "<g clip-path=\"url(#clip00)\">\n",
       "<text style=\"fill:#000000; fill-opacity:1; font-family:Arial,Helvetica Neue,Helvetica,sans-serif; font-size:12; text-anchor:end;\" transform=\"rotate(0, 33.1436, 90.7576)\" x=\"33.1436\" y=\"90.7576\">-0.8</text>\n",
       "</g>\n",
       "<g clip-path=\"url(#clip00)\">\n",
       "<text style=\"fill:#000000; fill-opacity:1; font-family:Arial,Helvetica Neue,Helvetica,sans-serif; font-size:12; text-anchor:end;\" transform=\"rotate(0, 33.1436, 35.9961)\" x=\"33.1436\" y=\"35.9961\">-0.7</text>\n",
       "</g>\n",
       "<g clip-path=\"url(#clip00)\">\n",
       "<text style=\"fill:#000000; fill-opacity:1; font-family:Arial,Helvetica Neue,Helvetica,sans-serif; font-size:21; text-anchor:middle;\" transform=\"rotate(0, 309.729, 18)\" x=\"309.729\" y=\"18\">Utility function, CRRA</text>\n",
       "</g>\n",
       "<g clip-path=\"url(#clip00)\">\n",
       "<text style=\"fill:#000000; fill-opacity:1; font-family:Arial,Helvetica Neue,Helvetica,sans-serif; font-size:16; text-anchor:middle;\" transform=\"rotate(0, 309.729, 397.6)\" x=\"309.729\" y=\"397.6\">wealth</text>\n",
       "</g>\n",
       "<polyline clip-path=\"url(#clip02)\" style=\"stroke:#ff0000; stroke-width:2; stroke-opacity:1; fill:none\" points=\"\n",
       "  54.4598,332.685 75.7322,318.715 97.0047,305.304 118.277,292.419 139.55,280.029 160.822,268.107 182.095,256.627 203.367,245.564 224.639,234.896 245.912,224.603 \n",
       "  267.184,214.664 288.457,205.062 309.729,195.781 331.002,186.803 352.274,178.116 373.547,169.704 394.819,161.555 416.092,153.656 437.364,145.998 458.636,138.567 \n",
       "  479.909,131.355 501.181,124.353 522.454,117.55 543.726,110.939 564.999,104.511 \n",
       "  \"/>\n",
       "<circle clip-path=\"url(#clip02)\" style=\"fill:#000000; stroke:none; fill-opacity:1\" cx=\"118.277\" cy=\"292.419\" r=\"4\"/>\n",
       "<circle clip-path=\"url(#clip02)\" style=\"fill:#008000; stroke:none; fill-opacity:1\" cx=\"118.277\" cy=\"292.419\" r=\"3\"/>\n",
       "<circle clip-path=\"url(#clip02)\" style=\"fill:#000000; stroke:none; fill-opacity:1\" cx=\"501.181\" cy=\"124.353\" r=\"4\"/>\n",
       "<circle clip-path=\"url(#clip02)\" style=\"fill:#008000; stroke:none; fill-opacity:1\" cx=\"501.181\" cy=\"124.353\" r=\"3\"/>\n",
       "<polygon clip-path=\"url(#clip02)\" style=\"fill:#000000; fill-opacity:1\" points=\"\n",
       "  304.729,203.386 304.729,213.386 314.729,213.386 314.729,203.386 304.729,203.386 \n",
       "  \"/>\n",
       "<polygon clip-path=\"url(#clip02)\" style=\"fill:#0000ff; fill-opacity:1\" points=\"\n",
       "  305.729,204.386 305.729,212.386 313.729,212.386 313.729,204.386 305.729,204.386 \n",
       "  \"/>\n",
       "<polygon clip-path=\"url(#clip00)\" points=\"\n",
       "404.17,112.856 562.315,112.856 562.315,52.3761 404.17,52.3761 \n",
       "  \" fill=\"#ffffff\" fill-opacity=\"1\"/>\n",
       "<polyline clip-path=\"url(#clip00)\" style=\"stroke:#000000; stroke-width:1; stroke-opacity:1; fill:none\" points=\"\n",
       "  404.17,112.856 562.315,112.856 562.315,52.3761 404.17,52.3761 404.17,112.856 \n",
       "  \"/>\n",
       "<polyline clip-path=\"url(#clip00)\" style=\"stroke:#ff0000; stroke-width:2; stroke-opacity:1; fill:none\" points=\"\n",
       "  410.17,67.4961 446.17,67.4961 \n",
       "  \"/>\n",
       "<g clip-path=\"url(#clip00)\">\n",
       "<text style=\"fill:#000000; fill-opacity:1; font-family:Arial,Helvetica Neue,Helvetica,sans-serif; font-size:12; text-anchor:start;\" transform=\"rotate(0, 452.17, 71.9961)\" x=\"452.17\" y=\"71.9961\">Utility fn</text>\n",
       "</g>\n",
       "<circle clip-path=\"url(#clip00)\" style=\"fill:#000000; stroke:none; fill-opacity:1\" cx=\"431.17\" cy=\"82.6161\" r=\"6\"/>\n",
       "<circle clip-path=\"url(#clip00)\" style=\"fill:#008000; stroke:none; fill-opacity:1\" cx=\"431.17\" cy=\"82.6161\" r=\"5\"/>\n",
       "<g clip-path=\"url(#clip00)\">\n",
       "<text style=\"fill:#000000; fill-opacity:1; font-family:Arial,Helvetica Neue,Helvetica,sans-serif; font-size:12; text-anchor:start;\" transform=\"rotate(0, 452.17, 87.1161)\" x=\"452.17\" y=\"87.1161\">possible outcomes</text>\n",
       "</g>\n",
       "<polygon clip-path=\"url(#clip00)\" style=\"fill:#000000; fill-opacity:1\" points=\"\n",
       "  424.17,90.7361 424.17,104.736 438.17,104.736 438.17,90.7361 424.17,90.7361 \n",
       "  \"/>\n",
       "<polygon clip-path=\"url(#clip00)\" style=\"fill:#0000ff; fill-opacity:1\" points=\"\n",
       "  425.17,91.7361 425.17,103.736 437.17,103.736 437.17,91.7361 425.17,91.7361 \n",
       "  \"/>\n",
       "<g clip-path=\"url(#clip00)\">\n",
       "<text style=\"fill:#000000; fill-opacity:1; font-family:Arial,Helvetica Neue,Helvetica,sans-serif; font-size:12; text-anchor:start;\" transform=\"rotate(0, 452.17, 102.236)\" x=\"452.17\" y=\"102.236\">Expected utility</text>\n",
       "</g>\n",
       "</svg>\n"
      ]
     },
     "execution_count": 7,
     "metadata": {},
     "output_type": "execute_result"
    }
   ],
   "source": [
    "plot(W,U(W,2),color=:red,linewidth=2,label=\"Utility fn\")\n",
    "scatter!([W₁;W₂],U([W₁;W₂],2),color=:green,label=\"possible outcomes\")\n",
    "scatter!([1.0],[ExpUtil],color=:blue,marker=:rect,label=\"Expected utility\")\n",
    "plot!(ylims=(-1.3,-0.7))\n",
    "title!(\"Utility function, CRRA\")\n",
    "xlabel!(\"wealth\")\n",
    "ylabel!(\"\")"
   ]
  },
  {
   "cell_type": "markdown",
   "metadata": {},
   "source": [
    "# Certainty Equivalent"
   ]
  },
  {
   "cell_type": "markdown",
   "metadata": {},
   "source": [
    "Recall: the certainty equivalent (here denoted $P$) is the sure (non-stochastic) value that solves \n",
    "\n",
    "$U(P) = \\text{E}U(W)$\n",
    "\n",
    "The code below solves for $P$ by a numerial search (actually, we could do it analytically in this case). This is applied to different values of risk aversion.\n",
    "\n",
    "Notice that the expected wealth level is 1."
   ]
  },
  {
   "cell_type": "code",
   "execution_count": 8,
   "metadata": {
    "collapsed": true
   },
   "outputs": [],
   "source": [
    "using Roots"
   ]
  },
  {
   "cell_type": "code",
   "execution_count": 9,
   "metadata": {},
   "outputs": [
    {
     "name": "stdout",
     "output_type": "stream",
     "text": [
      "risk aversion and certainly equivalent of process with equal probs of 0.85 and 1.15\n",
      "     0.000     1.000\n",
      "     2.000     0.978\n",
      "     5.000     0.947\n",
      "    10.000     0.912\n",
      "    25.000     0.875\n"
     ]
    }
   ],
   "source": [
    "println(\"risk aversion and certainly equivalent of process with equal probs of $W₁ and $W₂\")\n",
    "kM = [0.0001;2;5;10;25]\n",
    "for k in kM\n",
    "    ceq = fzero(P->EU([W₁;W₂],[π₁;π₂],k) - P^(1-k)/(1-k),[0.5,1.5])\n",
    "    printlnPs([k ceq])\n",
    "end"
   ]
  },
  {
   "cell_type": "markdown",
   "metadata": {},
   "source": [
    "# Portfolio Choice with One Risky Asset"
   ]
  },
  {
   "cell_type": "markdown",
   "metadata": {},
   "source": [
    "Recall: the investor solves $\\max\\nolimits_{v}\\text{E}\\ln R_{p}\\text{, with }R_{p}=vR_{1} + (1-v)R_{f}$\n",
    "\n",
    "In the example below, there are two possible outcomes for $R_{1}$ (-0.2 and 0.5) with equal probabilities"
   ]
  },
  {
   "cell_type": "code",
   "execution_count": 10,
   "metadata": {},
   "outputs": [
    {
     "data": {
      "text/plain": [
       "EUc (generic function with 1 method)"
      ]
     },
     "execution_count": 10,
     "metadata": {},
     "output_type": "execute_result"
    }
   ],
   "source": [
    "function EUc(v,π,Re,Rf)             #expected utility, utility fn is logarithmic\n",
    "    R = Re + Rf\n",
    "    Rp = v*R + (1-v)*Rf             #portfolio return\n",
    "    EU = sum(π .* log.(1+Rp))        #expected utility\n",
    "    return EU\n",
    "end"
   ]
  },
  {
   "cell_type": "code",
   "execution_count": 11,
   "metadata": {
    "collapsed": true
   },
   "outputs": [],
   "source": [
    "v = linspace(-1,1,101)\n",
    "L = length(v)\n",
    "EUv = fill(NaN,L)\n",
    "for i = 1:L\n",
    "    EUv[i] = EUc(v[i],[0.5;0.5],[-0.3;0.4],0.1)\n",
    "end"
   ]
  },
  {
   "cell_type": "code",
   "execution_count": 12,
   "metadata": {},
   "outputs": [
    {
     "data": {
      "text/html": [
       "<?xml version=\"1.0\" encoding=\"utf-8\"?>\n",
       "<svg xmlns=\"http://www.w3.org/2000/svg\" xmlns:xlink=\"http://www.w3.org/1999/xlink\" width=\"600\" height=\"400\" viewBox=\"0 0 600 400\">\n",
       "<defs>\n",
       "  <clipPath id=\"clip00\">\n",
       "    <rect x=\"0\" y=\"0\" width=\"600\" height=\"400\"/>\n",
       "  </clipPath>\n",
       "</defs>\n",
       "<polygon clip-path=\"url(#clip00)\" points=\"\n",
       "0,400 600,400 600,0 0,0 \n",
       "  \" fill=\"#ffffff\" fill-opacity=\"1\"/>\n",
       "<defs>\n",
       "  <clipPath id=\"clip01\">\n",
       "    <rect x=\"120\" y=\"0\" width=\"421\" height=\"400\"/>\n",
       "  </clipPath>\n",
       "</defs>\n",
       "<polygon clip-path=\"url(#clip00)\" points=\"\n",
       "45.4014,360.065 580.315,360.065 580.315,31.4961 45.4014,31.4961 \n",
       "  \" fill=\"#ffffff\" fill-opacity=\"1\"/>\n",
       "<defs>\n",
       "  <clipPath id=\"clip02\">\n",
       "    <rect x=\"45\" y=\"31\" width=\"536\" height=\"330\"/>\n",
       "  </clipPath>\n",
       "</defs>\n",
       "<polyline clip-path=\"url(#clip02)\" style=\"stroke:#000000; stroke-width:0.5; stroke-opacity:0.1; fill:none\" points=\"\n",
       "  45.4014,355.137 45.4014,36.4246 \n",
       "  \"/>\n",
       "<polyline clip-path=\"url(#clip02)\" style=\"stroke:#000000; stroke-width:0.5; stroke-opacity:0.1; fill:none\" points=\"\n",
       "  179.13,355.137 179.13,36.4246 \n",
       "  \"/>\n",
       "<polyline clip-path=\"url(#clip02)\" style=\"stroke:#000000; stroke-width:0.5; stroke-opacity:0.1; fill:none\" points=\"\n",
       "  312.858,355.137 312.858,36.4246 \n",
       "  \"/>\n",
       "<polyline clip-path=\"url(#clip02)\" style=\"stroke:#000000; stroke-width:0.5; stroke-opacity:0.1; fill:none\" points=\"\n",
       "  446.587,355.137 446.587,36.4246 \n",
       "  \"/>\n",
       "<polyline clip-path=\"url(#clip02)\" style=\"stroke:#000000; stroke-width:0.5; stroke-opacity:0.1; fill:none\" points=\"\n",
       "  580.315,355.137 580.315,36.4246 \n",
       "  \"/>\n",
       "<polyline clip-path=\"url(#clip02)\" style=\"stroke:#000000; stroke-width:0.5; stroke-opacity:0.1; fill:none\" points=\"\n",
       "  53.4251,331.384 572.291,331.384 \n",
       "  \"/>\n",
       "<polyline clip-path=\"url(#clip02)\" style=\"stroke:#000000; stroke-width:0.5; stroke-opacity:0.1; fill:none\" points=\"\n",
       "  53.4251,260.401 572.291,260.401 \n",
       "  \"/>\n",
       "<polyline clip-path=\"url(#clip02)\" style=\"stroke:#000000; stroke-width:0.5; stroke-opacity:0.1; fill:none\" points=\"\n",
       "  53.4251,189.418 572.291,189.418 \n",
       "  \"/>\n",
       "<polyline clip-path=\"url(#clip02)\" style=\"stroke:#000000; stroke-width:0.5; stroke-opacity:0.1; fill:none\" points=\"\n",
       "  53.4251,118.435 572.291,118.435 \n",
       "  \"/>\n",
       "<polyline clip-path=\"url(#clip02)\" style=\"stroke:#000000; stroke-width:0.5; stroke-opacity:0.1; fill:none\" points=\"\n",
       "  53.4251,47.4522 572.291,47.4522 \n",
       "  \"/>\n",
       "<polyline clip-path=\"url(#clip00)\" style=\"stroke:#000000; stroke-width:1; stroke-opacity:1; fill:none\" points=\"\n",
       "  45.4014,360.065 580.315,360.065 \n",
       "  \"/>\n",
       "<polyline clip-path=\"url(#clip00)\" style=\"stroke:#000000; stroke-width:1; stroke-opacity:1; fill:none\" points=\"\n",
       "  45.4014,360.065 45.4014,355.137 \n",
       "  \"/>\n",
       "<polyline clip-path=\"url(#clip00)\" style=\"stroke:#000000; stroke-width:1; stroke-opacity:1; fill:none\" points=\"\n",
       "  179.13,360.065 179.13,355.137 \n",
       "  \"/>\n",
       "<polyline clip-path=\"url(#clip00)\" style=\"stroke:#000000; stroke-width:1; stroke-opacity:1; fill:none\" points=\"\n",
       "  312.858,360.065 312.858,355.137 \n",
       "  \"/>\n",
       "<polyline clip-path=\"url(#clip00)\" style=\"stroke:#000000; stroke-width:1; stroke-opacity:1; fill:none\" points=\"\n",
       "  446.587,360.065 446.587,355.137 \n",
       "  \"/>\n",
       "<polyline clip-path=\"url(#clip00)\" style=\"stroke:#000000; stroke-width:1; stroke-opacity:1; fill:none\" points=\"\n",
       "  580.315,360.065 580.315,355.137 \n",
       "  \"/>\n",
       "<polyline clip-path=\"url(#clip00)\" style=\"stroke:#000000; stroke-width:1; stroke-opacity:1; fill:none\" points=\"\n",
       "  45.4014,360.065 45.4014,31.4961 \n",
       "  \"/>\n",
       "<polyline clip-path=\"url(#clip00)\" style=\"stroke:#000000; stroke-width:1; stroke-opacity:1; fill:none\" points=\"\n",
       "  45.4014,331.384 53.4251,331.384 \n",
       "  \"/>\n",
       "<polyline clip-path=\"url(#clip00)\" style=\"stroke:#000000; stroke-width:1; stroke-opacity:1; fill:none\" points=\"\n",
       "  45.4014,260.401 53.4251,260.401 \n",
       "  \"/>\n",
       "<polyline clip-path=\"url(#clip00)\" style=\"stroke:#000000; stroke-width:1; stroke-opacity:1; fill:none\" points=\"\n",
       "  45.4014,189.418 53.4251,189.418 \n",
       "  \"/>\n",
       "<polyline clip-path=\"url(#clip00)\" style=\"stroke:#000000; stroke-width:1; stroke-opacity:1; fill:none\" points=\"\n",
       "  45.4014,118.435 53.4251,118.435 \n",
       "  \"/>\n",
       "<polyline clip-path=\"url(#clip00)\" style=\"stroke:#000000; stroke-width:1; stroke-opacity:1; fill:none\" points=\"\n",
       "  45.4014,47.4522 53.4251,47.4522 \n",
       "  \"/>\n",
       "<g clip-path=\"url(#clip00)\">\n",
       "<text style=\"fill:#000000; fill-opacity:1; font-family:Arial,Helvetica Neue,Helvetica,sans-serif; font-size:12; text-anchor:middle;\" transform=\"rotate(0, 45.4014, 373.865)\" x=\"45.4014\" y=\"373.865\">-1.0</text>\n",
       "</g>\n",
       "<g clip-path=\"url(#clip00)\">\n",
       "<text style=\"fill:#000000; fill-opacity:1; font-family:Arial,Helvetica Neue,Helvetica,sans-serif; font-size:12; text-anchor:middle;\" transform=\"rotate(0, 179.13, 373.865)\" x=\"179.13\" y=\"373.865\">-0.5</text>\n",
       "</g>\n",
       "<g clip-path=\"url(#clip00)\">\n",
       "<text style=\"fill:#000000; fill-opacity:1; font-family:Arial,Helvetica Neue,Helvetica,sans-serif; font-size:12; text-anchor:middle;\" transform=\"rotate(0, 312.858, 373.865)\" x=\"312.858\" y=\"373.865\">0.0</text>\n",
       "</g>\n",
       "<g clip-path=\"url(#clip00)\">\n",
       "<text style=\"fill:#000000; fill-opacity:1; font-family:Arial,Helvetica Neue,Helvetica,sans-serif; font-size:12; text-anchor:middle;\" transform=\"rotate(0, 446.587, 373.865)\" x=\"446.587\" y=\"373.865\">0.5</text>\n",
       "</g>\n",
       "<g clip-path=\"url(#clip00)\">\n",
       "<text style=\"fill:#000000; fill-opacity:1; font-family:Arial,Helvetica Neue,Helvetica,sans-serif; font-size:12; text-anchor:middle;\" transform=\"rotate(0, 580.315, 373.865)\" x=\"580.315\" y=\"373.865\">1.0</text>\n",
       "</g>\n",
       "<g clip-path=\"url(#clip00)\">\n",
       "<text style=\"fill:#000000; fill-opacity:1; font-family:Arial,Helvetica Neue,Helvetica,sans-serif; font-size:12; text-anchor:end;\" transform=\"rotate(0, 39.4014, 335.884)\" x=\"39.4014\" y=\"335.884\">0.000</text>\n",
       "</g>\n",
       "<g clip-path=\"url(#clip00)\">\n",
       "<text style=\"fill:#000000; fill-opacity:1; font-family:Arial,Helvetica Neue,Helvetica,sans-serif; font-size:12; text-anchor:end;\" transform=\"rotate(0, 39.4014, 264.901)\" x=\"39.4014\" y=\"264.901\">0.025</text>\n",
       "</g>\n",
       "<g clip-path=\"url(#clip00)\">\n",
       "<text style=\"fill:#000000; fill-opacity:1; font-family:Arial,Helvetica Neue,Helvetica,sans-serif; font-size:12; text-anchor:end;\" transform=\"rotate(0, 39.4014, 193.918)\" x=\"39.4014\" y=\"193.918\">0.050</text>\n",
       "</g>\n",
       "<g clip-path=\"url(#clip00)\">\n",
       "<text style=\"fill:#000000; fill-opacity:1; font-family:Arial,Helvetica Neue,Helvetica,sans-serif; font-size:12; text-anchor:end;\" transform=\"rotate(0, 39.4014, 122.935)\" x=\"39.4014\" y=\"122.935\">0.075</text>\n",
       "</g>\n",
       "<g clip-path=\"url(#clip00)\">\n",
       "<text style=\"fill:#000000; fill-opacity:1; font-family:Arial,Helvetica Neue,Helvetica,sans-serif; font-size:12; text-anchor:end;\" transform=\"rotate(0, 39.4014, 51.9522)\" x=\"39.4014\" y=\"51.9522\">0.100</text>\n",
       "</g>\n",
       "<g clip-path=\"url(#clip00)\">\n",
       "<text style=\"fill:#000000; fill-opacity:1; font-family:Arial,Helvetica Neue,Helvetica,sans-serif; font-size:21; text-anchor:middle;\" transform=\"rotate(0, 312.858, 18)\" x=\"312.858\" y=\"18\">Expected Utility</text>\n",
       "</g>\n",
       "<g clip-path=\"url(#clip00)\">\n",
       "<text style=\"fill:#000000; fill-opacity:1; font-family:Arial,Helvetica Neue,Helvetica,sans-serif; font-size:16; text-anchor:middle;\" transform=\"rotate(0, 312.858, 397.6)\" x=\"312.858\" y=\"397.6\">weight on risky asset</text>\n",
       "</g>\n",
       "<polyline clip-path=\"url(#clip02)\" style=\"stroke:#ff0000; stroke-width:2; stroke-opacity:1; fill:none\" points=\"\n",
       "  45.4014,360.065 50.7505,350.03 56.0996,340.202 61.4488,330.578 66.7979,321.154 72.147,311.927 77.4962,302.893 82.8453,294.049 88.1945,285.391 93.5436,276.917 \n",
       "  98.8927,268.624 104.242,260.508 109.591,252.568 114.94,244.8 120.289,237.201 125.638,229.77 130.988,222.504 136.337,215.401 141.686,208.458 147.035,201.673 \n",
       "  152.384,195.044 157.733,188.569 163.082,182.247 168.431,176.074 173.781,170.05 179.13,164.172 184.479,158.44 189.828,152.85 195.177,147.402 200.526,142.095 \n",
       "  205.875,136.926 211.225,131.894 216.574,126.998 221.923,122.236 227.272,117.607 232.621,113.111 237.97,108.745 243.319,104.508 248.669,100.4 254.018,96.4196 \n",
       "  259.367,92.5653 264.716,88.8362 270.065,85.2316 275.414,81.7503 280.763,78.3917 286.112,75.1547 291.462,72.0386 296.811,69.0426 302.16,66.166 307.509,63.4081 \n",
       "  312.858,60.7681 318.207,58.2454 323.556,55.8395 328.906,53.5497 334.255,51.3755 339.604,49.3163 344.953,47.3717 350.302,45.5412 355.651,43.8243 361,42.2206 \n",
       "  366.35,40.7299 371.699,39.3516 377.048,38.0855 382.397,36.9313 387.746,35.8887 393.095,34.9575 398.444,34.1374 403.793,33.4283 409.143,32.8299 414.492,32.3422 \n",
       "  419.841,31.9651 425.19,31.6984 430.539,31.542 435.888,31.4961 441.237,31.5604 446.587,31.7351 451.936,32.0203 457.285,32.4158 462.634,32.9219 467.983,33.5387 \n",
       "  473.332,34.2664 478.681,35.1049 484.031,36.0547 489.38,37.1159 494.729,38.2887 500.078,39.5735 505.427,40.9705 510.776,42.4801 516.125,44.1026 521.474,45.8383 \n",
       "  526.824,47.6879 532.173,49.6515 537.522,51.7299 542.871,53.9233 548.22,56.2324 553.569,58.6578 558.918,61.1999 564.268,63.8595 569.617,66.6372 574.966,69.5336 \n",
       "  580.315,72.5496 \n",
       "  \"/>\n",
       "</svg>\n"
      ]
     },
     "execution_count": 12,
     "metadata": {},
     "output_type": "execute_result"
    }
   ],
   "source": [
    "    \n",
    "plot(v,EUv,color=:red,linewidth=2,legend=false)\n",
    "title!(\"Expected Utility\")\n",
    "xlabel!(\"weight on risky asset\")"
   ]
  },
  {
   "cell_type": "markdown",
   "metadata": {},
   "source": [
    "Notice that this problem can be solved by pen and paper, but it \n",
    "becomes very difficult when the number of states increase --- and even worse when there are many assets. We therefore apply a numerical optimization algorithm."
   ]
  },
  {
   "cell_type": "code",
   "execution_count": 13,
   "metadata": {
    "collapsed": true
   },
   "outputs": [],
   "source": [
    "using Optim          #minimization routines"
   ]
  },
  {
   "cell_type": "code",
   "execution_count": 14,
   "metadata": {},
   "outputs": [
    {
     "name": "stdout",
     "output_type": "stream",
     "text": [
      "argmin -EUc():      0.458\n",
      "Compare with the figure\n"
     ]
    }
   ],
   "source": [
    "#minimize -EU()\n",
    "Sol = optimize(v-> -EUc(v,[0.5;0.5],[-0.3;0.4],0.1),-1,1)   #try v values between -1 and 1\n",
    "printlnPs(\"argmin -EUc(): \",Optim.minimizer(Sol))\n",
    "\n",
    "println(\"Compare with the figure\")"
   ]
  },
  {
   "cell_type": "markdown",
   "metadata": {},
   "source": [
    "# Portfolio Choice with Several Risky Assets"
   ]
  },
  {
   "cell_type": "markdown",
   "metadata": {},
   "source": [
    "This optimization problem has two risky assets and a general CRRA utility function. Numerical optimization is still easy."
   ]
  },
  {
   "cell_type": "code",
   "execution_count": 15,
   "metadata": {},
   "outputs": [
    {
     "data": {
      "text/plain": [
       "EUe (generic function with 1 method)"
      ]
     },
     "execution_count": 15,
     "metadata": {},
     "output_type": "execute_result"
    }
   ],
   "source": [
    "function EUe(v,π,R,Rf,γ)\n",
    "    Rp = v'R + (1-sum(v))*Rf            #portfolio return, row vector (different states)\n",
    "    Rp = vec(Rp)                        #turn Rp into a column vector\n",
    "    EU = sum(π .* (1+Rp).^(1-γ)/(1-γ))  #expected utility\n",
    "    EUNeg = -EU                         #since optimize() minimizes\n",
    "    return EUNeg\n",
    "end"
   ]
  },
  {
   "cell_type": "code",
   "execution_count": 16,
   "metadata": {},
   "outputs": [
    {
     "name": "stdout",
     "output_type": "stream",
     "text": [
      "optimal weights from max EUe():     -0.725     1.316\n"
     ]
    }
   ],
   "source": [
    "ROutComes = [-0.03 0.08 0.20;           #2 assets, 3 states\n",
    "             -0.04 0.22 0.15]           #cell[i,j] is asset i in state j\n",
    "π = [1/3;1/3;1/3]\n",
    "Sol = optimize(v->EUe(v,π,ROutComes,0.065,5),[-0.6;1.2])         \n",
    "printlnPs(\"optimal weights from max EUe(): \",Optim.minimizer(Sol))"
   ]
  },
  {
   "cell_type": "markdown",
   "metadata": {},
   "source": [
    "# From Chapter on Mean-Variance Analysis"
   ]
  },
  {
   "cell_type": "code",
   "execution_count": 17,
   "metadata": {},
   "outputs": [
    {
     "data": {
      "text/plain": [
       "MVCalcRf (generic function with 1 method)"
      ]
     },
     "execution_count": 17,
     "metadata": {},
     "output_type": "execute_result"
    }
   ],
   "source": [
    "function MVCalc(mustar,μ,Σ)           #calculates the std of a portfolio on MVF of risky assets\n",
    "    n    = length(μ)\n",
    "    oneV = ones(n) \n",
    "    Σ_1  = inv(Σ)\n",
    "    A    = μ'Σ_1*μ\n",
    "    B    = μ'Σ_1*oneV\n",
    "    C    = oneV'Σ_1*oneV\n",
    "    λ    = (C*mustar - B)/(A*C-B^2)\n",
    "    δ    = (A-B*mustar)/(A*C-B^2)\n",
    "    w    = Σ_1 *(μ*λ + oneV*δ)\n",
    "    StdRp = sqrt(w'Σ*w)\n",
    "    return StdRp,w\n",
    "end\n",
    "\n",
    "function MVCalcRf(mustar,μ,Σ,Rf)           #calculates the std of a portfolio on MVF\n",
    "    n   = length(μ)\n",
    "    μe  = μ - Rf              #excess returns            \n",
    "    Σ_1 = inv(Σ)\n",
    "    w   = (mustar-Rf)/(μe'Σ_1*μe) .* Σ_1*μe\n",
    "    StdRp = sqrt(w'Σ*w)\n",
    "    return StdRp,w\n",
    "end"
   ]
  },
  {
   "cell_type": "markdown",
   "metadata": {},
   "source": [
    "# Mean-Variance and the Telser Criterion"
   ]
  },
  {
   "cell_type": "markdown",
   "metadata": {},
   "source": [
    "Let $\\mu$ be a vector of expected returns and $\\Sigma$ be the covariance matrix of the investible asssets.\n",
    "\n",
    "The Telser criterion solves the problem\n",
    "\n",
    "$\\max_{v} \\mu_{p} \\> \\text{ subject to} \\>  \\text{VaR}_{95\\%} < 0.1$,\n",
    "\n",
    "where $\\mu_{p} = v'\\mu+(1-v)R_f$ is the expected portfolio return.\n",
    "\n",
    "If the returns are normally distributed then \n",
    "\n",
    "$\\text{VaR}_{95\\%} = -(\\mu_p - 1.64\\sigma_p)$,\n",
    "\n",
    "where $\\sigma_p = \\sqrt{v'\\Sigma v}$ is the standard deviation of the portfolio return.\n",
    "\n",
    "The figure below illustrates that the optimal portfolio is on the CLM (when the returns are normally distributed)"
   ]
  },
  {
   "cell_type": "code",
   "execution_count": 18,
   "metadata": {},
   "outputs": [
    {
     "name": "stdout",
     "output_type": "stream",
     "text": [
      "let's plot it\n"
     ]
    }
   ],
   "source": [
    "μ = [9; 6]/100                     #means\n",
    "Σ = [ 256  0;\n",
    "      0    144]/10000\n",
    "Rf = 1/100\n",
    "\n",
    "mustar  = linspace(Rf,0.1,101)\n",
    "L       = length(mustar)\n",
    "StdRp   = fill(NaN,L)\n",
    "StdRpRf = fill(NaN,L)\n",
    "for i = 1:L\n",
    "    StdRp[i]   = MVCalc(mustar[i],μ,Σ)[1]\n",
    "    StdRpRf[i] = MVCalcRf(mustar[i],μ,Σ,Rf)[1]\n",
    "end   \n",
    "\n",
    "VaRRestr = -0.1 + 1.64*StdRpRf\n",
    "\n",
    "println(\"let's plot it\")"
   ]
  },
  {
   "cell_type": "code",
   "execution_count": 19,
   "metadata": {},
   "outputs": [
    {
     "data": {
      "text/html": [
       "<?xml version=\"1.0\" encoding=\"utf-8\"?>\n",
       "<svg xmlns=\"http://www.w3.org/2000/svg\" xmlns:xlink=\"http://www.w3.org/1999/xlink\" width=\"600\" height=\"400\" viewBox=\"0 0 600 400\">\n",
       "<defs>\n",
       "  <clipPath id=\"clip00\">\n",
       "    <rect x=\"0\" y=\"0\" width=\"600\" height=\"400\"/>\n",
       "  </clipPath>\n",
       "</defs>\n",
       "<polygon clip-path=\"url(#clip00)\" points=\"\n",
       "0,400 600,400 600,0 0,0 \n",
       "  \" fill=\"#ffffff\" fill-opacity=\"1\"/>\n",
       "<defs>\n",
       "  <clipPath id=\"clip01\">\n",
       "    <rect x=\"120\" y=\"0\" width=\"421\" height=\"400\"/>\n",
       "  </clipPath>\n",
       "</defs>\n",
       "<polygon clip-path=\"url(#clip00)\" points=\"\n",
       "44.6753,360.065 580.315,360.065 580.315,31.4961 44.6753,31.4961 \n",
       "  \" fill=\"#ffffff\" fill-opacity=\"1\"/>\n",
       "<defs>\n",
       "  <clipPath id=\"clip02\">\n",
       "    <rect x=\"44\" y=\"31\" width=\"537\" height=\"330\"/>\n",
       "  </clipPath>\n",
       "</defs>\n",
       "<polyline clip-path=\"url(#clip02)\" style=\"stroke:#000000; stroke-width:0.5; stroke-opacity:0.1; fill:none\" points=\"\n",
       "  44.6753,355.137 44.6753,36.4246 \n",
       "  \"/>\n",
       "<polyline clip-path=\"url(#clip02)\" style=\"stroke:#000000; stroke-width:0.5; stroke-opacity:0.1; fill:none\" points=\"\n",
       "  223.222,355.137 223.222,36.4246 \n",
       "  \"/>\n",
       "<polyline clip-path=\"url(#clip02)\" style=\"stroke:#000000; stroke-width:0.5; stroke-opacity:0.1; fill:none\" points=\"\n",
       "  401.768,355.137 401.768,36.4246 \n",
       "  \"/>\n",
       "<polyline clip-path=\"url(#clip02)\" style=\"stroke:#000000; stroke-width:0.5; stroke-opacity:0.1; fill:none\" points=\"\n",
       "  580.315,355.137 580.315,36.4246 \n",
       "  \"/>\n",
       "<polyline clip-path=\"url(#clip02)\" style=\"stroke:#000000; stroke-width:0.5; stroke-opacity:0.1; fill:none\" points=\"\n",
       "  52.7099,360.065 572.28,360.065 \n",
       "  \"/>\n",
       "<polyline clip-path=\"url(#clip02)\" style=\"stroke:#000000; stroke-width:0.5; stroke-opacity:0.1; fill:none\" points=\"\n",
       "  52.7099,250.542 572.28,250.542 \n",
       "  \"/>\n",
       "<polyline clip-path=\"url(#clip02)\" style=\"stroke:#000000; stroke-width:0.5; stroke-opacity:0.1; fill:none\" points=\"\n",
       "  52.7099,141.019 572.28,141.019 \n",
       "  \"/>\n",
       "<polyline clip-path=\"url(#clip02)\" style=\"stroke:#000000; stroke-width:0.5; stroke-opacity:0.1; fill:none\" points=\"\n",
       "  52.7099,31.4961 572.28,31.4961 \n",
       "  \"/>\n",
       "<polyline clip-path=\"url(#clip00)\" style=\"stroke:#000000; stroke-width:1; stroke-opacity:1; fill:none\" points=\"\n",
       "  44.6753,360.065 580.315,360.065 \n",
       "  \"/>\n",
       "<polyline clip-path=\"url(#clip00)\" style=\"stroke:#000000; stroke-width:1; stroke-opacity:1; fill:none\" points=\"\n",
       "  44.6753,360.065 44.6753,355.137 \n",
       "  \"/>\n",
       "<polyline clip-path=\"url(#clip00)\" style=\"stroke:#000000; stroke-width:1; stroke-opacity:1; fill:none\" points=\"\n",
       "  223.222,360.065 223.222,355.137 \n",
       "  \"/>\n",
       "<polyline clip-path=\"url(#clip00)\" style=\"stroke:#000000; stroke-width:1; stroke-opacity:1; fill:none\" points=\"\n",
       "  401.768,360.065 401.768,355.137 \n",
       "  \"/>\n",
       "<polyline clip-path=\"url(#clip00)\" style=\"stroke:#000000; stroke-width:1; stroke-opacity:1; fill:none\" points=\"\n",
       "  580.315,360.065 580.315,355.137 \n",
       "  \"/>\n",
       "<polyline clip-path=\"url(#clip00)\" style=\"stroke:#000000; stroke-width:1; stroke-opacity:1; fill:none\" points=\"\n",
       "  44.6753,360.065 44.6753,31.4961 \n",
       "  \"/>\n",
       "<polyline clip-path=\"url(#clip00)\" style=\"stroke:#000000; stroke-width:1; stroke-opacity:1; fill:none\" points=\"\n",
       "  44.6753,360.065 52.7099,360.065 \n",
       "  \"/>\n",
       "<polyline clip-path=\"url(#clip00)\" style=\"stroke:#000000; stroke-width:1; stroke-opacity:1; fill:none\" points=\"\n",
       "  44.6753,250.542 52.7099,250.542 \n",
       "  \"/>\n",
       "<polyline clip-path=\"url(#clip00)\" style=\"stroke:#000000; stroke-width:1; stroke-opacity:1; fill:none\" points=\"\n",
       "  44.6753,141.019 52.7099,141.019 \n",
       "  \"/>\n",
       "<polyline clip-path=\"url(#clip00)\" style=\"stroke:#000000; stroke-width:1; stroke-opacity:1; fill:none\" points=\"\n",
       "  44.6753,31.4961 52.7099,31.4961 \n",
       "  \"/>\n",
       "<g clip-path=\"url(#clip00)\">\n",
       "<text style=\"fill:#000000; fill-opacity:1; font-family:Arial,Helvetica Neue,Helvetica,sans-serif; font-size:12; text-anchor:middle;\" transform=\"rotate(0, 44.6753, 373.865)\" x=\"44.6753\" y=\"373.865\">0</text>\n",
       "</g>\n",
       "<g clip-path=\"url(#clip00)\">\n",
       "<text style=\"fill:#000000; fill-opacity:1; font-family:Arial,Helvetica Neue,Helvetica,sans-serif; font-size:12; text-anchor:middle;\" transform=\"rotate(0, 223.222, 373.865)\" x=\"223.222\" y=\"373.865\">5</text>\n",
       "</g>\n",
       "<g clip-path=\"url(#clip00)\">\n",
       "<text style=\"fill:#000000; fill-opacity:1; font-family:Arial,Helvetica Neue,Helvetica,sans-serif; font-size:12; text-anchor:middle;\" transform=\"rotate(0, 401.768, 373.865)\" x=\"401.768\" y=\"373.865\">10</text>\n",
       "</g>\n",
       "<g clip-path=\"url(#clip00)\">\n",
       "<text style=\"fill:#000000; fill-opacity:1; font-family:Arial,Helvetica Neue,Helvetica,sans-serif; font-size:12; text-anchor:middle;\" transform=\"rotate(0, 580.315, 373.865)\" x=\"580.315\" y=\"373.865\">15</text>\n",
       "</g>\n",
       "<g clip-path=\"url(#clip00)\">\n",
       "<text style=\"fill:#000000; fill-opacity:1; font-family:Arial,Helvetica Neue,Helvetica,sans-serif; font-size:12; text-anchor:end;\" transform=\"rotate(0, 38.6753, 364.565)\" x=\"38.6753\" y=\"364.565\">0</text>\n",
       "</g>\n",
       "<g clip-path=\"url(#clip00)\">\n",
       "<text style=\"fill:#000000; fill-opacity:1; font-family:Arial,Helvetica Neue,Helvetica,sans-serif; font-size:12; text-anchor:end;\" transform=\"rotate(0, 38.6753, 255.042)\" x=\"38.6753\" y=\"255.042\">5</text>\n",
       "</g>\n",
       "<g clip-path=\"url(#clip00)\">\n",
       "<text style=\"fill:#000000; fill-opacity:1; font-family:Arial,Helvetica Neue,Helvetica,sans-serif; font-size:12; text-anchor:end;\" transform=\"rotate(0, 38.6753, 145.519)\" x=\"38.6753\" y=\"145.519\">10</text>\n",
       "</g>\n",
       "<g clip-path=\"url(#clip00)\">\n",
       "<text style=\"fill:#000000; fill-opacity:1; font-family:Arial,Helvetica Neue,Helvetica,sans-serif; font-size:12; text-anchor:end;\" transform=\"rotate(0, 38.6753, 35.9961)\" x=\"38.6753\" y=\"35.9961\">15</text>\n",
       "</g>\n",
       "<g clip-path=\"url(#clip00)\">\n",
       "<text style=\"fill:#000000; fill-opacity:1; font-family:Arial,Helvetica Neue,Helvetica,sans-serif; font-size:21; text-anchor:middle;\" transform=\"rotate(0, 312.495, 18)\" x=\"312.495\" y=\"18\">Mean vs standard deviation (with Rf)</text>\n",
       "</g>\n",
       "<g clip-path=\"url(#clip00)\">\n",
       "<text style=\"fill:#000000; fill-opacity:1; font-family:Arial,Helvetica Neue,Helvetica,sans-serif; font-size:16; text-anchor:middle;\" transform=\"rotate(0, 312.495, 397.6)\" x=\"312.495\" y=\"397.6\">Std(Rp), %</text>\n",
       "</g>\n",
       "<g clip-path=\"url(#clip00)\">\n",
       "<text style=\"fill:#000000; fill-opacity:1; font-family:Arial,Helvetica Neue,Helvetica,sans-serif; font-size:16; text-anchor:middle;\" transform=\"rotate(-90, 14.4, 195.781)\" x=\"14.4\" y=\"195.781\">ERp, %</text>\n",
       "</g>\n",
       "<polyline clip-path=\"url(#clip02)\" style=\"stroke:#0000ff; stroke-width:2; stroke-opacity:1; fill:none\" points=\"\n",
       "  44.6753,338.161 49.6132,336.189 54.5511,334.218 59.489,332.247 64.4268,330.275 69.3647,328.304 74.3026,326.332 79.2405,324.361 84.1783,322.389 89.1162,320.418 \n",
       "  94.0541,318.447 98.992,316.475 103.93,314.504 108.868,312.532 113.806,310.561 118.743,308.59 123.681,306.618 128.619,304.647 133.557,302.675 138.495,300.704 \n",
       "  143.433,298.732 148.371,296.761 153.309,294.79 158.246,292.818 163.184,290.847 168.122,288.875 173.06,286.904 177.998,284.933 182.936,282.961 187.874,280.99 \n",
       "  192.812,279.018 197.75,277.047 202.687,275.075 207.625,273.104 212.563,271.133 217.501,269.161 222.439,267.19 227.377,265.218 232.315,263.247 237.253,261.276 \n",
       "  242.19,259.304 247.128,257.333 252.066,255.361 257.004,253.39 261.942,251.418 266.88,249.447 271.818,247.476 276.756,245.504 281.693,243.533 286.631,241.561 \n",
       "  291.569,239.59 296.507,237.619 301.445,235.647 306.383,233.676 311.321,231.704 316.259,229.733 321.196,227.761 326.134,225.79 331.072,223.819 336.01,221.847 \n",
       "  340.948,219.876 345.886,217.904 350.824,215.933 355.762,213.962 360.699,211.99 365.637,210.019 370.575,208.047 375.513,206.076 380.451,204.104 385.389,202.133 \n",
       "  390.327,200.162 395.265,198.19 400.202,196.219 405.14,194.247 410.078,192.276 415.016,190.305 419.954,188.333 424.892,186.362 429.83,184.39 434.768,182.419 \n",
       "  439.705,180.448 444.643,178.476 449.581,176.505 454.519,174.533 459.457,172.562 464.395,170.59 469.333,168.619 474.271,166.648 479.209,164.676 484.146,162.705 \n",
       "  489.084,160.733 494.022,158.762 498.96,156.791 503.898,154.819 508.836,152.848 513.774,150.876 518.712,148.905 523.649,146.933 528.587,144.962 533.525,142.991 \n",
       "  538.463,141.019 \n",
       "  \"/>\n",
       "<polyline clip-path=\"url(#clip02)\" style=\"stroke:#ff0000; stroke-width:2; stroke-opacity:1; fill:none\" points=\"\n",
       "  1532.13,338.161 1511.29,336.189 1490.47,334.218 1469.67,332.247 1448.88,330.275 1428.11,328.304 1407.36,326.332 1386.64,324.361 1365.93,322.389 1345.25,320.418 \n",
       "  1324.6,318.447 1303.97,316.475 1283.37,314.504 1262.79,312.532 1242.25,310.561 1221.74,308.59 1201.26,306.618 1180.81,304.647 1160.4,302.675 1140.03,300.704 \n",
       "  1119.7,298.732 1099.42,296.761 1079.18,294.79 1058.99,292.818 1038.85,290.847 1018.77,288.875 998.743,286.904 978.78,284.933 958.883,282.961 939.057,280.99 \n",
       "  919.306,279.018 899.636,277.047 880.053,275.075 860.562,273.104 841.17,271.133 821.885,269.161 802.715,267.19 783.669,265.218 764.757,263.247 745.989,261.276 \n",
       "  727.378,259.304 708.937,257.333 690.679,255.361 672.622,253.39 654.783,251.418 637.182,249.447 619.84,247.476 602.782,245.504 586.035,243.533 569.628,241.561 \n",
       "  553.594,239.59 537.97,237.619 522.795,235.647 508.114,233.676 493.976,231.704 480.433,229.733 467.542,227.761 455.365,225.79 443.967,223.819 433.417,221.847 \n",
       "  423.785,219.876 415.143,217.904 407.562,215.933 401.109,213.962 395.847,211.99 391.83,210.019 389.101,208.047 387.691,206.076 387.617,204.104 388.879,202.133 \n",
       "  391.462,200.162 395.338,198.19 400.465,196.219 406.788,194.247 414.247,192.276 422.775,190.305 432.3,188.333 442.752,186.362 454.059,184.39 466.153,182.419 \n",
       "  478.967,180.448 492.441,178.476 506.516,176.505 521.139,174.533 536.261,172.562 551.837,170.59 567.827,168.619 584.195,166.648 600.906,164.676 617.931,162.705 \n",
       "  635.242,160.733 652.816,158.762 670.629,156.791 688.663,154.819 706.899,152.848 725.321,150.876 743.913,148.905 762.664,146.933 781.561,144.962 800.593,142.991 \n",
       "  819.749,141.019 \n",
       "  \"/>\n",
       "<polyline clip-path=\"url(#clip02)\" style=\"stroke:#008000; stroke-width:2; stroke-opacity:1; fill:none\" stroke-dasharray=\"1, 2\" points=\"\n",
       "  44.6753,579.112 49.6132,574.144 54.5511,569.177 59.489,564.209 64.4268,559.242 69.3647,554.274 74.3026,549.307 79.2405,544.339 84.1783,539.372 89.1162,534.404 \n",
       "  94.0541,529.437 98.992,524.469 103.93,519.502 108.868,514.534 113.806,509.567 118.743,504.599 123.681,499.632 128.619,494.664 133.557,489.697 138.495,484.729 \n",
       "  143.433,479.762 148.371,474.794 153.309,469.827 158.246,464.859 163.184,459.891 168.122,454.924 173.06,449.956 177.998,444.989 182.936,440.021 187.874,435.054 \n",
       "  192.812,430.086 197.75,425.119 202.687,420.151 207.625,415.184 212.563,410.216 217.501,405.249 222.439,400.281 227.377,395.314 232.315,390.346 237.253,385.379 \n",
       "  242.19,380.411 247.128,375.444 252.066,370.476 257.004,365.509 261.942,360.541 266.88,355.574 271.818,350.606 276.756,345.639 281.693,340.671 286.631,335.704 \n",
       "  291.569,330.736 296.507,325.769 301.445,320.801 306.383,315.834 311.321,310.866 316.259,305.899 321.196,300.931 326.134,295.964 331.072,290.996 336.01,286.029 \n",
       "  340.948,281.061 345.886,276.094 350.824,271.126 355.762,266.159 360.699,261.191 365.637,256.224 370.575,251.256 375.513,246.289 380.451,241.321 385.389,236.354 \n",
       "  390.327,231.386 395.265,226.419 400.202,221.451 405.14,216.484 410.078,211.516 415.016,206.549 419.954,201.581 424.892,196.614 429.83,191.646 434.768,186.679 \n",
       "  439.705,181.711 444.643,176.744 449.581,171.776 454.519,166.809 459.457,161.841 464.395,156.874 469.333,151.906 474.271,146.939 479.209,141.971 484.146,137.004 \n",
       "  489.084,132.036 494.022,127.069 498.96,122.101 503.898,117.134 508.836,112.166 513.774,107.198 518.712,102.231 523.649,97.2635 528.587,92.296 533.525,87.3285 \n",
       "  538.463,82.361 \n",
       "  \"/>\n",
       "<polygon clip-path=\"url(#clip00)\" points=\"\n",
       "424.602,112.856 562.315,112.856 562.315,52.3761 424.602,52.3761 \n",
       "  \" fill=\"#ffffff\" fill-opacity=\"1\"/>\n",
       "<polyline clip-path=\"url(#clip00)\" style=\"stroke:#000000; stroke-width:1; stroke-opacity:1; fill:none\" points=\"\n",
       "  424.602,112.856 562.315,112.856 562.315,52.3761 424.602,52.3761 424.602,112.856 \n",
       "  \"/>\n",
       "<polyline clip-path=\"url(#clip00)\" style=\"stroke:#0000ff; stroke-width:2; stroke-opacity:1; fill:none\" points=\"\n",
       "  430.602,67.4961 466.602,67.4961 \n",
       "  \"/>\n",
       "<g clip-path=\"url(#clip00)\">\n",
       "<text style=\"fill:#000000; fill-opacity:1; font-family:Arial,Helvetica Neue,Helvetica,sans-serif; font-size:12; text-anchor:start;\" transform=\"rotate(0, 472.602, 71.9961)\" x=\"472.602\" y=\"71.9961\">CML</text>\n",
       "</g>\n",
       "<polyline clip-path=\"url(#clip00)\" style=\"stroke:#ff0000; stroke-width:2; stroke-opacity:1; fill:none\" points=\"\n",
       "  430.602,82.6161 466.602,82.6161 \n",
       "  \"/>\n",
       "<g clip-path=\"url(#clip00)\">\n",
       "<text style=\"fill:#000000; fill-opacity:1; font-family:Arial,Helvetica Neue,Helvetica,sans-serif; font-size:12; text-anchor:start;\" transform=\"rotate(0, 472.602, 87.1161)\" x=\"472.602\" y=\"87.1161\">MVF</text>\n",
       "</g>\n",
       "<polyline clip-path=\"url(#clip00)\" style=\"stroke:#008000; stroke-width:2; stroke-opacity:1; fill:none\" stroke-dasharray=\"1, 2\" points=\"\n",
       "  430.602,97.7361 466.602,97.7361 \n",
       "  \"/>\n",
       "<g clip-path=\"url(#clip00)\">\n",
       "<text style=\"fill:#000000; fill-opacity:1; font-family:Arial,Helvetica Neue,Helvetica,sans-serif; font-size:12; text-anchor:start;\" transform=\"rotate(0, 472.602, 102.236)\" x=\"472.602\" y=\"102.236\">VaR restriction</text>\n",
       "</g>\n",
       "</svg>\n"
      ]
     },
     "execution_count": 19,
     "metadata": {},
     "output_type": "execute_result"
    }
   ],
   "source": [
    "plot(StdRpRf*100,mustar*100,color=:blue,linewidth=2,label=\"CML\",xlims=(0,15),ylims=(0,15))\n",
    "plot!(StdRp*100,mustar*100,color=:red,linewidth=2,label=\"MVF\")\n",
    "plot!(StdRpRf*100,VaRRestr*100,line=(:dot,2),color=:green,label=\"VaR restriction\")\n",
    "title!(\"Mean vs standard deviation (with Rf)\")\n",
    "xlabel!(\"Std(Rp), %\")\n",
    "ylabel!(\"ERp, %\")"
   ]
  },
  {
   "cell_type": "code",
   "execution_count": null,
   "metadata": {
    "collapsed": true
   },
   "outputs": [],
   "source": []
  }
 ],
 "metadata": {
  "anaconda-cloud": {},
  "kernelspec": {
   "display_name": "Julia 0.6.0",
   "language": "julia",
   "name": "julia-0.6"
  },
  "language_info": {
   "file_extension": ".jl",
   "mimetype": "application/julia",
   "name": "julia",
   "version": "0.6.0"
  }
 },
 "nbformat": 4,
 "nbformat_minor": 1
}
