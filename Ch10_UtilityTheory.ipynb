{
 "cells": [
  {
   "cell_type": "markdown",
   "metadata": {},
   "source": [
    "# Load Packages"
   ]
  },
  {
   "cell_type": "code",
   "execution_count": 1,
   "metadata": {},
   "outputs": [
    {
     "data": {
      "text/plain": [
       "printlnPs (generic function with 2 methods)"
      ]
     },
     "execution_count": 1,
     "metadata": {},
     "output_type": "execute_result"
    }
   ],
   "source": [
    "using Roots, Optim\n",
    "\n",
    "#using Dates            #Julia 0.7\n",
    "using Compat, Missings  #to use 0.7 syntax in 0.6\n",
    "\n",
    "include(\"printmat.jl\")"
   ]
  },
  {
   "cell_type": "code",
   "execution_count": 2,
   "metadata": {},
   "outputs": [
    {
     "data": {
      "text/plain": [
       "Plots.GRBackend()"
      ]
     },
     "execution_count": 2,
     "metadata": {},
     "output_type": "execute_result"
    }
   ],
   "source": [
    "using Plots\n",
    "backend = \"gr\"              #\"gr\" (default), \"pyplot\" \n",
    "\n",
    "if backend == \"pyplot\"\n",
    "    pyplot(size=(600,400))\n",
    "else    \n",
    "    gr(size=(600,400))\n",
    "end"
   ]
  },
  {
   "cell_type": "markdown",
   "metadata": {},
   "source": [
    "# Utility Function"
   ]
  },
  {
   "cell_type": "markdown",
   "metadata": {},
   "source": [
    "Recall: the CRRA utility function is $U(x) = \\frac{x^{1-\\gamma}}{1-\\gamma}$"
   ]
  },
  {
   "cell_type": "code",
   "execution_count": 3,
   "metadata": {},
   "outputs": [
    {
     "data": {
      "text/plain": [
       "U (generic function with 1 method)"
      ]
     },
     "execution_count": 3,
     "metadata": {},
     "output_type": "execute_result"
    }
   ],
   "source": [
    "U(x,γ) =  x^(1-γ)/(1-γ)    #CRRA utility function, γ is the risk aversion"
   ]
  },
  {
   "cell_type": "code",
   "execution_count": 4,
   "metadata": {},
   "outputs": [
    {
     "data": {
      "image/svg+xml": [
       "<?xml version=\"1.0\" encoding=\"utf-8\"?>\n",
       "<svg xmlns=\"http://www.w3.org/2000/svg\" xmlns:xlink=\"http://www.w3.org/1999/xlink\" width=\"600\" height=\"400\" viewBox=\"0 0 600 400\">\n",
       "<defs>\n",
       "  <clipPath id=\"clip0300\">\n",
       "    <rect x=\"0\" y=\"0\" width=\"600\" height=\"400\"/>\n",
       "  </clipPath>\n",
       "</defs>\n",
       "<polygon clip-path=\"url(#clip0300)\" points=\"\n",
       "0,400 600,400 600,0 0,0 \n",
       "  \" fill=\"#ffffff\" fill-opacity=\"1\"/>\n",
       "<defs>\n",
       "  <clipPath id=\"clip0301\">\n",
       "    <rect x=\"120\" y=\"0\" width=\"421\" height=\"400\"/>\n",
       "  </clipPath>\n",
       "</defs>\n",
       "<polygon clip-path=\"url(#clip0300)\" points=\"\n",
       "39.502,360.121 580.315,360.121 580.315,31.4961 39.502,31.4961 \n",
       "  \" fill=\"#ffffff\" fill-opacity=\"1\"/>\n",
       "<defs>\n",
       "  <clipPath id=\"clip0302\">\n",
       "    <rect x=\"39\" y=\"31\" width=\"542\" height=\"330\"/>\n",
       "  </clipPath>\n",
       "</defs>\n",
       "<polyline clip-path=\"url(#clip0302)\" style=\"stroke:#000000; stroke-width:0.5; stroke-opacity:0.1; fill:none\" points=\"\n",
       "  39.502,360.121 39.502,31.4961 \n",
       "  \"/>\n",
       "<polyline clip-path=\"url(#clip0302)\" style=\"stroke:#000000; stroke-width:0.5; stroke-opacity:0.1; fill:none\" points=\"\n",
       "  174.705,360.121 174.705,31.4961 \n",
       "  \"/>\n",
       "<polyline clip-path=\"url(#clip0302)\" style=\"stroke:#000000; stroke-width:0.5; stroke-opacity:0.1; fill:none\" points=\"\n",
       "  309.908,360.121 309.908,31.4961 \n",
       "  \"/>\n",
       "<polyline clip-path=\"url(#clip0302)\" style=\"stroke:#000000; stroke-width:0.5; stroke-opacity:0.1; fill:none\" points=\"\n",
       "  445.112,360.121 445.112,31.4961 \n",
       "  \"/>\n",
       "<polyline clip-path=\"url(#clip0302)\" style=\"stroke:#000000; stroke-width:0.5; stroke-opacity:0.1; fill:none\" points=\"\n",
       "  39.502,320.686 580.315,320.686 \n",
       "  \"/>\n",
       "<polyline clip-path=\"url(#clip0302)\" style=\"stroke:#000000; stroke-width:0.5; stroke-opacity:0.1; fill:none\" points=\"\n",
       "  39.502,241.816 580.315,241.816 \n",
       "  \"/>\n",
       "<polyline clip-path=\"url(#clip0302)\" style=\"stroke:#000000; stroke-width:0.5; stroke-opacity:0.1; fill:none\" points=\"\n",
       "  39.502,162.946 580.315,162.946 \n",
       "  \"/>\n",
       "<polyline clip-path=\"url(#clip0302)\" style=\"stroke:#000000; stroke-width:0.5; stroke-opacity:0.1; fill:none\" points=\"\n",
       "  39.502,84.076 580.315,84.076 \n",
       "  \"/>\n",
       "<polyline clip-path=\"url(#clip0300)\" style=\"stroke:#000000; stroke-width:1; stroke-opacity:1; fill:none\" points=\"\n",
       "  39.502,360.121 580.315,360.121 \n",
       "  \"/>\n",
       "<polyline clip-path=\"url(#clip0300)\" style=\"stroke:#000000; stroke-width:1; stroke-opacity:1; fill:none\" points=\"\n",
       "  39.502,360.121 39.502,31.4961 \n",
       "  \"/>\n",
       "<polyline clip-path=\"url(#clip0300)\" style=\"stroke:#000000; stroke-width:1; stroke-opacity:1; fill:none\" points=\"\n",
       "  39.502,360.121 39.502,355.191 \n",
       "  \"/>\n",
       "<polyline clip-path=\"url(#clip0300)\" style=\"stroke:#000000; stroke-width:1; stroke-opacity:1; fill:none\" points=\"\n",
       "  174.705,360.121 174.705,355.191 \n",
       "  \"/>\n",
       "<polyline clip-path=\"url(#clip0300)\" style=\"stroke:#000000; stroke-width:1; stroke-opacity:1; fill:none\" points=\"\n",
       "  309.908,360.121 309.908,355.191 \n",
       "  \"/>\n",
       "<polyline clip-path=\"url(#clip0300)\" style=\"stroke:#000000; stroke-width:1; stroke-opacity:1; fill:none\" points=\"\n",
       "  445.112,360.121 445.112,355.191 \n",
       "  \"/>\n",
       "<polyline clip-path=\"url(#clip0300)\" style=\"stroke:#000000; stroke-width:1; stroke-opacity:1; fill:none\" points=\"\n",
       "  39.502,320.686 47.6142,320.686 \n",
       "  \"/>\n",
       "<polyline clip-path=\"url(#clip0300)\" style=\"stroke:#000000; stroke-width:1; stroke-opacity:1; fill:none\" points=\"\n",
       "  39.502,241.816 47.6142,241.816 \n",
       "  \"/>\n",
       "<polyline clip-path=\"url(#clip0300)\" style=\"stroke:#000000; stroke-width:1; stroke-opacity:1; fill:none\" points=\"\n",
       "  39.502,162.946 47.6142,162.946 \n",
       "  \"/>\n",
       "<polyline clip-path=\"url(#clip0300)\" style=\"stroke:#000000; stroke-width:1; stroke-opacity:1; fill:none\" points=\"\n",
       "  39.502,84.076 47.6142,84.076 \n",
       "  \"/>\n",
       "<g clip-path=\"url(#clip0300)\">\n",
       "<text style=\"fill:#000000; fill-opacity:1; font-family:Arial,Helvetica Neue,Helvetica,sans-serif; font-size:12; text-anchor:middle;\" transform=\"rotate(0, 39.502, 373.921)\" x=\"39.502\" y=\"373.921\">0.8</text>\n",
       "</g>\n",
       "<g clip-path=\"url(#clip0300)\">\n",
       "<text style=\"fill:#000000; fill-opacity:1; font-family:Arial,Helvetica Neue,Helvetica,sans-serif; font-size:12; text-anchor:middle;\" transform=\"rotate(0, 174.705, 373.921)\" x=\"174.705\" y=\"373.921\">0.9</text>\n",
       "</g>\n",
       "<g clip-path=\"url(#clip0300)\">\n",
       "<text style=\"fill:#000000; fill-opacity:1; font-family:Arial,Helvetica Neue,Helvetica,sans-serif; font-size:12; text-anchor:middle;\" transform=\"rotate(0, 309.908, 373.921)\" x=\"309.908\" y=\"373.921\">1.0</text>\n",
       "</g>\n",
       "<g clip-path=\"url(#clip0300)\">\n",
       "<text style=\"fill:#000000; fill-opacity:1; font-family:Arial,Helvetica Neue,Helvetica,sans-serif; font-size:12; text-anchor:middle;\" transform=\"rotate(0, 445.112, 373.921)\" x=\"445.112\" y=\"373.921\">1.1</text>\n",
       "</g>\n",
       "<g clip-path=\"url(#clip0300)\">\n",
       "<text style=\"fill:#000000; fill-opacity:1; font-family:Arial,Helvetica Neue,Helvetica,sans-serif; font-size:12; text-anchor:end;\" transform=\"rotate(0, 33.502, 325.186)\" x=\"33.502\" y=\"325.186\">-1.2</text>\n",
       "</g>\n",
       "<g clip-path=\"url(#clip0300)\">\n",
       "<text style=\"fill:#000000; fill-opacity:1; font-family:Arial,Helvetica Neue,Helvetica,sans-serif; font-size:12; text-anchor:end;\" transform=\"rotate(0, 33.502, 246.316)\" x=\"33.502\" y=\"246.316\">-1.1</text>\n",
       "</g>\n",
       "<g clip-path=\"url(#clip0300)\">\n",
       "<text style=\"fill:#000000; fill-opacity:1; font-family:Arial,Helvetica Neue,Helvetica,sans-serif; font-size:12; text-anchor:end;\" transform=\"rotate(0, 33.502, 167.446)\" x=\"33.502\" y=\"167.446\">-1.0</text>\n",
       "</g>\n",
       "<g clip-path=\"url(#clip0300)\">\n",
       "<text style=\"fill:#000000; fill-opacity:1; font-family:Arial,Helvetica Neue,Helvetica,sans-serif; font-size:12; text-anchor:end;\" transform=\"rotate(0, 33.502, 88.576)\" x=\"33.502\" y=\"88.576\">-0.9</text>\n",
       "</g>\n",
       "<g clip-path=\"url(#clip0300)\">\n",
       "<text style=\"fill:#000000; fill-opacity:1; font-family:Arial,Helvetica Neue,Helvetica,sans-serif; font-size:21; text-anchor:middle;\" transform=\"rotate(0, 309.908, 18)\" x=\"309.908\" y=\"18\">Utility function, CRRA</text>\n",
       "</g>\n",
       "<g clip-path=\"url(#clip0300)\">\n",
       "<text style=\"fill:#000000; fill-opacity:1; font-family:Arial,Helvetica Neue,Helvetica,sans-serif; font-size:16; text-anchor:middle;\" transform=\"rotate(0, 309.908, 397.6)\" x=\"309.908\" y=\"397.6\">x (wealth, consumption or portfolio return)</text>\n",
       "</g>\n",
       "<polyline clip-path=\"url(#clip0302)\" style=\"stroke:#ff0000; stroke-width:2; stroke-opacity:1; fill:none\" points=\"\n",
       "  39.502,360.121 62.0359,340.001 84.5698,320.686 107.104,302.128 129.638,284.284 152.171,267.114 174.705,250.579 197.239,234.646 219.773,219.282 242.307,204.456 \n",
       "  264.841,190.142 287.375,176.314 309.908,162.946 332.442,150.016 354.976,137.504 377.51,125.389 400.044,113.652 422.578,102.277 445.112,91.246 467.646,80.5445 \n",
       "  490.179,70.1578 512.713,60.0721 535.247,50.2746 557.781,40.7531 580.315,31.4961 \n",
       "  \"/>\n",
       "</svg>\n"
      ]
     },
     "execution_count": 4,
     "metadata": {},
     "output_type": "execute_result"
    }
   ],
   "source": [
    "x = linspace(0.8,1.2,25)\n",
    "#x = range(0.8,stop=1.2,length=25)   in 0.7\n",
    "\n",
    "plot(x,U.(x,2),color=:red,linewidth=2,legend=false)\n",
    "title!(\"Utility function, CRRA\")\n",
    "xlabel!(\"x (wealth, consumption or portfolio return)\")"
   ]
  },
  {
   "cell_type": "markdown",
   "metadata": {},
   "source": [
    "# Expected Utility"
   ]
  },
  {
   "cell_type": "markdown",
   "metadata": {},
   "source": [
    "Recall: if $\\pi_s$ is the probability of outcome $x_s$ and there are $S$ possible outcomes, then\n",
    "\n",
    "$\\text{E}U(x) = \\sum\\nolimits_{s=1}^{S} \\pi_{s}U(x_s)$"
   ]
  },
  {
   "cell_type": "code",
   "execution_count": 5,
   "metadata": {},
   "outputs": [
    {
     "data": {
      "text/plain": [
       "EU (generic function with 1 method)"
      ]
     },
     "execution_count": 5,
     "metadata": {},
     "output_type": "execute_result"
    }
   ],
   "source": [
    "EU(x,π,γ) = sum(π.*U.(x,γ))               #expected utility"
   ]
  },
  {
   "cell_type": "code",
   "execution_count": 6,
   "metadata": {},
   "outputs": [
    {
     "name": "stdout",
     "output_type": "stream",
     "text": [
      "Possible wealth levels (first row) and the corresponding utility (2nd)\n",
      "     0.850     1.150\n",
      "    -1.176    -0.870\n",
      "\n",
      "Expected wealth is:      1.000\n",
      "Expected utility:     -1.023\n"
     ]
    }
   ],
   "source": [
    "x₁ = 0.85               #possible outcomes\n",
    "x₂ = 1.15\n",
    "π₁ = 0.5                #probabilities of outcomes \n",
    "π₂ = 1 - π₁\n",
    "\n",
    "xx = [x₁      x₂     ;\n",
    "      U(x₁,2) U(x₂,2)]\n",
    "println(\"Possible wealth levels (first row) and the corresponding utility (2nd)\")\n",
    "printmat(xx)\n",
    "\n",
    "Ex = sum([π₁ π₂].*[x₁ x₂])\n",
    "printlnPs(\"Expected wealth is: \",Ex)\n",
    "\n",
    "ExpUtil = EU([x₁ x₂],[π₁ π₂],2)\n",
    "printlnPs(\"Expected utility: \",ExpUtil)"
   ]
  },
  {
   "cell_type": "code",
   "execution_count": 7,
   "metadata": {},
   "outputs": [
    {
     "data": {
      "image/svg+xml": [
       "<?xml version=\"1.0\" encoding=\"utf-8\"?>\n",
       "<svg xmlns=\"http://www.w3.org/2000/svg\" xmlns:xlink=\"http://www.w3.org/1999/xlink\" width=\"600\" height=\"400\" viewBox=\"0 0 600 400\">\n",
       "<defs>\n",
       "  <clipPath id=\"clip0500\">\n",
       "    <rect x=\"0\" y=\"0\" width=\"600\" height=\"400\"/>\n",
       "  </clipPath>\n",
       "</defs>\n",
       "<polygon clip-path=\"url(#clip0500)\" points=\"\n",
       "0,400 600,400 600,0 0,0 \n",
       "  \" fill=\"#ffffff\" fill-opacity=\"1\"/>\n",
       "<defs>\n",
       "  <clipPath id=\"clip0501\">\n",
       "    <rect x=\"120\" y=\"0\" width=\"421\" height=\"400\"/>\n",
       "  </clipPath>\n",
       "</defs>\n",
       "<polygon clip-path=\"url(#clip0500)\" points=\"\n",
       "39.502,360.121 580.315,360.121 580.315,31.4961 39.502,31.4961 \n",
       "  \" fill=\"#ffffff\" fill-opacity=\"1\"/>\n",
       "<defs>\n",
       "  <clipPath id=\"clip0502\">\n",
       "    <rect x=\"39\" y=\"31\" width=\"542\" height=\"330\"/>\n",
       "  </clipPath>\n",
       "</defs>\n",
       "<polyline clip-path=\"url(#clip0502)\" style=\"stroke:#000000; stroke-width:0.5; stroke-opacity:0.1; fill:none\" points=\"\n",
       "  39.502,360.121 39.502,31.4961 \n",
       "  \"/>\n",
       "<polyline clip-path=\"url(#clip0502)\" style=\"stroke:#000000; stroke-width:0.5; stroke-opacity:0.1; fill:none\" points=\"\n",
       "  174.705,360.121 174.705,31.4961 \n",
       "  \"/>\n",
       "<polyline clip-path=\"url(#clip0502)\" style=\"stroke:#000000; stroke-width:0.5; stroke-opacity:0.1; fill:none\" points=\"\n",
       "  309.908,360.121 309.908,31.4961 \n",
       "  \"/>\n",
       "<polyline clip-path=\"url(#clip0502)\" style=\"stroke:#000000; stroke-width:0.5; stroke-opacity:0.1; fill:none\" points=\"\n",
       "  445.112,360.121 445.112,31.4961 \n",
       "  \"/>\n",
       "<polyline clip-path=\"url(#clip0502)\" style=\"stroke:#000000; stroke-width:0.5; stroke-opacity:0.1; fill:none\" points=\"\n",
       "  39.502,360.121 580.315,360.121 \n",
       "  \"/>\n",
       "<polyline clip-path=\"url(#clip0502)\" style=\"stroke:#000000; stroke-width:0.5; stroke-opacity:0.1; fill:none\" points=\"\n",
       "  39.502,305.35 580.315,305.35 \n",
       "  \"/>\n",
       "<polyline clip-path=\"url(#clip0502)\" style=\"stroke:#000000; stroke-width:0.5; stroke-opacity:0.1; fill:none\" points=\"\n",
       "  39.502,250.579 580.315,250.579 \n",
       "  \"/>\n",
       "<polyline clip-path=\"url(#clip0502)\" style=\"stroke:#000000; stroke-width:0.5; stroke-opacity:0.1; fill:none\" points=\"\n",
       "  39.502,195.808 580.315,195.808 \n",
       "  \"/>\n",
       "<polyline clip-path=\"url(#clip0502)\" style=\"stroke:#000000; stroke-width:0.5; stroke-opacity:0.1; fill:none\" points=\"\n",
       "  39.502,141.038 580.315,141.038 \n",
       "  \"/>\n",
       "<polyline clip-path=\"url(#clip0502)\" style=\"stroke:#000000; stroke-width:0.5; stroke-opacity:0.1; fill:none\" points=\"\n",
       "  39.502,86.2668 580.315,86.2668 \n",
       "  \"/>\n",
       "<polyline clip-path=\"url(#clip0502)\" style=\"stroke:#000000; stroke-width:0.5; stroke-opacity:0.1; fill:none\" points=\"\n",
       "  39.502,31.4961 580.315,31.4961 \n",
       "  \"/>\n",
       "<polyline clip-path=\"url(#clip0500)\" style=\"stroke:#000000; stroke-width:1; stroke-opacity:1; fill:none\" points=\"\n",
       "  39.502,360.121 580.315,360.121 \n",
       "  \"/>\n",
       "<polyline clip-path=\"url(#clip0500)\" style=\"stroke:#000000; stroke-width:1; stroke-opacity:1; fill:none\" points=\"\n",
       "  39.502,360.121 39.502,31.4961 \n",
       "  \"/>\n",
       "<polyline clip-path=\"url(#clip0500)\" style=\"stroke:#000000; stroke-width:1; stroke-opacity:1; fill:none\" points=\"\n",
       "  39.502,360.121 39.502,355.191 \n",
       "  \"/>\n",
       "<polyline clip-path=\"url(#clip0500)\" style=\"stroke:#000000; stroke-width:1; stroke-opacity:1; fill:none\" points=\"\n",
       "  174.705,360.121 174.705,355.191 \n",
       "  \"/>\n",
       "<polyline clip-path=\"url(#clip0500)\" style=\"stroke:#000000; stroke-width:1; stroke-opacity:1; fill:none\" points=\"\n",
       "  309.908,360.121 309.908,355.191 \n",
       "  \"/>\n",
       "<polyline clip-path=\"url(#clip0500)\" style=\"stroke:#000000; stroke-width:1; stroke-opacity:1; fill:none\" points=\"\n",
       "  445.112,360.121 445.112,355.191 \n",
       "  \"/>\n",
       "<polyline clip-path=\"url(#clip0500)\" style=\"stroke:#000000; stroke-width:1; stroke-opacity:1; fill:none\" points=\"\n",
       "  39.502,360.121 47.6142,360.121 \n",
       "  \"/>\n",
       "<polyline clip-path=\"url(#clip0500)\" style=\"stroke:#000000; stroke-width:1; stroke-opacity:1; fill:none\" points=\"\n",
       "  39.502,305.35 47.6142,305.35 \n",
       "  \"/>\n",
       "<polyline clip-path=\"url(#clip0500)\" style=\"stroke:#000000; stroke-width:1; stroke-opacity:1; fill:none\" points=\"\n",
       "  39.502,250.579 47.6142,250.579 \n",
       "  \"/>\n",
       "<polyline clip-path=\"url(#clip0500)\" style=\"stroke:#000000; stroke-width:1; stroke-opacity:1; fill:none\" points=\"\n",
       "  39.502,195.808 47.6142,195.808 \n",
       "  \"/>\n",
       "<polyline clip-path=\"url(#clip0500)\" style=\"stroke:#000000; stroke-width:1; stroke-opacity:1; fill:none\" points=\"\n",
       "  39.502,141.038 47.6142,141.038 \n",
       "  \"/>\n",
       "<polyline clip-path=\"url(#clip0500)\" style=\"stroke:#000000; stroke-width:1; stroke-opacity:1; fill:none\" points=\"\n",
       "  39.502,86.2668 47.6142,86.2668 \n",
       "  \"/>\n",
       "<polyline clip-path=\"url(#clip0500)\" style=\"stroke:#000000; stroke-width:1; stroke-opacity:1; fill:none\" points=\"\n",
       "  39.502,31.4961 47.6142,31.4961 \n",
       "  \"/>\n",
       "<g clip-path=\"url(#clip0500)\">\n",
       "<text style=\"fill:#000000; fill-opacity:1; font-family:Arial,Helvetica Neue,Helvetica,sans-serif; font-size:12; text-anchor:middle;\" transform=\"rotate(0, 39.502, 373.921)\" x=\"39.502\" y=\"373.921\">0.8</text>\n",
       "</g>\n",
       "<g clip-path=\"url(#clip0500)\">\n",
       "<text style=\"fill:#000000; fill-opacity:1; font-family:Arial,Helvetica Neue,Helvetica,sans-serif; font-size:12; text-anchor:middle;\" transform=\"rotate(0, 174.705, 373.921)\" x=\"174.705\" y=\"373.921\">0.9</text>\n",
       "</g>\n",
       "<g clip-path=\"url(#clip0500)\">\n",
       "<text style=\"fill:#000000; fill-opacity:1; font-family:Arial,Helvetica Neue,Helvetica,sans-serif; font-size:12; text-anchor:middle;\" transform=\"rotate(0, 309.908, 373.921)\" x=\"309.908\" y=\"373.921\">1.0</text>\n",
       "</g>\n",
       "<g clip-path=\"url(#clip0500)\">\n",
       "<text style=\"fill:#000000; fill-opacity:1; font-family:Arial,Helvetica Neue,Helvetica,sans-serif; font-size:12; text-anchor:middle;\" transform=\"rotate(0, 445.112, 373.921)\" x=\"445.112\" y=\"373.921\">1.1</text>\n",
       "</g>\n",
       "<g clip-path=\"url(#clip0500)\">\n",
       "<text style=\"fill:#000000; fill-opacity:1; font-family:Arial,Helvetica Neue,Helvetica,sans-serif; font-size:12; text-anchor:end;\" transform=\"rotate(0, 33.502, 364.621)\" x=\"33.502\" y=\"364.621\">-1.3</text>\n",
       "</g>\n",
       "<g clip-path=\"url(#clip0500)\">\n",
       "<text style=\"fill:#000000; fill-opacity:1; font-family:Arial,Helvetica Neue,Helvetica,sans-serif; font-size:12; text-anchor:end;\" transform=\"rotate(0, 33.502, 309.85)\" x=\"33.502\" y=\"309.85\">-1.2</text>\n",
       "</g>\n",
       "<g clip-path=\"url(#clip0500)\">\n",
       "<text style=\"fill:#000000; fill-opacity:1; font-family:Arial,Helvetica Neue,Helvetica,sans-serif; font-size:12; text-anchor:end;\" transform=\"rotate(0, 33.502, 255.079)\" x=\"33.502\" y=\"255.079\">-1.1</text>\n",
       "</g>\n",
       "<g clip-path=\"url(#clip0500)\">\n",
       "<text style=\"fill:#000000; fill-opacity:1; font-family:Arial,Helvetica Neue,Helvetica,sans-serif; font-size:12; text-anchor:end;\" transform=\"rotate(0, 33.502, 200.308)\" x=\"33.502\" y=\"200.308\">-1.0</text>\n",
       "</g>\n",
       "<g clip-path=\"url(#clip0500)\">\n",
       "<text style=\"fill:#000000; fill-opacity:1; font-family:Arial,Helvetica Neue,Helvetica,sans-serif; font-size:12; text-anchor:end;\" transform=\"rotate(0, 33.502, 145.538)\" x=\"33.502\" y=\"145.538\">-0.9</text>\n",
       "</g>\n",
       "<g clip-path=\"url(#clip0500)\">\n",
       "<text style=\"fill:#000000; fill-opacity:1; font-family:Arial,Helvetica Neue,Helvetica,sans-serif; font-size:12; text-anchor:end;\" transform=\"rotate(0, 33.502, 90.7668)\" x=\"33.502\" y=\"90.7668\">-0.8</text>\n",
       "</g>\n",
       "<g clip-path=\"url(#clip0500)\">\n",
       "<text style=\"fill:#000000; fill-opacity:1; font-family:Arial,Helvetica Neue,Helvetica,sans-serif; font-size:12; text-anchor:end;\" transform=\"rotate(0, 33.502, 35.9961)\" x=\"33.502\" y=\"35.9961\">-0.7</text>\n",
       "</g>\n",
       "<g clip-path=\"url(#clip0500)\">\n",
       "<text style=\"fill:#000000; fill-opacity:1; font-family:Arial,Helvetica Neue,Helvetica,sans-serif; font-size:21; text-anchor:middle;\" transform=\"rotate(0, 309.908, 18)\" x=\"309.908\" y=\"18\">Utility function, CRRA</text>\n",
       "</g>\n",
       "<g clip-path=\"url(#clip0500)\">\n",
       "<text style=\"fill:#000000; fill-opacity:1; font-family:Arial,Helvetica Neue,Helvetica,sans-serif; font-size:16; text-anchor:middle;\" transform=\"rotate(0, 309.908, 397.6)\" x=\"309.908\" y=\"397.6\">x</text>\n",
       "</g>\n",
       "<polyline clip-path=\"url(#clip0502)\" style=\"stroke:#ff0000; stroke-width:2; stroke-opacity:1; fill:none\" points=\"\n",
       "  39.502,332.735 62.0359,318.763 84.5698,305.35 107.104,292.463 129.638,280.071 152.171,268.147 174.705,256.665 197.239,245.6 219.773,234.93 242.307,224.635 \n",
       "  264.841,214.695 287.375,205.092 309.908,195.808 332.442,186.83 354.976,178.14 377.51,169.727 400.044,161.577 422.578,153.677 445.112,146.017 467.646,138.585 \n",
       "  490.179,131.372 512.713,124.368 535.247,117.564 557.781,110.952 580.315,104.524 \n",
       "  \"/>\n",
       "<circle clip-path=\"url(#clip0502)\" style=\"fill:#000000; stroke:none; fill-opacity:1\" cx=\"107.104\" cy=\"292.463\" r=\"4\"/>\n",
       "<circle clip-path=\"url(#clip0502)\" style=\"fill:#008000; stroke:none; fill-opacity:1\" cx=\"107.104\" cy=\"292.463\" r=\"3\"/>\n",
       "<circle clip-path=\"url(#clip0502)\" style=\"fill:#000000; stroke:none; fill-opacity:1\" cx=\"512.713\" cy=\"124.368\" r=\"4\"/>\n",
       "<circle clip-path=\"url(#clip0502)\" style=\"fill:#008000; stroke:none; fill-opacity:1\" cx=\"512.713\" cy=\"124.368\" r=\"3\"/>\n",
       "<polygon clip-path=\"url(#clip0502)\" style=\"fill:#000000; fill-opacity:1\" points=\"\n",
       "  304.908,203.415 304.908,213.415 314.908,213.415 314.908,203.415 304.908,203.415 \n",
       "  \"/>\n",
       "<polygon clip-path=\"url(#clip0502)\" style=\"fill:#0000ff; fill-opacity:1\" points=\"\n",
       "  305.908,204.415 305.908,212.415 313.908,212.415 313.908,204.415 305.908,204.415 \n",
       "  \"/>\n",
       "<polygon clip-path=\"url(#clip0500)\" points=\"\n",
       "57.502,112.856 223.841,112.856 223.841,52.3761 57.502,52.3761 \n",
       "  \" fill=\"#ffffff\" fill-opacity=\"1\"/>\n",
       "<polyline clip-path=\"url(#clip0500)\" style=\"stroke:#000000; stroke-width:1; stroke-opacity:1; fill:none\" points=\"\n",
       "  57.502,112.856 223.841,112.856 223.841,52.3761 57.502,52.3761 57.502,112.856 \n",
       "  \"/>\n",
       "<polyline clip-path=\"url(#clip0500)\" style=\"stroke:#ff0000; stroke-width:2; stroke-opacity:1; fill:none\" points=\"\n",
       "  63.502,67.4961 99.502,67.4961 \n",
       "  \"/>\n",
       "<g clip-path=\"url(#clip0500)\">\n",
       "<text style=\"fill:#000000; fill-opacity:1; font-family:Arial,Helvetica Neue,Helvetica,sans-serif; font-size:12; text-anchor:start;\" transform=\"rotate(0, 105.502, 71.9961)\" x=\"105.502\" y=\"71.9961\">Utility fn</text>\n",
       "</g>\n",
       "<circle clip-path=\"url(#clip0500)\" style=\"fill:#000000; stroke:none; fill-opacity:1\" cx=\"84.502\" cy=\"82.6161\" r=\"6\"/>\n",
       "<circle clip-path=\"url(#clip0500)\" style=\"fill:#008000; stroke:none; fill-opacity:1\" cx=\"84.502\" cy=\"82.6161\" r=\"5\"/>\n",
       "<g clip-path=\"url(#clip0500)\">\n",
       "<text style=\"fill:#000000; fill-opacity:1; font-family:Arial,Helvetica Neue,Helvetica,sans-serif; font-size:12; text-anchor:start;\" transform=\"rotate(0, 105.502, 87.1161)\" x=\"105.502\" y=\"87.1161\">possible outcomes  </text>\n",
       "</g>\n",
       "<polygon clip-path=\"url(#clip0500)\" style=\"fill:#000000; fill-opacity:1\" points=\"\n",
       "  77.502,90.7361 77.502,104.736 91.502,104.736 91.502,90.7361 77.502,90.7361 \n",
       "  \"/>\n",
       "<polygon clip-path=\"url(#clip0500)\" style=\"fill:#0000ff; fill-opacity:1\" points=\"\n",
       "  78.502,91.7361 78.502,103.736 90.502,103.736 90.502,91.7361 78.502,91.7361 \n",
       "  \"/>\n",
       "<g clip-path=\"url(#clip0500)\">\n",
       "<text style=\"fill:#000000; fill-opacity:1; font-family:Arial,Helvetica Neue,Helvetica,sans-serif; font-size:12; text-anchor:start;\" transform=\"rotate(0, 105.502, 102.236)\" x=\"105.502\" y=\"102.236\">Expected utility </text>\n",
       "</g>\n",
       "</svg>\n"
      ]
     },
     "execution_count": 7,
     "metadata": {},
     "output_type": "execute_result"
    }
   ],
   "source": [
    "plot(x,U.(x,2),color=:red,linewidth=2,label=\"Utility fn\")\n",
    "scatter!([x₁;x₂],U.([x₁;x₂],2),color=:green,label=\"possible outcomes  \")\n",
    "scatter!([Ex],[ExpUtil],color=:blue,marker=:rect,label=\"Expected utility \")\n",
    "plot!(xlim=extrema(x),ylim=(-1.3,-0.7),legend=:topleft)\n",
    "title!(\"Utility function, CRRA\")\n",
    "xlabel!(\"x\")\n",
    "ylabel!(\"\")"
   ]
  },
  {
   "cell_type": "markdown",
   "metadata": {},
   "source": [
    "# Certainty Equivalent"
   ]
  },
  {
   "cell_type": "markdown",
   "metadata": {},
   "source": [
    "Recall: the certainty equivalent (here denoted $P$) is the sure (non-stochastic) value that solves \n",
    "\n",
    "$U(P) = \\text{E}U(x)$\n",
    "\n",
    "The code below solves for $P$ by a numerial search (actually, we could do it analytically in this case). This is applied to different values of risk aversion.\n",
    "\n",
    "Notice that the expected wealth level in this example is 1."
   ]
  },
  {
   "cell_type": "code",
   "execution_count": 8,
   "metadata": {},
   "outputs": [
    {
     "name": "stdout",
     "output_type": "stream",
     "text": [
      "risk aversion and certainly equivalent (cf. Ex = 1.0)\n",
      "     0.000     1.000\n",
      "     2.000     0.978\n",
      "     5.000     0.947\n",
      "    10.000     0.912\n",
      "    25.000     0.875\n"
     ]
    }
   ],
   "source": [
    "println(\"risk aversion and certainly equivalent (cf. Ex = $Ex)\")\n",
    "γM = [0.0001;2;5;10;25]\n",
    "for γ in γM\n",
    "    local ceq\n",
    "    ceq = find_zero(P->EU([x₁ x₂],[π₁ π₂],γ) - U(P,γ),(0.5,1.5))\n",
    "    printlnPs([γ ceq])\n",
    "end"
   ]
  },
  {
   "cell_type": "markdown",
   "metadata": {},
   "source": [
    "# Portfolio Choice with One Risky Asset"
   ]
  },
  {
   "cell_type": "markdown",
   "metadata": {},
   "source": [
    "Recall: the investor solves $\\max\\nolimits_{v}\\text{E}\\ln (R_{p}+1)\\text{, with }R_{p}=vR_{1} + (1-v)R_{f}$\n",
    "\n",
    "In the example below, there are two possible outcomes for $R_{1}$ (-0.2 and 0.5) with equal probabilities.\n",
    "\n",
    "This particular problem can be solved by pen and paper, but it becomes very difficult when the number of states increase - and even worse when there are many assets. We therefore apply a numerical optimization algorithm."
   ]
  },
  {
   "cell_type": "code",
   "execution_count": 9,
   "metadata": {},
   "outputs": [
    {
     "data": {
      "text/plain": [
       "EUc"
      ]
     },
     "execution_count": 9,
     "metadata": {},
     "output_type": "execute_result"
    }
   ],
   "source": [
    "\"\"\"\n",
    "    EUc\n",
    "\n",
    "Calculate expected utility (log(Rp+1)) from investing into one risky and one riskfree asset\n",
    "\n",
    "v: scalar\n",
    "π: S vector (S possible \"states\")\n",
    "R: S vector, return of the risky asset in different states\n",
    "Rf: scalar, riskfree rate\n",
    "\"\"\"\n",
    "function EUc(v,π,Re,Rf)             #expected utility, utility fn is logarithmic\n",
    "    R  = Re .+ Rf                   \n",
    "    Rp = v*R .+ (1-v)*Rf            #portfolio return\n",
    "    EU = sum(π .* log.(Rp.+1))      #expected utility\n",
    "    return EU\n",
    "end"
   ]
  },
  {
   "cell_type": "code",
   "execution_count": 10,
   "metadata": {},
   "outputs": [],
   "source": [
    "v = linspace(-1,1,101)              #try different weights on risky asset\n",
    "#v = range(-1,stop=1,length=101)    #in 0.7\n",
    "L = length(v)\n",
    "EUv = fill(NaN,L)\n",
    "for i = 1:L\n",
    "    EUv[i] = EUc(v[i],[0.5;0.5],[-0.3;0.4],0.1)\n",
    "end"
   ]
  },
  {
   "cell_type": "code",
   "execution_count": 11,
   "metadata": {},
   "outputs": [
    {
     "data": {
      "image/svg+xml": [
       "<?xml version=\"1.0\" encoding=\"utf-8\"?>\n",
       "<svg xmlns=\"http://www.w3.org/2000/svg\" xmlns:xlink=\"http://www.w3.org/1999/xlink\" width=\"600\" height=\"400\" viewBox=\"0 0 600 400\">\n",
       "<defs>\n",
       "  <clipPath id=\"clip0700\">\n",
       "    <rect x=\"0\" y=\"0\" width=\"600\" height=\"400\"/>\n",
       "  </clipPath>\n",
       "</defs>\n",
       "<polygon clip-path=\"url(#clip0700)\" points=\"\n",
       "0,400 600,400 600,0 0,0 \n",
       "  \" fill=\"#ffffff\" fill-opacity=\"1\"/>\n",
       "<defs>\n",
       "  <clipPath id=\"clip0701\">\n",
       "    <rect x=\"120\" y=\"0\" width=\"421\" height=\"400\"/>\n",
       "  </clipPath>\n",
       "</defs>\n",
       "<polygon clip-path=\"url(#clip0700)\" points=\"\n",
       "45.8557,360.121 580.315,360.121 580.315,31.4961 45.8557,31.4961 \n",
       "  \" fill=\"#ffffff\" fill-opacity=\"1\"/>\n",
       "<defs>\n",
       "  <clipPath id=\"clip0702\">\n",
       "    <rect x=\"45\" y=\"31\" width=\"535\" height=\"330\"/>\n",
       "  </clipPath>\n",
       "</defs>\n",
       "<polyline clip-path=\"url(#clip0702)\" style=\"stroke:#000000; stroke-width:0.5; stroke-opacity:0.1; fill:none\" points=\"\n",
       "  45.8557,360.121 45.8557,31.4961 \n",
       "  \"/>\n",
       "<polyline clip-path=\"url(#clip0702)\" style=\"stroke:#000000; stroke-width:0.5; stroke-opacity:0.1; fill:none\" points=\"\n",
       "  179.47,360.121 179.47,31.4961 \n",
       "  \"/>\n",
       "<polyline clip-path=\"url(#clip0702)\" style=\"stroke:#000000; stroke-width:0.5; stroke-opacity:0.1; fill:none\" points=\"\n",
       "  313.085,360.121 313.085,31.4961 \n",
       "  \"/>\n",
       "<polyline clip-path=\"url(#clip0702)\" style=\"stroke:#000000; stroke-width:0.5; stroke-opacity:0.1; fill:none\" points=\"\n",
       "  446.7,360.121 446.7,31.4961 \n",
       "  \"/>\n",
       "<polyline clip-path=\"url(#clip0702)\" style=\"stroke:#000000; stroke-width:0.5; stroke-opacity:0.1; fill:none\" points=\"\n",
       "  580.315,360.121 580.315,31.4961 \n",
       "  \"/>\n",
       "<polyline clip-path=\"url(#clip0702)\" style=\"stroke:#000000; stroke-width:0.5; stroke-opacity:0.1; fill:none\" points=\"\n",
       "  45.8557,331.435 580.315,331.435 \n",
       "  \"/>\n",
       "<polyline clip-path=\"url(#clip0702)\" style=\"stroke:#000000; stroke-width:0.5; stroke-opacity:0.1; fill:none\" points=\"\n",
       "  45.8557,260.44 580.315,260.44 \n",
       "  \"/>\n",
       "<polyline clip-path=\"url(#clip0702)\" style=\"stroke:#000000; stroke-width:0.5; stroke-opacity:0.1; fill:none\" points=\"\n",
       "  45.8557,189.445 580.315,189.445 \n",
       "  \"/>\n",
       "<polyline clip-path=\"url(#clip0702)\" style=\"stroke:#000000; stroke-width:0.5; stroke-opacity:0.1; fill:none\" points=\"\n",
       "  45.8557,118.45 580.315,118.45 \n",
       "  \"/>\n",
       "<polyline clip-path=\"url(#clip0702)\" style=\"stroke:#000000; stroke-width:0.5; stroke-opacity:0.1; fill:none\" points=\"\n",
       "  45.8557,47.4549 580.315,47.4549 \n",
       "  \"/>\n",
       "<polyline clip-path=\"url(#clip0700)\" style=\"stroke:#000000; stroke-width:1; stroke-opacity:1; fill:none\" points=\"\n",
       "  45.8557,360.121 580.315,360.121 \n",
       "  \"/>\n",
       "<polyline clip-path=\"url(#clip0700)\" style=\"stroke:#000000; stroke-width:1; stroke-opacity:1; fill:none\" points=\"\n",
       "  45.8557,360.121 45.8557,31.4961 \n",
       "  \"/>\n",
       "<polyline clip-path=\"url(#clip0700)\" style=\"stroke:#000000; stroke-width:1; stroke-opacity:1; fill:none\" points=\"\n",
       "  45.8557,360.121 45.8557,355.191 \n",
       "  \"/>\n",
       "<polyline clip-path=\"url(#clip0700)\" style=\"stroke:#000000; stroke-width:1; stroke-opacity:1; fill:none\" points=\"\n",
       "  179.47,360.121 179.47,355.191 \n",
       "  \"/>\n",
       "<polyline clip-path=\"url(#clip0700)\" style=\"stroke:#000000; stroke-width:1; stroke-opacity:1; fill:none\" points=\"\n",
       "  313.085,360.121 313.085,355.191 \n",
       "  \"/>\n",
       "<polyline clip-path=\"url(#clip0700)\" style=\"stroke:#000000; stroke-width:1; stroke-opacity:1; fill:none\" points=\"\n",
       "  446.7,360.121 446.7,355.191 \n",
       "  \"/>\n",
       "<polyline clip-path=\"url(#clip0700)\" style=\"stroke:#000000; stroke-width:1; stroke-opacity:1; fill:none\" points=\"\n",
       "  580.315,360.121 580.315,355.191 \n",
       "  \"/>\n",
       "<polyline clip-path=\"url(#clip0700)\" style=\"stroke:#000000; stroke-width:1; stroke-opacity:1; fill:none\" points=\"\n",
       "  45.8557,331.435 53.8726,331.435 \n",
       "  \"/>\n",
       "<polyline clip-path=\"url(#clip0700)\" style=\"stroke:#000000; stroke-width:1; stroke-opacity:1; fill:none\" points=\"\n",
       "  45.8557,260.44 53.8726,260.44 \n",
       "  \"/>\n",
       "<polyline clip-path=\"url(#clip0700)\" style=\"stroke:#000000; stroke-width:1; stroke-opacity:1; fill:none\" points=\"\n",
       "  45.8557,189.445 53.8726,189.445 \n",
       "  \"/>\n",
       "<polyline clip-path=\"url(#clip0700)\" style=\"stroke:#000000; stroke-width:1; stroke-opacity:1; fill:none\" points=\"\n",
       "  45.8557,118.45 53.8726,118.45 \n",
       "  \"/>\n",
       "<polyline clip-path=\"url(#clip0700)\" style=\"stroke:#000000; stroke-width:1; stroke-opacity:1; fill:none\" points=\"\n",
       "  45.8557,47.4549 53.8726,47.4549 \n",
       "  \"/>\n",
       "<g clip-path=\"url(#clip0700)\">\n",
       "<text style=\"fill:#000000; fill-opacity:1; font-family:Arial,Helvetica Neue,Helvetica,sans-serif; font-size:12; text-anchor:middle;\" transform=\"rotate(0, 45.8557, 373.921)\" x=\"45.8557\" y=\"373.921\">-1.0</text>\n",
       "</g>\n",
       "<g clip-path=\"url(#clip0700)\">\n",
       "<text style=\"fill:#000000; fill-opacity:1; font-family:Arial,Helvetica Neue,Helvetica,sans-serif; font-size:12; text-anchor:middle;\" transform=\"rotate(0, 179.47, 373.921)\" x=\"179.47\" y=\"373.921\">-0.5</text>\n",
       "</g>\n",
       "<g clip-path=\"url(#clip0700)\">\n",
       "<text style=\"fill:#000000; fill-opacity:1; font-family:Arial,Helvetica Neue,Helvetica,sans-serif; font-size:12; text-anchor:middle;\" transform=\"rotate(0, 313.085, 373.921)\" x=\"313.085\" y=\"373.921\">0.0</text>\n",
       "</g>\n",
       "<g clip-path=\"url(#clip0700)\">\n",
       "<text style=\"fill:#000000; fill-opacity:1; font-family:Arial,Helvetica Neue,Helvetica,sans-serif; font-size:12; text-anchor:middle;\" transform=\"rotate(0, 446.7, 373.921)\" x=\"446.7\" y=\"373.921\">0.5</text>\n",
       "</g>\n",
       "<g clip-path=\"url(#clip0700)\">\n",
       "<text style=\"fill:#000000; fill-opacity:1; font-family:Arial,Helvetica Neue,Helvetica,sans-serif; font-size:12; text-anchor:middle;\" transform=\"rotate(0, 580.315, 373.921)\" x=\"580.315\" y=\"373.921\">1.0</text>\n",
       "</g>\n",
       "<g clip-path=\"url(#clip0700)\">\n",
       "<text style=\"fill:#000000; fill-opacity:1; font-family:Arial,Helvetica Neue,Helvetica,sans-serif; font-size:12; text-anchor:end;\" transform=\"rotate(0, 39.8557, 335.935)\" x=\"39.8557\" y=\"335.935\">0.000</text>\n",
       "</g>\n",
       "<g clip-path=\"url(#clip0700)\">\n",
       "<text style=\"fill:#000000; fill-opacity:1; font-family:Arial,Helvetica Neue,Helvetica,sans-serif; font-size:12; text-anchor:end;\" transform=\"rotate(0, 39.8557, 264.94)\" x=\"39.8557\" y=\"264.94\">0.025</text>\n",
       "</g>\n",
       "<g clip-path=\"url(#clip0700)\">\n",
       "<text style=\"fill:#000000; fill-opacity:1; font-family:Arial,Helvetica Neue,Helvetica,sans-serif; font-size:12; text-anchor:end;\" transform=\"rotate(0, 39.8557, 193.945)\" x=\"39.8557\" y=\"193.945\">0.050</text>\n",
       "</g>\n",
       "<g clip-path=\"url(#clip0700)\">\n",
       "<text style=\"fill:#000000; fill-opacity:1; font-family:Arial,Helvetica Neue,Helvetica,sans-serif; font-size:12; text-anchor:end;\" transform=\"rotate(0, 39.8557, 122.95)\" x=\"39.8557\" y=\"122.95\">0.075</text>\n",
       "</g>\n",
       "<g clip-path=\"url(#clip0700)\">\n",
       "<text style=\"fill:#000000; fill-opacity:1; font-family:Arial,Helvetica Neue,Helvetica,sans-serif; font-size:12; text-anchor:end;\" transform=\"rotate(0, 39.8557, 51.9549)\" x=\"39.8557\" y=\"51.9549\">0.100</text>\n",
       "</g>\n",
       "<g clip-path=\"url(#clip0700)\">\n",
       "<text style=\"fill:#000000; fill-opacity:1; font-family:Arial,Helvetica Neue,Helvetica,sans-serif; font-size:21; text-anchor:middle;\" transform=\"rotate(0, 313.085, 18)\" x=\"313.085\" y=\"18\">Expected utility. Where is the optimum?</text>\n",
       "</g>\n",
       "<g clip-path=\"url(#clip0700)\">\n",
       "<text style=\"fill:#000000; fill-opacity:1; font-family:Arial,Helvetica Neue,Helvetica,sans-serif; font-size:16; text-anchor:middle;\" transform=\"rotate(0, 313.085, 397.6)\" x=\"313.085\" y=\"397.6\">weight (v) on risky asset</text>\n",
       "</g>\n",
       "<polyline clip-path=\"url(#clip0702)\" style=\"stroke:#ff0000; stroke-width:2; stroke-opacity:1; fill:none\" points=\"\n",
       "  45.8557,360.121 51.2003,350.084 56.5448,340.254 61.8894,330.629 67.234,321.203 72.5786,311.974 77.9232,302.938 83.2678,294.093 88.6124,285.434 93.957,276.958 \n",
       "  99.3016,268.664 104.646,260.547 109.991,252.605 115.335,244.836 120.68,237.236 126.025,229.804 131.369,222.537 136.714,215.432 142.058,208.488 147.403,201.702 \n",
       "  152.748,195.072 158.092,188.596 163.437,182.272 168.781,176.098 174.126,170.073 179.47,164.195 184.815,158.461 190.16,152.871 195.504,147.422 200.849,142.113 \n",
       "  206.193,136.943 211.538,131.911 216.883,127.014 222.227,122.251 227.572,117.622 232.916,113.124 238.261,108.758 243.606,104.521 248.95,100.412 254.295,96.4305 \n",
       "  259.639,92.5755 264.984,88.8459 270.329,85.2406 275.673,81.7588 281.018,78.3995 286.362,75.162 291.707,72.0454 297.052,69.0489 302.396,66.1718 307.741,63.4134 \n",
       "  313.085,60.773 318.43,58.2499 323.774,55.8436 329.119,53.5534 334.464,51.3788 339.808,49.3193 345.153,47.3744 350.497,45.5435 355.842,43.8264 361.187,42.2224 \n",
       "  366.531,40.7314 371.876,39.3529 377.22,38.0866 382.565,36.9322 387.91,35.8894 393.254,34.958 398.599,34.1378 403.943,33.4286 409.288,32.8301 414.633,32.3424 \n",
       "  419.977,31.9651 425.322,31.6984 430.666,31.542 436.011,31.4961 441.356,31.5604 446.7,31.7352 452.045,32.0203 457.389,32.416 462.734,32.9222 468.079,33.5391 \n",
       "  473.423,34.2668 478.768,35.1056 484.112,36.0555 489.457,37.1168 494.801,38.2899 500.146,39.5749 505.491,40.9721 510.835,42.4819 516.18,44.1047 521.524,45.8408 \n",
       "  526.869,47.6906 532.214,49.6546 537.558,51.7333 542.903,53.9271 548.247,56.2366 553.592,58.6623 558.937,61.2049 564.281,63.8649 569.626,66.6431 574.97,69.54 \n",
       "  580.315,72.5565 \n",
       "  \"/>\n",
       "</svg>\n"
      ]
     },
     "execution_count": 11,
     "metadata": {},
     "output_type": "execute_result"
    }
   ],
   "source": [
    "plot(v,EUv,color=:red,linewidth=2,legend=false)\n",
    "title!(\"Expected utility. Where is the optimum?\")\n",
    "xlabel!(\"weight (v) on risky asset\")"
   ]
  },
  {
   "cell_type": "code",
   "execution_count": 12,
   "metadata": {},
   "outputs": [
    {
     "name": "stdout",
     "output_type": "stream",
     "text": [
      "argmin -EUc():      0.458\n",
      "Compare with the figure\n"
     ]
    }
   ],
   "source": [
    "#minimize -EU()\n",
    "Sol = optimize(v-> -EUc(v,[0.5;0.5],[-0.3;0.4],0.1),-1,1)   #try v values between -1 and 1\n",
    "printlnPs(\"argmin -EUc(): \",Optim.minimizer(Sol))\n",
    "\n",
    "println(\"Compare with the figure\")"
   ]
  },
  {
   "cell_type": "markdown",
   "metadata": {},
   "source": [
    "# Portfolio Choice with Several Risky Assets"
   ]
  },
  {
   "cell_type": "markdown",
   "metadata": {},
   "source": [
    "This optimization problem has two risky assets and a general CRRA utility function. Numerical optimization is still easy."
   ]
  },
  {
   "cell_type": "code",
   "execution_count": 13,
   "metadata": {},
   "outputs": [
    {
     "data": {
      "text/plain": [
       "EUe"
      ]
     },
     "execution_count": 13,
     "metadata": {},
     "output_type": "execute_result"
    }
   ],
   "source": [
    "\"\"\"\n",
    "    EUe\n",
    "\n",
    "Calculate expected utility from investing into n risky assets and one riskfree asset\n",
    "\n",
    "v:  n vector (weights on the n risky assets)\n",
    "π:  S vector (S possible \"states\")\n",
    "R:  nxS matrix, each column is the n vector of returns in one of the states\n",
    "Rf: scalar, riskfree rate\n",
    "γ:  scalar, risk aversion\n",
    "\"\"\"\n",
    "function EUe(v,π,R,Rf,γ)                \n",
    "    Rp = v'R .+ (1-sum(v))*Rf           #portfolio return, row vector (different states)\n",
    "    Rp = vec(Rp)                        #turn Rp into a vector\n",
    "    EUNeg = -EU(1 .+ Rp,π,γ)            #since optimize() minimizes\n",
    "    return EUNeg\n",
    "end"
   ]
  },
  {
   "cell_type": "code",
   "execution_count": 14,
   "metadata": {},
   "outputs": [
    {
     "name": "stdout",
     "output_type": "stream",
     "text": [
      "optimal weights from max EUe():     -0.726     1.317\n"
     ]
    }
   ],
   "source": [
    "ROutComes = [-0.03 0.08 0.20;           #2 assets, 3 states\n",
    "             -0.04 0.22 0.15]           #cell[i,j] is asset i in state j\n",
    "π = [1/3;1/3;1/3]\n",
    "Rf = 0.065\n",
    "Sol = optimize(v->EUe(v,π,ROutComes,Rf,5),[-0.6;1.2])         \n",
    "printlnPs(\"optimal weights from max EUe(): \",Optim.minimizer(Sol))"
   ]
  },
  {
   "cell_type": "markdown",
   "metadata": {},
   "source": [
    "# From Chapter on Mean-Variance Analysis"
   ]
  },
  {
   "cell_type": "code",
   "execution_count": 15,
   "metadata": {},
   "outputs": [
    {
     "data": {
      "text/plain": [
       "MVCalcRf (generic function with 1 method)"
      ]
     },
     "execution_count": 15,
     "metadata": {},
     "output_type": "execute_result"
    }
   ],
   "source": [
    "function MVCalc(mustar,μ,Σ)           #calculates the std of a portfolio on MVF of risky assets\n",
    "    n    = length(μ)\n",
    "    oneV = ones(n) \n",
    "    Σ_1  = inv(Σ)\n",
    "    A    = μ'Σ_1*μ\n",
    "    B    = μ'Σ_1*oneV\n",
    "    C    = oneV'Σ_1*oneV\n",
    "    λ    = (C*mustar - B)/(A*C-B^2)\n",
    "    δ    = (A-B*mustar)/(A*C-B^2)\n",
    "    w    = Σ_1 *(μ*λ + oneV*δ)\n",
    "    StdRp = sqrt(w'Σ*w)\n",
    "    return StdRp,w\n",
    "end\n",
    "\n",
    "function MVCalcRf(mustar,μ,Σ,Rf)           #calculates the std of a portfolio on MVF\n",
    "    n   = length(μ)\n",
    "    μe  = μ .- Rf                          #excess returns            \n",
    "    Σ_1 = inv(Σ)\n",
    "    w   = (mustar-Rf)/(μe'Σ_1*μe) * Σ_1*μe\n",
    "    StdRp = sqrt(w'Σ*w)\n",
    "    return StdRp,w\n",
    "end"
   ]
  },
  {
   "cell_type": "markdown",
   "metadata": {},
   "source": [
    "# Mean-Variance and the Telser Criterion"
   ]
  },
  {
   "cell_type": "markdown",
   "metadata": {},
   "source": [
    "Let $\\mu$ be a vector of expected returns and $\\Sigma$ be the covariance matrix of the investible asssets.\n",
    "\n",
    "The Telser criterion solves the problem\n",
    "\n",
    "$\\max_{v} \\mu_{p} \\> \\text{ subject to} \\>  \\text{VaR}_{95\\%} < 0.1$,\n",
    "\n",
    "where $\\mu_{p} = v'\\mu+(1-v)R_f$ is the expected portfolio return.\n",
    "\n",
    "If the returns are normally distributed then \n",
    "\n",
    "$\\text{VaR}_{95\\%} = -(\\mu_p - 1.64\\sigma_p)$,\n",
    "\n",
    "where $\\sigma_p = \\sqrt{v'\\Sigma v}$ is the standard deviation of the portfolio return.\n",
    "\n",
    "The figure below illustrates that the optimal portfolio is on the CLM (when the returns are normally distributed)"
   ]
  },
  {
   "cell_type": "code",
   "execution_count": 16,
   "metadata": {},
   "outputs": [
    {
     "name": "stdout",
     "output_type": "stream",
     "text": [
      "\n"
     ]
    }
   ],
   "source": [
    "μ = [9; 6]/100                     #means\n",
    "Σ = [ 256  0;\n",
    "      0    144]/10000\n",
    "Rf = 1/100\n",
    "\n",
    "mustar  = linspace(Rf,0.1,101)\n",
    "#mustar  = range(Rf,stop=0.1,length=101)    in 0.7\n",
    "L       = length(mustar)\n",
    "StdRp   = fill(NaN,L)\n",
    "StdRpRf = fill(NaN,L)\n",
    "for i = 1:L\n",
    "    StdRp[i]   = MVCalc(mustar[i],μ,Σ)[1]\n",
    "    StdRpRf[i] = MVCalcRf(mustar[i],μ,Σ,Rf)[1]\n",
    "end   \n",
    "\n",
    "VaRRestr = -0.1 .+ 1.64*StdRpRf\n",
    "\n",
    "println()"
   ]
  },
  {
   "cell_type": "code",
   "execution_count": 17,
   "metadata": {
    "scrolled": true
   },
   "outputs": [
    {
     "data": {
      "image/svg+xml": [
       "<?xml version=\"1.0\" encoding=\"utf-8\"?>\n",
       "<svg xmlns=\"http://www.w3.org/2000/svg\" xmlns:xlink=\"http://www.w3.org/1999/xlink\" width=\"600\" height=\"400\" viewBox=\"0 0 600 400\">\n",
       "<defs>\n",
       "  <clipPath id=\"clip0900\">\n",
       "    <rect x=\"0\" y=\"0\" width=\"600\" height=\"400\"/>\n",
       "  </clipPath>\n",
       "</defs>\n",
       "<polygon clip-path=\"url(#clip0900)\" points=\"\n",
       "0,400 600,400 600,0 0,0 \n",
       "  \" fill=\"#ffffff\" fill-opacity=\"1\"/>\n",
       "<defs>\n",
       "  <clipPath id=\"clip0901\">\n",
       "    <rect x=\"120\" y=\"0\" width=\"421\" height=\"400\"/>\n",
       "  </clipPath>\n",
       "</defs>\n",
       "<polygon clip-path=\"url(#clip0900)\" points=\"\n",
       "44.8772,360.121 580.315,360.121 580.315,31.4961 44.8772,31.4961 \n",
       "  \" fill=\"#ffffff\" fill-opacity=\"1\"/>\n",
       "<defs>\n",
       "  <clipPath id=\"clip0902\">\n",
       "    <rect x=\"44\" y=\"31\" width=\"536\" height=\"330\"/>\n",
       "  </clipPath>\n",
       "</defs>\n",
       "<polyline clip-path=\"url(#clip0902)\" style=\"stroke:#000000; stroke-width:0.5; stroke-opacity:0.1; fill:none\" points=\"\n",
       "  44.8772,360.121 44.8772,31.4961 \n",
       "  \"/>\n",
       "<polyline clip-path=\"url(#clip0902)\" style=\"stroke:#000000; stroke-width:0.5; stroke-opacity:0.1; fill:none\" points=\"\n",
       "  223.356,360.121 223.356,31.4961 \n",
       "  \"/>\n",
       "<polyline clip-path=\"url(#clip0902)\" style=\"stroke:#000000; stroke-width:0.5; stroke-opacity:0.1; fill:none\" points=\"\n",
       "  401.836,360.121 401.836,31.4961 \n",
       "  \"/>\n",
       "<polyline clip-path=\"url(#clip0902)\" style=\"stroke:#000000; stroke-width:0.5; stroke-opacity:0.1; fill:none\" points=\"\n",
       "  580.315,360.121 580.315,31.4961 \n",
       "  \"/>\n",
       "<polyline clip-path=\"url(#clip0902)\" style=\"stroke:#000000; stroke-width:0.5; stroke-opacity:0.1; fill:none\" points=\"\n",
       "  44.8772,360.121 580.315,360.121 \n",
       "  \"/>\n",
       "<polyline clip-path=\"url(#clip0902)\" style=\"stroke:#000000; stroke-width:0.5; stroke-opacity:0.1; fill:none\" points=\"\n",
       "  44.8772,294.396 580.315,294.396 \n",
       "  \"/>\n",
       "<polyline clip-path=\"url(#clip0902)\" style=\"stroke:#000000; stroke-width:0.5; stroke-opacity:0.1; fill:none\" points=\"\n",
       "  44.8772,228.671 580.315,228.671 \n",
       "  \"/>\n",
       "<polyline clip-path=\"url(#clip0902)\" style=\"stroke:#000000; stroke-width:0.5; stroke-opacity:0.1; fill:none\" points=\"\n",
       "  44.8772,162.946 580.315,162.946 \n",
       "  \"/>\n",
       "<polyline clip-path=\"url(#clip0902)\" style=\"stroke:#000000; stroke-width:0.5; stroke-opacity:0.1; fill:none\" points=\"\n",
       "  44.8772,97.221 580.315,97.221 \n",
       "  \"/>\n",
       "<polyline clip-path=\"url(#clip0902)\" style=\"stroke:#000000; stroke-width:0.5; stroke-opacity:0.1; fill:none\" points=\"\n",
       "  44.8772,31.4961 580.315,31.4961 \n",
       "  \"/>\n",
       "<polyline clip-path=\"url(#clip0900)\" style=\"stroke:#000000; stroke-width:1; stroke-opacity:1; fill:none\" points=\"\n",
       "  44.8772,360.121 580.315,360.121 \n",
       "  \"/>\n",
       "<polyline clip-path=\"url(#clip0900)\" style=\"stroke:#000000; stroke-width:1; stroke-opacity:1; fill:none\" points=\"\n",
       "  44.8772,360.121 44.8772,31.4961 \n",
       "  \"/>\n",
       "<polyline clip-path=\"url(#clip0900)\" style=\"stroke:#000000; stroke-width:1; stroke-opacity:1; fill:none\" points=\"\n",
       "  44.8772,360.121 44.8772,355.191 \n",
       "  \"/>\n",
       "<polyline clip-path=\"url(#clip0900)\" style=\"stroke:#000000; stroke-width:1; stroke-opacity:1; fill:none\" points=\"\n",
       "  223.356,360.121 223.356,355.191 \n",
       "  \"/>\n",
       "<polyline clip-path=\"url(#clip0900)\" style=\"stroke:#000000; stroke-width:1; stroke-opacity:1; fill:none\" points=\"\n",
       "  401.836,360.121 401.836,355.191 \n",
       "  \"/>\n",
       "<polyline clip-path=\"url(#clip0900)\" style=\"stroke:#000000; stroke-width:1; stroke-opacity:1; fill:none\" points=\"\n",
       "  580.315,360.121 580.315,355.191 \n",
       "  \"/>\n",
       "<polyline clip-path=\"url(#clip0900)\" style=\"stroke:#000000; stroke-width:1; stroke-opacity:1; fill:none\" points=\"\n",
       "  44.8772,360.121 52.9088,360.121 \n",
       "  \"/>\n",
       "<polyline clip-path=\"url(#clip0900)\" style=\"stroke:#000000; stroke-width:1; stroke-opacity:1; fill:none\" points=\"\n",
       "  44.8772,294.396 52.9088,294.396 \n",
       "  \"/>\n",
       "<polyline clip-path=\"url(#clip0900)\" style=\"stroke:#000000; stroke-width:1; stroke-opacity:1; fill:none\" points=\"\n",
       "  44.8772,228.671 52.9088,228.671 \n",
       "  \"/>\n",
       "<polyline clip-path=\"url(#clip0900)\" style=\"stroke:#000000; stroke-width:1; stroke-opacity:1; fill:none\" points=\"\n",
       "  44.8772,162.946 52.9088,162.946 \n",
       "  \"/>\n",
       "<polyline clip-path=\"url(#clip0900)\" style=\"stroke:#000000; stroke-width:1; stroke-opacity:1; fill:none\" points=\"\n",
       "  44.8772,97.221 52.9088,97.221 \n",
       "  \"/>\n",
       "<polyline clip-path=\"url(#clip0900)\" style=\"stroke:#000000; stroke-width:1; stroke-opacity:1; fill:none\" points=\"\n",
       "  44.8772,31.4961 52.9088,31.4961 \n",
       "  \"/>\n",
       "<g clip-path=\"url(#clip0900)\">\n",
       "<text style=\"fill:#000000; fill-opacity:1; font-family:Arial,Helvetica Neue,Helvetica,sans-serif; font-size:12; text-anchor:middle;\" transform=\"rotate(0, 44.8772, 373.921)\" x=\"44.8772\" y=\"373.921\">0</text>\n",
       "</g>\n",
       "<g clip-path=\"url(#clip0900)\">\n",
       "<text style=\"fill:#000000; fill-opacity:1; font-family:Arial,Helvetica Neue,Helvetica,sans-serif; font-size:12; text-anchor:middle;\" transform=\"rotate(0, 223.356, 373.921)\" x=\"223.356\" y=\"373.921\">5</text>\n",
       "</g>\n",
       "<g clip-path=\"url(#clip0900)\">\n",
       "<text style=\"fill:#000000; fill-opacity:1; font-family:Arial,Helvetica Neue,Helvetica,sans-serif; font-size:12; text-anchor:middle;\" transform=\"rotate(0, 401.836, 373.921)\" x=\"401.836\" y=\"373.921\">10</text>\n",
       "</g>\n",
       "<g clip-path=\"url(#clip0900)\">\n",
       "<text style=\"fill:#000000; fill-opacity:1; font-family:Arial,Helvetica Neue,Helvetica,sans-serif; font-size:12; text-anchor:middle;\" transform=\"rotate(0, 580.315, 373.921)\" x=\"580.315\" y=\"373.921\">15</text>\n",
       "</g>\n",
       "<g clip-path=\"url(#clip0900)\">\n",
       "<text style=\"fill:#000000; fill-opacity:1; font-family:Arial,Helvetica Neue,Helvetica,sans-serif; font-size:12; text-anchor:end;\" transform=\"rotate(0, 38.8772, 364.621)\" x=\"38.8772\" y=\"364.621\">0</text>\n",
       "</g>\n",
       "<g clip-path=\"url(#clip0900)\">\n",
       "<text style=\"fill:#000000; fill-opacity:1; font-family:Arial,Helvetica Neue,Helvetica,sans-serif; font-size:12; text-anchor:end;\" transform=\"rotate(0, 38.8772, 298.896)\" x=\"38.8772\" y=\"298.896\">2</text>\n",
       "</g>\n",
       "<g clip-path=\"url(#clip0900)\">\n",
       "<text style=\"fill:#000000; fill-opacity:1; font-family:Arial,Helvetica Neue,Helvetica,sans-serif; font-size:12; text-anchor:end;\" transform=\"rotate(0, 38.8772, 233.171)\" x=\"38.8772\" y=\"233.171\">4</text>\n",
       "</g>\n",
       "<g clip-path=\"url(#clip0900)\">\n",
       "<text style=\"fill:#000000; fill-opacity:1; font-family:Arial,Helvetica Neue,Helvetica,sans-serif; font-size:12; text-anchor:end;\" transform=\"rotate(0, 38.8772, 167.446)\" x=\"38.8772\" y=\"167.446\">6</text>\n",
       "</g>\n",
       "<g clip-path=\"url(#clip0900)\">\n",
       "<text style=\"fill:#000000; fill-opacity:1; font-family:Arial,Helvetica Neue,Helvetica,sans-serif; font-size:12; text-anchor:end;\" transform=\"rotate(0, 38.8772, 101.721)\" x=\"38.8772\" y=\"101.721\">8</text>\n",
       "</g>\n",
       "<g clip-path=\"url(#clip0900)\">\n",
       "<text style=\"fill:#000000; fill-opacity:1; font-family:Arial,Helvetica Neue,Helvetica,sans-serif; font-size:12; text-anchor:end;\" transform=\"rotate(0, 38.8772, 35.9961)\" x=\"38.8772\" y=\"35.9961\">10</text>\n",
       "</g>\n",
       "<g clip-path=\"url(#clip0900)\">\n",
       "<text style=\"fill:#000000; fill-opacity:1; font-family:Arial,Helvetica Neue,Helvetica,sans-serif; font-size:21; text-anchor:middle;\" transform=\"rotate(0, 312.596, 18)\" x=\"312.596\" y=\"18\">Mean vs standard deviation (with Rf)</text>\n",
       "</g>\n",
       "<g clip-path=\"url(#clip0900)\">\n",
       "<text style=\"fill:#000000; fill-opacity:1; font-family:Arial,Helvetica Neue,Helvetica,sans-serif; font-size:16; text-anchor:middle;\" transform=\"rotate(0, 312.596, 397.6)\" x=\"312.596\" y=\"397.6\">Std(Rp), %</text>\n",
       "</g>\n",
       "<g clip-path=\"url(#clip0900)\">\n",
       "<text style=\"fill:#000000; fill-opacity:1; font-family:Arial,Helvetica Neue,Helvetica,sans-serif; font-size:16; text-anchor:middle;\" transform=\"rotate(-90, 14.4, 195.808)\" x=\"14.4\" y=\"195.808\">ERp, %</text>\n",
       "</g>\n",
       "<polyline clip-path=\"url(#clip0902)\" style=\"stroke:#ff0000; stroke-width:2; stroke-opacity:1; fill:none\" points=\"\n",
       "  44.8772,327.258 49.8132,324.301 54.7493,321.343 59.6853,318.385 64.6213,315.428 69.5573,312.47 74.4933,309.512 79.4293,306.555 84.3654,303.597 89.3014,300.64 \n",
       "  94.2374,297.682 99.1734,294.724 104.109,291.767 109.045,288.809 113.981,285.851 118.917,282.894 123.853,279.936 128.79,276.979 133.726,274.021 138.662,271.063 \n",
       "  143.598,268.106 148.534,265.148 153.47,262.191 158.406,259.233 163.342,256.275 168.278,253.318 173.214,250.36 178.15,247.402 183.086,244.445 188.022,241.487 \n",
       "  192.958,238.53 197.894,235.572 202.83,232.614 207.766,229.657 212.702,226.699 217.638,223.741 222.574,220.784 227.51,217.826 232.446,214.869 237.382,211.911 \n",
       "  242.318,208.953 247.254,205.996 252.19,203.038 257.126,200.08 262.062,197.123 266.998,194.165 271.934,191.208 276.87,188.25 281.806,185.292 286.742,182.335 \n",
       "  291.678,179.377 296.614,176.42 301.55,173.462 306.486,170.504 311.422,167.547 316.358,164.589 321.294,161.631 326.23,158.674 331.166,155.716 336.102,152.759 \n",
       "  341.038,149.801 345.974,146.843 350.91,143.886 355.846,140.928 360.782,137.97 365.718,135.013 370.654,132.055 375.59,129.098 380.526,126.14 385.462,123.182 \n",
       "  390.398,120.225 395.334,117.267 400.27,114.309 405.206,111.352 410.142,108.394 415.078,105.437 420.014,102.479 424.95,99.5214 429.886,96.5637 434.822,93.6061 \n",
       "  439.759,90.6485 444.695,87.6909 449.631,84.7332 454.567,81.7756 459.503,78.818 464.439,75.8604 469.375,72.9028 474.311,69.9451 479.247,66.9875 484.183,64.0299 \n",
       "  489.119,61.0723 494.055,58.1147 498.991,55.157 503.927,52.1994 508.863,49.2418 513.799,46.2842 518.735,43.3265 523.671,40.3689 528.607,37.4113 533.543,34.4537 \n",
       "  538.479,31.4961 \n",
       "  \"/>\n",
       "<polyline clip-path=\"url(#clip0902)\" style=\"stroke:#008000; stroke-width:2; stroke-opacity:1; fill:none\" points=\"\n",
       "  1531.78,327.258 1510.94,324.301 1490.13,321.343 1469.33,318.385 1448.55,315.428 1427.79,312.47 1407.05,309.512 1386.33,306.555 1365.64,303.597 1344.97,300.64 \n",
       "  1324.32,297.682 1303.7,294.724 1283.1,291.767 1262.54,288.809 1242,285.851 1221.49,282.894 1201.02,279.936 1180.58,276.979 1160.18,274.021 1139.82,271.063 \n",
       "  1119.5,268.106 1099.22,265.148 1078.99,262.191 1058.81,259.233 1038.68,256.275 1018.6,253.318 998.585,250.36 978.63,247.402 958.741,244.445 938.922,241.487 \n",
       "  919.179,238.53 899.516,235.572 879.94,232.614 860.456,229.657 841.072,226.699 821.794,223.741 802.631,220.784 783.593,217.826 764.687,214.869 745.927,211.911 \n",
       "  727.323,208.953 708.888,205.996 690.638,203.038 672.588,200.08 654.755,197.123 637.161,194.165 619.825,191.208 602.774,188.25 586.033,185.292 569.632,182.335 \n",
       "  553.604,179.377 537.986,176.42 522.817,173.462 508.142,170.504 494.009,167.547 480.471,164.589 467.585,161.631 455.412,158.674 444.019,155.716 433.472,152.759 \n",
       "  423.844,149.801 415.205,146.843 407.627,143.886 401.177,140.928 395.917,137.97 391.901,135.013 389.173,132.055 387.764,129.098 387.69,126.14 388.951,123.182 \n",
       "  391.534,120.225 395.408,117.267 400.532,114.309 406.853,111.352 414.31,108.394 422.834,105.437 432.356,102.479 442.804,99.5214 454.107,96.5637 466.196,93.6061 \n",
       "  479.006,90.6485 492.474,87.6909 506.544,84.7332 521.161,81.7756 536.277,78.818 551.848,75.8604 567.832,72.9028 584.193,69.9451 600.898,66.9875 617.916,64.0299 \n",
       "  635.221,61.0723 652.788,58.1147 670.595,55.157 688.622,52.1994 706.851,49.2418 725.266,46.2842 743.852,43.3265 762.596,40.3689 781.485,37.4113 800.51,34.4537 \n",
       "  819.659,31.4961 \n",
       "  \"/>\n",
       "<polyline clip-path=\"url(#clip0902)\" style=\"stroke:#0000ff; stroke-width:1; stroke-opacity:1; fill:none\" stroke-dasharray=\"8, 5\" points=\"\n",
       "  44.8772,688.745 49.8132,681.293 54.7493,673.84 59.6853,666.388 64.6213,658.935 69.5573,651.483 74.4933,644.03 79.4293,636.578 84.3654,629.125 89.3014,621.673 \n",
       "  94.2374,614.22 99.1734,606.768 104.109,599.315 109.045,591.863 113.981,584.41 118.917,576.958 123.853,569.505 128.79,562.053 133.726,554.6 138.662,547.147 \n",
       "  143.598,539.695 148.534,532.242 153.47,524.79 158.406,517.337 163.342,509.885 168.278,502.432 173.214,494.98 178.15,487.527 183.086,480.075 188.022,472.622 \n",
       "  192.958,465.17 197.894,457.717 202.83,450.265 207.766,442.812 212.702,435.36 217.638,427.907 222.574,420.455 227.51,413.002 232.446,405.55 237.382,398.097 \n",
       "  242.318,390.645 247.254,383.192 252.19,375.74 257.126,368.287 262.062,360.835 266.998,353.382 271.934,345.93 276.87,338.477 281.806,331.025 286.742,323.572 \n",
       "  291.678,316.12 296.614,308.667 301.55,301.215 306.486,293.762 311.422,286.31 316.358,278.857 321.294,271.405 326.23,263.952 331.166,256.499 336.102,249.047 \n",
       "  341.038,241.594 345.974,234.142 350.91,226.689 355.846,219.237 360.782,211.784 365.718,204.332 370.654,196.879 375.59,189.427 380.526,181.974 385.462,174.522 \n",
       "  390.398,167.069 395.334,159.617 400.27,152.164 405.206,144.712 410.142,137.259 415.078,129.807 420.014,122.354 424.95,114.902 429.886,107.449 434.822,99.9967 \n",
       "  439.759,92.5442 444.695,85.0917 449.631,77.6392 454.567,70.1867 459.503,62.7341 464.439,55.2816 469.375,47.8291 474.311,40.3766 479.247,32.9241 484.183,25.4716 \n",
       "  489.119,18.0191 494.055,10.5666 498.991,3.11405 503.927,-4.33847 508.863,-11.791 513.799,-19.2435 518.735,-26.696 523.671,-34.1485 528.607,-41.601 533.543,-49.0535 \n",
       "  538.479,-56.5061 \n",
       "  \"/>\n",
       "<polygon clip-path=\"url(#clip0900)\" points=\"\n",
       "62.8772,112.856 201.78,112.856 201.78,52.3761 62.8772,52.3761 \n",
       "  \" fill=\"#ffffff\" fill-opacity=\"1\"/>\n",
       "<polyline clip-path=\"url(#clip0900)\" style=\"stroke:#000000; stroke-width:1; stroke-opacity:1; fill:none\" points=\"\n",
       "  62.8772,112.856 201.78,112.856 201.78,52.3761 62.8772,52.3761 62.8772,112.856 \n",
       "  \"/>\n",
       "<polyline clip-path=\"url(#clip0900)\" style=\"stroke:#ff0000; stroke-width:2; stroke-opacity:1; fill:none\" points=\"\n",
       "  68.8772,67.4961 104.877,67.4961 \n",
       "  \"/>\n",
       "<g clip-path=\"url(#clip0900)\">\n",
       "<text style=\"fill:#000000; fill-opacity:1; font-family:Arial,Helvetica Neue,Helvetica,sans-serif; font-size:12; text-anchor:start;\" transform=\"rotate(0, 110.877, 71.9961)\" x=\"110.877\" y=\"71.9961\">CML</text>\n",
       "</g>\n",
       "<polyline clip-path=\"url(#clip0900)\" style=\"stroke:#008000; stroke-width:2; stroke-opacity:1; fill:none\" points=\"\n",
       "  68.8772,82.6161 104.877,82.6161 \n",
       "  \"/>\n",
       "<g clip-path=\"url(#clip0900)\">\n",
       "<text style=\"fill:#000000; fill-opacity:1; font-family:Arial,Helvetica Neue,Helvetica,sans-serif; font-size:12; text-anchor:start;\" transform=\"rotate(0, 110.877, 87.1161)\" x=\"110.877\" y=\"87.1161\">MVF</text>\n",
       "</g>\n",
       "<polyline clip-path=\"url(#clip0900)\" style=\"stroke:#0000ff; stroke-width:1; stroke-opacity:1; fill:none\" stroke-dasharray=\"8, 5\" points=\"\n",
       "  68.8772,97.7361 104.877,97.7361 \n",
       "  \"/>\n",
       "<g clip-path=\"url(#clip0900)\">\n",
       "<text style=\"fill:#000000; fill-opacity:1; font-family:Arial,Helvetica Neue,Helvetica,sans-serif; font-size:12; text-anchor:start;\" transform=\"rotate(0, 110.877, 102.236)\" x=\"110.877\" y=\"102.236\">VaR restriction</text>\n",
       "</g>\n",
       "</svg>\n"
      ]
     },
     "execution_count": 17,
     "metadata": {},
     "output_type": "execute_result"
    }
   ],
   "source": [
    "plot(StdRpRf*100,mustar*100,color=:red,linewidth=2,label=\"CML\")\n",
    "plot!(StdRp*100,mustar*100,color=:green,linewidth=2,label=\"MVF\")\n",
    "plot!(StdRpRf*100,VaRRestr*100,line=:dash,color=:blue,label=\"VaR restriction\")\n",
    "plot!(xlim=(0,15),ylim=(0,10),legend=:topleft)\n",
    "title!(\"Mean vs standard deviation (with Rf)\")\n",
    "xlabel!(\"Std(Rp), %\")\n",
    "ylabel!(\"ERp, %\")"
   ]
  },
  {
   "cell_type": "code",
   "execution_count": null,
   "metadata": {},
   "outputs": [],
   "source": []
  }
 ],
 "metadata": {
  "anaconda-cloud": {},
  "kernelspec": {
   "display_name": "Julia 0.6.3",
   "language": "julia",
   "name": "julia-0.6"
  },
  "language_info": {
   "file_extension": ".jl",
   "mimetype": "application/julia",
   "name": "julia",
   "version": "0.6.3"
  }
 },
 "nbformat": 4,
 "nbformat_minor": 1
}
